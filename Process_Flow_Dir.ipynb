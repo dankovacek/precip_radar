{
 "cells": [
  {
   "cell_type": "code",
   "execution_count": 1,
   "metadata": {},
   "outputs": [
    {
     "name": "stderr",
     "output_type": "stream",
     "text": [
      "/home/danbot/Documents/code/cuda_env/lib/python3.6/site-packages/pyproj/crs/crs.py:279: FutureWarning: '+init=<authority>:<code>' syntax is deprecated. '<authority>:<code>' is the preferred initialization method. When making the change, be mindful of axis order changes: https://pyproj4.github.io/pyproj/stable/gotchas.html#axis-order-changes-in-proj-6\n",
      "  projstring = _prepare_from_string(projparams)\n",
      "/home/danbot/Documents/code/cuda_env/lib/python3.6/site-packages/pyproj/crs/crs.py:279: FutureWarning: '+init=<authority>:<code>' syntax is deprecated. '<authority>:<code>' is the preferred initialization method. When making the change, be mindful of axis order changes: https://pyproj4.github.io/pyproj/stable/gotchas.html#axis-order-changes-in-proj-6\n",
      "  projstring = _prepare_from_string(projparams)\n",
      "/home/danbot/Documents/code/cuda_env/lib/python3.6/site-packages/pyproj/crs/crs.py:279: FutureWarning: '+init=<authority>:<code>' syntax is deprecated. '<authority>:<code>' is the preferred initialization method. When making the change, be mindful of axis order changes: https://pyproj4.github.io/pyproj/stable/gotchas.html#axis-order-changes-in-proj-6\n",
      "  projstring = _prepare_from_string(projparams)\n",
      "/home/danbot/Documents/code/cuda_env/lib/python3.6/site-packages/pyproj/crs/crs.py:279: FutureWarning: '+init=<authority>:<code>' syntax is deprecated. '<authority>:<code>' is the preferred initialization method. When making the change, be mindful of axis order changes: https://pyproj4.github.io/pyproj/stable/gotchas.html#axis-order-changes-in-proj-6\n",
      "  projstring = _prepare_from_string(projparams)\n",
      "/home/danbot/Documents/code/cuda_env/lib/python3.6/site-packages/pyproj/crs/crs.py:279: FutureWarning: '+init=<authority>:<code>' syntax is deprecated. '<authority>:<code>' is the preferred initialization method. When making the change, be mindful of axis order changes: https://pyproj4.github.io/pyproj/stable/gotchas.html#axis-order-changes-in-proj-6\n",
      "  projstring = _prepare_from_string(projparams)\n"
     ]
    },
    {
     "data": {
      "text/html": [
       "\n",
       "    <div class=\"bk-root\">\n",
       "        <a href=\"https://bokeh.org\" target=\"_blank\" class=\"bk-logo bk-logo-small bk-logo-notebook\"></a>\n",
       "        <span id=\"1001\">Loading BokehJS ...</span>\n",
       "    </div>"
      ]
     },
     "metadata": {},
     "output_type": "display_data"
    },
    {
     "data": {
      "application/javascript": [
       "\n",
       "(function(root) {\n",
       "  function now() {\n",
       "    return new Date();\n",
       "  }\n",
       "\n",
       "  var force = true;\n",
       "\n",
       "  if (typeof root._bokeh_onload_callbacks === \"undefined\" || force === true) {\n",
       "    root._bokeh_onload_callbacks = [];\n",
       "    root._bokeh_is_loading = undefined;\n",
       "  }\n",
       "\n",
       "  var JS_MIME_TYPE = 'application/javascript';\n",
       "  var HTML_MIME_TYPE = 'text/html';\n",
       "  var EXEC_MIME_TYPE = 'application/vnd.bokehjs_exec.v0+json';\n",
       "  var CLASS_NAME = 'output_bokeh rendered_html';\n",
       "\n",
       "  /**\n",
       "   * Render data to the DOM node\n",
       "   */\n",
       "  function render(props, node) {\n",
       "    var script = document.createElement(\"script\");\n",
       "    node.appendChild(script);\n",
       "  }\n",
       "\n",
       "  /**\n",
       "   * Handle when an output is cleared or removed\n",
       "   */\n",
       "  function handleClearOutput(event, handle) {\n",
       "    var cell = handle.cell;\n",
       "\n",
       "    var id = cell.output_area._bokeh_element_id;\n",
       "    var server_id = cell.output_area._bokeh_server_id;\n",
       "    // Clean up Bokeh references\n",
       "    if (id != null && id in Bokeh.index) {\n",
       "      Bokeh.index[id].model.document.clear();\n",
       "      delete Bokeh.index[id];\n",
       "    }\n",
       "\n",
       "    if (server_id !== undefined) {\n",
       "      // Clean up Bokeh references\n",
       "      var cmd = \"from bokeh.io.state import curstate; print(curstate().uuid_to_server['\" + server_id + \"'].get_sessions()[0].document.roots[0]._id)\";\n",
       "      cell.notebook.kernel.execute(cmd, {\n",
       "        iopub: {\n",
       "          output: function(msg) {\n",
       "            var id = msg.content.text.trim();\n",
       "            if (id in Bokeh.index) {\n",
       "              Bokeh.index[id].model.document.clear();\n",
       "              delete Bokeh.index[id];\n",
       "            }\n",
       "          }\n",
       "        }\n",
       "      });\n",
       "      // Destroy server and session\n",
       "      var cmd = \"import bokeh.io.notebook as ion; ion.destroy_server('\" + server_id + \"')\";\n",
       "      cell.notebook.kernel.execute(cmd);\n",
       "    }\n",
       "  }\n",
       "\n",
       "  /**\n",
       "   * Handle when a new output is added\n",
       "   */\n",
       "  function handleAddOutput(event, handle) {\n",
       "    var output_area = handle.output_area;\n",
       "    var output = handle.output;\n",
       "\n",
       "    // limit handleAddOutput to display_data with EXEC_MIME_TYPE content only\n",
       "    if ((output.output_type != \"display_data\") || (!output.data.hasOwnProperty(EXEC_MIME_TYPE))) {\n",
       "      return\n",
       "    }\n",
       "\n",
       "    var toinsert = output_area.element.find(\".\" + CLASS_NAME.split(' ')[0]);\n",
       "\n",
       "    if (output.metadata[EXEC_MIME_TYPE][\"id\"] !== undefined) {\n",
       "      toinsert[toinsert.length - 1].firstChild.textContent = output.data[JS_MIME_TYPE];\n",
       "      // store reference to embed id on output_area\n",
       "      output_area._bokeh_element_id = output.metadata[EXEC_MIME_TYPE][\"id\"];\n",
       "    }\n",
       "    if (output.metadata[EXEC_MIME_TYPE][\"server_id\"] !== undefined) {\n",
       "      var bk_div = document.createElement(\"div\");\n",
       "      bk_div.innerHTML = output.data[HTML_MIME_TYPE];\n",
       "      var script_attrs = bk_div.children[0].attributes;\n",
       "      for (var i = 0; i < script_attrs.length; i++) {\n",
       "        toinsert[toinsert.length - 1].firstChild.setAttribute(script_attrs[i].name, script_attrs[i].value);\n",
       "      }\n",
       "      // store reference to server id on output_area\n",
       "      output_area._bokeh_server_id = output.metadata[EXEC_MIME_TYPE][\"server_id\"];\n",
       "    }\n",
       "  }\n",
       "\n",
       "  function register_renderer(events, OutputArea) {\n",
       "\n",
       "    function append_mime(data, metadata, element) {\n",
       "      // create a DOM node to render to\n",
       "      var toinsert = this.create_output_subarea(\n",
       "        metadata,\n",
       "        CLASS_NAME,\n",
       "        EXEC_MIME_TYPE\n",
       "      );\n",
       "      this.keyboard_manager.register_events(toinsert);\n",
       "      // Render to node\n",
       "      var props = {data: data, metadata: metadata[EXEC_MIME_TYPE]};\n",
       "      render(props, toinsert[toinsert.length - 1]);\n",
       "      element.append(toinsert);\n",
       "      return toinsert\n",
       "    }\n",
       "\n",
       "    /* Handle when an output is cleared or removed */\n",
       "    events.on('clear_output.CodeCell', handleClearOutput);\n",
       "    events.on('delete.Cell', handleClearOutput);\n",
       "\n",
       "    /* Handle when a new output is added */\n",
       "    events.on('output_added.OutputArea', handleAddOutput);\n",
       "\n",
       "    /**\n",
       "     * Register the mime type and append_mime function with output_area\n",
       "     */\n",
       "    OutputArea.prototype.register_mime_type(EXEC_MIME_TYPE, append_mime, {\n",
       "      /* Is output safe? */\n",
       "      safe: true,\n",
       "      /* Index of renderer in `output_area.display_order` */\n",
       "      index: 0\n",
       "    });\n",
       "  }\n",
       "\n",
       "  // register the mime type if in Jupyter Notebook environment and previously unregistered\n",
       "  if (root.Jupyter !== undefined) {\n",
       "    var events = require('base/js/events');\n",
       "    var OutputArea = require('notebook/js/outputarea').OutputArea;\n",
       "\n",
       "    if (OutputArea.prototype.mime_types().indexOf(EXEC_MIME_TYPE) == -1) {\n",
       "      register_renderer(events, OutputArea);\n",
       "    }\n",
       "  }\n",
       "\n",
       "  \n",
       "  if (typeof (root._bokeh_timeout) === \"undefined\" || force === true) {\n",
       "    root._bokeh_timeout = Date.now() + 5000;\n",
       "    root._bokeh_failed_load = false;\n",
       "  }\n",
       "\n",
       "  var NB_LOAD_WARNING = {'data': {'text/html':\n",
       "     \"<div style='background-color: #fdd'>\\n\"+\n",
       "     \"<p>\\n\"+\n",
       "     \"BokehJS does not appear to have successfully loaded. If loading BokehJS from CDN, this \\n\"+\n",
       "     \"may be due to a slow or bad network connection. Possible fixes:\\n\"+\n",
       "     \"</p>\\n\"+\n",
       "     \"<ul>\\n\"+\n",
       "     \"<li>re-rerun `output_notebook()` to attempt to load from CDN again, or</li>\\n\"+\n",
       "     \"<li>use INLINE resources instead, as so:</li>\\n\"+\n",
       "     \"</ul>\\n\"+\n",
       "     \"<code>\\n\"+\n",
       "     \"from bokeh.resources import INLINE\\n\"+\n",
       "     \"output_notebook(resources=INLINE)\\n\"+\n",
       "     \"</code>\\n\"+\n",
       "     \"</div>\"}};\n",
       "\n",
       "  function display_loaded() {\n",
       "    var el = document.getElementById(\"1001\");\n",
       "    if (el != null) {\n",
       "      el.textContent = \"BokehJS is loading...\";\n",
       "    }\n",
       "    if (root.Bokeh !== undefined) {\n",
       "      if (el != null) {\n",
       "        el.textContent = \"BokehJS \" + root.Bokeh.version + \" successfully loaded.\";\n",
       "      }\n",
       "    } else if (Date.now() < root._bokeh_timeout) {\n",
       "      setTimeout(display_loaded, 100)\n",
       "    }\n",
       "  }\n",
       "\n",
       "\n",
       "  function run_callbacks() {\n",
       "    try {\n",
       "      root._bokeh_onload_callbacks.forEach(function(callback) {\n",
       "        if (callback != null)\n",
       "          callback();\n",
       "      });\n",
       "    } finally {\n",
       "      delete root._bokeh_onload_callbacks\n",
       "    }\n",
       "    console.debug(\"Bokeh: all callbacks have finished\");\n",
       "  }\n",
       "\n",
       "  function load_libs(css_urls, js_urls, callback) {\n",
       "    if (css_urls == null) css_urls = [];\n",
       "    if (js_urls == null) js_urls = [];\n",
       "\n",
       "    root._bokeh_onload_callbacks.push(callback);\n",
       "    if (root._bokeh_is_loading > 0) {\n",
       "      console.debug(\"Bokeh: BokehJS is being loaded, scheduling callback at\", now());\n",
       "      return null;\n",
       "    }\n",
       "    if (js_urls == null || js_urls.length === 0) {\n",
       "      run_callbacks();\n",
       "      return null;\n",
       "    }\n",
       "    console.debug(\"Bokeh: BokehJS not loaded, scheduling load and callback at\", now());\n",
       "    root._bokeh_is_loading = css_urls.length + js_urls.length;\n",
       "\n",
       "    function on_load() {\n",
       "      root._bokeh_is_loading--;\n",
       "      if (root._bokeh_is_loading === 0) {\n",
       "        console.debug(\"Bokeh: all BokehJS libraries/stylesheets loaded\");\n",
       "        run_callbacks()\n",
       "      }\n",
       "    }\n",
       "\n",
       "    function on_error() {\n",
       "      console.error(\"failed to load \" + url);\n",
       "    }\n",
       "\n",
       "    for (var i = 0; i < css_urls.length; i++) {\n",
       "      var url = css_urls[i];\n",
       "      const element = document.createElement(\"link\");\n",
       "      element.onload = on_load;\n",
       "      element.onerror = on_error;\n",
       "      element.rel = \"stylesheet\";\n",
       "      element.type = \"text/css\";\n",
       "      element.href = url;\n",
       "      console.debug(\"Bokeh: injecting link tag for BokehJS stylesheet: \", url);\n",
       "      document.body.appendChild(element);\n",
       "    }\n",
       "\n",
       "    for (var i = 0; i < js_urls.length; i++) {\n",
       "      var url = js_urls[i];\n",
       "      var element = document.createElement('script');\n",
       "      element.onload = on_load;\n",
       "      element.onerror = on_error;\n",
       "      element.async = false;\n",
       "      element.src = url;\n",
       "      console.debug(\"Bokeh: injecting script tag for BokehJS library: \", url);\n",
       "      document.head.appendChild(element);\n",
       "    }\n",
       "  };var element = document.getElementById(\"1001\");\n",
       "  if (element == null) {\n",
       "    console.error(\"Bokeh: ERROR: autoload.js configured with elementid '1001' but no matching script tag was found. \")\n",
       "    return false;\n",
       "  }\n",
       "\n",
       "  function inject_raw_css(css) {\n",
       "    const element = document.createElement(\"style\");\n",
       "    element.appendChild(document.createTextNode(css));\n",
       "    document.body.appendChild(element);\n",
       "  }\n",
       "\n",
       "  \n",
       "  var js_urls = [\"https://cdn.pydata.org/bokeh/release/bokeh-1.4.0.min.js\", \"https://cdn.pydata.org/bokeh/release/bokeh-widgets-1.4.0.min.js\", \"https://cdn.pydata.org/bokeh/release/bokeh-tables-1.4.0.min.js\", \"https://cdn.pydata.org/bokeh/release/bokeh-gl-1.4.0.min.js\"];\n",
       "  var css_urls = [];\n",
       "  \n",
       "\n",
       "  var inline_js = [\n",
       "    function(Bokeh) {\n",
       "      Bokeh.set_log_level(\"info\");\n",
       "    },\n",
       "    function(Bokeh) {\n",
       "    \n",
       "    \n",
       "    }\n",
       "  ];\n",
       "\n",
       "  function run_inline_js() {\n",
       "    \n",
       "    if (root.Bokeh !== undefined || force === true) {\n",
       "      \n",
       "    for (var i = 0; i < inline_js.length; i++) {\n",
       "      inline_js[i].call(root, root.Bokeh);\n",
       "    }\n",
       "    if (force === true) {\n",
       "        display_loaded();\n",
       "      }} else if (Date.now() < root._bokeh_timeout) {\n",
       "      setTimeout(run_inline_js, 100);\n",
       "    } else if (!root._bokeh_failed_load) {\n",
       "      console.log(\"Bokeh: BokehJS failed to load within specified timeout.\");\n",
       "      root._bokeh_failed_load = true;\n",
       "    } else if (force !== true) {\n",
       "      var cell = $(document.getElementById(\"1001\")).parents('.cell').data().cell;\n",
       "      cell.output_area.append_execute_result(NB_LOAD_WARNING)\n",
       "    }\n",
       "\n",
       "  }\n",
       "\n",
       "  if (root._bokeh_is_loading === 0) {\n",
       "    console.debug(\"Bokeh: BokehJS loaded, going straight to plotting\");\n",
       "    run_inline_js();\n",
       "  } else {\n",
       "    load_libs(css_urls, js_urls, function() {\n",
       "      console.debug(\"Bokeh: BokehJS plotting callback run at\", now());\n",
       "      run_inline_js();\n",
       "    });\n",
       "  }\n",
       "}(window));"
      ],
      "application/vnd.bokehjs_load.v0+json": "\n(function(root) {\n  function now() {\n    return new Date();\n  }\n\n  var force = true;\n\n  if (typeof root._bokeh_onload_callbacks === \"undefined\" || force === true) {\n    root._bokeh_onload_callbacks = [];\n    root._bokeh_is_loading = undefined;\n  }\n\n  \n\n  \n  if (typeof (root._bokeh_timeout) === \"undefined\" || force === true) {\n    root._bokeh_timeout = Date.now() + 5000;\n    root._bokeh_failed_load = false;\n  }\n\n  var NB_LOAD_WARNING = {'data': {'text/html':\n     \"<div style='background-color: #fdd'>\\n\"+\n     \"<p>\\n\"+\n     \"BokehJS does not appear to have successfully loaded. If loading BokehJS from CDN, this \\n\"+\n     \"may be due to a slow or bad network connection. Possible fixes:\\n\"+\n     \"</p>\\n\"+\n     \"<ul>\\n\"+\n     \"<li>re-rerun `output_notebook()` to attempt to load from CDN again, or</li>\\n\"+\n     \"<li>use INLINE resources instead, as so:</li>\\n\"+\n     \"</ul>\\n\"+\n     \"<code>\\n\"+\n     \"from bokeh.resources import INLINE\\n\"+\n     \"output_notebook(resources=INLINE)\\n\"+\n     \"</code>\\n\"+\n     \"</div>\"}};\n\n  function display_loaded() {\n    var el = document.getElementById(\"1001\");\n    if (el != null) {\n      el.textContent = \"BokehJS is loading...\";\n    }\n    if (root.Bokeh !== undefined) {\n      if (el != null) {\n        el.textContent = \"BokehJS \" + root.Bokeh.version + \" successfully loaded.\";\n      }\n    } else if (Date.now() < root._bokeh_timeout) {\n      setTimeout(display_loaded, 100)\n    }\n  }\n\n\n  function run_callbacks() {\n    try {\n      root._bokeh_onload_callbacks.forEach(function(callback) {\n        if (callback != null)\n          callback();\n      });\n    } finally {\n      delete root._bokeh_onload_callbacks\n    }\n    console.debug(\"Bokeh: all callbacks have finished\");\n  }\n\n  function load_libs(css_urls, js_urls, callback) {\n    if (css_urls == null) css_urls = [];\n    if (js_urls == null) js_urls = [];\n\n    root._bokeh_onload_callbacks.push(callback);\n    if (root._bokeh_is_loading > 0) {\n      console.debug(\"Bokeh: BokehJS is being loaded, scheduling callback at\", now());\n      return null;\n    }\n    if (js_urls == null || js_urls.length === 0) {\n      run_callbacks();\n      return null;\n    }\n    console.debug(\"Bokeh: BokehJS not loaded, scheduling load and callback at\", now());\n    root._bokeh_is_loading = css_urls.length + js_urls.length;\n\n    function on_load() {\n      root._bokeh_is_loading--;\n      if (root._bokeh_is_loading === 0) {\n        console.debug(\"Bokeh: all BokehJS libraries/stylesheets loaded\");\n        run_callbacks()\n      }\n    }\n\n    function on_error() {\n      console.error(\"failed to load \" + url);\n    }\n\n    for (var i = 0; i < css_urls.length; i++) {\n      var url = css_urls[i];\n      const element = document.createElement(\"link\");\n      element.onload = on_load;\n      element.onerror = on_error;\n      element.rel = \"stylesheet\";\n      element.type = \"text/css\";\n      element.href = url;\n      console.debug(\"Bokeh: injecting link tag for BokehJS stylesheet: \", url);\n      document.body.appendChild(element);\n    }\n\n    for (var i = 0; i < js_urls.length; i++) {\n      var url = js_urls[i];\n      var element = document.createElement('script');\n      element.onload = on_load;\n      element.onerror = on_error;\n      element.async = false;\n      element.src = url;\n      console.debug(\"Bokeh: injecting script tag for BokehJS library: \", url);\n      document.head.appendChild(element);\n    }\n  };var element = document.getElementById(\"1001\");\n  if (element == null) {\n    console.error(\"Bokeh: ERROR: autoload.js configured with elementid '1001' but no matching script tag was found. \")\n    return false;\n  }\n\n  function inject_raw_css(css) {\n    const element = document.createElement(\"style\");\n    element.appendChild(document.createTextNode(css));\n    document.body.appendChild(element);\n  }\n\n  \n  var js_urls = [\"https://cdn.pydata.org/bokeh/release/bokeh-1.4.0.min.js\", \"https://cdn.pydata.org/bokeh/release/bokeh-widgets-1.4.0.min.js\", \"https://cdn.pydata.org/bokeh/release/bokeh-tables-1.4.0.min.js\", \"https://cdn.pydata.org/bokeh/release/bokeh-gl-1.4.0.min.js\"];\n  var css_urls = [];\n  \n\n  var inline_js = [\n    function(Bokeh) {\n      Bokeh.set_log_level(\"info\");\n    },\n    function(Bokeh) {\n    \n    \n    }\n  ];\n\n  function run_inline_js() {\n    \n    if (root.Bokeh !== undefined || force === true) {\n      \n    for (var i = 0; i < inline_js.length; i++) {\n      inline_js[i].call(root, root.Bokeh);\n    }\n    if (force === true) {\n        display_loaded();\n      }} else if (Date.now() < root._bokeh_timeout) {\n      setTimeout(run_inline_js, 100);\n    } else if (!root._bokeh_failed_load) {\n      console.log(\"Bokeh: BokehJS failed to load within specified timeout.\");\n      root._bokeh_failed_load = true;\n    } else if (force !== true) {\n      var cell = $(document.getElementById(\"1001\")).parents('.cell').data().cell;\n      cell.output_area.append_execute_result(NB_LOAD_WARNING)\n    }\n\n  }\n\n  if (root._bokeh_is_loading === 0) {\n    console.debug(\"Bokeh: BokehJS loaded, going straight to plotting\");\n    run_inline_js();\n  } else {\n    load_libs(css_urls, js_urls, function() {\n      console.debug(\"Bokeh: BokehJS plotting callback run at\", now());\n      run_inline_js();\n    });\n  }\n}(window));"
     },
     "metadata": {},
     "output_type": "display_data"
    }
   ],
   "source": [
    "import pandas as pd\n",
    "import numpy as np\n",
    "import os \n",
    "import sys\n",
    "import math\n",
    "import utm\n",
    "import time\n",
    "\n",
    "import json\n",
    "import geopandas as gpd\n",
    "import fiona\n",
    "from geopy import distance\n",
    "\n",
    "from numba import jit\n",
    "\n",
    "from pysheds.grid import Grid\n",
    "from shapely.geometry import shape, mapping, Polygon\n",
    "\n",
    "from PIL import Image\n",
    "from PIL import ImageFile\n",
    "ImageFile.LOAD_TRUNCATED_IMAGES = True\n",
    "\n",
    "from bokeh.plotting import ColumnDataSource, output_notebook\n",
    "from bokeh.transform import factor_cmap, factor_mark\n",
    "from bokeh.palettes import Spectral3\n",
    "from bokeh.layouts import gridplot\n",
    "\n",
    "import matplotlib.pyplot as plt\n",
    "import matplotlib.patches as mp\n",
    "\n",
    "from get_station_data import get_daily_runoff\n",
    "from radar_station_coords import radar_sites\n",
    "\n",
    "output_notebook()\n",
    "%matplotlib inline"
   ]
  },
  {
   "cell_type": "code",
   "execution_count": 2,
   "metadata": {},
   "outputs": [],
   "source": [
    "BASE_DIR = os.path.dirname(os.path.dirname(os.path.dirname(os.path.abspath(''))))\n",
    "DB_DIR = os.path.join(BASE_DIR, 'code/hydat_db')\n",
    "PROJECT_DIR = os.path.abspath('')\n",
    "RESULTS_DIR = os.path.join(PROJECT_DIR, 'data/AD_results')\n",
    "FP_DIR = os.path.join(DB_DIR, 'na_dem_15s_grid')\n",
    "GDIR_DIR = os.path.join(DB_DIR, 'na_dir_15s_grid')"
   ]
  },
  {
   "cell_type": "code",
   "execution_count": 3,
   "metadata": {},
   "outputs": [],
   "source": [
    "results_folders = os.listdir(RESULTS_DIR)\n",
    "\n",
    "results_dict = {}\n",
    "# create a dictionary of results from all AD searches\n",
    "for f in results_folders:\n",
    "    folder_path = os.path.join(RESULTS_DIR, f)\n",
    "    all_sites = [e.split('_')[0] for e in os.listdir(folder_path)]\n",
    "    for site in all_sites:\n",
    "        if site in results_dict.keys():\n",
    "            old_results = results_dict[site]\n",
    "            new_results = pd.read_csv(os.path.join(folder_path, site + '_results.csv'))\n",
    "            results_dict[site] = pd.concat([old_results, new_results], sort=True)\n",
    "        else:            \n",
    "            results_dict[site] = pd.read_csv(os.path.join(folder_path, site + '_results.csv'))\n",
    "\n",
    "\n",
    "def get_best_result(site):\n",
    "    ad_df = pd.DataFrame(results_dict[site])\n",
    "    ad_df.drop(labels='Unnamed: 0', inplace=True, axis=1)\n",
    "    ad_df.sort_values('len_results', inplace=True, ascending=False)\n",
    "    return ad_df.iloc[0, :]"
   ]
  },
  {
   "cell_type": "code",
   "execution_count": 4,
   "metadata": {},
   "outputs": [],
   "source": [
    "def find_closest_radar_stn(row):\n",
    "    \"\"\" \n",
    "    Input the dict of all station distances,\n",
    "    Return the location code of the nearest radar station.\n",
    "    \"\"\"\n",
    "    radar_station_distances = row['radar_stn_distance_dict']\n",
    "    min_dist = min(radar_station_distances.items(), key=lambda x: x[1])\n",
    "    return min_dist[0]\n",
    "\n",
    "\n",
    "def find_closest_radar_stn_distance(row):\n",
    "    \"\"\" \n",
    "    Input the dict of all station distances,\n",
    "    Return the location code of the nearest radar station.\n",
    "    \"\"\"\n",
    "    radar_station_distances = row['radar_stn_distance_dict']\n",
    "    min_dist = min(radar_station_distances.items(), key=lambda x: x[1])\n",
    "    return min_dist[1]\n",
    "\n",
    "\n",
    "def calc_distance(wsc_row, station):\n",
    "    wsc_stn_coords = (wsc_row['Latitude'], wsc_row['Longitude'])\n",
    "    radar_coords = radar_sites[station]['lat_lon']\n",
    "    return distance.distance(radar_coords, wsc_stn_coords).km\n",
    "\n",
    "def calculate_radar_stn_distances(row):\n",
    "    distance_dict = {}\n",
    "    for site in radar_sites:\n",
    "        distance_dict[site] = calc_distance(row, site)\n",
    "    return distance_dict\n",
    "\n",
    "def initialize_wsc_station_info_dataframe():\n",
    "    # import master station list\n",
    "    stations_df = pd.read_csv(DB_DIR + '/WSC_Stations_Master.csv')\n",
    "    # filter for stations that have concurrent record with the historical radar record\n",
    "    stations_df['RADAR_Overlap'] = stations_df['Year To'].astype(int) - 2007\n",
    "    stations_filtered = stations_df[stations_df['RADAR_Overlap'] > 0]\n",
    "    # filter for stations that are natural flow regimes\n",
    "    stations_filtered = stations_filtered[stations_filtered['Regulation'] == 'N']\n",
    "    stations_filtered.rename(columns={'Gross Drainage Area (km2)': 'DA'}, inplace=True)\n",
    "    # filter for stations in Alberta and British Columbia\n",
    "    stations_filtered = stations_filtered[(stations_filtered['Province'] == 'BC') | (stations_filtered['Province'] == 'AB')]\n",
    "    \n",
    "    # calculate distance to each radar station\n",
    "    stations_filtered['radar_stn_distance_dict'] = stations_filtered.apply(lambda row: calculate_radar_stn_distances(row), axis=1)    \n",
    "    stations_filtered['closest_radar_station'] = stations_filtered.apply(lambda row: find_closest_radar_stn(row), axis=1)\n",
    "    stations_filtered['radar_distance_km'] = stations_filtered.apply(lambda row: find_closest_radar_stn_distance(row), axis=1)\n",
    "    \n",
    "    # radar range is a 240km radius from the station\n",
    "    stations_filtered = stations_filtered[stations_filtered['radar_distance_km'] < 200]\n",
    "    stn_df = stations_filtered[np.isfinite(stations_filtered['DA'].astype(float))]\n",
    "    # filter for stations greater than 10 km^2 (too small for meaningful results)\n",
    "    stn_df = stn_df[stn_df['DA'].astype(float) >= 10]\n",
    "    # filter for stations smaller than 1000 km^2 (too large and complex)\n",
    "    stn_df = stn_df[stn_df['DA'].astype(float) < 1000].sort_values('DA')\n",
    "    df = stn_df[['Province', 'Station Number', 'Station Name', 'DA', \n",
    "                 'Elevation', 'Latitude', 'Longitude', 'RADAR_Overlap',\n",
    "                'closest_radar_station', 'radar_stn_distance_dict', 'radar_distance_km']]\n",
    "#     print('After filtering, there are {} candidate stations.'.format(len(stn_df)))\n",
    "    df.reset_index(inplace=True)\n",
    "    return df\n"
   ]
  },
  {
   "cell_type": "markdown",
   "metadata": {},
   "source": [
    "## Load Flow Path Data\n",
    "Source: [USGS hydrosheds project](https://hydrosheds.cr.usgs.gov/datadownload.php)."
   ]
  },
  {
   "cell_type": "code",
   "execution_count": 5,
   "metadata": {},
   "outputs": [],
   "source": [
    "all_sites = list(results_dict.keys())\n",
    "\n",
    "wsc_info = initialize_wsc_station_info_dataframe()"
   ]
  },
  {
   "cell_type": "code",
   "execution_count": 6,
   "metadata": {},
   "outputs": [],
   "source": [
    "# load all the basin data into a pandas dataframe\n",
    "\n",
    "gdb_path = os.path.join(DB_DIR, 'WSC_Basins.gdb.zip')\n",
    "all_layers = fiona.listlayers(gdb_path)\n",
    "all_layer_names = [e.split('_')[1].split('_')[0] for e in all_layers]\n",
    "filtered_layers = list(set(all_sites).intersection(all_layer_names))"
   ]
  },
  {
   "cell_type": "code",
   "execution_count": 7,
   "metadata": {},
   "outputs": [
    {
     "name": "stdout",
     "output_type": "stream",
     "text": [
      "layer 10 of 108: 05BM018\n",
      "layer 20 of 108: 05BJ004\n",
      "layer 30 of 108: 05AA909\n",
      "layer 40 of 108: 05CC011\n",
      "layer 50 of 108: 08JE004\n",
      "layer 60 of 108: 08NJ160\n",
      "layer 70 of 108: 08NH005\n",
      "layer 80 of 108: 08HA003\n",
      "layer 90 of 108: 05CD006\n",
      "layer 100 of 108: 05CC008\n",
      "   Station                          StationNam    Stn_UID    Shp_Area  \\\n",
      "0  08GB013     CLOWHOM RIVER NEAR CLOWHOM LAKE  08GB013_1  147.154999   \n",
      "1  05AA027      RACEHORSE CREEK NEAR THE MOUTH  05AA027_1  217.647109   \n",
      "2  08NM174  WHITEMAN CREEK ABOVE BOULEAU CREEK  08NM174_1  113.555000   \n",
      "3  05AC030             SNAKE CREEK NEAR VULCAN  05AC030_1  349.988484   \n",
      "4  05CE012         GHOSTPINE CREEK NEAR HUXLEY  05CE012_1  512.649831   \n",
      "\n",
      "   Shp_Perime   Shape_Length    Shape_Area  \\\n",
      "0   57.537201   57537.237656  1.471551e+08   \n",
      "1   70.109438   70109.438213  2.176471e+08   \n",
      "2   53.891499   53891.459629  1.135555e+08   \n",
      "3   99.947599   99947.598835  3.499885e+08   \n",
      "4  115.490422  115490.422599  5.126498e+08   \n",
      "\n",
      "                                            geometry  \n",
      "0  MULTIPOLYGON Z (((-1921096.109 1471766.245 0.0...  \n",
      "1  MULTIPOLYGON Z (((-1312020.880 1263862.963 0.0...  \n",
      "2  MULTIPOLYGON Z (((-1645412.157 1411253.755 0.0...  \n",
      "3  MULTIPOLYGON Z (((-1206596.048 1311831.183 0.0...  \n",
      "4  MULTIPOLYGON Z (((-1182259.435 1496373.770 0.0...  \n"
     ]
    }
   ],
   "source": [
    "basin_df = gpd.GeoDataFrame()\n",
    "i = 1\n",
    "for layer in filtered_layers:\n",
    "    layer_label = 'EC_' + layer + '_1'\n",
    "#     print('layer {} of {}: {}'.format(i, len(filtered_layers), layer))\n",
    "    if i % 10 == 0:\n",
    "        print('layer {} of {}: {}'.format(i, len(filtered_layers), layer))\n",
    "    s = gpd.read_file(gdb_path, driver='FileGDB', layer=layer_label)\n",
    "    basin_df = basin_df.append(s, ignore_index=True)\n",
    "    i += 1\n",
    "    \n",
    "print(basin_df.head())"
   ]
  },
  {
   "cell_type": "code",
   "execution_count": 77,
   "metadata": {},
   "outputs": [],
   "source": [
    "def get_basin_data(test_stn):\n",
    "    basin_data = basin_df[basin_df['Station'] == test_stn]\n",
    "    # original WSC basin polygon is EPSG: 4269 (NAD83)\n",
    "    # WGS 84 is EPSG: 4326\n",
    "    return basin_data"
   ]
  },
  {
   "cell_type": "code",
   "execution_count": 78,
   "metadata": {},
   "outputs": [],
   "source": [
    "for stn in all_sites[:1]:\n",
    "    basin_data = get_basin_data(stn)\n",
    "    basin_geom = basin_data.geometry\n",
    "    basin_bounds = basin_geom.bounds\n",
    "    stn_info = wsc_info[wsc_info['Station Number'] == stn]\n",
    "    stn_coords = (stn_info['Longitude'].values[0], stn_info['Latitude'].values[0])\n",
    "    \n",
    "    "
   ]
  },
  {
   "cell_type": "code",
   "execution_count": 87,
   "metadata": {},
   "outputs": [
    {
     "name": "stdout",
     "output_type": "stream",
     "text": [
      "     Station Number               Station Name Province  Status  Latitude  \\\n",
      "2993        05AB013  BEAVER CREEK NEAR BROCKET       AB  Active  49.63938   \n",
      "\n",
      "      Longitude  Year From  Year To  Gross Drainage Area (km2)  \\\n",
      "2993  -113.7953       1921     2018                      256.0   \n",
      "\n",
      "      Effective Drainage Area (km2)  ...       Data Type Operation Schedule  \\\n",
      "2993                          256.0  ...  Flow and Level           Seasonal   \n",
      "\n",
      "     Sediment RHBN Real-Time     Datum Name Publishing Office  \\\n",
      "2993        Y    N         N  ASSUMED DATUM           CALGARY   \n",
      "\n",
      "     Operating Agency Contributed Elevation  \n",
      "2993              NaN           N    1095.0  \n",
      "\n",
      "[1 rows x 21 columns]\n"
     ]
    }
   ],
   "source": [
    "stn = '05AB013'\n",
    "stations_df = pd.read_csv(DB_DIR + '/WSC_Stations_Master.csv')\n",
    "stn_info = stations_df[stations_df['Station Number'] == stn]\n",
    "print(stn_info)"
   ]
  },
  {
   "cell_type": "code",
   "execution_count": 88,
   "metadata": {},
   "outputs": [],
   "source": [
    "\n",
    "# DEM plot\n",
    "# Specify directional mapping\n",
    "#         N    NE    E    SE    S    SW    W    NW\n",
    "dirmap = (64,  128,  1,   2,    4,   8,    16,  32)\n",
    "boundaries = ([0] + sorted(list(dirmap)))"
   ]
  },
  {
   "cell_type": "code",
   "execution_count": 99,
   "metadata": {},
   "outputs": [
    {
     "name": "stdout",
     "output_type": "stream",
     "text": [
      "-113.7953 49.639379999999996\n"
     ]
    },
    {
     "name": "stderr",
     "output_type": "stream",
     "text": [
      "/home/danbot/Documents/code/cuda_env/lib/python3.6/site-packages/pyproj/crs/crs.py:279: FutureWarning: '+init=<authority>:<code>' syntax is deprecated. '<authority>:<code>' is the preferred initialization method. When making the change, be mindful of axis order changes: https://pyproj4.github.io/pyproj/stable/gotchas.html#axis-order-changes-in-proj-6\n",
      "  projstring = _prepare_from_string(projparams)\n"
     ]
    }
   ],
   "source": [
    "for stn in [stn]:#all_sites[:1]:\n",
    "    grid = Grid.from_raster(path=FP_DIR + '/na_dem_15s/na_dem_15s', data_name='dem')\n",
    "    grid.read_raster(GDIR_DIR + '/na_dir_15s/na_dir_15s', data_name='dir')\n",
    "    # reset the nodata from -32768 so it doesn't throw off the \n",
    "    grid.nodat = 0\n",
    "    \n",
    "    basin_data = get_basin_data(stn)\n",
    "    basin_geom = basin_data.geometry\n",
    "    basin_geom = basin_geom.to_crs(4326)\n",
    "    basin_bounds = basin_geom.bounds\n",
    "    stn_info = wsc_info[wsc_info['Station Number'] == stn]\n",
    "    stn_da = stn_info['DA'].values[0]\n",
    "    x, y = stn_info['Longitude'].values[0], stn_info['Latitude'].values[0]\n",
    "#     grid.clip_to('catch')\n",
    "#     grid.resolve_flats('dem', out_name='inflated_dem')\n",
    "\n",
    "    print(x, y)\n",
    "    \n",
    "    grid.catchment(data='dir', x=x, y=y, dirmap=dirmap, out_name='catch',\n",
    "               recursionlimit=15000, xytype='label', nodata_out=0)\n",
    "    grid.clip_to('catch', pad=(1,1,1,1))\n",
    "    # Get a view of the catchment\n",
    "    catch = grid.view('catch', nodata=np.nan)\n",
    "    \n",
    "#     grid.extents = basin_bounds.values[0]\n",
    "#     grid.clip_to(basin_bounds.values[0])\n",
    "    \n",
    "#     grid.resolve_flats()\n",
    "#     grid.flowdir(data='inflated_dem')\n",
    "#     grid.set_bbox(basin_bounds.values[0])\n",
    "\n",
    "    \n",
    "\n",
    "# print(dir(grid))\n",
    "# grid.fill_depressions('dem', out_name='flooded_dem')\n"
   ]
  },
  {
   "cell_type": "code",
   "execution_count": 100,
   "metadata": {},
   "outputs": [
    {
     "data": {
      "image/png": "[encoded data removed]",
      "text/plain": [
       "<Figure size 576x432 with 2 Axes>"
      ]
     },
     "metadata": {
      "needs_background": "light"
     },
     "output_type": "display_data"
    }
   ],
   "source": [
    "import matplotlib.colors as colors\n",
    "# Plot the catchment\n",
    "fig, ax = plt.subplots(figsize=(8,6))\n",
    "fig.patch.set_alpha(0)\n",
    "\n",
    "plt.grid('on', zorder=0)\n",
    "im = ax.imshow(catch, extent=grid.extent, zorder=1, cmap='jet')\n",
    "plt.colorbar(im, ax=ax, boundaries=boundaries, values=sorted(dirmap), label='Flow Direction')\n",
    "plt.xlabel('Longitude')\n",
    "plt.ylabel('Latitude')\n",
    "plt.title('Flow Direction: {} ({} km^2)'.format(stn, stn_da))\n",
    "plt.grid(False)"
   ]
  },
  {
   "cell_type": "code",
   "execution_count": 101,
   "metadata": {},
   "outputs": [
    {
     "name": "stderr",
     "output_type": "stream",
     "text": [
      "/home/danbot/Documents/code/cuda_env/lib/python3.6/site-packages/pyproj/crs/crs.py:279: FutureWarning: '+init=<authority>:<code>' syntax is deprecated. '<authority>:<code>' is the preferred initialization method. When making the change, be mindful of axis order changes: https://pyproj4.github.io/pyproj/stable/gotchas.html#axis-order-changes-in-proj-6\n",
      "  projstring = _prepare_from_string(projparams)\n"
     ]
    },
    {
     "data": {
      "text/plain": [
       "Text(0, 0.5, 'Latitude')"
      ]
     },
     "execution_count": 101,
     "metadata": {},
     "output_type": "execute_result"
    },
    {
     "name": "stderr",
     "output_type": "stream",
     "text": [
      "/home/danbot/Documents/code/cuda_env/lib/python3.6/site-packages/matplotlib/colors.py:1110: RuntimeWarning: invalid value encountered in less_equal\n",
      "  mask |= resdat <= 0\n"
     ]
    },
    {
     "data": {
      "image/png": "[encoded data removed]",
      "text/plain": [
       "<Figure size 576x432 with 2 Axes>"
      ]
     },
     "metadata": {
      "needs_background": "light"
     },
     "output_type": "display_data"
    }
   ],
   "source": [
    "\n",
    "grid.accumulation(data='catch', dirmap=dirmap, out_name='acc')\n",
    "\n",
    "fig, ax = plt.subplots(figsize=(8,6))\n",
    "fig.patch.set_alpha(0)\n",
    "plt.grid('on', zorder=0)\n",
    "acc_img = np.where(grid.mask, grid.acc + 1, np.nan)\n",
    "im = ax.imshow(acc_img, extent=grid.extent, zorder=2,\n",
    "               cmap='cubehelix',\n",
    "               norm=colors.LogNorm(1, grid.acc.max()))\n",
    "plt.colorbar(im, ax=ax, label='Upstream Cells')\n",
    "plt.title('Flow Accumulation: {} ({} km^2)'.format(stn, stn_da))\n",
    "plt.xlabel('Longitude')\n",
    "plt.ylabel('Latitude')"
   ]
  },
  {
   "cell_type": "code",
   "execution_count": 102,
   "metadata": {},
   "outputs": [
    {
     "name": "stderr",
     "output_type": "stream",
     "text": [
      "/home/danbot/Documents/code/cuda_env/lib/python3.6/site-packages/pyproj/crs/crs.py:279: FutureWarning: '+init=<authority>:<code>' syntax is deprecated. '<authority>:<code>' is the preferred initialization method. When making the change, be mindful of axis order changes: https://pyproj4.github.io/pyproj/stable/gotchas.html#axis-order-changes-in-proj-6\n",
      "  projstring = _prepare_from_string(projparams)\n"
     ]
    },
    {
     "data": {
      "text/plain": [
       "Text(0.5, 1.0, 'Flow Distance: 05AB013 (256.0 km^2)')"
      ]
     },
     "execution_count": 102,
     "metadata": {},
     "output_type": "execute_result"
    },
    {
     "data": {
      "image/png": "[encoded data removed]",
      "text/plain": [
       "<Figure size 576x432 with 2 Axes>"
      ]
     },
     "metadata": {
      "needs_background": "light"
     },
     "output_type": "display_data"
    }
   ],
   "source": [
    "\n",
    "grid.flow_distance(data='catch', x=x, y=y, dirmap=dirmap, out_name='dist',\n",
    "                   xytype='label', nodata_out=np.nan)\n",
    "\n",
    "\n",
    "fig, ax = plt.subplots(figsize=(8,6))\n",
    "fig.patch.set_alpha(0)\n",
    "plt.grid('on', zorder=0)\n",
    "im = ax.imshow(grid.dist, extent=grid.extent, zorder=2,\n",
    "               cmap='cubehelix_r')\n",
    "plt.colorbar(im, ax=ax, label='Distance to outlet (cells)')\n",
    "plt.xlabel('Longitude')\n",
    "plt.ylabel('Latitude')\n",
    "plt.title('Flow Distance: {} ({} km^2)'.format(stn, stn_da))"
   ]
  },
  {
   "cell_type": "code",
   "execution_count": 113,
   "metadata": {},
   "outputs": [
    {
     "name": "stdout",
     "output_type": "stream",
     "text": [
      "256.0\n",
      "[0. 0. 0. ... 0. 0. 0.]\n"
     ]
    },
    {
     "name": "stderr",
     "output_type": "stream",
     "text": [
      "/home/danbot/Documents/code/cuda_env/lib/python3.6/site-packages/pyproj/crs/crs.py:279: FutureWarning: '+init=<authority>:<code>' syntax is deprecated. '<authority>:<code>' is the preferred initialization method. When making the change, be mindful of axis order changes: https://pyproj4.github.io/pyproj/stable/gotchas.html#axis-order-changes-in-proj-6\n",
      "  projstring = _prepare_from_string(projparams)\n"
     ]
    },
    {
     "data": {
      "text/plain": [
       "Text(0.5, 1.0, 'Weighted Flow Distance: 05AB013 (256.0 km^2)')"
      ]
     },
     "execution_count": 113,
     "metadata": {},
     "output_type": "execute_result"
    },
    {
     "data": {
      "image/png": "[encoded data removed]",
      "text/plain": [
       "<Figure size 576x432 with 2 Axes>"
      ]
     },
     "metadata": {
      "needs_background": "light"
     },
     "output_type": "display_data"
    }
   ],
   "source": [
    "\n",
    "fig, ax = plt.subplots(figsize=(8,6))\n",
    "fig.patch.set_alpha(0)\n",
    "# plt.grid('on', zorder=0)\n",
    "\n",
    "acc = grid.view('acc')\n",
    "\n",
    "print(stn_da)\n",
    "if stn_da < 100:\n",
    "    min_acc = 10\n",
    "elif stn_da < 300:\n",
    "    min_acc = 20\n",
    "elif stn_da < 500:\n",
    "    min_acc = 30\n",
    "elif stn_da < 600:\n",
    "    min_acc = 40\n",
    "else:\n",
    "    min_acc = 50\n",
    "\n",
    "weights = (np.where(acc, 0.1, 0)\n",
    "               + np.where((0 < acc) & (acc <= min_acc), 1, 0)).ravel()\n",
    "\n",
    "print(weights)\n",
    "\n",
    "dists = grid.flow_distance(data='catch', x=x, y=y, weights=weights,\n",
    "                               xytype='label', inplace=False)\n",
    "\n",
    "\n",
    "plt.imshow(dists, cmap='cubehelix_r', extent=grid.extent)\n",
    "\n",
    "plt.colorbar(im, label='Distance to outlet (cells)')\n",
    "plt.xlabel('Longitude')\n",
    "plt.ylabel('Latitude')\n",
    "plt.title('Weighted Flow Distance: {} ({} km^2)'.format(stn, stn_da))\n",
    "\n"
   ]
  },
  {
   "cell_type": "markdown",
   "metadata": {},
   "source": [
    "for each cell in the precip frame\n",
    "* determine bounding box in x, y\n",
    "* find all weighted flow distance cells inside bbox\n",
    "* calculate mean weighted flow distance\n",
    "* calculate elevation difference\n",
    "* translate to travel time (elevation difference?)\n",
    "* create time series and insert volume at corresponding time"
   ]
  },
  {
   "cell_type": "code",
   "execution_count": null,
   "metadata": {},
   "outputs": [],
   "source": []
  },
  {
   "cell_type": "code",
   "execution_count": 69,
   "metadata": {},
   "outputs": [
    {
     "name": "stdout",
     "output_type": "stream",
     "text": [
      "(17, 36, 2)\n",
      "(17, 36)\n"
     ]
    }
   ],
   "source": [
    "these_coords = dists.coords.reshape((17, 36, 2))\n",
    "these_dists = dists\n",
    "print(these_coords.shape)\n",
    "print(these_dists.shape)\n"
   ]
  },
  {
   "cell_type": "code",
   "execution_count": null,
   "metadata": {},
   "outputs": [],
   "source": [
    "fig, ax = plt.subplots(figsize=(8,6))\n",
    "fig.patch.set_alpha(0)\n",
    "\n",
    "catch = grid.view('dem', nodata=np.nan)\n",
    "plt.imshow(catch)\n",
    "\n",
    "# plt.imshow(grid.dem, extent=grid.extent, cmap='cubehelix', zorder=1)\n",
    "plt.colorbar(label='Elevation (m)')\n",
    "plt.grid(zorder=0)\n",
    "plt.title('Digital elevation map: {} ({} km^2)'.format(stn, stn_da))\n",
    "plt.grid(False)\n",
    "# plt.xlabel('Longitude')\n",
    "# plt.ylabel('Latitude')\n",
    "# plt.tight_layout()"
   ]
  },
  {
   "cell_type": "code",
   "execution_count": 29,
   "metadata": {},
   "outputs": [
    {
     "name": "stderr",
     "output_type": "stream",
     "text": [
      "/home/danbot/Documents/code/cuda_env/lib/python3.6/site-packages/ipykernel_launcher.py:6: RuntimeWarning: invalid value encountered in greater\n",
      "  \n"
     ]
    },
    {
     "data": {
      "text/plain": [
       "Text(0, 0.5, 'Latitude')"
      ]
     },
     "execution_count": 29,
     "metadata": {},
     "output_type": "execute_result"
    },
    {
     "data": {
      "image/png": "[encoded data removed]",
      "text/plain": [
       "<Figure size 576x432 with 1 Axes>"
      ]
     },
     "metadata": {
      "needs_background": "light"
     },
     "output_type": "display_data"
    }
   ],
   "source": [
    "\n",
    "area_threshold=10\n",
    "fig, ax = plt.subplots(figsize=(8,6))\n",
    "fig.patch.set_alpha(0)\n",
    "# plt.grid('on', zorder=0)\n",
    "\n",
    "streamnetwork_img = np.where(acc_img>area_threshold, 100, 1+acc_img*0)\n",
    "labels = {1:'Catchment', 2: 'Outside Catchment', 100: 'Stream Network'}\n",
    "cmap = {1: [0.247, 0.552, 0.266, 0.5], \n",
    "        100: [0.074, 0.231, 0.764, 0.8],\n",
    "       2: [0.760, 0.760, 0.760, 0.8]}\n",
    "\n",
    "arrayShow = np.array([[cmap[2] if np.isnan(i) else cmap[i] for i in j] for j in streamnetwork_img])    \n",
    "## create patches as legend\n",
    "\n",
    "patches = [mp.Patch(color=cmap[i],label=labels[i]) for i in cmap]\n",
    "\n",
    "#streamnetwork_img = np.where(grid.mask, > 100, 10 , 1)\n",
    "# im = ax.imshow(streamnetwork_img, extent=grid.extent, zorder=2,\n",
    "#                 cmap='cubehelix')\n",
    "im = ax.imshow(arrayShow)\n",
    "plt.legend(handles=patches, loc=1, borderaxespad=0.)\n",
    "# plt.colorbar(im, ax=ax, label='Upstream Cells')\n",
    "plt.title('Stream network: {} ({} km^2)'.format(stn, stn_da))\n",
    "plt.xlabel('Longitude')\n",
    "plt.ylabel('Latitude')\n"
   ]
  },
  {
   "cell_type": "code",
   "execution_count": null,
   "metadata": {},
   "outputs": [],
   "source": []
  },
  {
   "cell_type": "code",
   "execution_count": null,
   "metadata": {},
   "outputs": [],
   "source": []
  }
 ],
 "metadata": {
  "kernelspec": {
   "display_name": "Python 3",
   "language": "python",
   "name": "python3"
  },
  "language_info": {
   "codemirror_mode": {
    "name": "ipython",
    "version": 3
   },
   "file_extension": ".py",
   "mimetype": "text/x-python",
   "name": "python",
   "nbconvert_exporter": "python",
   "pygments_lexer": "ipython3",
   "version": "3.6.9"
  }
 },
 "nbformat": 4,
 "nbformat_minor": 4
}
