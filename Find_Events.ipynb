{
 "cells": [
  {
   "cell_type": "markdown",
   "metadata": {},
   "source": [
    "\n",
    "Query the HYDAT database for runoff events in BC and Alberta that fall within 175km of a radar station in Western Canada.  \n",
    "\n",
    "Filter for watersheds with data after June 2007.  \n",
    "\n",
    "Filter for watersheds larger than 15 km^2 and smaller than 500 km^2.\n",
    "\n",
    "Output table like:\n",
    "\n",
    "| Station | ID | Drainage Area [$km^2$] | Start Date | End Date |\n",
    "|---|---|---|---|---|\n",
    "| Elaho | EHBN008 | 400 | 2007 | 2017 |\n"
   ]
  },
  {
   "cell_type": "code",
   "execution_count": 1,
   "metadata": {},
   "outputs": [
    {
     "data": {
      "text/html": [
       "\n",
       "    <div class=\"bk-root\">\n",
       "        <a href=\"https://bokeh.org\" target=\"_blank\" class=\"bk-logo bk-logo-small bk-logo-notebook\"></a>\n",
       "        <span id=\"1001\">Loading BokehJS ...</span>\n",
       "    </div>"
      ]
     },
     "metadata": {},
     "output_type": "display_data"
    },
    {
     "data": {
      "application/javascript": [
       "\n",
       "(function(root) {\n",
       "  function now() {\n",
       "    return new Date();\n",
       "  }\n",
       "\n",
       "  var force = true;\n",
       "\n",
       "  if (typeof root._bokeh_onload_callbacks === \"undefined\" || force === true) {\n",
       "    root._bokeh_onload_callbacks = [];\n",
       "    root._bokeh_is_loading = undefined;\n",
       "  }\n",
       "\n",
       "  var JS_MIME_TYPE = 'application/javascript';\n",
       "  var HTML_MIME_TYPE = 'text/html';\n",
       "  var EXEC_MIME_TYPE = 'application/vnd.bokehjs_exec.v0+json';\n",
       "  var CLASS_NAME = 'output_bokeh rendered_html';\n",
       "\n",
       "  /**\n",
       "   * Render data to the DOM node\n",
       "   */\n",
       "  function render(props, node) {\n",
       "    var script = document.createElement(\"script\");\n",
       "    node.appendChild(script);\n",
       "  }\n",
       "\n",
       "  /**\n",
       "   * Handle when an output is cleared or removed\n",
       "   */\n",
       "  function handleClearOutput(event, handle) {\n",
       "    var cell = handle.cell;\n",
       "\n",
       "    var id = cell.output_area._bokeh_element_id;\n",
       "    var server_id = cell.output_area._bokeh_server_id;\n",
       "    // Clean up Bokeh references\n",
       "    if (id != null && id in Bokeh.index) {\n",
       "      Bokeh.index[id].model.document.clear();\n",
       "      delete Bokeh.index[id];\n",
       "    }\n",
       "\n",
       "    if (server_id !== undefined) {\n",
       "      // Clean up Bokeh references\n",
       "      var cmd = \"from bokeh.io.state import curstate; print(curstate().uuid_to_server['\" + server_id + \"'].get_sessions()[0].document.roots[0]._id)\";\n",
       "      cell.notebook.kernel.execute(cmd, {\n",
       "        iopub: {\n",
       "          output: function(msg) {\n",
       "            var id = msg.content.text.trim();\n",
       "            if (id in Bokeh.index) {\n",
       "              Bokeh.index[id].model.document.clear();\n",
       "              delete Bokeh.index[id];\n",
       "            }\n",
       "          }\n",
       "        }\n",
       "      });\n",
       "      // Destroy server and session\n",
       "      var cmd = \"import bokeh.io.notebook as ion; ion.destroy_server('\" + server_id + \"')\";\n",
       "      cell.notebook.kernel.execute(cmd);\n",
       "    }\n",
       "  }\n",
       "\n",
       "  /**\n",
       "   * Handle when a new output is added\n",
       "   */\n",
       "  function handleAddOutput(event, handle) {\n",
       "    var output_area = handle.output_area;\n",
       "    var output = handle.output;\n",
       "\n",
       "    // limit handleAddOutput to display_data with EXEC_MIME_TYPE content only\n",
       "    if ((output.output_type != \"display_data\") || (!output.data.hasOwnProperty(EXEC_MIME_TYPE))) {\n",
       "      return\n",
       "    }\n",
       "\n",
       "    var toinsert = output_area.element.find(\".\" + CLASS_NAME.split(' ')[0]);\n",
       "\n",
       "    if (output.metadata[EXEC_MIME_TYPE][\"id\"] !== undefined) {\n",
       "      toinsert[toinsert.length - 1].firstChild.textContent = output.data[JS_MIME_TYPE];\n",
       "      // store reference to embed id on output_area\n",
       "      output_area._bokeh_element_id = output.metadata[EXEC_MIME_TYPE][\"id\"];\n",
       "    }\n",
       "    if (output.metadata[EXEC_MIME_TYPE][\"server_id\"] !== undefined) {\n",
       "      var bk_div = document.createElement(\"div\");\n",
       "      bk_div.innerHTML = output.data[HTML_MIME_TYPE];\n",
       "      var script_attrs = bk_div.children[0].attributes;\n",
       "      for (var i = 0; i < script_attrs.length; i++) {\n",
       "        toinsert[toinsert.length - 1].firstChild.setAttribute(script_attrs[i].name, script_attrs[i].value);\n",
       "      }\n",
       "      // store reference to server id on output_area\n",
       "      output_area._bokeh_server_id = output.metadata[EXEC_MIME_TYPE][\"server_id\"];\n",
       "    }\n",
       "  }\n",
       "\n",
       "  function register_renderer(events, OutputArea) {\n",
       "\n",
       "    function append_mime(data, metadata, element) {\n",
       "      // create a DOM node to render to\n",
       "      var toinsert = this.create_output_subarea(\n",
       "        metadata,\n",
       "        CLASS_NAME,\n",
       "        EXEC_MIME_TYPE\n",
       "      );\n",
       "      this.keyboard_manager.register_events(toinsert);\n",
       "      // Render to node\n",
       "      var props = {data: data, metadata: metadata[EXEC_MIME_TYPE]};\n",
       "      render(props, toinsert[toinsert.length - 1]);\n",
       "      element.append(toinsert);\n",
       "      return toinsert\n",
       "    }\n",
       "\n",
       "    /* Handle when an output is cleared or removed */\n",
       "    events.on('clear_output.CodeCell', handleClearOutput);\n",
       "    events.on('delete.Cell', handleClearOutput);\n",
       "\n",
       "    /* Handle when a new output is added */\n",
       "    events.on('output_added.OutputArea', handleAddOutput);\n",
       "\n",
       "    /**\n",
       "     * Register the mime type and append_mime function with output_area\n",
       "     */\n",
       "    OutputArea.prototype.register_mime_type(EXEC_MIME_TYPE, append_mime, {\n",
       "      /* Is output safe? */\n",
       "      safe: true,\n",
       "      /* Index of renderer in `output_area.display_order` */\n",
       "      index: 0\n",
       "    });\n",
       "  }\n",
       "\n",
       "  // register the mime type if in Jupyter Notebook environment and previously unregistered\n",
       "  if (root.Jupyter !== undefined) {\n",
       "    var events = require('base/js/events');\n",
       "    var OutputArea = require('notebook/js/outputarea').OutputArea;\n",
       "\n",
       "    if (OutputArea.prototype.mime_types().indexOf(EXEC_MIME_TYPE) == -1) {\n",
       "      register_renderer(events, OutputArea);\n",
       "    }\n",
       "  }\n",
       "\n",
       "  \n",
       "  if (typeof (root._bokeh_timeout) === \"undefined\" || force === true) {\n",
       "    root._bokeh_timeout = Date.now() + 5000;\n",
       "    root._bokeh_failed_load = false;\n",
       "  }\n",
       "\n",
       "  var NB_LOAD_WARNING = {'data': {'text/html':\n",
       "     \"<div style='background-color: #fdd'>\\n\"+\n",
       "     \"<p>\\n\"+\n",
       "     \"BokehJS does not appear to have successfully loaded. If loading BokehJS from CDN, this \\n\"+\n",
       "     \"may be due to a slow or bad network connection. Possible fixes:\\n\"+\n",
       "     \"</p>\\n\"+\n",
       "     \"<ul>\\n\"+\n",
       "     \"<li>re-rerun `output_notebook()` to attempt to load from CDN again, or</li>\\n\"+\n",
       "     \"<li>use INLINE resources instead, as so:</li>\\n\"+\n",
       "     \"</ul>\\n\"+\n",
       "     \"<code>\\n\"+\n",
       "     \"from bokeh.resources import INLINE\\n\"+\n",
       "     \"output_notebook(resources=INLINE)\\n\"+\n",
       "     \"</code>\\n\"+\n",
       "     \"</div>\"}};\n",
       "\n",
       "  function display_loaded() {\n",
       "    var el = document.getElementById(\"1001\");\n",
       "    if (el != null) {\n",
       "      el.textContent = \"BokehJS is loading...\";\n",
       "    }\n",
       "    if (root.Bokeh !== undefined) {\n",
       "      if (el != null) {\n",
       "        el.textContent = \"BokehJS \" + root.Bokeh.version + \" successfully loaded.\";\n",
       "      }\n",
       "    } else if (Date.now() < root._bokeh_timeout) {\n",
       "      setTimeout(display_loaded, 100)\n",
       "    }\n",
       "  }\n",
       "\n",
       "\n",
       "  function run_callbacks() {\n",
       "    try {\n",
       "      root._bokeh_onload_callbacks.forEach(function(callback) {\n",
       "        if (callback != null)\n",
       "          callback();\n",
       "      });\n",
       "    } finally {\n",
       "      delete root._bokeh_onload_callbacks\n",
       "    }\n",
       "    console.debug(\"Bokeh: all callbacks have finished\");\n",
       "  }\n",
       "\n",
       "  function load_libs(css_urls, js_urls, callback) {\n",
       "    if (css_urls == null) css_urls = [];\n",
       "    if (js_urls == null) js_urls = [];\n",
       "\n",
       "    root._bokeh_onload_callbacks.push(callback);\n",
       "    if (root._bokeh_is_loading > 0) {\n",
       "      console.debug(\"Bokeh: BokehJS is being loaded, scheduling callback at\", now());\n",
       "      return null;\n",
       "    }\n",
       "    if (js_urls == null || js_urls.length === 0) {\n",
       "      run_callbacks();\n",
       "      return null;\n",
       "    }\n",
       "    console.debug(\"Bokeh: BokehJS not loaded, scheduling load and callback at\", now());\n",
       "    root._bokeh_is_loading = css_urls.length + js_urls.length;\n",
       "\n",
       "    function on_load() {\n",
       "      root._bokeh_is_loading--;\n",
       "      if (root._bokeh_is_loading === 0) {\n",
       "        console.debug(\"Bokeh: all BokehJS libraries/stylesheets loaded\");\n",
       "        run_callbacks()\n",
       "      }\n",
       "    }\n",
       "\n",
       "    function on_error() {\n",
       "      console.error(\"failed to load \" + url);\n",
       "    }\n",
       "\n",
       "    for (var i = 0; i < css_urls.length; i++) {\n",
       "      var url = css_urls[i];\n",
       "      const element = document.createElement(\"link\");\n",
       "      element.onload = on_load;\n",
       "      element.onerror = on_error;\n",
       "      element.rel = \"stylesheet\";\n",
       "      element.type = \"text/css\";\n",
       "      element.href = url;\n",
       "      console.debug(\"Bokeh: injecting link tag for BokehJS stylesheet: \", url);\n",
       "      document.body.appendChild(element);\n",
       "    }\n",
       "\n",
       "    for (var i = 0; i < js_urls.length; i++) {\n",
       "      var url = js_urls[i];\n",
       "      var element = document.createElement('script');\n",
       "      element.onload = on_load;\n",
       "      element.onerror = on_error;\n",
       "      element.async = false;\n",
       "      element.src = url;\n",
       "      console.debug(\"Bokeh: injecting script tag for BokehJS library: \", url);\n",
       "      document.head.appendChild(element);\n",
       "    }\n",
       "  };var element = document.getElementById(\"1001\");\n",
       "  if (element == null) {\n",
       "    console.error(\"Bokeh: ERROR: autoload.js configured with elementid '1001' but no matching script tag was found. \")\n",
       "    return false;\n",
       "  }\n",
       "\n",
       "  function inject_raw_css(css) {\n",
       "    const element = document.createElement(\"style\");\n",
       "    element.appendChild(document.createTextNode(css));\n",
       "    document.body.appendChild(element);\n",
       "  }\n",
       "\n",
       "  \n",
       "  var js_urls = [\"https://cdn.pydata.org/bokeh/release/bokeh-1.4.0.min.js\", \"https://cdn.pydata.org/bokeh/release/bokeh-widgets-1.4.0.min.js\", \"https://cdn.pydata.org/bokeh/release/bokeh-tables-1.4.0.min.js\", \"https://cdn.pydata.org/bokeh/release/bokeh-gl-1.4.0.min.js\"];\n",
       "  var css_urls = [];\n",
       "  \n",
       "\n",
       "  var inline_js = [\n",
       "    function(Bokeh) {\n",
       "      Bokeh.set_log_level(\"info\");\n",
       "    },\n",
       "    function(Bokeh) {\n",
       "    \n",
       "    \n",
       "    }\n",
       "  ];\n",
       "\n",
       "  function run_inline_js() {\n",
       "    \n",
       "    if (root.Bokeh !== undefined || force === true) {\n",
       "      \n",
       "    for (var i = 0; i < inline_js.length; i++) {\n",
       "      inline_js[i].call(root, root.Bokeh);\n",
       "    }\n",
       "    if (force === true) {\n",
       "        display_loaded();\n",
       "      }} else if (Date.now() < root._bokeh_timeout) {\n",
       "      setTimeout(run_inline_js, 100);\n",
       "    } else if (!root._bokeh_failed_load) {\n",
       "      console.log(\"Bokeh: BokehJS failed to load within specified timeout.\");\n",
       "      root._bokeh_failed_load = true;\n",
       "    } else if (force !== true) {\n",
       "      var cell = $(document.getElementById(\"1001\")).parents('.cell').data().cell;\n",
       "      cell.output_area.append_execute_result(NB_LOAD_WARNING)\n",
       "    }\n",
       "\n",
       "  }\n",
       "\n",
       "  if (root._bokeh_is_loading === 0) {\n",
       "    console.debug(\"Bokeh: BokehJS loaded, going straight to plotting\");\n",
       "    run_inline_js();\n",
       "  } else {\n",
       "    load_libs(css_urls, js_urls, function() {\n",
       "      console.debug(\"Bokeh: BokehJS plotting callback run at\", now());\n",
       "      run_inline_js();\n",
       "    });\n",
       "  }\n",
       "}(window));"
      ],
      "application/vnd.bokehjs_load.v0+json": "\n(function(root) {\n  function now() {\n    return new Date();\n  }\n\n  var force = true;\n\n  if (typeof root._bokeh_onload_callbacks === \"undefined\" || force === true) {\n    root._bokeh_onload_callbacks = [];\n    root._bokeh_is_loading = undefined;\n  }\n\n  \n\n  \n  if (typeof (root._bokeh_timeout) === \"undefined\" || force === true) {\n    root._bokeh_timeout = Date.now() + 5000;\n    root._bokeh_failed_load = false;\n  }\n\n  var NB_LOAD_WARNING = {'data': {'text/html':\n     \"<div style='background-color: #fdd'>\\n\"+\n     \"<p>\\n\"+\n     \"BokehJS does not appear to have successfully loaded. If loading BokehJS from CDN, this \\n\"+\n     \"may be due to a slow or bad network connection. Possible fixes:\\n\"+\n     \"</p>\\n\"+\n     \"<ul>\\n\"+\n     \"<li>re-rerun `output_notebook()` to attempt to load from CDN again, or</li>\\n\"+\n     \"<li>use INLINE resources instead, as so:</li>\\n\"+\n     \"</ul>\\n\"+\n     \"<code>\\n\"+\n     \"from bokeh.resources import INLINE\\n\"+\n     \"output_notebook(resources=INLINE)\\n\"+\n     \"</code>\\n\"+\n     \"</div>\"}};\n\n  function display_loaded() {\n    var el = document.getElementById(\"1001\");\n    if (el != null) {\n      el.textContent = \"BokehJS is loading...\";\n    }\n    if (root.Bokeh !== undefined) {\n      if (el != null) {\n        el.textContent = \"BokehJS \" + root.Bokeh.version + \" successfully loaded.\";\n      }\n    } else if (Date.now() < root._bokeh_timeout) {\n      setTimeout(display_loaded, 100)\n    }\n  }\n\n\n  function run_callbacks() {\n    try {\n      root._bokeh_onload_callbacks.forEach(function(callback) {\n        if (callback != null)\n          callback();\n      });\n    } finally {\n      delete root._bokeh_onload_callbacks\n    }\n    console.debug(\"Bokeh: all callbacks have finished\");\n  }\n\n  function load_libs(css_urls, js_urls, callback) {\n    if (css_urls == null) css_urls = [];\n    if (js_urls == null) js_urls = [];\n\n    root._bokeh_onload_callbacks.push(callback);\n    if (root._bokeh_is_loading > 0) {\n      console.debug(\"Bokeh: BokehJS is being loaded, scheduling callback at\", now());\n      return null;\n    }\n    if (js_urls == null || js_urls.length === 0) {\n      run_callbacks();\n      return null;\n    }\n    console.debug(\"Bokeh: BokehJS not loaded, scheduling load and callback at\", now());\n    root._bokeh_is_loading = css_urls.length + js_urls.length;\n\n    function on_load() {\n      root._bokeh_is_loading--;\n      if (root._bokeh_is_loading === 0) {\n        console.debug(\"Bokeh: all BokehJS libraries/stylesheets loaded\");\n        run_callbacks()\n      }\n    }\n\n    function on_error() {\n      console.error(\"failed to load \" + url);\n    }\n\n    for (var i = 0; i < css_urls.length; i++) {\n      var url = css_urls[i];\n      const element = document.createElement(\"link\");\n      element.onload = on_load;\n      element.onerror = on_error;\n      element.rel = \"stylesheet\";\n      element.type = \"text/css\";\n      element.href = url;\n      console.debug(\"Bokeh: injecting link tag for BokehJS stylesheet: \", url);\n      document.body.appendChild(element);\n    }\n\n    for (var i = 0; i < js_urls.length; i++) {\n      var url = js_urls[i];\n      var element = document.createElement('script');\n      element.onload = on_load;\n      element.onerror = on_error;\n      element.async = false;\n      element.src = url;\n      console.debug(\"Bokeh: injecting script tag for BokehJS library: \", url);\n      document.head.appendChild(element);\n    }\n  };var element = document.getElementById(\"1001\");\n  if (element == null) {\n    console.error(\"Bokeh: ERROR: autoload.js configured with elementid '1001' but no matching script tag was found. \")\n    return false;\n  }\n\n  function inject_raw_css(css) {\n    const element = document.createElement(\"style\");\n    element.appendChild(document.createTextNode(css));\n    document.body.appendChild(element);\n  }\n\n  \n  var js_urls = [\"https://cdn.pydata.org/bokeh/release/bokeh-1.4.0.min.js\", \"https://cdn.pydata.org/bokeh/release/bokeh-widgets-1.4.0.min.js\", \"https://cdn.pydata.org/bokeh/release/bokeh-tables-1.4.0.min.js\", \"https://cdn.pydata.org/bokeh/release/bokeh-gl-1.4.0.min.js\"];\n  var css_urls = [];\n  \n\n  var inline_js = [\n    function(Bokeh) {\n      Bokeh.set_log_level(\"info\");\n    },\n    function(Bokeh) {\n    \n    \n    }\n  ];\n\n  function run_inline_js() {\n    \n    if (root.Bokeh !== undefined || force === true) {\n      \n    for (var i = 0; i < inline_js.length; i++) {\n      inline_js[i].call(root, root.Bokeh);\n    }\n    if (force === true) {\n        display_loaded();\n      }} else if (Date.now() < root._bokeh_timeout) {\n      setTimeout(run_inline_js, 100);\n    } else if (!root._bokeh_failed_load) {\n      console.log(\"Bokeh: BokehJS failed to load within specified timeout.\");\n      root._bokeh_failed_load = true;\n    } else if (force !== true) {\n      var cell = $(document.getElementById(\"1001\")).parents('.cell').data().cell;\n      cell.output_area.append_execute_result(NB_LOAD_WARNING)\n    }\n\n  }\n\n  if (root._bokeh_is_loading === 0) {\n    console.debug(\"Bokeh: BokehJS loaded, going straight to plotting\");\n    run_inline_js();\n  } else {\n    load_libs(css_urls, js_urls, function() {\n      console.debug(\"Bokeh: BokehJS plotting callback run at\", now());\n      run_inline_js();\n    });\n  }\n}(window));"
     },
     "metadata": {},
     "output_type": "display_data"
    }
   ],
   "source": [
    "import pandas as pd\n",
    "import numpy as np\n",
    "import os \n",
    "import sys\n",
    "import math\n",
    "import utm\n",
    "import time\n",
    "\n",
    "import json\n",
    "import geopandas as gpd\n",
    "import fiona\n",
    "from geopy import distance\n",
    "\n",
    "from numba import jit\n",
    "\n",
    "from shapely.geometry import shape, mapping\n",
    "\n",
    "from PIL import Image\n",
    "from PIL import ImageFile\n",
    "ImageFile.LOAD_TRUNCATED_IMAGES = True\n",
    "\n",
    "from bokeh.plotting import ColumnDataSource, output_notebook\n",
    "from bokeh.transform import factor_cmap, factor_mark\n",
    "from bokeh.palettes import Spectral3\n",
    "from bokeh.layouts import gridplot\n",
    "\n",
    "from radar_scrape import get_radar_img_urls, request_img_files\n",
    "from get_station_data import get_daily_runoff\n",
    "output_notebook()"
   ]
  },
  {
   "cell_type": "code",
   "execution_count": 2,
   "metadata": {},
   "outputs": [],
   "source": [
    "BASE_DIR = os.path.dirname(os.path.dirname(os.path.dirname(os.path.abspath(''))))\n",
    "DB_DIR = os.path.join(BASE_DIR, 'code/hydat_db')\n",
    "PROJECT_DIR = os.path.abspath('')\n",
    "IMG_DIR = os.path.join(PROJECT_DIR, 'data/radar_img')\n",
    "RADAR_IMG_DIR = os.path.join(PROJECT_DIR, 'data/sorted_radar_images')"
   ]
  },
  {
   "cell_type": "code",
   "execution_count": 3,
   "metadata": {},
   "outputs": [],
   "source": [
    "stations_df = pd.read_csv(DB_DIR + '/WSC_Stations_Master.csv')\n",
    "stations_df['RADAR_Overlap'] = stations_df['Year To'].astype(int) - 2007"
   ]
  },
  {
   "cell_type": "code",
   "execution_count": 4,
   "metadata": {},
   "outputs": [
    {
     "name": "stdout",
     "output_type": "stream",
     "text": [
      "Index(['Station Number', 'Station Name', 'Province', 'Status', 'Latitude',\n",
      "       'Longitude', 'Year From', 'Year To', 'Gross Drainage Area (km2)',\n",
      "       'Effective Drainage Area (km2)', 'Regulation', 'Data Type',\n",
      "       'Operation Schedule', 'Sediment', 'RHBN', 'Real-Time', 'Datum Name',\n",
      "       'Publishing Office', 'Operating Agency', 'Contributed', 'Elevation',\n",
      "       'RADAR_Overlap'],\n",
      "      dtype='object')\n"
     ]
    }
   ],
   "source": [
    "print(stations_df.columns)"
   ]
  },
  {
   "cell_type": "code",
   "execution_count": 5,
   "metadata": {},
   "outputs": [],
   "source": [
    "stations_filtered = stations_df[stations_df['RADAR_Overlap'] > 0]"
   ]
  },
  {
   "cell_type": "code",
   "execution_count": 6,
   "metadata": {},
   "outputs": [],
   "source": [
    "stations_filtered = stations_filtered[stations_filtered['Regulation'] == 'N']"
   ]
  },
  {
   "cell_type": "code",
   "execution_count": 7,
   "metadata": {},
   "outputs": [],
   "source": [
    "stations_filtered.rename(columns={'Gross Drainage Area (km2)': 'DA'}, inplace=True)\n",
    "stations_filtered = stations_filtered[(stations_filtered['Province'] == 'BC') | (stations_filtered['Province'] == 'AB')]"
   ]
  },
  {
   "cell_type": "code",
   "execution_count": 8,
   "metadata": {},
   "outputs": [],
   "source": [
    "# define radar sites\n",
    "radar_sites = {'CASAG': {'lat_lon': [49.0580516, -122.470667], # radar location code, lat/lon\n",
    "                       'scale': 1,\n",
    "                      'alt_name': 'Aldergrove',\n",
    "                        }, # km/pixel                       \n",
    "               'CASPG': {'lat_lon': [53.916943, -122.749443], # radar location code, lat/lon\n",
    "                       'scale': 1,\n",
    "                      'alt_name': 'Prince George',}, # km/pixel}, # km/pixel\n",
    "               'CASSS': {'lat_lon': [50.271790, -119.276505], # radar location code, lat/lon\n",
    "                       'scale': 1,\n",
    "                      'alt_name': 'Silver Star',}, # km/pixel}, # km/pixel\n",
    "               'CASSI': {'lat_lon': [48.407326, -123.329773], # radar location code, lat/lon\n",
    "                       'scale': 1,\n",
    "                      'alt_name': 'Victoria',}, # km/pixel}, # km/pixel\n",
    "               'CASSM': {'lat_lon': [51.206092, -113.399426],\n",
    "                        'scale': 1,\n",
    "                        'alt_name': 'Strathmore'},\n",
    "              }\n",
    "\n",
    "def find_closest_radar_stn(row):\n",
    "    \"\"\"\n",
    "    To retrieve radar images, we need to find the closest radar location\n",
    "    to the station of interest.  \n",
    "    Input the station number,\n",
    "    returns the location code of the nearest radar station.\n",
    "    \"\"\"\n",
    "    stn_data = row['Station Number']\n",
    "    \n",
    "    s1 = (row['Latitude'], row['Longitude'])\n",
    "    min_dist = 1E6\n",
    "    closest_stn = None\n",
    "    for site in radar_sites.keys():\n",
    "\n",
    "        s2 = [*radar_sites[site]['lat_lon']]        \n",
    "\n",
    "        this_dist = distance.distance(s2, s1).km\n",
    "    \n",
    "        if this_dist < min_dist:\n",
    "            min_dist = this_dist\n",
    "            closest_stn = site\n",
    "        \n",
    "    return closest_stn\n",
    "\n",
    "def calc_distance(row):\n",
    "    wsc_stn_coords = (row['Latitude'], row['Longitude'])\n",
    "    radar = row['Closest_radar']\n",
    "    radar_coords = radar_sites[radar]['lat_lon']\n",
    "    return distance.distance(radar_coords, wsc_stn_coords).km\n",
    "    \n",
    "    "
   ]
  },
  {
   "cell_type": "code",
   "execution_count": 9,
   "metadata": {},
   "outputs": [
    {
     "name": "stdout",
     "output_type": "stream",
     "text": [
      "601\n"
     ]
    }
   ],
   "source": [
    "# filter for stations within 200 km of the radar <sigh>\n",
    "stations_filtered['Closest_radar'] = stations_filtered.apply(lambda row: find_closest_radar_stn(row), axis=1)\n",
    "stations_filtered['Dist_to_radar'] = stations_filtered.apply(lambda row: calc_distance(row), axis=1)\n",
    "# print(stations_filtered['Dist_to_radar'].head())\n",
    "print(len(stations_filtered))\n"
   ]
  },
  {
   "cell_type": "code",
   "execution_count": 10,
   "metadata": {},
   "outputs": [
    {
     "name": "stdout",
     "output_type": "stream",
     "text": [
      "204\n"
     ]
    }
   ],
   "source": [
    "stations_filtered = stations_filtered[stations_filtered['Dist_to_radar'] < 175]\n",
    "print(len(stations_filtered))"
   ]
  },
  {
   "cell_type": "code",
   "execution_count": 11,
   "metadata": {},
   "outputs": [],
   "source": [
    "stn_df = stations_filtered[np.isfinite(stations_filtered['DA'].astype(float))]\n",
    "stn_df = stn_df[stn_df['DA'].astype(float) >= 10]\n",
    "stn_df = stn_df[stn_df['DA'].astype(float) < 1000].sort_values('DA')"
   ]
  },
  {
   "cell_type": "code",
   "execution_count": 12,
   "metadata": {},
   "outputs": [
    {
     "name": "stdout",
     "output_type": "stream",
     "text": [
      "After filtering, there are 124 candidate stations.\n"
     ]
    }
   ],
   "source": [
    "df = stn_df[['Province', 'Station Number', 'Station Name', 'DA', 'Elevation', 'Latitude', 'Longitude', 'RADAR_Overlap']]\n",
    "print('After filtering, there are {} candidate stations.'.format(len(stn_df)))"
   ]
  },
  {
   "cell_type": "code",
   "execution_count": 277,
   "metadata": {},
   "outputs": [
    {
     "name": "stdout",
     "output_type": "stream",
     "text": [
      "Station 08HA010 has a DA of 578.0 km^2\n"
     ]
    }
   ],
   "source": [
    "st = 104\n",
    "#71\n",
    "\n",
    "test_stn = stn_df['Station Number'].iloc[st]\n",
    "test_stn_info = stn_df[stn_df['Station Number'] == test_stn]\n",
    "\n",
    "stn_da = stn_df['DA'].iloc[st]\n",
    "print('Station {} has a DA of {} km^2'.format(test_stn, stn_da))"
   ]
  },
  {
   "cell_type": "code",
   "execution_count": 278,
   "metadata": {},
   "outputs": [],
   "source": [
    "df = get_daily_runoff(test_stn)\n",
    "df['Year'] = df.index.year\n",
    "df['Month'] = df.index.month"
   ]
  },
  {
   "cell_type": "code",
   "execution_count": 279,
   "metadata": {},
   "outputs": [],
   "source": [
    "# filter by minimum radar date\n",
    "df = df[df.index > pd.to_datetime('2007-05-31')]"
   ]
  },
  {
   "cell_type": "code",
   "execution_count": 280,
   "metadata": {},
   "outputs": [],
   "source": [
    "df['Date'] = df.index.values"
   ]
  },
  {
   "cell_type": "code",
   "execution_count": 281,
   "metadata": {},
   "outputs": [
    {
     "data": {
      "text/plain": [
       "<matplotlib.axes._subplots.AxesSubplot at 0x7f24f18e07b8>"
      ]
     },
     "execution_count": 281,
     "metadata": {},
     "output_type": "execute_result"
    },
    {
     "data": {
      "image/png": "[encoded data removed]",
      "text/plain": [
       "<Figure size 432x288 with 1 Axes>"
      ]
     },
     "metadata": {
      "needs_background": "light"
     },
     "output_type": "display_data"
    }
   ],
   "source": [
    "df[df['Year'] > 2013].plot('Date', 'DAILY_FLOW')"
   ]
  },
  {
   "cell_type": "code",
   "execution_count": 282,
   "metadata": {},
   "outputs": [],
   "source": [
    "# from peak_detection import find_peaks"
   ]
  },
  {
   "cell_type": "code",
   "execution_count": 283,
   "metadata": {},
   "outputs": [],
   "source": [
    "def find_peaks(data, lag=7, threshold=500, influence=0.5):\n",
    "    # Settings (the ones below are examples: choose what is best for your data)\n",
    "#     lag = 5         # lag 5 for the smoothing functions\n",
    "#     threshold = 3.5  # 3.5 standard deviations for signal\n",
    "#     influence = 0.5  # between 0 and 1, where 1 is normal influence, 0.5 is half\n",
    "    # Initialize variables\n",
    "    signals = np.zeros(len(data))            # Initialize signal results\n",
    "    filteredY = np.empty(len(data))\n",
    "    filteredY[:lag] = data[:lag]             # Initialize filtered series\n",
    "    avgFilter = [0]                          # Initialize average filter\n",
    "    stdFilter = [0]                          # Initialize std. filter\n",
    "    avgFilter = {lag: np.mean(data[:lag])}      # Initialize first value\n",
    "    stdFilter = {lag: np.std(data[:lag])}     # Initialize first value\n",
    "    \n",
    "    for i in range(lag + 1, len(data)):\n",
    "        d = data[i]\n",
    "        \n",
    "        af = avgFilter[i-1]\n",
    "        sf = stdFilter[i-1]\n",
    "        \n",
    "        if abs(d - af) > threshold * sf:\n",
    "            if d > af:\n",
    "                signals[i] = 1                     # Positive signal\n",
    "            else:\n",
    "                signals[i] = -1                    # Negative signal\n",
    "\n",
    "            \n",
    "            filteredY[i] = influence*d + (1-influence)*filteredY[i-1]\n",
    "        else:\n",
    "            signals[i] = 0                        # No signal\n",
    "            filteredY[i] = 0\n",
    "        \n",
    "        \n",
    "        # Adjust the filters\n",
    "        avgFilter[i] = np.mean(filteredY[i-lag:i])\n",
    "        stdFilter[i] = np.std(filteredY[i-lag:i])\n",
    "        \n",
    "    return signals, filteredY\n",
    "\n",
    "n_test = 500\n",
    "\n",
    "dats = list(df['DAILY_FLOW'].to_numpy())\n",
    "sigs, f_dat = find_peaks(dats, influence=0.75, lag=7, threshold=5)"
   ]
  },
  {
   "cell_type": "code",
   "execution_count": 284,
   "metadata": {},
   "outputs": [
    {
     "data": {
      "text/html": [
       "\n",
       "\n",
       "\n",
       "\n",
       "\n",
       "\n",
       "  <div class=\"bk-root\" id=\"231e6eb7-3e1c-4784-94f5-d42abc02ac2a\" data-root-id=\"94485\"></div>\n"
      ]
     },
     "metadata": {},
     "output_type": "display_data"
    },
    {
     "data": {
      "application/javascript": [
       "(function(root) {\n",
       "  function embed_document(root) {\n",
       "    \n",
       "  var docs_json = {\"a5fe5bdd-3d9a-4509-b370-ae25329ea743\":{\"roots\":{\"references\":[{\"attributes\":{\"below\":[{\"id\":\"94494\",\"type\":\"DatetimeAxis\"}],\"center\":[{\"id\":\"94498\",\"type\":\"Grid\"},{\"id\":\"94503\",\"type\":\"Grid\"},{\"id\":\"94541\",\"type\":\"Legend\"}],\"left\":[{\"id\":\"94499\",\"type\":\"LinearAxis\"}],\"plot_height\":400,\"plot_width\":800,\"renderers\":[{\"id\":\"94520\",\"type\":\"GlyphRenderer\"},{\"id\":\"94546\",\"type\":\"GlyphRenderer\"}],\"title\":{\"id\":\"94522\",\"type\":\"Title\"},\"toolbar\":{\"id\":\"94510\",\"type\":\"Toolbar\"},\"x_range\":{\"id\":\"94486\",\"type\":\"DataRange1d\"},\"x_scale\":{\"id\":\"94490\",\"type\":\"LinearScale\"},\"y_range\":{\"id\":\"94488\",\"type\":\"DataRange1d\"},\"y_scale\":{\"id\":\"94492\",\"type\":\"LinearScale\"}},\"id\":\"94485\",\"subtype\":\"Figure\",\"type\":\"Plot\"},{\"attributes\":{\"months\":[0,4,8]},\"id\":\"94537\",\"type\":\"MonthsTicker\"},{\"attributes\":{},\"id\":\"94539\",\"type\":\"YearsTicker\"},{\"attributes\":{\"num_minor_ticks\":5,\"tickers\":[{\"id\":\"94528\",\"type\":\"AdaptiveTicker\"},{\"id\":\"94529\",\"type\":\"AdaptiveTicker\"},{\"id\":\"94530\",\"type\":\"AdaptiveTicker\"},{\"id\":\"94531\",\"type\":\"DaysTicker\"},{\"id\":\"94532\",\"type\":\"DaysTicker\"},{\"id\":\"94533\",\"type\":\"DaysTicker\"},{\"id\":\"94534\",\"type\":\"DaysTicker\"},{\"id\":\"94535\",\"type\":\"MonthsTicker\"},{\"id\":\"94536\",\"type\":\"MonthsTicker\"},{\"id\":\"94537\",\"type\":\"MonthsTicker\"},{\"id\":\"94538\",\"type\":\"MonthsTicker\"},{\"id\":\"94539\",\"type\":\"YearsTicker\"}]},\"id\":\"94495\",\"type\":\"DatetimeTicker\"},{\"attributes\":{},\"id\":\"94490\",\"type\":\"LinearScale\"},{\"attributes\":{\"bottom_units\":\"screen\",\"fill_alpha\":{\"value\":0.5},\"fill_color\":{\"value\":\"lightgrey\"},\"left_units\":\"screen\",\"level\":\"overlay\",\"line_alpha\":{\"value\":1.0},\"line_color\":{\"value\":\"black\"},\"line_dash\":[4,4],\"line_width\":{\"value\":2},\"render_mode\":\"css\",\"right_units\":\"screen\",\"top_units\":\"screen\"},\"id\":\"94540\",\"type\":\"BoxAnnotation\"},{\"attributes\":{\"formatter\":{\"id\":\"94526\",\"type\":\"BasicTickFormatter\"},\"ticker\":{\"id\":\"94500\",\"type\":\"BasicTicker\"}},\"id\":\"94499\",\"type\":\"LinearAxis\"},{\"attributes\":{\"items\":[{\"id\":\"94542\",\"type\":\"LegendItem\"}]},\"id\":\"94541\",\"type\":\"Legend\"},{\"attributes\":{\"fill_alpha\":{\"value\":0.5},\"fill_color\":{\"value\":\"red\"},\"line_alpha\":{\"value\":0.5},\"line_color\":{\"value\":\"red\"},\"size\":{\"units\":\"screen\",\"value\":10},\"x\":{\"field\":\"x\"},\"y\":{\"field\":\"y\"}},\"id\":\"94518\",\"type\":\"Circle\"},{\"attributes\":{\"overlay\":{\"id\":\"94540\",\"type\":\"BoxAnnotation\"}},\"id\":\"94506\",\"type\":\"BoxZoomTool\"},{\"attributes\":{\"data_source\":{\"id\":\"94517\",\"type\":\"ColumnDataSource\"},\"glyph\":{\"id\":\"94518\",\"type\":\"Circle\"},\"hover_glyph\":null,\"muted_glyph\":null,\"nonselection_glyph\":{\"id\":\"94519\",\"type\":\"Circle\"},\"selection_glyph\":null,\"view\":{\"id\":\"94521\",\"type\":\"CDSView\"}},\"id\":\"94520\",\"type\":\"GlyphRenderer\"},{\"attributes\":{\"label\":{\"value\":\"1034 pts\"},\"renderers\":[{\"id\":\"94520\",\"type\":\"GlyphRenderer\"}]},\"id\":\"94542\",\"type\":\"LegendItem\"},{\"attributes\":{\"months\":[0,6]},\"id\":\"94538\",\"type\":\"MonthsTicker\"},{\"attributes\":{},\"id\":\"94492\",\"type\":\"LinearScale\"},{\"attributes\":{\"ticker\":{\"id\":\"94495\",\"type\":\"DatetimeTicker\"}},\"id\":\"94498\",\"type\":\"Grid\"},{\"attributes\":{\"active_drag\":\"auto\",\"active_inspect\":\"auto\",\"active_multi\":null,\"active_scroll\":\"auto\",\"active_tap\":\"auto\",\"tools\":[{\"id\":\"94504\",\"type\":\"PanTool\"},{\"id\":\"94505\",\"type\":\"WheelZoomTool\"},{\"id\":\"94506\",\"type\":\"BoxZoomTool\"},{\"id\":\"94507\",\"type\":\"SaveTool\"},{\"id\":\"94508\",\"type\":\"ResetTool\"},{\"id\":\"94509\",\"type\":\"HelpTool\"}]},\"id\":\"94510\",\"type\":\"Toolbar\"},{\"attributes\":{},\"id\":\"94504\",\"type\":\"PanTool\"},{\"attributes\":{\"line_color\":\"blue\",\"x\":{\"field\":\"x\"},\"y\":{\"field\":\"y\"}},\"id\":\"94544\",\"type\":\"Line\"},{\"attributes\":{},\"id\":\"94509\",\"type\":\"HelpTool\"},{\"attributes\":{\"formatter\":{\"id\":\"94524\",\"type\":\"DatetimeTickFormatter\"},\"ticker\":{\"id\":\"94495\",\"type\":\"DatetimeTicker\"}},\"id\":\"94494\",\"type\":\"DatetimeAxis\"},{\"attributes\":{\"line_alpha\":0.1,\"line_color\":\"#1f77b4\",\"x\":{\"field\":\"x\"},\"y\":{\"field\":\"y\"}},\"id\":\"94545\",\"type\":\"Line\"},{\"attributes\":{\"callback\":null,\"data\":{\"x\":{\"__ndarray__\":\"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\",\"dtype\":\"float64\",\"shape\":[1034]},\"y\":{\"__ndarray__\":\"AAAAQDMzHUAAAABgZmYcQAAAAAApXBdAAAAAoHA9F0AAAAAAAAAkQAAAAGC4HhJAAAAAgML1EEAAAADgUbgEQAAAAMD1KApAAAAAYLgeD0AAAACgR+EfQAAAAMDMjFBAAAAAwMyMQUAAAABAMzMYQAAAAGBmZhZAAAAAwB6FC0AAAADgUbgKQAEAAIDrUQhAAAAAIK5HC0AAAAAgXI/6P//////Wo/g/AAAAoEfhFkAAAACAPQoVQP/////Wo/Q/AAAA4FG48j/////fzvfvPwAAAOCjcPE/AAAAAABAXUAAAAAAAOBVQAAAAAAAwGRAAAAAYGYmRUAAAAAAAIA8QAAAAAAAAGhAAAAAAABgZEAAAAAAAAA3QAEAAGBm5jRAAQAAYGbmNEAAAACgmVlXQAAAAAAAoGNAAAAAAABQckAAAABgZiZCQAAAAAAAgD5AAAAAwMzMMkAAAACgmRkzQAAAAAAAwHlAAAAAAABgf0AAAABAM7M0QAAAAEAzsz5AAAAAAABAWUAAAAAAAABfQAAAAAAAQE1AAAAAoJkZRkAAAADAzGxVQAAAAAAAQGFAAAAAAACgZkAAAAAAAGBoQAAAAAAAoGBAAQAAYGZmNUABAABgZuYzQAAAAEAzMzFAAAAAoJkZMEAAAACgmdlEQAAAAEAzs0hAAAAAAACAV0AAAAAAAEBaQAAAAMDMTEBAAQAAYGbmPEAAAACgmRk+QAAAAKCZGURA////v8xMR0AAAAAAAGBUQAAAAEAzE1NAAAAAAACgZUD///+/zAxFQAAAAGBmZkNAAAAAAAAAOEAAAAAAAIA1QAAAAEAzs0NAAAAAoJkZQEAAAAAAAAA8QAEAAGBm5jdAAAAAYGYmSkAAAABgZsZRQAAAAEAzc0NAAAAAoJmZP0AAAACgmZlVQAAAAMDMDFNAAQAAYGZmP0AAAACgmRk8QAAAAMDMTD1AAAAAQDOzNkAAAABgZmYrQP///7/MzCpAAAAAoJkZIUAAAACAFK4fQAAAAEAK1x5AAAAAQDMzF0AAAAAgrkcFQAAAAOBRuARAAAAAwB6F+z8AAACAwvX8PwAAAMD1KBZAAAAAgD0KAUACAAAghev9PwEAAEAzMwlAAAAAQOF69D8AAACgR2EhQAAAAAAAADhAAAAAYGZmLEAAAACgmVlHQAAAAAAAgD1AAAAAwMzMFUAAAABguB4UQAAAAGBmZgZAAAAA4KNwBUAAAABgZmYmQAAAAKCZGTBAAQAAYGbmP0AAAADAzEw0QAAAAMDMbFRAAAAAAAAALkAAAABAMzNVQP///7/MjEtAAAAAYGZmJUAAAADgo3AjQAEAAGBmZjxAAAAAQDPzQ0AAAADAzCxVQAAAAAAAgGtAAAAAAAAAckAAAABgZiZDQAAAAAAAQEBAAAAAAAAAPED///+/zAxCQP///7/MTEtAAAAAQDMzN0AAAAAAAIA3QAAAAGBmJkNAAAAAQDMzMEAAAAAAAAAuQAAAAMDMzDtAAAAAwMzMPkAAAAAAAMBaQAAAAAAAIH9AAAAAAACgc0AAAABgZuZIQAAAAAAAQEtAAAAAQDMzMkAAAABgZmYxQAAAAEAzMzlAAAAAQDMzN0D///+/zMwkQAAAAIDr0SNAAAAAAADAQEAAAABgZqZDQAAAAKCZOVRA////v8xMQkABAABgZuY+QAAAAKCZmUJAAAAAoJlZQUD///+/zIxOQAAAAAAAoGhAAAAAAADAb0AAAABgZuZBQAAAAMDMjEBAAAAAoJmZTUAAAABgZmZHQAAAAKCZmUVAAAAAAADAYUAAAAAAACBgQAAAAKCZ2U1AAAAAAAAARkAAAADAzMw6QAAAAKCZmUJA////PzMzV0AAAABAM/NHQP///7/MDEZAAQAAYGZmM0AAAABAMzMyQAAAAAAAACdAAAAAAAAAJEAAAABgZmYWQAAAAKCZmRVAAAAAAAAAEEAAAAAAAAAcQAAAAAAAAChAAAAAIFyPDkAAAABguB4NQAAAAIAUrgtAAAAAwMzMCkABAABAMzMDQAAAAMDMzAJAAAAAgD0K+z8AAACgcD36PwEAAEAzMw9AAAAAoEfhCkAAAABA4Xr8PwAAAEAK1/s/AAAAIK5H9T8AAABA4Xr0PwAAAEDh+iFAAAAAQDMzF0ABAABgZmY+QAEAAGBmZjVAAAAAwMzMHEAAAACAFK4aQAAAAAAAABZAAAAAAAAAHUAAAABACtcSQAAAAOCjcBJAAAAAYGZmJ0AAAAAAAMBZQAAAAAAAQGJAAAAAAABAW0AAAACgmZlQQAAAAAAAwHZAAAAAAACAaUAAAAAAAIBmQAAAAAAA6IJAAAAAAACgc0AAAAAAAPBwQAAAAKCZ2UBAAAAAAACAPEAAAACgmRkyQAAAAAAAIGJAAAAAAADgZEAAAADAzExBQAEAAGBm5j1AAAAAAADAZUAAAAAAAMBwQAAAAAAAAHtAAAAAAADwdEAAAABAM7NOQAAAAAAAwEdAAAAAwMwMQEAAAABAM7M9QAAAAMDMTDVAAQAAYGbmPkABAADAzIxYQAAAAAAAgGNAAAAAAABgakAAAABAMzM5QAAAAGBm5kJAAAAAYGZGVkAAAAAAAABaQAAAAKCZGTlAAAAAwMzMN0D///+/zMxNQAAAAKCZWUtAAAAAAADAYkAAAABgZqZLQAAAAKCZmUVAAAAAoJn5VUAAAAAAAEBuQAAAAAAAgFtAAAAAAAAgaEAAAACgmRlKQAAAAEAzE1FAAAAAAADgWEAAAABgZsZYQAAAAAAAAEBAAAAAAACAPEAAAAAAAAAuQAAAAMDMTDBAAAAAAAAASkAAAACgmdlDQAAAAKCZGUFAAAAAAABASkAAAAAAAEBaQAAAAMDMzDFAAAAAQDMzMEAAAABgj8IfQAAAAGC4Hh5AAAAAYGZmFEAAAABgj8ITQAAAACBcjwxAAAAAoJmZC0ABAABAMzMFQAAAAMDMzARAAQAAgOtRAEAAAACAFK7/PwAAAEDhegBAAAAAoHA9/j8AAAAghev1P//////Wo/Q/AAAAgML18D8AAADgehQAQP////8oXA1AAAAAoHA9+j8AAACAwvX4PwAAAKBH4QZAAAAAYGZmJUAAAABAMzMbQAAAAKCZGThAAAAAwMxMQUAAAAAAAMBjQAAAAADXIyFAAAAAAAAAH0AAAAAAACBTQAAAAAAAwGpAAAAAYGZmKUAAAAAAAAAnQAAAAEAzU1VAAAAAAABgc0AAAAAAAMBtQAAAAAAAwEZAAAAAwMyMQUABAABgZmY+QAAAAAAAQEFAAAAAoJlZSEAAAACgmTlVQAAAAGBmZkpAAAAAYGZmTUAAAAAAAGBxQAAAAAAAQGFAAAAAAACQckAAAAAAAABiQAAAAAAAAERAAAAAwMwMQUD///8/M1NXQAAAAAAAkHVAAAAAAABQc0AAAABAMzM5QAAAAEAzMzdA////v8wMSEAAAAAAAMBmQAAAAAAAMHNAAAAAAAAQdkAAAAAAAHBzQAAAAEAzc0dA////v8wMQ0AAAABgZoZVQAAAAEAzk1BAAAAAAACgY0AAAAAAAMBlQAEAAGBmZjdAAAAAwMzMNED///+/zIxEQAAAAEAzM0FAAAAAYGbGVkAAAAAAAIBoQAAAAAAAwGJAAAAAAADAR0AAAABAM7NEQAAAAAAAoGJAAAAAAAAgbkAAAABAM7NGQAAAAKCZeVNAAAAAAADgYkAAAADAzEw6QAAAAKCZGThAAAAAQDMzTEAAAAAAAEBIQAAAAEAzM0pAAAAAAAAARUAAAAAAAMBZQAAAAAAAQFpAAAAAQDOzO0D///+/zAxDQAAAAKCZmTRAAAAAwMxMNkAAAAAAAAArQAAAAAAAACZAAAAAoEfhG0AAAACgmZkZQAAAAADXoxJAAAAAAClcEUAAAAAgXI8OQAAAACBcjxRAAAAAIFyPF0AAAADAzMwKQAEAAEAzMwlAAQAAgOtRAkAAAACAFK4BQAAAAEAzM/s/AAAAIFyP+j8AAABAMzM1QAAAAKCZmTFAAAAAYGZmAkD///9fj8IBQAAAAOBRuPo/AAAAIIXr+T8BAACA61EEQAAAAKCZWUZAAAAAoJmZS0AAAAAAAEBgQAAAAAAAYGJAAAAAAAAALkABAABAMzMqQAAAAAAAIGFAAAAAAADAZ0AAAADAzExAQAAAAKCZWUlAAAAAAACAQUAAAACgmRk7QAAAAAAAgDpAAAAAYGamRkAAAAAAAMBJQP///7/MzERAAAAAAADQeEAAAAAAAOBnQP///7/MTEVAAAAAYGZmQUAAAACgmZkrQAAAAKCZmSlAAQAAQDMzKUAAAABgZmYpQAAAAGBmpktAAAAAAAAATkAAAAAAAOBiQAAAAAAAYHpAAAAAAAAAb0AAAAAAAGBVQAAAAGBmhldAAAAAoJkZNUAAAADAzMwyQAAAAAAAwF9AAAAAYGYmVUAAAAAAAEByQAAAAMDMDFFAAAAAoJnZSkAAAAAAAIBLQP///7/MjEZAAAAAAAAAXEAAAAAAAIBIQP///7/MzENAAAAAAACgbUAAAAAAAMBIQAAAAAAAAGlAAAAAAACAZUABAABgZmY6QAAAAAAAAD9AAAAAYGbmQ0AAAADAzCxWQAAAAAAAwGRAAAAAwMwMQUAAAAAAAIA+QAAAAGBmJk1AAAAAoJmZTUAAAAAAAABkQAAAAAAAYGJAAAAAYGbmQkAAAADAzAxAQAAAAEAzsz1AAAAAQDOzOkAAAACgmRk1QAAAAKCZGTRAAAAAoJmZLkABAABAMzMsQAEAAEAzMy1AAAAAAAAAKkAAAABAM7M4QAAAAKCZWUNAAAAAAAAALUAAAACgmZkpQAAAAKCZ2UBAAQAAYGZmPkAAAAAgrschQAAAAEDheiBAAAAAYGZmFkAAAACA61EVQAAAAEDhegpAAAAAYLgeCUAAAADAzMwCQAEAAIDrUQJAAAAAoHA9/j8AAADgo3D9PwAAAKBH4fo/AAAAoHA9+j8AAACgcD36PwAAAMD1KPg/AQAAQDMz7z8AAAAgg8DuPwAAAGBkO+c/AAAAgBbZ5j8AAACgm8TgPwAAAGDn++U/AAAAQArXDUAAAAAAAEBqQAAAAEAzU1VAAAAAAAAAN0AAAAAAAAA0QAAAAEAzU1BAAAAAoJmZV0AAAAAAAIBcQAAAAAAAIGpAAAAAoJkZQkAAAADAzEw7QAAAAAAAgFtAAAAAAABAb0AAAAAAAMBkQP///7/MjExAAAAAAADAXEAAAAAAACBtQAAAAAAAoG1AAAAAYGbmSkAAAABAM/NKQAAAAEAz80dA////v8xMQ0AAAADAzEw7QAAAAKCZmTdAAAAAwMxsVUAAAAAAACBmQAAAAAAAAHpAAAAAoJmZMkAAAABAMzMxQAAAAKCZ2UNA////v8xMRUAAAAAAAIBDQAAAAAAAAFJAAAAAAACgYUABAABgZuY/QAAAAGBmpkBAAAAAAADAWUAAAABgZsZVQAAAAAAAcH5AAAAAAACQd0ABAABgZuY0QAAAAAAAQGlAAAAAAAAwckAAAABgZsZTQAAAAKCZGUpAAAAAQDNzQUAAAABAM/NAQAAAAAAAQF9AAAAAAACgZ0AAAABAMzNFQAAAAMDMjEFAAAAAoJmZN0AAAABAMzM4QAAAAAAAAE1AAAAAAACAMkAAAAAAAIAwQAAAAAAAQE1AAAAAwMysVEAAAABgZkZWQAAAAEAzszdAAAAAAAAANkAAAAAAAAA2QAEAAGBm5jJAAAAAoJmZI0AAAABgZuYiQAAAAOB6FBtAAAAAwPUoGUAAAADAzEwyQAAAAAAAgDdAAAAA4KNwFkAAAABgZmYVQAAAAKBH4QxAAAAAoHA9DEAAAADAHoUFQAAAAMDMzARAAAAAQOF6AkAAAABACtcBQAAAAKBwPQBAAAAAQArX/z8AAABA4Xr8PwAAAIDC9fw/AAAAIIXrEEABAABgZuY0QAEAAEAzMylAAAAAwMzMBEAAAAAghesDQAAAAIAUrgFAAAAA4KNwAUAAAABgZmYOQAAAAEAzszRAAAAAoJmZRUAAAABgZmZXQAAAAAAAoG1AAAAAAABAcEABAABgZuY8QAAAAAAAADdAAAAAIFwPIkAAAACgR+EgQAAAAEAK1xVAAAAAoHA9FUAAAADAzMw6QAEAAGBm5jxAAAAAQDOzVEAAAADAzGxTQAAAAGBmZkBA////v8yMS0AAAADAzOxSQAEAAEAzMylAAAAAoJmZJ0AAAAAAAABHQAAAAEAz80RAAAAAAAAAJUAAAAAAAAAmQP///7/MzC9AAAAAoJkZRkAAAAAAAABUQAAAAEAzs0lAAAAAoJkZP0AAAAAAAIBQQAAAAAAAAF1AAAAAAACAYUAAAAAAAHiBQAAAAEAzMzdAAAAAAACANEAAAAAAAAAzQP///7/MzC5AAAAAwMzMHkABAABAMzMlQAAAAAAAADZAAAAAAACAYUAAAAAAAABdQAAAAAAAAEdA////v8zMQ0AAAAAAAABhQAAAAAAAAFxAAAAAAADwc0AAAAAAAABiQAAAAAAAUHFAAAAAQDOzQUABAADAzAxXQAAAAGBm5lJAAAAAQDMzTUAAAABgZuZMQAAAAEAzMzVAAAAAYGYmRkD///8/M/NYQAAAAGBmJlRAAAAAAAAAUEAAAAAAAEBOQAAAAMDMzDhAAQAAYGbmNkAAAABgZqZGQAAAAAAAACtAAQAAQDMzKkAAAADAzMwhQAAAAGC4niBAAAAAoJmZFEAAAACgR+ETQAAAAIDrUQ5AAAAAYLgeDUAAAACgR+EKQAAAAIDrUR9AAAAAIIXrIUAAAADAHoURQAAAAGBmZg5AAAAAQArXAUAAAADgehQCQAAAAIAUrv8/AAAA4HoU/j8AAACgR+H2PwAAAKBwPfY/AAAAgD0K9z8AAADgo3D1PwAAAMDMzPA/AAAAQOF68D8AAADgehTyPwAAACCuR/E/AQAAIFyP7j8AAADAnxrvP////1+PwglAAAAAwB6FEkAAAABgZmYkQP///7/MzCdAAAAAgD0KCUAAAAAgXI8IQAAAACCF6x9AAAAAQDOzOEAAAADAzGxQQAAAAAAAgFpAAAAAAABAXEAAAAAAACBzQAAAAAAA4GJAAAAAAABAVUAAAAAAALBxQAAAAMDMTD5AAAAAwMxMOkAAAABgZgZTQAAAAAAAgFpAAAAAAAAAXkAAAAAAAJBxQAAAAAAAcHdAAAAAoJkZTkD///+/zAxNQAAAAAAAEHxAAAAAAACQeUAAAACgmRlUQAAAAAAAAGZAAAAAAABwcEAAAAAAAIA/QAAAAMDMzDtAAAAAAACga0AAAAAAAOBkQAAAAAAAgDdAAAAAAAAATkAAAACgmVlFQAAAAAAAYHFAAAAAAAAAZUD///+/zMxIQAAAAAAAgERAAAAAAABAaEAAAAAAAAiCQAAAAAAAMHZAAAAAQDPzQUAAAABAM7M+QAAAAAAAAC1AAAAAAAAANEAAAACgmZkkQAAAAAAAgCNAAAAAoJnZSUAAAABAM/NCQAAAAAAAAFxAAAAAAADgakAAAAAAAOBpQAAAAAAAgFxAAAAAQDOzNkAAAAAAAIA3QAAAAEAzM0NAAAAAQDOzMUAAAACgmZkvQAEAAGBmZjRAAAAAQDOzM0ABAABAMzMlQAAAAIDC9SNAAAAAwPUoGkAAAACAFK4YQAAAAKCZmRBAAAAAQArXD0AAAADgUbgIQAAAAAAAAAhAAAAAgML1AkAAAABA4XoCQAAAAEAK1/8/AAAAoHA9/j8AAABguB75PwAAAIDrUfg/AAAAQArX9z8AAACgR+H2PwAAAMDMzPg/AAAAgBSu9z8AAABAMzPzPwAAAIDrUfQ/AAAA4HoU8j8AAAAghevxPwAAAMD1KPA/////vx6F/z8AAACgmZkmQAAAAAAAIGNAAAAAAAAAXEAAAAAAAAAsQAEAAEAzMydAAAAAAADAaUABAADAzOxWQP///7/MzCpAAAAAYGZmJ0AAAAAAAIBdQAAAAAAAwFtAAAAAYGZmKkAAAAAAAAAoQAAAAMDMTDxAAAAAoJk5V0AAAAAAAABwQAAAAAAAAG5AAAAAoJnZTUAAAAAAAEBZQAAAAAAAoGpAAAAAAACgf0AAAABgZiZFQAAAAEAz80BAAAAAQDPTUUAAAAAAAKBoQAAAAAAAYGRAAAAAAADAeUAAAADAzAxUQAAAAKCZmU5AAAAAAAAARkD///+/zIxCQAAAAKCZmTFAAAAAAAAAMUAAAABgZmZRQAAAAAAAAGRAAAAAAACQckAAAAAAAJB4QAAAAAAAwFlAAAAAwMzMUkAAAAAAAABqQAAAAAAAAHJAAAAAAACAdED///+/zMxEQAAAAKCZmUJAAAAAYGbmVUAAAAAAAOBnQAAAAAAAEHFAAAAAAAAwgUAAAAAAAIBrQP///7/MTENAAAAAQDOzTEAAAAAAAEBNQAAAAAAAAGJAAAAAoJmZOkAAAABAM7M3QAAAAAAAgDJAAAAAoJkZPEAAAACgmZkmQP///7/MzCVAAAAAgBSuGkAAAABA4XoZQAAAAAApXBBAAAAAoJmZD0AAAAAA16MIQAAAAOB6FAhAAAAAYI/CHUD///+/zMwnQAAAAEAzMxFAAAAAgML1DkAAAADgUbgGQAAAAAAAAAZAAAAAQOF6BkAAAAAA16MEQAAAAEDhegBAAAAAQOF6EUAAAADgUbgYQAAAAADXowJAAAAAQArXAUAAAAAghev5PwAAAGC4Hvk/AAAAgML19D8AAABA4Xr4PwAAAEAK1/M/AAAA4FG48j8AAADASQzqPwAAAIBokek/AAAAgML1AEAAAAAAAAAQQAAAAAAAABBAAAAAQOF6+D8AAADgehT2PwAAACBcjxVA////v8zMKkAAAABgZuYhQAAAAOBRuAJAAAAAoHA9AkAAAABA4XojQAEAAEAzMyNAAAAAAABgUUAAAAAAAMBgQAAAAAAAMHtAAAAAAADQcEAAAABgZqZOQAAAAAAAAFFAAAAAAACgY0AAAAAAAEB4QAAAAAAA0HFAAAAAwMyMVUAAAAAAAMBcQAAAAAAA4GRAAAAAAAAgZkAAAAAAAOByQAAAAAAAQF1AAAAAwMzMVUAAAABAM7NCQAEAAGBm5j5AAAAAoJnZSEAAAAAAAABEQAAAAAAAAD9AAAAAwMzMOUD///+/zMwuQP///7/MzCxAAAAAAAAgZUAAAAAAAOCEQAAAAAAAwHRAAAAAwMzMOkAAAABgZmZAQP///7/MjEZAAAAAAAAANEAAAAAAACBkQAAAAAAAwG5AAAAAoJl5UED///+/zMxNQAAAAMDMTDlAAAAAQDNzQ0AAAAAAAGBgQAAAAKCZWVRAAAAAAAAgakAAAAAAAABmQAAAAAAAAFtAAAAAAADAYEAAAAAAANBzQAAAAAAAYHdAAAAAAABAWUAAAAAAAABpQAAAAEAzM01AAAAAAADgV0AAAABgZoZXQP///7/MTEZAAAAAYGbmQ0AAAADAzMw7QAAAAMDMTDpAAQAAYGbmOkAAAAAAAAA5QAAAAKCZmS9AAQAAQDMzLkAAAABgZmYiQAAAAKCZmSVAAAAAAAAAOED///+/zExPQAEAAEAzMyZAAAAAYGZmJEAAAABguB4YQAAAAKCZmRZAAAAAQOF6DkAAAADAHoUNQAAAAOCjcAdAAAAAwPUoBkAAAABA4XoAQAAAAEAK1/8/AAAAYGZmAEACAAAghev9PwAAAOB6FPY/AAAA4KNw9T8AAACgR+HyPwAAAGBmZvI/AAAAwPUo9D8AAACgR+HyPwAAACCuR/U/AAAAwPUo9D8BAACA61ECQAAAAOB6FP4/AAAAwMzME0AAAADgo3ABQAAAAAAAQFpAAAAAAABAcEAAAAAAAMBwQAAAAMDMTDJAAAAAAAAAL0AAAADAHoUhQAAAAAAAACFAAAAAwMzsUUAAAAAAACBlQAAAAAAAIHJAAAAAAABwekAAAAAAAABvQAAAAAAAIG9AAAAAAAAgUkD///+/zAxNQAAAAKCZmTNAAAAAoJkZMkAAAAAAAEBaQAAAAKCZmVBAAAAAAACAXEAAAAAAAEBmQAAAAAAAQGRAAAAAAABAWkAAAABgZmZYQAAAAAAAIGdAAAAAAAAgY0AAAAAAAKB+QAAAAAAA6IhAAAAAAABwcEAAAACgmdlQQAAAAGBm5kpAAAAAQDOzRkAAAABgZmZAQAAAAMDMzDpAAAAAQDPzQ0ABAABgZuY6QAAAAEAzMzhAAAAAoJkZNEAAAAAAAAAzQAEAAMDMLFhA////v8zMTkAAAADAzExRQAEAAMDMrFZAAAAAAAAAW0AAAACgmVlMQP///7/MzEdAAQAAYGbmPUABAABgZuY8QAAAAAAAAC9A////v8zMLEAAAACgR2EiQAAAAOCj8CBAAAAAANejFEAAAAAA16MTQAAAAEAzMxRAAAAAoJmZE0AAAAAAKVwWQAAAAEDhehRAAAAAoHA9DkABAABAMzMLQAEAAEAzMwVAAAAAgML1CEAAAABgZmYAQAEAAAApXP8/AAAAIK5H+T//////1qP4P//////Wo/Q/AAAAAAAA9D8AAACgcD3yPwAAAKCZmfE/AAAAoHA97j////9/vp/uPwAAACDZzus/AAAAgGzn6z8AAADAzMwCQAAAAIDC9SJAAAAAoJmZOkAAAAAAAIAwQAAAAGBm5khAAAAAoJmZVkAAAABgZmZEQAAAAMDMjEFAAAAAoJmZJUD///+/zEwjQAAAAIDC9RNAAAAAYLgeE0AAAACgmZk7QAAAAKCZGTdAAAAAQDMzS0AAAACgmRlUQAAAAAAAsHRAAAAAwMzMNEAAAAAAAIAyQP///z8z01ZAAAAAAABAT0AAAACgmZlLQAAAAEAzs0RAAAAAAADweEAAAAAAAKB9QAAAAKCZGTVAAAAAAAAAM0AAAAAAAEBLQAAAAGBmJlZAAAAAAAAQdEAAAAAAAGBlQAAAAAAAgGVAAAAAYGbGVUD///+/zIxOQA==\",\"dtype\":\"float64\",\"shape\":[1034]}},\"selected\":{\"id\":\"98841\",\"type\":\"Selection\"},\"selection_policy\":{\"id\":\"98842\",\"type\":\"UnionRenderers\"}},\"id\":\"94517\",\"type\":\"ColumnDataSource\"},{\"attributes\":{\"data_source\":{\"id\":\"94543\",\"type\":\"ColumnDataSource\"},\"glyph\":{\"id\":\"94544\",\"type\":\"Line\"},\"hover_glyph\":null,\"muted_glyph\":null,\"nonselection_glyph\":{\"id\":\"94545\",\"type\":\"Line\"},\"selection_glyph\":null,\"view\":{\"id\":\"94547\",\"type\":\"CDSView\"}},\"id\":\"94546\",\"type\":\"GlyphRenderer\"},{\"attributes\":{\"days\":[1,4,7,10,13,16,19,22,25,28]},\"id\":\"94532\",\"type\":\"DaysTicker\"},{\"attributes\":{},\"id\":\"94508\",\"type\":\"ResetTool\"},{\"attributes\":{\"days\":[1,2,3,4,5,6,7,8,9,10,11,12,13,14,15,16,17,18,19,20,21,22,23,24,25,26,27,28,29,30,31]},\"id\":\"94531\",\"type\":\"DaysTicker\"},{\"attributes\":{\"fill_alpha\":{\"value\":0.1},\"fill_color\":{\"value\":\"#1f77b4\"},\"line_alpha\":{\"value\":0.1},\"line_color\":{\"value\":\"#1f77b4\"},\"size\":{\"units\":\"screen\",\"value\":10},\"x\":{\"field\":\"x\"},\"y\":{\"field\":\"y\"}},\"id\":\"94519\",\"type\":\"Circle\"},{\"attributes\":{\"source\":{\"id\":\"94543\",\"type\":\"ColumnDataSource\"}},\"id\":\"94547\",\"type\":\"CDSView\"},{\"attributes\":{},\"id\":\"94507\",\"type\":\"SaveTool\"},{\"attributes\":{},\"id\":\"94524\",\"type\":\"DatetimeTickFormatter\"},{\"attributes\":{},\"id\":\"98841\",\"type\":\"Selection\"},{\"attributes\":{\"base\":24,\"mantissas\":[1,2,4,6,8,12],\"max_interval\":43200000.0,\"min_interval\":3600000.0,\"num_minor_ticks\":0},\"id\":\"94530\",\"type\":\"AdaptiveTicker\"},{\"attributes\":{},\"id\":\"98842\",\"type\":\"UnionRenderers\"},{\"attributes\":{\"base\":60,\"mantissas\":[1,2,5,10,15,20,30],\"max_interval\":1800000.0,\"min_interval\":1000.0,\"num_minor_ticks\":0},\"id\":\"94529\",\"type\":\"AdaptiveTicker\"},{\"attributes\":{\"dimension\":1,\"ticker\":{\"id\":\"94500\",\"type\":\"BasicTicker\"}},\"id\":\"94503\",\"type\":\"Grid\"},{\"attributes\":{},\"id\":\"94526\",\"type\":\"BasicTickFormatter\"},{\"attributes\":{\"source\":{\"id\":\"94517\",\"type\":\"ColumnDataSource\"}},\"id\":\"94521\",\"type\":\"CDSView\"},{\"attributes\":{\"mantissas\":[1,2,5],\"max_interval\":500.0,\"num_minor_ticks\":0},\"id\":\"94528\",\"type\":\"AdaptiveTicker\"},{\"attributes\":{},\"id\":\"98843\",\"type\":\"Selection\"},{\"attributes\":{},\"id\":\"94505\",\"type\":\"WheelZoomTool\"},{\"attributes\":{},\"id\":\"98844\",\"type\":\"UnionRenderers\"},{\"attributes\":{\"text\":\"\"},\"id\":\"94522\",\"type\":\"Title\"},{\"attributes\":{\"callback\":null,\"data\":{\"x\":{\"__ndarray__\":\"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\",\"dtype\":\"float64\",\"shape\":[4232]},\"y\":{\"__ndarray__\":\"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\",\"dtype\":\"float64\",\"shape\":[4232]}},\"selected\":{\"id\":\"98843\",\"type\":\"Selection\"},\"selection_policy\":{\"id\":\"98844\",\"type\":\"UnionRenderers\"}},\"id\":\"94543\",\"type\":\"ColumnDataSource\"},{\"attributes\":{\"callback\":null},\"id\":\"94488\",\"type\":\"DataRange1d\"},{\"attributes\":{\"days\":[1,8,15,22]},\"id\":\"94533\",\"type\":\"DaysTicker\"},{\"attributes\":{\"callback\":null},\"id\":\"94486\",\"type\":\"DataRange1d\"},{\"attributes\":{\"days\":[1,15]},\"id\":\"94534\",\"type\":\"DaysTicker\"},{\"attributes\":{\"months\":[0,1,2,3,4,5,6,7,8,9,10,11]},\"id\":\"94535\",\"type\":\"MonthsTicker\"},{\"attributes\":{},\"id\":\"94500\",\"type\":\"BasicTicker\"},{\"attributes\":{\"months\":[0,2,4,6,8,10]},\"id\":\"94536\",\"type\":\"MonthsTicker\"}],\"root_ids\":[\"94485\"]},\"title\":\"Bokeh Application\",\"version\":\"1.4.0\"}};\n",
       "  var render_items = [{\"docid\":\"a5fe5bdd-3d9a-4509-b370-ae25329ea743\",\"roots\":{\"94485\":\"231e6eb7-3e1c-4784-94f5-d42abc02ac2a\"}}];\n",
       "  root.Bokeh.embed.embed_items_notebook(docs_json, render_items);\n",
       "\n",
       "  }\n",
       "  if (root.Bokeh !== undefined) {\n",
       "    embed_document(root);\n",
       "  } else {\n",
       "    var attempts = 0;\n",
       "    var timer = setInterval(function(root) {\n",
       "      if (root.Bokeh !== undefined) {\n",
       "        clearInterval(timer);\n",
       "        embed_document(root);\n",
       "      } else {\n",
       "        attempts++;\n",
       "        if (attempts > 100) {\n",
       "          clearInterval(timer);\n",
       "          console.log(\"Bokeh: ERROR: Unable to run BokehJS code because BokehJS library is missing\");\n",
       "        }\n",
       "      }\n",
       "    }, 10, root)\n",
       "  }\n",
       "})(window);"
      ],
      "application/vnd.bokehjs_exec.v0+json": ""
     },
     "metadata": {
      "application/vnd.bokehjs_exec.v0+json": {
       "id": "94485"
      }
     },
     "output_type": "display_data"
    }
   ],
   "source": [
    "from bokeh.plotting import figure, output_file, show, output_notebook\n",
    "\n",
    "input_sig = df[['DAILY_FLOW']].copy()\n",
    "signal = np.array(sigs)\n",
    "input_sig['sig'] = signal.copy().astype(int)\n",
    "input_sig['f_sig'] = f_dat\n",
    "\n",
    "foo = input_sig[input_sig['sig'] == 1].copy()\n",
    "p = figure(plot_width=800, plot_height=400, x_axis_type='datetime')\n",
    "# add a circle renderer with a size, color, and alpha\n",
    "p.circle(foo.index, foo['DAILY_FLOW'], size=10, color=\"red\", \n",
    "         alpha=0.5, legend_label='{} pts'.format(len(foo)))\n",
    "# p.line(input_sig.index, input_sig['f_sig'], color='blue')\n",
    "p.line(input_sig.index, input_sig['DAILY_FLOW'], color='blue')\n",
    "# p.line()\n",
    "# show the results\n",
    "show(p)"
   ]
  },
  {
   "cell_type": "markdown",
   "metadata": {},
   "source": [
    "Find the summer baseflow\n",
    "\n",
    "Break up the May to November records by periods where it comes back to within X% of baseflow.  \n",
    "\n",
    "check durations of these periods, see how many there are."
   ]
  },
  {
   "cell_type": "code",
   "execution_count": 285,
   "metadata": {},
   "outputs": [],
   "source": [
    "# Based on code from Anomaly detection ML methods article:\n",
    "# https://towardsdatascience.com/machine-learning-for-anomaly-detection-and-condition-monitoring-d4614e7de770\n",
    "\n",
    "# Common imports\n",
    "import os\n",
    "import pandas as pd\n",
    "import numpy as np\n",
    "from sklearn import preprocessing\n",
    "import seaborn as sns\n",
    "sns.set(color_codes=True)\n",
    "import matplotlib.pyplot as plt\n",
    "%matplotlib inline\n",
    "\n",
    "from numpy.random import seed\n",
    "import tensorflow\n",
    "\n",
    "from keras.layers import Input, Dropout\n",
    "from keras.layers.core import Dense \n",
    "from keras.models import Model, Sequential, load_model\n",
    "from keras import regularizers\n",
    "from keras.models import model_from_json"
   ]
  },
  {
   "cell_type": "code",
   "execution_count": 286,
   "metadata": {},
   "outputs": [],
   "source": [
    "lag_df = input_sig[['DAILY_FLOW']].copy()\n",
    "lag_df.rename(columns={'DAILY_FLOW': 'Q'}, inplace=True)\n",
    "\n",
    "num_lags = int(np.ceil(stn_da / 100 + 7))\n",
    "\n",
    "\n",
    "for i in range(1,num_lags):\n",
    "    lag_df['Q{}'.format(i)] = lag_df['Q'].shift(i)\n",
    "\n",
    "lag_df.dropna(inplace=True)\n"
   ]
  },
  {
   "cell_type": "code",
   "execution_count": 287,
   "metadata": {},
   "outputs": [],
   "source": [
    "# # add check for baseflow, and extend/trim the target record start and end to isolate the low flow \n",
    "# summer period\n",
    "# def extract_summer_data(data):\n",
    "#     summer_months = [8, 9, 10]\n",
    "#     return data[data.index.month.isin(summer_months)]\n",
    "\n",
    "def split_train_and_test_data(data, summer_months, training_year):\n",
    "    all_years = list(set(data.index.year))\n",
    "    all_years_data = data[['Q']].groupby(data.index.year).mean()\n",
    "    all_year_means = list(all_years_data.to_numpy().flatten())\n",
    "    if len(all_years) % 2 == 0:\n",
    "        all_year_means.append(0)\n",
    "\n",
    "    median_year_flow = np.median(all_year_means)\n",
    "    median_year = all_years_data[all_years_data['Q'] == median_year_flow].index.values[0]\n",
    "    train_data = data[data.index.year == training_year]#median_year]\n",
    "\n",
    "    train_data = train_data[train_data.index.month.isin(summer_months)]\n",
    "    test_data = data\n",
    "    return train_data, test_data"
   ]
  },
  {
   "cell_type": "code",
   "execution_count": 288,
   "metadata": {},
   "outputs": [],
   "source": [
    "def MahalanobisDist(inv_cov_matrix, mean_distr, data, verbose=False):\n",
    "    inv_covariance_matrix = inv_cov_matrix\n",
    "    vars_mean = mean_distr\n",
    "    diff = data - vars_mean\n",
    "    md = []\n",
    "    for i in range(len(diff)):\n",
    "        md.append(np.sqrt(diff[i].dot(inv_covariance_matrix).dot(diff[i])))\n",
    "    return md\n",
    "\n",
    "def MD_detectOutliers(dist, extreme=False, verbose=False):\n",
    "    k = 3. if extreme else 2.\n",
    "    threshold = np.mean(dist) * k\n",
    "    outliers = []\n",
    "    for i in range(len(dist)):\n",
    "        if dist[i] >= threshold:\n",
    "            outliers.append(i)  # index of the outlier\n",
    "    return np.array(outliers)\n",
    "\n",
    "def MD_threshold(dist, extreme=False, verbose=False):\n",
    "    k = 3. if extreme else 2.\n",
    "    threshold = np.mean(dist) * k\n",
    "    return threshold\n",
    "\n",
    "def is_pos_def(A):\n",
    "    if np.allclose(A, A.T):\n",
    "        try:\n",
    "            np.linalg.cholesky(A)\n",
    "            return True\n",
    "        except np.linalg.LinAlgError:\n",
    "            return False\n",
    "    else:\n",
    "        return False"
   ]
  },
  {
   "cell_type": "code",
   "execution_count": 289,
   "metadata": {},
   "outputs": [],
   "source": [
    "from sklearn.decomposition import PCA\n",
    "\n",
    "def do_PCA(X_train, X_test):\n",
    "    \n",
    "    for n_components in range(2, 6):\n",
    "\n",
    "        pca = PCA(n_components=n_components, svd_solver= 'full')\n",
    "        X_train_PCA = pca.fit_transform(X_train)\n",
    "        X_train_PCA = pd.DataFrame(X_train_PCA)\n",
    "        X_train_PCA.index = X_train.index\n",
    "\n",
    "        X_test_PCA = pca.transform(X_test)\n",
    "        X_test_PCA = pd.DataFrame(X_test_PCA)\n",
    "        X_test_PCA.index = X_test.index\n",
    "\n",
    "        var_expl = 100*np.sum(pca.explained_variance_ratio_)\n",
    "        if var_expl >= 90:\n",
    "            return X_train_PCA, X_test_PCA, var_expl, n_components\n",
    "    return X_train_PCA, X_test_PCA, var_expl, n_components\n",
    "\n",
    "\n",
    "def train_model(lag_df, summer_months, training_year):\n",
    "\n",
    "    dataset_train, dataset_test = split_train_and_test_data(lag_df, summer_months, training_year)\n",
    "    \n",
    "    if len(dataset_train) < 2:\n",
    "        return pd.DataFrame([]), 'No training data for selected parameters.'\n",
    "\n",
    "    scaler = preprocessing.MinMaxScaler()\n",
    "\n",
    "    X_train = pd.DataFrame(scaler.fit_transform(dataset_train), \n",
    "                                  columns=dataset_train.columns, \n",
    "                                  index=dataset_train.index)\n",
    "    # Random shuffle training data\n",
    "    X_train.sample(frac=1)\n",
    "\n",
    "    X_test = pd.DataFrame(scaler.transform(dataset_test), \n",
    "                                 columns=dataset_test.columns, \n",
    "                                 index=dataset_test.index)\n",
    "    \n",
    "    X_train_PCA, X_test_PCA, var_expl, n_components = do_PCA(X_train, X_test)\n",
    "    \n",
    "    data_train = np.array(X_train_PCA.values)\n",
    "    data_test = np.array(X_test_PCA.values)\n",
    "    \n",
    "    def cov_matrix(data, verbose=False):\n",
    "        covariance_matrix = np.cov(data, rowvar=False)\n",
    "        if is_pos_def(covariance_matrix):\n",
    "            inv_covariance_matrix = np.linalg.inv(covariance_matrix)\n",
    "            if is_pos_def(inv_covariance_matrix):\n",
    "                return covariance_matrix, inv_covariance_matrix\n",
    "            else:\n",
    "                print(\"Error: Inverse of Covariance Matrix is not positive definite!\")\n",
    "        else:\n",
    "            print(\"Error: Covariance Matrix is not positive definite!\")\n",
    "\n",
    "    cov_matrix, inv_cov_matrix = cov_matrix(data_train)\n",
    "\n",
    "    mean_distr = data_train.mean(axis=0)\n",
    "\n",
    "    dist_test = MahalanobisDist(inv_cov_matrix, mean_distr, data_test, verbose=False)\n",
    "    dist_train = MahalanobisDist(inv_cov_matrix, mean_distr, data_train, verbose=False)\n",
    "    threshold = MD_threshold(dist_train, extreme = True)\n",
    "    \n",
    "    anomaly_train = pd.DataFrame()\n",
    "    anomaly_train['Mob dist']= dist_train\n",
    "    anomaly_train['Thresh'] = threshold\n",
    "    # If Mob dist above threshold: Flag as anomaly\n",
    "    anomaly_train['Anomaly'] = anomaly_train['Mob dist'] > anomaly_train['Thresh']\n",
    "    anomaly_train.index = X_train_PCA.index\n",
    "    anomaly = pd.DataFrame()\n",
    "    anomaly['Mob dist']= dist_test\n",
    "    anomaly['Thresh'] = threshold\n",
    "    # If Mob dist above threshold: Flag as anomaly\n",
    "    anomaly['Anomaly'] = anomaly['Mob dist'] > anomaly['Thresh']\n",
    "    anomaly.index = X_test_PCA.index\n",
    "    anomaly.head()\n",
    "    \n",
    "    anomaly_alldata = pd.concat([anomaly_train, anomaly])\n",
    "    \n",
    "    event_times = np.where(anomaly_alldata['Anomaly'].values[:-1] != anomaly_alldata['Anomaly'].values[1:])[0]\n",
    "    events = pd.merge(input_sig, anomaly_alldata.iloc[event_times,:], how='inner', \n",
    "                      left_index=True, right_index=True)\n",
    "\n",
    "    events = events.loc[~events.index.duplicated(keep='first')]\n",
    "\n",
    "    # print(events.head(50))\n",
    "    \n",
    "    if len(events) == 0:\n",
    "        return pd.DataFrame([]), 'No events found.'\n",
    "    elif events.iloc[0]['Anomaly'] == True:\n",
    "        events = events.iloc[1:]\n",
    "        \n",
    "    # create a column of time difference between events in days\n",
    "    events['dt_days'] = events.index.to_series().diff(1)\n",
    "    \n",
    "\n",
    "    a = time.time()\n",
    "\n",
    "    last_event_end = False\n",
    "\n",
    "    new_events = pd.DataFrame()\n",
    "\n",
    "    # iterate through the detected event pairs \n",
    "    for i in np.arange(0, len(events) - 1, 2):\n",
    "        # parse a single event pair\n",
    "        this_event = events.iloc[i:i+2]\n",
    "\n",
    "        check_sign_switch = this_event['Anomaly'].values[0] != this_event['Anomaly'].values[1]\n",
    "        concurrent_wsc = lag_df[(lag_df.index >= this_event.index.values[0]) & (lag_df.index <= this_event.index.values[1])][['Q']]\n",
    "        peak_in_middle = check_peak_in_middle(this_event, concurrent_wsc)\n",
    "\n",
    "        if (check_sign_switch) & (peak_in_middle):\n",
    "\n",
    "            # get the start date\n",
    "            this_event_start = pd.to_datetime(this_event[this_event['Anomaly'] == False].index.values[0])\n",
    "            # get the end date\n",
    "            this_event_end = pd.to_datetime(this_event[this_event['Anomaly'] == True].index.values[0])\n",
    "\n",
    "            new_event_start = lag_df[lag_df.index == this_event_start][['Q']]\n",
    "            new_event_end = lag_df[lag_df.index == this_event_end][['Q']]\n",
    "\n",
    "            adjusted_start_date = pd.to_datetime(adjust_edge_date(this_event_start, lag_df[['Q']], 'start'))\n",
    "\n",
    "            new_event_start = lag_df[lag_df.index == adjusted_start_date][['Q']]\n",
    "\n",
    "            if last_event_end is not False:\n",
    "\n",
    "                # find if the start date is on the rising limb - adjust if so\n",
    "                if adjusted_start_date < last_event_end:\n",
    "                    new_event_start = lag_df[lag_df.index == this_event_start][['Q']]\n",
    "\n",
    "\n",
    "\n",
    "            new_event_start['timing'] = 'start'\n",
    "            new_event_end['timing'] = 'end'\n",
    "\n",
    "            min_time_check = (new_event_end.index - new_event_start.index).days > 1\n",
    "            max_time_check = (new_event_end.index - new_event_start.index).days <= 14\n",
    "            start_month = new_event_start.index.month\n",
    "            end_month = new_event_end.index.month\n",
    "            season_check = (start_month > 5) & (start_month <= 11) & (end_month <= 11)\n",
    "\n",
    "            if (min_time_check) & (max_time_check) & (season_check):\n",
    "                # filter out events that are longer than 5 days\n",
    "                new_events = new_events.append(new_event_start)\n",
    "                new_events = new_events.append(new_event_end)\n",
    "\n",
    "            last_event_end = pd.to_datetime(this_event_end)\n",
    "\n",
    "\n",
    "    b = time.time()\n",
    "\n",
    "    new_events.sort_index(inplace=True)\n",
    "\n",
    "    new_events['dt_days'] = new_events.index.to_series().diff(1)\n",
    "    # new_events['Datetime'] = pd.to_datetime(new_events.index.values)\n",
    "    msg = '{} components explain {:.1f}% of the variance and find {} events in {:.2f}'.format(n_components, var_expl,  \n",
    "                                                                                             len(new_events), b-a, )\n",
    "    \n",
    "    return new_events, msg\n"
   ]
  },
  {
   "cell_type": "code",
   "execution_count": 290,
   "metadata": {},
   "outputs": [],
   "source": [
    "def adjust_edge_date(initial_date, data, direction):\n",
    "    \"\"\"\n",
    "    If the start flow is on a rising limb, adjust the start to the start of the runoff event.\n",
    "    \"\"\"\n",
    "    initial_val = data[data.index == initial_date]['Q']\n",
    "\n",
    "    if direction == 'end':\n",
    "        search_criteria = (data.index <= initial_date + pd.Timedelta('7 days')) & (data.index >= initial_date)\n",
    "        search_direction = -1\n",
    "    elif direction == 'start':\n",
    "        search_criteria = (data.index >= initial_date - pd.Timedelta('7 days')) & (data.index <= initial_date)\n",
    "        search_direction = 1\n",
    "        \n",
    "        \n",
    "    extended_week_vals = data[search_criteria][['Q']]\n",
    "    extended_week_vals['diff'] = extended_week_vals.diff(periods=search_direction)\n",
    "    extended_week_vals['pct_change'] = 100 * extended_week_vals['diff'] / extended_week_vals['Q']\n",
    "\n",
    "    if direction == 'start':\n",
    "        try:\n",
    "            extended_week_vals.at[extended_week_vals.index.min(),'diff'] = -1\n",
    "            change_point_row = extended_week_vals[['pct_change']].idxmax()\n",
    "            if len(change_point_row) > 1:\n",
    "                change_point_date = extended_week_vals.loc[change_point_row - pd.DateOffset(1)].index.values[0]\n",
    "                adjusted_date = change_point_date\n",
    "            else:\n",
    "                adjusted_date = initial_date\n",
    "            \n",
    "        except ValueError as err:\n",
    "#                 print(err)\n",
    "#                 print('no change')\n",
    "            adjusted_date = initial_date\n",
    "\n",
    "    elif direction == 'end':\n",
    "#             adjusted_dates.append(s)\n",
    "        try:\n",
    "            change_point = extended_week_vals[extended_week_vals['diff'] < 0][['Q']].idxmin().values[0]\n",
    "            adjusted_dates = change_point\n",
    "#                 print(s, change_point)\n",
    "\n",
    "        except ValueError as err:\n",
    "#                 print(extended_week_vals['Q'].min())\n",
    "            change_point = extended_week_vals[extended_week_vals['Q'] == extended_week_vals['Q'].min()].index.values[0]\n",
    "#                 print(err)\n",
    "#                 print('no change')\n",
    "            adjusted_date = change_point\n",
    "\n",
    "            \n",
    "    return pd.to_datetime(adjusted_date)\n",
    "\n",
    "def check_peak_in_middle(event, data):\n",
    "    \"\"\"\n",
    "    Ensure there is a peak between the start and end points\n",
    "    so we aren't targeting a non-runoff event.\n",
    "    \"\"\"\n",
    "    start_time = event.index.values[0] \n",
    "    end_time = event.index.values[-1]\n",
    "    max_time = data[data['Q'] == data['Q'].max()].index.values[0]\n",
    "    if (max_time == start_time) | (max_time == end_time):\n",
    "        return False\n",
    "    else:\n",
    "        return True"
   ]
  },
  {
   "cell_type": "code",
   "execution_count": 291,
   "metadata": {},
   "outputs": [],
   "source": [
    "import itertools\n",
    "def get_combinations(months, n):\n",
    "    combinations = []\n",
    "    for comb in itertools.combinations(months, n):\n",
    "        combinations.append(comb)\n",
    "    return combinations"
   ]
  },
  {
   "cell_type": "code",
   "execution_count": null,
   "metadata": {},
   "outputs": [
    {
     "name": "stdout",
     "output_type": "stream",
     "text": [
      "5 components explain 88.9% of the variance and find 2 events in 0.25\n",
      "5 components explain 94.0% of the variance and find 8 events in 0.25\n",
      "4 components explain 91.1% of the variance and find 30 events in 0.66\n",
      "3 components explain 92.7% of the variance and find 38 events in 0.86\n",
      "3 components explain 93.9% of the variance and find 40 events in 0.95\n",
      "2 components explain 90.2% of the variance and find 50 events in 0.89\n",
      "2 components explain 90.1% of the variance and find 54 events in 1.10\n",
      "2 components explain 91.4% of the variance and find 58 events in 1.15\n"
     ]
    }
   ],
   "source": [
    "training_months = [6, 7, 8, 9, 10, 11, 12]\n",
    "training_year = list(set([e.year for e in lag_df.index]))\n",
    "\n",
    "all_combinations = np.array([get_combinations(training_months, n) for n in range(1,len(training_months))]).flatten()\n",
    "\n",
    "flat_list = [item for sublist in all_combinations for item in sublist]\n",
    "\n",
    "best_radar_stn = test_stn_info['Closest_radar'].values[0]\n",
    "\n",
    "max_events = 0\n",
    "best_events = None\n",
    "trial_data = []\n",
    "for y in training_year:\n",
    "    for c in flat_list:\n",
    "        new_events, msg = train_model(lag_df, c, y)\n",
    "        if len(new_events) == 0:\n",
    "            trial_data.append([y, c, 0])\n",
    "        else:\n",
    "            trial_data.append([y, c, len(new_events)])\n",
    "        if len(new_events) > 0:\n",
    "            if len(new_events) > max_events:\n",
    "                max_events = len(new_events)\n",
    "                best_events = new_events\n",
    "                print(msg)\n",
    "            "
   ]
  },
  {
   "cell_type": "code",
   "execution_count": null,
   "metadata": {},
   "outputs": [],
   "source": [
    "# save the best_events dataframe as a csv\n",
    "save_path = os.path.join(PROJECT_DIR, 'data/precip_events_data/{}.csv'.format(test_stn))\n",
    "best_events['radar_stn'] = best_radar_stn\n",
    "best_events.to_csv(save_path)"
   ]
  },
  {
   "cell_type": "code",
   "execution_count": null,
   "metadata": {},
   "outputs": [],
   "source": [
    "p = figure(plot_width=800, plot_height=400, x_axis_type='datetime')\n",
    "\n",
    "e1 = best_events[best_events['timing'] == 'start']\n",
    "e2 = best_events[best_events['timing'] == 'end']\n",
    "\n",
    "p.circle(e1.index, e1['Q'], color='red', alpha=0.5, size=10, legend_label='start')\n",
    "p.circle(e2.index, e2['Q'], color='blue', alpha=0.5, size=10, legend_label='end')\n",
    "\n",
    "# p.line(input_sig.index, input_sig['f_sig'], color='blue')\n",
    "p.line(input_sig.index, input_sig['DAILY_FLOW'], color='blue')\n",
    "# p.line()\n",
    "# show the results\n",
    "show(p)"
   ]
  },
  {
   "cell_type": "code",
   "execution_count": null,
   "metadata": {},
   "outputs": [],
   "source": [
    "# create grid plot of individual events\n",
    "\n",
    "plots = []\n",
    "\n",
    "for i in np.arange(0, len(best_events) - 1, 2):\n",
    "    \n",
    "    # parse a single event pair\n",
    "    this_event = best_events.iloc[i:i+2]\n",
    "    \n",
    "    s1 = figure(background_fill_color=\"#fafafa\", x_axis_type='datetime')\n",
    "    \n",
    "    s1.circle(this_event.index, this_event['Q'], \n",
    "              size=12, alpha=0.8, color=\"red\")#, legend_label='{estimated endpoints}')\n",
    "    s1.xaxis.major_label_orientation = math.pi/2\n",
    "    this_start = pd.to_datetime(this_event.index.values[0])\n",
    "    this_end = pd.to_datetime(this_event.index.values[1])\n",
    "    this_dat = lag_df[(lag_df.index >= this_start) & (lag_df.index <= this_end)][['Q']]\n",
    "    \n",
    "    if (this_end.month < 12) & (this_start.month > 5):\n",
    "        year = this_event.index.year.values[0]\n",
    "        month = this_event.index.month.values[0]\n",
    "        day = this_event.index.day.values[0]\n",
    "        date = '{}-{}-{}'.format(year, month, day)\n",
    "        s1.line(this_dat.index, this_dat['Q'], color='blue')\n",
    "        plots.append(s1)\n",
    "\n",
    "print('there are {} plots'.format(len(plots)))"
   ]
  },
  {
   "cell_type": "code",
   "execution_count": null,
   "metadata": {},
   "outputs": [],
   "source": [
    "# if len(plots) < 6:\n",
    "#     grid = gridplot(plots, plot_width=150, plot_height=150)\n",
    "# else:\n",
    "n_cols = 5\n",
    "n_rows = int(np.ceil(len(plots) / n_cols))\n",
    "\n",
    "\n",
    "g = []\n",
    "for i in range(0, len(plots), n_cols):\n",
    "    g += [plots[i:i+n_cols]]\n",
    "grid = gridplot(g, plot_width=150, plot_height=150)"
   ]
  },
  {
   "cell_type": "code",
   "execution_count": null,
   "metadata": {},
   "outputs": [],
   "source": [
    "show(grid)"
   ]
  },
  {
   "cell_type": "code",
   "execution_count": 264,
   "metadata": {},
   "outputs": [],
   "source": [
    "event_pairs = []\n",
    "for i in np.arange(0, len(best_events) - 1, 2):\n",
    "    # parse a single event pair\n",
    "    this_event = best_events.iloc[i:i+2]\n",
    "    date_pair = [e.astype(str).replace('T', ' ').split('.')[0].split(' ')[0] for e in this_event.index.values]\n",
    "    this_start = pd.to_datetime(this_event.index.values[0])\n",
    "    this_month = this_start.month\n",
    "    if (this_month > 5) & (this_month <= 11) & (this_start > pd.to_datetime('2007-01-01')):\n",
    "        event_pairs.append(date_pair)"
   ]
  },
  {
   "cell_type": "code",
   "execution_count": 265,
   "metadata": {},
   "outputs": [
    {
     "name": "stdout",
     "output_type": "stream",
     "text": [
      "Stn 05BL014: SHEEP RIVER AT BLACK DIAMOND\n",
      "There are 13 events that meet the criteria.\n"
     ]
    }
   ],
   "source": [
    "print('Stn {}: {}'.format(test_stn, test_stn_info['Station Name'].values[0]))\n",
    "print('There are {} events that meet the criteria.'.format(len(event_pairs)))"
   ]
  },
  {
   "cell_type": "markdown",
   "metadata": {},
   "source": [
    "### Load Radar, Mask with Catchment, and Clip all Retrieved Images\n",
    "\n",
    "First, make sure basin geometry is available before requesting all images."
   ]
  },
  {
   "cell_type": "code",
   "execution_count": 266,
   "metadata": {},
   "outputs": [
    {
     "name": "stdout",
     "output_type": "stream",
     "text": [
      "         minx       miny        maxx       maxy\n",
      "0 -114.980648  50.502267 -114.229258  50.712358\n"
     ]
    }
   ],
   "source": [
    "def get_polygon(stn):\n",
    "    gdb_path = os.path.join(DB_DIR, 'WSC_Basins.gdb.zip')\n",
    "    data = gpd.read_file(gdb_path, driver='FileGDB', layer='EC_{}_1'.format(stn))\n",
    "    return data.geometry\n",
    "\n",
    "def find_closest_radar_stn(wsc_stn):\n",
    "    \"\"\"\n",
    "    To retrieve radar images, we need to find the closest radar location\n",
    "    to the station of interest.  \n",
    "    Input the station number,\n",
    "    returns the location code of the nearest radar station.\n",
    "    \"\"\"\n",
    "    stn_data = stn_df[stn_df['Station Number'] == wsc_stn]\n",
    "    s1 = [stn_data['Latitude'].values[0], stn_data['Longitude'].values[0]]\n",
    "    min_dist = 1E6\n",
    "    closest_stn = None\n",
    "    for site in radar_sites.keys():\n",
    "        s2 = [*radar_sites[site]['lat_lon']]\n",
    "        this_dist = np.sqrt((s2[0] - s1[0])**2 + (s2[1] - s1[1])**2)\n",
    "\n",
    "        if this_dist < min_dist:\n",
    "            min_dist = this_dist\n",
    "            closest_stn = site\n",
    "        \n",
    "    return closest_stn\n",
    "\n",
    "basin_geom = get_polygon(test_stn)\n",
    "basin_geom = basin_geom.to_crs('EPSG:4326')\n",
    "basin_bbox = basin_geom.bounds\n",
    "print(basin_bbox)"
   ]
  },
  {
   "cell_type": "code",
   "execution_count": 267,
   "metadata": {},
   "outputs": [
    {
     "name": "stdout",
     "output_type": "stream",
     "text": [
      "There are 409 image files to query.\n"
     ]
    }
   ],
   "source": [
    "all_img_urls = get_radar_img_urls(event_pairs, best_radar_stn)\n",
    "print('There are {} image files to query.'.format(len(all_img_urls)))"
   ]
  },
  {
   "cell_type": "markdown",
   "metadata": {},
   "source": [
    "# TODO:\n",
    "\n",
    "\n",
    "\n",
    "## Further Work\n",
    "\n",
    "Find all the stations that have radar overlap.  \n",
    "\n",
    "Find a bunch of concurrent runoff events, and estimate the error based on the overlapping radar info."
   ]
  },
  {
   "cell_type": "code",
   "execution_count": 268,
   "metadata": {},
   "outputs": [
    {
     "name": "stdout",
     "output_type": "stream",
     "text": [
      "For 05BL014 there are 409 images to be requested from the CASSM radar station.\n"
     ]
    }
   ],
   "source": [
    "time0 = time.time()\n",
    "request_img_files(all_img_urls, test_stn, best_radar_stn)\n",
    "time1 = time.time()"
   ]
  },
  {
   "cell_type": "code",
   "execution_count": 269,
   "metadata": {},
   "outputs": [
    {
     "name": "stdout",
     "output_type": "stream",
     "text": [
      "Time to check 409 image links = 142s (0.35s/image)\n"
     ]
    }
   ],
   "source": [
    "print('Time to check {} image links = {:.0f}s ({:.2f}s/image)'.format(len(all_img_urls), \n",
    "                                                                      (time1 - time0), \n",
    "                                                                      (time1 - time0)/len(all_img_urls)))"
   ]
  },
  {
   "cell_type": "code",
   "execution_count": 270,
   "metadata": {},
   "outputs": [],
   "source": [
    "from shapely.geometry import Polygon\n",
    "\n",
    "def get_ubc_polygon():\n",
    "    points = [-123.1876189229259,49.27349631820059, -123.2168376964195,49.27886813665509,\n",
    "              -123.250951627253,49.28123248845857, -123.2686880871375,49.26628206996413, \n",
    "              -123.2577985144227,49.25107796072373, -123.2296736741512,49.23345938143058, \n",
    "              -123.2086850019333,49.22474925352834, -123.1911799345363,49.22020024319045, \n",
    "              -123.1852881427934,49.2196036807795, -123.1876189229259,49.27349631820059, ]\n",
    "    lat_list = []\n",
    "    lon_list = []\n",
    "    for i in range(0, len(points), 2):\n",
    "        lat_list.append(points[i])\n",
    "        lon_list.append(points[i + 1])\n",
    "#     gdb_path = os.path.join(PROJECT_DIR, path)\n",
    "#     data = gpd.read_file(gdb_path, driver='kmz')\n",
    "#     return data.geometry\n",
    "    minx = min(lat_list)\n",
    "    maxx = max(lat_list)\n",
    "    miny = min(lon_list)\n",
    "    maxy = max(lon_list)\n",
    "    bbox = pd.DataFrame({'minx': [minx], 'miny': [miny],\n",
    "                        'maxx': [maxx], 'maxy': [maxy]})\n",
    "    return Polygon(zip(lat_list, lon_list)), bbox"
   ]
  },
  {
   "cell_type": "code",
   "execution_count": 271,
   "metadata": {},
   "outputs": [],
   "source": [
    "def get_pixel_coordinates(closest_stn):\n",
    "    img_coord_path = 'data/radar_img_pixel_coords'\n",
    "    img_coord_file = [f for f in os.listdir(img_coord_path) if closest_stn in f][0]\n",
    "    return pd.read_json(os.path.join(img_coord_path, img_coord_file))\n",
    "\n",
    "\n",
    "def get_img_mask(closest_stn, basin_geom):\n",
    "    c_df = get_pixel_coordinates(closest_stn).to_numpy().flatten()\n",
    "    all_points = [tuple(e) for e in c_df]\n",
    "    list_pts_df = pd.DataFrame()\n",
    "    list_pts_df['Lat'] = [e[1] for e in all_points]\n",
    "    list_pts_df['Lon'] = [e[0] for e in all_points]\n",
    "#     print(list_pts_df)\n",
    "    gdf = gpd.GeoDataFrame(list_pts_df, geometry=gpd.points_from_xy(list_pts_df.Lat, list_pts_df.Lon))\n",
    "    \n",
    "    points = gdf['geometry'].values\n",
    "    mask = np.zeros(len(points))\n",
    "    for i, pt in enumerate(points):\n",
    "        point = shape(pt)\n",
    "        if point.within(shape(basin_geom[0])):\n",
    "            mask[i] = 1\n",
    "    return mask.reshape(480,480)\n",
    "\n",
    "\n",
    "def bbox2(img):\n",
    "    rows = np.any(img, axis=1)\n",
    "    cols = np.any(img, axis=0)\n",
    "    ymin, ymax = np.where(rows)[0][[0, -1]]\n",
    "    xmin, xmax = np.where(cols)[0][[0, -1]]\n",
    "    return img[ymin:ymax+1, xmin:xmax+1]\n",
    "\n",
    "\n",
    "@jit\n",
    "def mask_image(img_array, mask):\n",
    "    mask_idx = np.where(mask==0)\n",
    "    rows = mask_idx[0]\n",
    "    cols = mask_idx[1]\n",
    "    filtered_img = np.zeros((480, 480, 3))\n",
    "    for n in range(480):\n",
    "        for m in range(480):\n",
    "            if mask[n, m] == 0:\n",
    "                filtered_img[n, m] = 0\n",
    "            else:\n",
    "                filtered_img[n, m] = img_array[n, m]\n",
    "    return filtered_img"
   ]
  },
  {
   "cell_type": "code",
   "execution_count": 272,
   "metadata": {},
   "outputs": [],
   "source": [
    "def mask_images_and_save(gif_images, mask, test_stn, best_radar_stn):\n",
    "    origin_path = os.path.join(RADAR_IMG_DIR, best_radar_stn)\n",
    "    save_path = os.path.join(PROJECT_DIR, 'data/masked_img/{}'.format(test_stn))\n",
    "    for t_img in gif_images:\n",
    "        new_filename = t_img.split('.')[0] + '_crp.gif'\n",
    "        time0 = time.time()      \n",
    "        origin_full_path = os.path.join(origin_path, t_img)\n",
    "        new_file_path = os.path.join(save_path, new_filename)\n",
    "#         if os.path.exists(origin_full_path):\n",
    "#             print('hiiii')\n",
    "        if os.path.getsize(origin_full_path) > 100:\n",
    "            gif_img = Image.open(origin_full_path).convert('RGB')\n",
    "            img_array = np.asarray(gif_img)[:,:480].astype(np.uint8)        \n",
    "            filtered_img = mask_image(img_array, mask)\n",
    "            time1 = time.time()\n",
    "            cropped_array = bbox2(filtered_img)\n",
    "            cropped_img = Image.fromarray(cropped_array.astype(np.uint8))\n",
    "            cropped_img.save(os.path.join(save_path, new_filename))\n",
    "\n",
    "\n",
    "def get_event_times(df):\n",
    "    event_pairs = []\n",
    "    for i in np.arange(0, len(df) - 1, 2):    \n",
    "        # parse a single event pair\n",
    "        this_event = df.iloc[i:i+2]\n",
    "        date_pair = [e.astype(str).replace('T', ' ').split('.')[0].split(' ')[0] for e in this_event.index.values]\n",
    "        this_start = pd.to_datetime(this_event.index.values[0])\n",
    "        this_month = this_start.month\n",
    "        if (this_month > 5) & (this_month <= 11) & (this_start > pd.to_datetime('2007-01-01')):\n",
    "            event_pairs.append(date_pair)\n",
    "    return event_pairs\n",
    "    \n",
    "def get_events_df_from_file(stn):\n",
    "    event_csv_path = os.path.join(PROJECT_DIR, 'data/precip_events_data/{}.csv'.format(stn))\n",
    "    event_df = pd.read_csv(event_csv_path, parse_dates=True, index_col='DATE')\n",
    "    return event_df\n",
    "\n",
    "def get_possible_filenames_from_event_time(event_pair):\n",
    "    filenames = []\n",
    "    for p in event_pair:\n",
    "        start, end = p[0], p[1]\n",
    "        datetime_range = [str(pd.to_datetime(e).strftime('%Y%m%d%H%M')) + '.gif' for e in pd.date_range(pd.to_datetime(start), \n",
    "                                       pd.to_datetime(end),\n",
    "                                      freq='1H').values]\n",
    "        filenames += datetime_range\n",
    "    return set(filenames)\n",
    "\n",
    "def get_radar_images_for_events(wsc_stn, radar_stn):\n",
    "    event_df = get_events_df_from_file(wsc_stn)\n",
    "    event_pairs = get_event_times(event_df)\n",
    "    \n",
    "    files_to_search = get_possible_filenames_from_event_time(event_pairs)\n",
    "    \n",
    "    existing_files = os.listdir(os.path.join(RADAR_IMG_DIR, radar_stn))\n",
    "    \n",
    "#     new_files = np.setdiff1d(files_to_search, existing_files)\n",
    "    new_files = files_to_search.intersection(existing_files)\n",
    "    return new_files\n",
    "\n",
    "def get_gif_images(test_stn, closest_radar_stn):\n",
    "    gif_path = 'data/sorted_radar_images/{}'.format(closest_radar_stn)\n",
    "    save_path = 'data/masked_img/{}'.format(test_stn)\n",
    "    \n",
    "    if not os.path.exists(save_path):\n",
    "        os.makedirs(save_path)\n",
    "    \n",
    "    return list(get_radar_images_for_events(test_stn, closest_radar_stn))"
   ]
  },
  {
   "cell_type": "code",
   "execution_count": 273,
   "metadata": {},
   "outputs": [],
   "source": [
    "# ubc_polygon = get_ubc_polygon()"
   ]
  },
  {
   "cell_type": "code",
   "execution_count": 274,
   "metadata": {},
   "outputs": [],
   "source": [
    "mask = get_img_mask(best_radar_stn, basin_geom)\n",
    "# mask = get_img_mask('CASAG', ubc_polygon)"
   ]
  },
  {
   "cell_type": "code",
   "execution_count": 275,
   "metadata": {},
   "outputs": [],
   "source": [
    "gif_images = get_gif_images(test_stn, best_radar_stn)\n",
    "# gif_images = os.listdir(os.path.join(RADAR_IMG_DIR, 'CASAG'))"
   ]
  },
  {
   "cell_type": "code",
   "execution_count": 276,
   "metadata": {},
   "outputs": [
    {
     "name": "stdout",
     "output_type": "stream",
     "text": [
      "Time to process 2173 images: 16.0s, (0.01s/image)\n"
     ]
    }
   ],
   "source": [
    "time0 = time.time()\n",
    "mask_images_and_save(gif_images, mask, test_stn, best_radar_stn)\n",
    "# mask_images_and_save(gif_images, mask, 'UBC', 'CASAG')\n",
    "time1 = time.time()\n",
    "\n",
    "print('Time to process {} images: {:.1f}s, ({:.2f}s/image)'.format(len(gif_images), \n",
    "                                                                   time1-time0, \n",
    "                                                                   (time1-time0)/len(gif_images)))"
   ]
  },
  {
   "cell_type": "code",
   "execution_count": null,
   "metadata": {},
   "outputs": [],
   "source": [
    "# open the image file\n",
    "\n",
    "# gif_img = Image.open('data/radar_img/08HF006/200708261000.gif') # 640x480x3 array\n",
    "# label = gif_img.convert('RGB')\n",
    "# img_array = np.asarray(label)\n",
    "# radar_img_array = np.asarray(img_array)[:,:480]\n",
    "# color_bar_array = img_array[144:340, 515:535]\n",
    "# color_bar_img = Image.fromarray(color_bar_array, mode='RGB')\n",
    "# colors = color_bar_img.getcolors()"
   ]
  },
  {
   "cell_type": "code",
   "execution_count": null,
   "metadata": {},
   "outputs": [],
   "source": [
    "fig, ax = plt.subplots(figsize=(8,8))\n",
    "gdf.plot('geometry', ax=ax, color='lightgray', alpha=0.1)\n",
    "basin_geom.plot(ax=ax, alpha=0.35, edgecolor='k', linewidth=2)\n",
    "ax.plot(stn_lon, stn_lat, 'ro')\n",
    "ax.grid(False)"
   ]
  },
  {
   "cell_type": "code",
   "execution_count": null,
   "metadata": {},
   "outputs": [],
   "source": [
    "stn_lat = test_stn_info['Latitude'].values[0]\n",
    "stn_lon = test_stn_info['Longitude'].values[0]\n",
    "\n",
    "stn_coords = (stn_lon, stn_lat)"
   ]
  },
  {
   "cell_type": "code",
   "execution_count": null,
   "metadata": {},
   "outputs": [],
   "source": [
    "plt.figure(figsize = (8,8))\n",
    "plt.imshow(cropped_img)\n",
    "plt.grid(None)"
   ]
  },
  {
   "cell_type": "code",
   "execution_count": null,
   "metadata": {},
   "outputs": [],
   "source": [
    "fig, ax = plt.subplots(figsize=(8,8))\n",
    "# gdf.plot('geometry', ax=ax, color='lightgray', alpha=0.1)\n",
    "basin_geom.plot(ax=ax, alpha=0.35, edgecolor='k', linewidth=2)"
   ]
  },
  {
   "cell_type": "markdown",
   "metadata": {},
   "source": [
    "| Item | Default Unit | Other Possible Conversions |\n",
    "|---|---|---|\n",
    "| Station Loc. | Lat/Lon | UTM (with zone) | None |\n",
    "| Catchment Boundary | ESRI:102001 | Anything Geopandas can do |\n",
    "| Satellite Radar Img. | None | Radar centre can have UTM, pixels are 1kmx1km | "
   ]
  },
  {
   "cell_type": "code",
   "execution_count": null,
   "metadata": {},
   "outputs": [],
   "source": [
    "import matplotlib.pyplot as plt\n",
    "\n",
    "# this is the right projection\n",
    "z\n",
    "fig, ax = plt.subplots(figsize=(10,10))\n",
    "\n",
    "ax.scatter(stn_coords[0], stn_coords[1])\n",
    "# gm.plot(ax=ax)\n",
    "utm_coords.plot(ax=ax, alpha=0.1, edgecolor='k', linewidth=2)\n",
    "ax.grid(False)\n",
    "plt.show()"
   ]
  },
  {
   "cell_type": "code",
   "execution_count": null,
   "metadata": {},
   "outputs": [],
   "source": [
    "# foo = utm_coords.to_crs(\"EPSG:32633\")\n",
    "t_wgs84 = utm_coords.to_crs('EPSG:3395') \n",
    "fig, ax = plt.subplots(figsize=(12,8))\n",
    "t_wgs84.plot(ax=ax, alpha=0.5)\n",
    "print(gm.crs)\n"
   ]
  },
  {
   "cell_type": "markdown",
   "metadata": {},
   "source": [
    "## drop winter events and group for individual plotting"
   ]
  },
  {
   "cell_type": "code",
   "execution_count": null,
   "metadata": {},
   "outputs": [],
   "source": [
    "def using_astype(start, end):\n",
    "    s = start.strftime('%Y-%m-%d')\n",
    "    print(s)\n",
    "    print('%%%%%%')\n",
    "    drg = pd.date_range('2000-07-31', '2015-08-05', freq='B')\n",
    "    A = drg.values.astype('<M8[D]')\n",
    "    B = end.asm8.astype('<M8[D]')\n",
    "    return np.day_count(A, B)"
   ]
  },
  {
   "cell_type": "code",
   "execution_count": null,
   "metadata": {},
   "outputs": [],
   "source": [
    "extracted_events = pd.concat([adj_starts, adj_ends], axis=0).sort_index()\n",
    "\n",
    "filtered_events = []\n",
    "for year in list(set(extracted_events.index.year)):\n",
    "    target_months = [6, 7, 8, 9, 10]\n",
    "    this_year_df = extracted_events[(extracted_events.index.year == year) & (extracted_events.index.month.isin(target_months))].copy()\n",
    "\n",
    "    min_event = this_year_df[this_year_df.index == this_year_df.index.min()]['type'].values[0]\n",
    "\n",
    "    # drop the first element if it's the end of an event\n",
    "    if min_event == 'end':\n",
    "#         print('dropped end at start of season')\n",
    "        this_year_df.drop(index=this_year_df.index.min(), inplace=True)\n",
    "        \n",
    "    max_event = this_year_df[this_year_df.index == this_year_df.index.max()]['type'].values[0]\n",
    "\n",
    "    # drop the first element if it's the end of an event\n",
    "    if max_event == 'start':\n",
    "#         print('dropped start at end of season')\n",
    "        this_year_df.drop(index=this_year_df.index.max(), inplace=True)\n",
    "        \n",
    "    filtered_events.append(this_year_df)\n",
    "#     print('')\n",
    "#     print('')\n",
    "#     print('There are {} events in {}'.format(len(this_year_df) / 2, year))\n",
    "#     print(this_year_df)\n",
    "    \n",
    "    event_pairs = []\n",
    "    start_dates = pd.to_datetime(this_year_df[this_year_df['type'] == 'start'].index.values)\n",
    "    end_dates = pd.to_datetime(this_year_df[this_year_df['type'] == 'end'].index.values)\n",
    "    \n",
    "    for sd in start_dates:\n",
    "        min_duration = 20\n",
    "        min_end = None\n",
    "        for ed in end_dates:\n",
    "            if ((ed - sd).days < min_duration) & ((ed - sd).days > 0):\n",
    "                min_duration = (ed - sd).days\n",
    "                min_end = ed\n",
    "                \n",
    "        \n",
    "                \n",
    "        if (min_end is not None) & (min_duration < 20):\n",
    "            event_pairs.append((sd, min_end))\n",
    "                \n",
    "                \n",
    "\n",
    "    for pr in event_pairs:\n",
    "        print(pr)\n",
    "#         print(using_astype(d, end_dates))\n",
    "    print('___')\n",
    "\n"
   ]
  },
  {
   "cell_type": "code",
   "execution_count": null,
   "metadata": {},
   "outputs": [],
   "source": [
    "p = figure(plot_width=800, plot_height=400, x_axis_type='datetime')\n",
    "\n",
    "# p.circle(adj_starts.index, adj_starts['Q'], size=10, color=\"red\", \n",
    "#          alpha=0.5, legend_label='start'.format(len(foo)))\n",
    "# p.circle(adj_ends.index, adj_ends['Q'], size=10, color=\"blue\", \n",
    "#          alpha=0.5, legend_label='end'.format(len(foo)))\n",
    "\n",
    "p.circle(starts.index, starts['DAILY_FLOW'], size=10, color=\"red\", \n",
    "         alpha=0.5, legend_label='start'.format(len(foo)))\n",
    "p.circle(ends.index, ends['DAILY_FLOW'], size=10, color=\"blue\", \n",
    "         alpha=0.5, legend_label='end'.format(len(foo)))\n",
    "# p.line(input_sig.index, input_sig['f_sig'], color='blue')\n",
    "p.line(input_sig.index, input_sig['DAILY_FLOW'], color='blue')\n",
    "# p.line()\n",
    "# show the results\n",
    "show(p)"
   ]
  },
  {
   "cell_type": "markdown",
   "metadata": {},
   "source": [
    "###  Autoencoder Neural Network"
   ]
  },
  {
   "cell_type": "code",
   "execution_count": null,
   "metadata": {},
   "outputs": [],
   "source": [
    "seed(10)\n",
    "tensorflow.random.set_seed(10)\n",
    "act_func = 'elu'\n",
    "\n",
    "# Input layer:\n",
    "model=Sequential()\n",
    "# First hidden layer, connected to input vector X. \n",
    "model.add(Dense(10,activation=act_func,\n",
    "                kernel_initializer='glorot_uniform',\n",
    "                kernel_regularizer=regularizers.l2(0.0),\n",
    "                input_shape=(X_train.shape[1],)\n",
    "               )\n",
    "         )\n",
    "\n",
    "model.add(Dense(2,activation=act_func,\n",
    "                kernel_initializer='glorot_uniform'))\n",
    "\n",
    "model.add(Dense(10,activation=act_func,\n",
    "                kernel_initializer='glorot_uniform'))\n",
    "\n",
    "model.add(Dense(X_train.shape[1],\n",
    "                kernel_initializer='glorot_uniform'))\n",
    "\n",
    "model.compile(loss='mse',optimizer='adam')\n",
    "\n",
    "# Train model for 100 epochs, batch size of 10: \n",
    "NUM_EPOCHS=100\n",
    "BATCH_SIZE=10"
   ]
  },
  {
   "cell_type": "code",
   "execution_count": null,
   "metadata": {},
   "outputs": [],
   "source": [
    "history=model.fit(np.array(X_train),np.array(X_train),\n",
    "                  batch_size=BATCH_SIZE, \n",
    "                  epochs=NUM_EPOCHS,\n",
    "                  validation_split=0.05,\n",
    "                  verbose = 0)"
   ]
  },
  {
   "cell_type": "code",
   "execution_count": null,
   "metadata": {},
   "outputs": [],
   "source": [
    "plt.plot(history.history['loss'],\n",
    "         'b',\n",
    "         label='Training loss')\n",
    "plt.plot(history.history['val_loss'],\n",
    "         'r',\n",
    "         label='Validation loss')\n",
    "plt.legend(loc='upper right')\n",
    "plt.xlabel('Epochs')\n",
    "plt.ylabel('Loss, [mse]')\n",
    "plt.ylim([0,.1])\n",
    "plt.show()"
   ]
  },
  {
   "cell_type": "code",
   "execution_count": null,
   "metadata": {},
   "outputs": [],
   "source": [
    "X_pred = model.predict(np.array(X_train))\n",
    "X_pred = pd.DataFrame(X_pred, \n",
    "                      columns=X_train.columns)\n",
    "X_pred.index = X_train.index\n",
    "\n",
    "scored = pd.DataFrame(index=X_train.index)\n",
    "scored['Loss_mae'] = np.mean(np.abs(X_pred-X_train), axis = 1)\n",
    "plt.figure()\n",
    "sns.distplot(scored['Loss_mae'],\n",
    "             bins = 10, \n",
    "             kde= True,\n",
    "            color = 'blue');\n",
    "plt.xlim([0.0,.5])"
   ]
  },
  {
   "cell_type": "code",
   "execution_count": null,
   "metadata": {},
   "outputs": [],
   "source": [
    "X_pred = model.predict(np.array(X_test))\n",
    "X_pred = pd.DataFrame(X_pred, \n",
    "                      columns=X_test.columns)\n",
    "X_pred.index = X_test.index\n",
    "\n",
    "scored = pd.DataFrame(index=X_test.index)\n",
    "scored['Loss_mae'] = np.mean(np.abs(X_pred-X_test), axis = 1)\n",
    "scored['Threshold'] = 0.3\n",
    "scored['Anomaly'] = scored['Loss_mae'] > scored['Threshold']\n",
    "scored.head()"
   ]
  },
  {
   "cell_type": "code",
   "execution_count": null,
   "metadata": {},
   "outputs": [],
   "source": [
    "X_pred_train = model.predict(np.array(X_train))\n",
    "X_pred_train = pd.DataFrame(X_pred_train, \n",
    "                      columns=X_train.columns)\n",
    "X_pred_train.index = X_train.index\n",
    "\n",
    "scored_train = pd.DataFrame(index=X_train.index)\n",
    "scored_train['Loss_mae'] = np.mean(np.abs(X_pred_train-X_train), axis = 1)\n",
    "scored_train['Threshold'] = 0.3\n",
    "scored_train['Anomaly'] = scored_train['Loss_mae'] > scored_train['Threshold']\n",
    "scored = pd.concat([scored_train, scored])"
   ]
  },
  {
   "cell_type": "code",
   "execution_count": null,
   "metadata": {},
   "outputs": [],
   "source": [
    "scored[scored.index > pd.to_datetime('2016-06-01')].plot(logy=True,  figsize = (10,6), ylim = [1e-2,1e2], color = ['blue','red'])"
   ]
  },
  {
   "cell_type": "code",
   "execution_count": null,
   "metadata": {},
   "outputs": [],
   "source": [
    "\n",
    "event_times = np.where(scored['Anomaly'].values[:-1] != scored['Anomaly'].values[1:])[0]\n",
    "events = pd.merge(input_sig, scored.iloc[event_times,:], how='inner', \n",
    "                  left_index=True, right_index=True)\n",
    "\n",
    "starts = events[events['Anomaly'] == False]\n",
    "ends = events[events['Anomaly'] == True]\n"
   ]
  },
  {
   "cell_type": "code",
   "execution_count": null,
   "metadata": {},
   "outputs": [],
   "source": [
    "p = figure(plot_width=800, plot_height=400, x_axis_type='datetime')\n",
    "\n",
    "# p.circle(adj_starts.index, adj_starts['Q'], size=10, color=\"red\", \n",
    "#          alpha=0.5, legend_label='start'.format(len(foo)))\n",
    "# p.circle(adj_ends.index, adj_ends['Q'], size=10, color=\"blue\", \n",
    "#          alpha=0.5, legend_label='end'.format(len(foo)))\n",
    "\n",
    "p.circle(starts.index, starts['DAILY_FLOW'], size=10, color=\"red\", \n",
    "         alpha=0.5, legend_label='start'.format(len(foo)))\n",
    "p.circle(ends.index, ends['DAILY_FLOW'], size=10, color=\"blue\", \n",
    "         alpha=0.5, legend_label='end'.format(len(foo)))\n",
    "# p.line(input_sig.index, input_sig['f_sig'], color='blue')\n",
    "p.line(input_sig.index, input_sig['DAILY_FLOW'], color='blue')\n",
    "# p.line()\n",
    "# show the results\n",
    "show(p)"
   ]
  },
  {
   "cell_type": "code",
   "execution_count": null,
   "metadata": {},
   "outputs": [],
   "source": [
    "# dates_covered = []\n",
    "# fldr = os.path.join(IMG_DIR, test_stn)\n",
    "# for f in os.listdir(fldr):\n",
    "#     date = f[:4] + '-' + f[4:6] + '-' + f[6:8]\n",
    "#     dates_covered.append(date)\n",
    "\n",
    "# dates_covered = list(set(dates_covered))\n",
    "# unchecked = []\n",
    "# for ep in event_pairs:\n",
    "#     if (ep[0] not in dates_covered) & (ep[1] not in dates_covered):\n",
    "#         unchecked.append(ep)\n",
    "        \n",
    "# print(unchecked)"
   ]
  },
  {
   "cell_type": "code",
   "execution_count": null,
   "metadata": {},
   "outputs": [],
   "source": []
  },
  {
   "cell_type": "code",
   "execution_count": null,
   "metadata": {},
   "outputs": [],
   "source": []
  },
  {
   "cell_type": "code",
   "execution_count": null,
   "metadata": {},
   "outputs": [],
   "source": []
  }
 ],
 "metadata": {
  "kernelspec": {
   "display_name": "Python 3",
   "language": "python",
   "name": "python3"
  },
  "language_info": {
   "codemirror_mode": {
    "name": "ipython",
    "version": 3
   },
   "file_extension": ".py",
   "mimetype": "text/x-python",
   "name": "python",
   "nbconvert_exporter": "python",
   "pygments_lexer": "ipython3",
   "version": "3.6.9"
  }
 },
 "nbformat": 4,
 "nbformat_minor": 4
}
