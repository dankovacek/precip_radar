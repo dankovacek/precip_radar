{
 "cells": [
  {
   "cell_type": "markdown",
   "metadata": {},
   "source": [
    "\n",
    "Query the HYDAT database for runoff events in BC and Alberta that fall within 175km of a radar station in Western Canada.  \n",
    "\n",
    "Filter for watersheds with data after June 2007.  \n",
    "\n",
    "Filter for watersheds larger than 15 km^2 and smaller than 500 km^2.\n",
    "\n",
    "Output table like:\n",
    "\n",
    "| Station | ID | Drainage Area [$km^2$] | Start Date | End Date |\n",
    "|---|---|---|---|---|\n",
    "| Elaho | EHBN008 | 400 | 2007 | 2017 |\n"
   ]
  },
  {
   "cell_type": "code",
   "execution_count": 1,
   "metadata": {},
   "outputs": [
    {
     "data": {
      "text/html": [
       "\n",
       "    <div class=\"bk-root\">\n",
       "        <a href=\"https://bokeh.org\" target=\"_blank\" class=\"bk-logo bk-logo-small bk-logo-notebook\"></a>\n",
       "        <span id=\"1001\">Loading BokehJS ...</span>\n",
       "    </div>"
      ]
     },
     "metadata": {},
     "output_type": "display_data"
    },
    {
     "data": {
      "application/javascript": [
       "\n",
       "(function(root) {\n",
       "  function now() {\n",
       "    return new Date();\n",
       "  }\n",
       "\n",
       "  var force = true;\n",
       "\n",
       "  if (typeof root._bokeh_onload_callbacks === \"undefined\" || force === true) {\n",
       "    root._bokeh_onload_callbacks = [];\n",
       "    root._bokeh_is_loading = undefined;\n",
       "  }\n",
       "\n",
       "  var JS_MIME_TYPE = 'application/javascript';\n",
       "  var HTML_MIME_TYPE = 'text/html';\n",
       "  var EXEC_MIME_TYPE = 'application/vnd.bokehjs_exec.v0+json';\n",
       "  var CLASS_NAME = 'output_bokeh rendered_html';\n",
       "\n",
       "  /**\n",
       "   * Render data to the DOM node\n",
       "   */\n",
       "  function render(props, node) {\n",
       "    var script = document.createElement(\"script\");\n",
       "    node.appendChild(script);\n",
       "  }\n",
       "\n",
       "  /**\n",
       "   * Handle when an output is cleared or removed\n",
       "   */\n",
       "  function handleClearOutput(event, handle) {\n",
       "    var cell = handle.cell;\n",
       "\n",
       "    var id = cell.output_area._bokeh_element_id;\n",
       "    var server_id = cell.output_area._bokeh_server_id;\n",
       "    // Clean up Bokeh references\n",
       "    if (id != null && id in Bokeh.index) {\n",
       "      Bokeh.index[id].model.document.clear();\n",
       "      delete Bokeh.index[id];\n",
       "    }\n",
       "\n",
       "    if (server_id !== undefined) {\n",
       "      // Clean up Bokeh references\n",
       "      var cmd = \"from bokeh.io.state import curstate; print(curstate().uuid_to_server['\" + server_id + \"'].get_sessions()[0].document.roots[0]._id)\";\n",
       "      cell.notebook.kernel.execute(cmd, {\n",
       "        iopub: {\n",
       "          output: function(msg) {\n",
       "            var id = msg.content.text.trim();\n",
       "            if (id in Bokeh.index) {\n",
       "              Bokeh.index[id].model.document.clear();\n",
       "              delete Bokeh.index[id];\n",
       "            }\n",
       "          }\n",
       "        }\n",
       "      });\n",
       "      // Destroy server and session\n",
       "      var cmd = \"import bokeh.io.notebook as ion; ion.destroy_server('\" + server_id + \"')\";\n",
       "      cell.notebook.kernel.execute(cmd);\n",
       "    }\n",
       "  }\n",
       "\n",
       "  /**\n",
       "   * Handle when a new output is added\n",
       "   */\n",
       "  function handleAddOutput(event, handle) {\n",
       "    var output_area = handle.output_area;\n",
       "    var output = handle.output;\n",
       "\n",
       "    // limit handleAddOutput to display_data with EXEC_MIME_TYPE content only\n",
       "    if ((output.output_type != \"display_data\") || (!output.data.hasOwnProperty(EXEC_MIME_TYPE))) {\n",
       "      return\n",
       "    }\n",
       "\n",
       "    var toinsert = output_area.element.find(\".\" + CLASS_NAME.split(' ')[0]);\n",
       "\n",
       "    if (output.metadata[EXEC_MIME_TYPE][\"id\"] !== undefined) {\n",
       "      toinsert[toinsert.length - 1].firstChild.textContent = output.data[JS_MIME_TYPE];\n",
       "      // store reference to embed id on output_area\n",
       "      output_area._bokeh_element_id = output.metadata[EXEC_MIME_TYPE][\"id\"];\n",
       "    }\n",
       "    if (output.metadata[EXEC_MIME_TYPE][\"server_id\"] !== undefined) {\n",
       "      var bk_div = document.createElement(\"div\");\n",
       "      bk_div.innerHTML = output.data[HTML_MIME_TYPE];\n",
       "      var script_attrs = bk_div.children[0].attributes;\n",
       "      for (var i = 0; i < script_attrs.length; i++) {\n",
       "        toinsert[toinsert.length - 1].firstChild.setAttribute(script_attrs[i].name, script_attrs[i].value);\n",
       "      }\n",
       "      // store reference to server id on output_area\n",
       "      output_area._bokeh_server_id = output.metadata[EXEC_MIME_TYPE][\"server_id\"];\n",
       "    }\n",
       "  }\n",
       "\n",
       "  function register_renderer(events, OutputArea) {\n",
       "\n",
       "    function append_mime(data, metadata, element) {\n",
       "      // create a DOM node to render to\n",
       "      var toinsert = this.create_output_subarea(\n",
       "        metadata,\n",
       "        CLASS_NAME,\n",
       "        EXEC_MIME_TYPE\n",
       "      );\n",
       "      this.keyboard_manager.register_events(toinsert);\n",
       "      // Render to node\n",
       "      var props = {data: data, metadata: metadata[EXEC_MIME_TYPE]};\n",
       "      render(props, toinsert[toinsert.length - 1]);\n",
       "      element.append(toinsert);\n",
       "      return toinsert\n",
       "    }\n",
       "\n",
       "    /* Handle when an output is cleared or removed */\n",
       "    events.on('clear_output.CodeCell', handleClearOutput);\n",
       "    events.on('delete.Cell', handleClearOutput);\n",
       "\n",
       "    /* Handle when a new output is added */\n",
       "    events.on('output_added.OutputArea', handleAddOutput);\n",
       "\n",
       "    /**\n",
       "     * Register the mime type and append_mime function with output_area\n",
       "     */\n",
       "    OutputArea.prototype.register_mime_type(EXEC_MIME_TYPE, append_mime, {\n",
       "      /* Is output safe? */\n",
       "      safe: true,\n",
       "      /* Index of renderer in `output_area.display_order` */\n",
       "      index: 0\n",
       "    });\n",
       "  }\n",
       "\n",
       "  // register the mime type if in Jupyter Notebook environment and previously unregistered\n",
       "  if (root.Jupyter !== undefined) {\n",
       "    var events = require('base/js/events');\n",
       "    var OutputArea = require('notebook/js/outputarea').OutputArea;\n",
       "\n",
       "    if (OutputArea.prototype.mime_types().indexOf(EXEC_MIME_TYPE) == -1) {\n",
       "      register_renderer(events, OutputArea);\n",
       "    }\n",
       "  }\n",
       "\n",
       "  \n",
       "  if (typeof (root._bokeh_timeout) === \"undefined\" || force === true) {\n",
       "    root._bokeh_timeout = Date.now() + 5000;\n",
       "    root._bokeh_failed_load = false;\n",
       "  }\n",
       "\n",
       "  var NB_LOAD_WARNING = {'data': {'text/html':\n",
       "     \"<div style='background-color: #fdd'>\\n\"+\n",
       "     \"<p>\\n\"+\n",
       "     \"BokehJS does not appear to have successfully loaded. If loading BokehJS from CDN, this \\n\"+\n",
       "     \"may be due to a slow or bad network connection. Possible fixes:\\n\"+\n",
       "     \"</p>\\n\"+\n",
       "     \"<ul>\\n\"+\n",
       "     \"<li>re-rerun `output_notebook()` to attempt to load from CDN again, or</li>\\n\"+\n",
       "     \"<li>use INLINE resources instead, as so:</li>\\n\"+\n",
       "     \"</ul>\\n\"+\n",
       "     \"<code>\\n\"+\n",
       "     \"from bokeh.resources import INLINE\\n\"+\n",
       "     \"output_notebook(resources=INLINE)\\n\"+\n",
       "     \"</code>\\n\"+\n",
       "     \"</div>\"}};\n",
       "\n",
       "  function display_loaded() {\n",
       "    var el = document.getElementById(\"1001\");\n",
       "    if (el != null) {\n",
       "      el.textContent = \"BokehJS is loading...\";\n",
       "    }\n",
       "    if (root.Bokeh !== undefined) {\n",
       "      if (el != null) {\n",
       "        el.textContent = \"BokehJS \" + root.Bokeh.version + \" successfully loaded.\";\n",
       "      }\n",
       "    } else if (Date.now() < root._bokeh_timeout) {\n",
       "      setTimeout(display_loaded, 100)\n",
       "    }\n",
       "  }\n",
       "\n",
       "\n",
       "  function run_callbacks() {\n",
       "    try {\n",
       "      root._bokeh_onload_callbacks.forEach(function(callback) {\n",
       "        if (callback != null)\n",
       "          callback();\n",
       "      });\n",
       "    } finally {\n",
       "      delete root._bokeh_onload_callbacks\n",
       "    }\n",
       "    console.debug(\"Bokeh: all callbacks have finished\");\n",
       "  }\n",
       "\n",
       "  function load_libs(css_urls, js_urls, callback) {\n",
       "    if (css_urls == null) css_urls = [];\n",
       "    if (js_urls == null) js_urls = [];\n",
       "\n",
       "    root._bokeh_onload_callbacks.push(callback);\n",
       "    if (root._bokeh_is_loading > 0) {\n",
       "      console.debug(\"Bokeh: BokehJS is being loaded, scheduling callback at\", now());\n",
       "      return null;\n",
       "    }\n",
       "    if (js_urls == null || js_urls.length === 0) {\n",
       "      run_callbacks();\n",
       "      return null;\n",
       "    }\n",
       "    console.debug(\"Bokeh: BokehJS not loaded, scheduling load and callback at\", now());\n",
       "    root._bokeh_is_loading = css_urls.length + js_urls.length;\n",
       "\n",
       "    function on_load() {\n",
       "      root._bokeh_is_loading--;\n",
       "      if (root._bokeh_is_loading === 0) {\n",
       "        console.debug(\"Bokeh: all BokehJS libraries/stylesheets loaded\");\n",
       "        run_callbacks()\n",
       "      }\n",
       "    }\n",
       "\n",
       "    function on_error() {\n",
       "      console.error(\"failed to load \" + url);\n",
       "    }\n",
       "\n",
       "    for (var i = 0; i < css_urls.length; i++) {\n",
       "      var url = css_urls[i];\n",
       "      const element = document.createElement(\"link\");\n",
       "      element.onload = on_load;\n",
       "      element.onerror = on_error;\n",
       "      element.rel = \"stylesheet\";\n",
       "      element.type = \"text/css\";\n",
       "      element.href = url;\n",
       "      console.debug(\"Bokeh: injecting link tag for BokehJS stylesheet: \", url);\n",
       "      document.body.appendChild(element);\n",
       "    }\n",
       "\n",
       "    for (var i = 0; i < js_urls.length; i++) {\n",
       "      var url = js_urls[i];\n",
       "      var element = document.createElement('script');\n",
       "      element.onload = on_load;\n",
       "      element.onerror = on_error;\n",
       "      element.async = false;\n",
       "      element.src = url;\n",
       "      console.debug(\"Bokeh: injecting script tag for BokehJS library: \", url);\n",
       "      document.head.appendChild(element);\n",
       "    }\n",
       "  };var element = document.getElementById(\"1001\");\n",
       "  if (element == null) {\n",
       "    console.error(\"Bokeh: ERROR: autoload.js configured with elementid '1001' but no matching script tag was found. \")\n",
       "    return false;\n",
       "  }\n",
       "\n",
       "  function inject_raw_css(css) {\n",
       "    const element = document.createElement(\"style\");\n",
       "    element.appendChild(document.createTextNode(css));\n",
       "    document.body.appendChild(element);\n",
       "  }\n",
       "\n",
       "  \n",
       "  var js_urls = [\"https://cdn.pydata.org/bokeh/release/bokeh-1.4.0.min.js\", \"https://cdn.pydata.org/bokeh/release/bokeh-widgets-1.4.0.min.js\", \"https://cdn.pydata.org/bokeh/release/bokeh-tables-1.4.0.min.js\", \"https://cdn.pydata.org/bokeh/release/bokeh-gl-1.4.0.min.js\"];\n",
       "  var css_urls = [];\n",
       "  \n",
       "\n",
       "  var inline_js = [\n",
       "    function(Bokeh) {\n",
       "      Bokeh.set_log_level(\"info\");\n",
       "    },\n",
       "    function(Bokeh) {\n",
       "    \n",
       "    \n",
       "    }\n",
       "  ];\n",
       "\n",
       "  function run_inline_js() {\n",
       "    \n",
       "    if (root.Bokeh !== undefined || force === true) {\n",
       "      \n",
       "    for (var i = 0; i < inline_js.length; i++) {\n",
       "      inline_js[i].call(root, root.Bokeh);\n",
       "    }\n",
       "    if (force === true) {\n",
       "        display_loaded();\n",
       "      }} else if (Date.now() < root._bokeh_timeout) {\n",
       "      setTimeout(run_inline_js, 100);\n",
       "    } else if (!root._bokeh_failed_load) {\n",
       "      console.log(\"Bokeh: BokehJS failed to load within specified timeout.\");\n",
       "      root._bokeh_failed_load = true;\n",
       "    } else if (force !== true) {\n",
       "      var cell = $(document.getElementById(\"1001\")).parents('.cell').data().cell;\n",
       "      cell.output_area.append_execute_result(NB_LOAD_WARNING)\n",
       "    }\n",
       "\n",
       "  }\n",
       "\n",
       "  if (root._bokeh_is_loading === 0) {\n",
       "    console.debug(\"Bokeh: BokehJS loaded, going straight to plotting\");\n",
       "    run_inline_js();\n",
       "  } else {\n",
       "    load_libs(css_urls, js_urls, function() {\n",
       "      console.debug(\"Bokeh: BokehJS plotting callback run at\", now());\n",
       "      run_inline_js();\n",
       "    });\n",
       "  }\n",
       "}(window));"
      ],
      "application/vnd.bokehjs_load.v0+json": "\n(function(root) {\n  function now() {\n    return new Date();\n  }\n\n  var force = true;\n\n  if (typeof root._bokeh_onload_callbacks === \"undefined\" || force === true) {\n    root._bokeh_onload_callbacks = [];\n    root._bokeh_is_loading = undefined;\n  }\n\n  \n\n  \n  if (typeof (root._bokeh_timeout) === \"undefined\" || force === true) {\n    root._bokeh_timeout = Date.now() + 5000;\n    root._bokeh_failed_load = false;\n  }\n\n  var NB_LOAD_WARNING = {'data': {'text/html':\n     \"<div style='background-color: #fdd'>\\n\"+\n     \"<p>\\n\"+\n     \"BokehJS does not appear to have successfully loaded. If loading BokehJS from CDN, this \\n\"+\n     \"may be due to a slow or bad network connection. Possible fixes:\\n\"+\n     \"</p>\\n\"+\n     \"<ul>\\n\"+\n     \"<li>re-rerun `output_notebook()` to attempt to load from CDN again, or</li>\\n\"+\n     \"<li>use INLINE resources instead, as so:</li>\\n\"+\n     \"</ul>\\n\"+\n     \"<code>\\n\"+\n     \"from bokeh.resources import INLINE\\n\"+\n     \"output_notebook(resources=INLINE)\\n\"+\n     \"</code>\\n\"+\n     \"</div>\"}};\n\n  function display_loaded() {\n    var el = document.getElementById(\"1001\");\n    if (el != null) {\n      el.textContent = \"BokehJS is loading...\";\n    }\n    if (root.Bokeh !== undefined) {\n      if (el != null) {\n        el.textContent = \"BokehJS \" + root.Bokeh.version + \" successfully loaded.\";\n      }\n    } else if (Date.now() < root._bokeh_timeout) {\n      setTimeout(display_loaded, 100)\n    }\n  }\n\n\n  function run_callbacks() {\n    try {\n      root._bokeh_onload_callbacks.forEach(function(callback) {\n        if (callback != null)\n          callback();\n      });\n    } finally {\n      delete root._bokeh_onload_callbacks\n    }\n    console.debug(\"Bokeh: all callbacks have finished\");\n  }\n\n  function load_libs(css_urls, js_urls, callback) {\n    if (css_urls == null) css_urls = [];\n    if (js_urls == null) js_urls = [];\n\n    root._bokeh_onload_callbacks.push(callback);\n    if (root._bokeh_is_loading > 0) {\n      console.debug(\"Bokeh: BokehJS is being loaded, scheduling callback at\", now());\n      return null;\n    }\n    if (js_urls == null || js_urls.length === 0) {\n      run_callbacks();\n      return null;\n    }\n    console.debug(\"Bokeh: BokehJS not loaded, scheduling load and callback at\", now());\n    root._bokeh_is_loading = css_urls.length + js_urls.length;\n\n    function on_load() {\n      root._bokeh_is_loading--;\n      if (root._bokeh_is_loading === 0) {\n        console.debug(\"Bokeh: all BokehJS libraries/stylesheets loaded\");\n        run_callbacks()\n      }\n    }\n\n    function on_error() {\n      console.error(\"failed to load \" + url);\n    }\n\n    for (var i = 0; i < css_urls.length; i++) {\n      var url = css_urls[i];\n      const element = document.createElement(\"link\");\n      element.onload = on_load;\n      element.onerror = on_error;\n      element.rel = \"stylesheet\";\n      element.type = \"text/css\";\n      element.href = url;\n      console.debug(\"Bokeh: injecting link tag for BokehJS stylesheet: \", url);\n      document.body.appendChild(element);\n    }\n\n    for (var i = 0; i < js_urls.length; i++) {\n      var url = js_urls[i];\n      var element = document.createElement('script');\n      element.onload = on_load;\n      element.onerror = on_error;\n      element.async = false;\n      element.src = url;\n      console.debug(\"Bokeh: injecting script tag for BokehJS library: \", url);\n      document.head.appendChild(element);\n    }\n  };var element = document.getElementById(\"1001\");\n  if (element == null) {\n    console.error(\"Bokeh: ERROR: autoload.js configured with elementid '1001' but no matching script tag was found. \")\n    return false;\n  }\n\n  function inject_raw_css(css) {\n    const element = document.createElement(\"style\");\n    element.appendChild(document.createTextNode(css));\n    document.body.appendChild(element);\n  }\n\n  \n  var js_urls = [\"https://cdn.pydata.org/bokeh/release/bokeh-1.4.0.min.js\", \"https://cdn.pydata.org/bokeh/release/bokeh-widgets-1.4.0.min.js\", \"https://cdn.pydata.org/bokeh/release/bokeh-tables-1.4.0.min.js\", \"https://cdn.pydata.org/bokeh/release/bokeh-gl-1.4.0.min.js\"];\n  var css_urls = [];\n  \n\n  var inline_js = [\n    function(Bokeh) {\n      Bokeh.set_log_level(\"info\");\n    },\n    function(Bokeh) {\n    \n    \n    }\n  ];\n\n  function run_inline_js() {\n    \n    if (root.Bokeh !== undefined || force === true) {\n      \n    for (var i = 0; i < inline_js.length; i++) {\n      inline_js[i].call(root, root.Bokeh);\n    }\n    if (force === true) {\n        display_loaded();\n      }} else if (Date.now() < root._bokeh_timeout) {\n      setTimeout(run_inline_js, 100);\n    } else if (!root._bokeh_failed_load) {\n      console.log(\"Bokeh: BokehJS failed to load within specified timeout.\");\n      root._bokeh_failed_load = true;\n    } else if (force !== true) {\n      var cell = $(document.getElementById(\"1001\")).parents('.cell').data().cell;\n      cell.output_area.append_execute_result(NB_LOAD_WARNING)\n    }\n\n  }\n\n  if (root._bokeh_is_loading === 0) {\n    console.debug(\"Bokeh: BokehJS loaded, going straight to plotting\");\n    run_inline_js();\n  } else {\n    load_libs(css_urls, js_urls, function() {\n      console.debug(\"Bokeh: BokehJS plotting callback run at\", now());\n      run_inline_js();\n    });\n  }\n}(window));"
     },
     "metadata": {},
     "output_type": "display_data"
    }
   ],
   "source": [
    "import pandas as pd\n",
    "import numpy as np\n",
    "import os \n",
    "import sys\n",
    "import math\n",
    "import utm\n",
    "import time\n",
    "\n",
    "import json\n",
    "import geopandas as gpd\n",
    "import fiona\n",
    "from geopy import distance\n",
    "\n",
    "from numba import jit\n",
    "\n",
    "from shapely.geometry import shape, mapping\n",
    "\n",
    "from PIL import Image\n",
    "from PIL import ImageFile\n",
    "ImageFile.LOAD_TRUNCATED_IMAGES = True\n",
    "\n",
    "from bokeh.plotting import ColumnDataSource, output_notebook\n",
    "from bokeh.transform import factor_cmap, factor_mark\n",
    "from bokeh.palettes import Spectral3\n",
    "from bokeh.layouts import gridplot\n",
    "\n",
    "from radar_scrape import get_radar_img_urls, request_img_files\n",
    "from get_station_data import get_daily_runoff\n",
    "output_notebook()"
   ]
  },
  {
   "cell_type": "code",
   "execution_count": 2,
   "metadata": {},
   "outputs": [],
   "source": [
    "BASE_DIR = os.path.dirname(os.path.dirname(os.path.dirname(os.path.abspath(''))))\n",
    "DB_DIR = os.path.join(BASE_DIR, 'code/hydat_db')\n",
    "PROJECT_DIR = os.path.abspath('')\n",
    "IMG_DIR = os.path.join(PROJECT_DIR, 'data/radar_img')\n",
    "RADAR_IMG_DIR = os.path.join(PROJECT_DIR, 'data/sorted_radar_images')"
   ]
  },
  {
   "cell_type": "code",
   "execution_count": 3,
   "metadata": {},
   "outputs": [],
   "source": [
    "stations_df = pd.read_csv(DB_DIR + '/WSC_Stations_Master.csv')\n",
    "stations_df['RADAR_Overlap'] = stations_df['Year To'].astype(int) - 2007"
   ]
  },
  {
   "cell_type": "code",
   "execution_count": 4,
   "metadata": {},
   "outputs": [
    {
     "name": "stdout",
     "output_type": "stream",
     "text": [
      "Index(['Station Number', 'Station Name', 'Province', 'Status', 'Latitude',\n",
      "       'Longitude', 'Year From', 'Year To', 'Gross Drainage Area (km2)',\n",
      "       'Effective Drainage Area (km2)', 'Regulation', 'Data Type',\n",
      "       'Operation Schedule', 'Sediment', 'RHBN', 'Real-Time', 'Datum Name',\n",
      "       'Publishing Office', 'Operating Agency', 'Contributed', 'Elevation',\n",
      "       'RADAR_Overlap'],\n",
      "      dtype='object')\n"
     ]
    }
   ],
   "source": [
    "print(stations_df.columns)"
   ]
  },
  {
   "cell_type": "code",
   "execution_count": 5,
   "metadata": {},
   "outputs": [],
   "source": [
    "stations_filtered = stations_df[stations_df['RADAR_Overlap'] > 0]"
   ]
  },
  {
   "cell_type": "code",
   "execution_count": 6,
   "metadata": {},
   "outputs": [],
   "source": [
    "stations_filtered = stations_filtered[stations_filtered['Regulation'] == 'N']"
   ]
  },
  {
   "cell_type": "code",
   "execution_count": 7,
   "metadata": {},
   "outputs": [],
   "source": [
    "stations_filtered.rename(columns={'Gross Drainage Area (km2)': 'DA'}, inplace=True)\n",
    "stations_filtered = stations_filtered[(stations_filtered['Province'] == 'BC') | (stations_filtered['Province'] == 'AB')]"
   ]
  },
  {
   "cell_type": "code",
   "execution_count": 8,
   "metadata": {},
   "outputs": [],
   "source": [
    "# define radar sites\n",
    "radar_sites = {'CASAG': {'lat_lon': [49.0580516, -122.470667], # radar location code, lat/lon\n",
    "                       'scale': 1,\n",
    "                      'alt_name': 'Aldergrove',\n",
    "                        }, # km/pixel                       \n",
    "               'CASPG': {'lat_lon': [53.916943, -122.749443], # radar location code, lat/lon\n",
    "                       'scale': 1,\n",
    "                      'alt_name': 'Prince George',}, # km/pixel}, # km/pixel\n",
    "               'CASSS': {'lat_lon': [50.271790, -119.276505], # radar location code, lat/lon\n",
    "                       'scale': 1,\n",
    "                      'alt_name': 'Silver Star',}, # km/pixel}, # km/pixel\n",
    "               'CASSI': {'lat_lon': [48.407326, -123.329773], # radar location code, lat/lon\n",
    "                       'scale': 1,\n",
    "                      'alt_name': 'Victoria',}, # km/pixel}, # km/pixel\n",
    "               'CASSM': {'lat_lon': [51.206092, -113.399426],\n",
    "                        'scale': 1,\n",
    "                        'alt_name': 'Strathmore'},\n",
    "              }\n",
    "\n",
    "def find_closest_radar_stn(row):\n",
    "    \"\"\"\n",
    "    To retrieve radar images, we need to find the closest radar location\n",
    "    to the station of interest.  \n",
    "    Input the station number,\n",
    "    returns the location code of the nearest radar station.\n",
    "    \"\"\"\n",
    "    stn_data = row['Station Number']\n",
    "    \n",
    "    s1 = (row['Latitude'], row['Longitude'])\n",
    "    min_dist = 1E6\n",
    "    closest_stn = None\n",
    "    for site in radar_sites.keys():\n",
    "\n",
    "        s2 = [*radar_sites[site]['lat_lon']]        \n",
    "\n",
    "        this_dist = distance.distance(s2, s1).km\n",
    "    \n",
    "        if this_dist < min_dist:\n",
    "            min_dist = this_dist\n",
    "            closest_stn = site\n",
    "        \n",
    "    return closest_stn\n",
    "\n",
    "def calc_distance(row):\n",
    "    wsc_stn_coords = (row['Latitude'], row['Longitude'])\n",
    "    radar = row['Closest_radar']\n",
    "    radar_coords = radar_sites[radar]['lat_lon']\n",
    "    return distance.distance(radar_coords, wsc_stn_coords).km\n",
    "    \n",
    "    "
   ]
  },
  {
   "cell_type": "code",
   "execution_count": 9,
   "metadata": {},
   "outputs": [
    {
     "name": "stdout",
     "output_type": "stream",
     "text": [
      "601\n"
     ]
    }
   ],
   "source": [
    "# filter for stations within 200 km of the radar <sigh>\n",
    "stations_filtered['Closest_radar'] = stations_filtered.apply(lambda row: find_closest_radar_stn(row), axis=1)\n",
    "stations_filtered['Dist_to_radar'] = stations_filtered.apply(lambda row: calc_distance(row), axis=1)\n",
    "# print(stations_filtered['Dist_to_radar'].head())\n",
    "print(len(stations_filtered))\n"
   ]
  },
  {
   "cell_type": "code",
   "execution_count": 10,
   "metadata": {},
   "outputs": [
    {
     "name": "stdout",
     "output_type": "stream",
     "text": [
      "204\n"
     ]
    }
   ],
   "source": [
    "stations_filtered = stations_filtered[stations_filtered['Dist_to_radar'] < 175]\n",
    "print(len(stations_filtered))"
   ]
  },
  {
   "cell_type": "code",
   "execution_count": 11,
   "metadata": {},
   "outputs": [],
   "source": [
    "stn_df = stations_filtered[np.isfinite(stations_filtered['DA'].astype(float))]\n",
    "stn_df = stn_df[stn_df['DA'].astype(float) >= 10]\n",
    "stn_df = stn_df[stn_df['DA'].astype(float) < 1000].sort_values('DA')"
   ]
  },
  {
   "cell_type": "code",
   "execution_count": 12,
   "metadata": {},
   "outputs": [
    {
     "name": "stdout",
     "output_type": "stream",
     "text": [
      "After filtering, there are 124 candidate stations.\n"
     ]
    }
   ],
   "source": [
    "df = stn_df[['Province', 'Station Number', 'Station Name', 'DA', 'Elevation', 'Latitude', 'Longitude', 'RADAR_Overlap']]\n",
    "print('After filtering, there are {} candidate stations.'.format(len(stn_df)))"
   ]
  },
  {
   "cell_type": "code",
   "execution_count": 468,
   "metadata": {},
   "outputs": [
    {
     "name": "stdout",
     "output_type": "stream",
     "text": [
      "Station 05CC011 (WASKASOO CREEK AT RED DEER) has a DA of 487.0 km^2\n"
     ]
    }
   ],
   "source": [
    "st = 98\n",
    "#71\n",
    "\n",
    "test_stn = stn_df['Station Number'].iloc[st]\n",
    "test_stn_info = stn_df[stn_df['Station Number'] == test_stn]\n",
    "\n",
    "stn_da = stn_df['DA'].iloc[st]\n",
    "stn_name = stn_df['Station Name'].iloc[st]\n",
    "print('Station {} ({}) has a DA of {} km^2'.format(test_stn, stn_name, stn_da))"
   ]
  },
  {
   "cell_type": "code",
   "execution_count": 469,
   "metadata": {},
   "outputs": [],
   "source": [
    "df = get_daily_runoff(test_stn)\n",
    "df['Year'] = df.index.year\n",
    "df['Month'] = df.index.month"
   ]
  },
  {
   "cell_type": "code",
   "execution_count": 470,
   "metadata": {},
   "outputs": [],
   "source": [
    "# filter by minimum radar date\n",
    "df = df[df.index > pd.to_datetime('2007-05-31')]"
   ]
  },
  {
   "cell_type": "code",
   "execution_count": 471,
   "metadata": {},
   "outputs": [],
   "source": [
    "df['Date'] = df.index.values"
   ]
  },
  {
   "cell_type": "code",
   "execution_count": 472,
   "metadata": {},
   "outputs": [
    {
     "data": {
      "text/plain": [
       "<matplotlib.axes._subplots.AxesSubplot at 0x7f25238a2a58>"
      ]
     },
     "execution_count": 472,
     "metadata": {},
     "output_type": "execute_result"
    },
    {
     "data": {
      "image/png": "[encoded data removed]",
      "text/plain": [
       "<Figure size 432x288 with 1 Axes>"
      ]
     },
     "metadata": {
      "needs_background": "light"
     },
     "output_type": "display_data"
    }
   ],
   "source": [
    "df[df['Year'] > 2013].plot('Date', 'DAILY_FLOW')"
   ]
  },
  {
   "cell_type": "code",
   "execution_count": 473,
   "metadata": {},
   "outputs": [],
   "source": [
    "# from peak_detection import find_peaks"
   ]
  },
  {
   "cell_type": "code",
   "execution_count": 474,
   "metadata": {},
   "outputs": [],
   "source": [
    "def find_peaks(data, lag=7, threshold=500, influence=0.5):\n",
    "    # Settings (the ones below are examples: choose what is best for your data)\n",
    "#     lag = 5         # lag 5 for the smoothing functions\n",
    "#     threshold = 3.5  # 3.5 standard deviations for signal\n",
    "#     influence = 0.5  # between 0 and 1, where 1 is normal influence, 0.5 is half\n",
    "    # Initialize variables\n",
    "    signals = np.zeros(len(data))            # Initialize signal results\n",
    "    filteredY = np.empty(len(data))\n",
    "    filteredY[:lag] = data[:lag]             # Initialize filtered series\n",
    "    avgFilter = [0]                          # Initialize average filter\n",
    "    stdFilter = [0]                          # Initialize std. filter\n",
    "    avgFilter = {lag: np.mean(data[:lag])}      # Initialize first value\n",
    "    stdFilter = {lag: np.std(data[:lag])}     # Initialize first value\n",
    "    \n",
    "    for i in range(lag + 1, len(data)):\n",
    "        d = data[i]\n",
    "        \n",
    "        af = avgFilter[i-1]\n",
    "        sf = stdFilter[i-1]\n",
    "        \n",
    "        if abs(d - af) > threshold * sf:\n",
    "            if d > af:\n",
    "                signals[i] = 1                     # Positive signal\n",
    "            else:\n",
    "                signals[i] = -1                    # Negative signal\n",
    "\n",
    "            \n",
    "            filteredY[i] = influence*d + (1-influence)*filteredY[i-1]\n",
    "        else:\n",
    "            signals[i] = 0                        # No signal\n",
    "            filteredY[i] = 0\n",
    "        \n",
    "        \n",
    "        # Adjust the filters\n",
    "        avgFilter[i] = np.mean(filteredY[i-lag:i])\n",
    "        stdFilter[i] = np.std(filteredY[i-lag:i])\n",
    "        \n",
    "    return signals, filteredY\n",
    "\n",
    "n_test = 500\n",
    "\n",
    "dats = list(df['DAILY_FLOW'].to_numpy())\n",
    "sigs, f_dat = find_peaks(dats, influence=0.75, lag=7, threshold=5)"
   ]
  },
  {
   "cell_type": "code",
   "execution_count": 475,
   "metadata": {},
   "outputs": [
    {
     "data": {
      "text/html": [
       "\n",
       "\n",
       "\n",
       "\n",
       "\n",
       "\n",
       "  <div class=\"bk-root\" id=\"2c1d1d9f-250d-4d77-a6b0-40731ae4eafe\" data-root-id=\"217232\"></div>\n"
      ]
     },
     "metadata": {},
     "output_type": "display_data"
    },
    {
     "data": {
      "application/javascript": [
       "(function(root) {\n",
       "  function embed_document(root) {\n",
       "    \n",
       "  var docs_json = {\"8de97c16-c969-41cc-8fc3-c2cb546436bb\":{\"roots\":{\"references\":[{\"attributes\":{\"below\":[{\"id\":\"217241\",\"type\":\"DatetimeAxis\"}],\"center\":[{\"id\":\"217245\",\"type\":\"Grid\"},{\"id\":\"217250\",\"type\":\"Grid\"},{\"id\":\"217288\",\"type\":\"Legend\"}],\"left\":[{\"id\":\"217246\",\"type\":\"LinearAxis\"}],\"plot_height\":400,\"plot_width\":800,\"renderers\":[{\"id\":\"217267\",\"type\":\"GlyphRenderer\"},{\"id\":\"217293\",\"type\":\"GlyphRenderer\"}],\"title\":{\"id\":\"217269\",\"type\":\"Title\"},\"toolbar\":{\"id\":\"217257\",\"type\":\"Toolbar\"},\"x_range\":{\"id\":\"217233\",\"type\":\"DataRange1d\"},\"x_scale\":{\"id\":\"217237\",\"type\":\"LinearScale\"},\"y_range\":{\"id\":\"217235\",\"type\":\"DataRange1d\"},\"y_scale\":{\"id\":\"217239\",\"type\":\"LinearScale\"}},\"id\":\"217232\",\"subtype\":\"Figure\",\"type\":\"Plot\"},{\"attributes\":{\"overlay\":{\"id\":\"217287\",\"type\":\"BoxAnnotation\"}},\"id\":\"217253\",\"type\":\"BoxZoomTool\"},{\"attributes\":{},\"id\":\"217256\",\"type\":\"HelpTool\"},{\"attributes\":{\"months\":[0,4,8]},\"id\":\"217284\",\"type\":\"MonthsTicker\"},{\"attributes\":{\"mantissas\":[1,2,5],\"max_interval\":500.0,\"num_minor_ticks\":0},\"id\":\"217275\",\"type\":\"AdaptiveTicker\"},{\"attributes\":{\"days\":[1,2,3,4,5,6,7,8,9,10,11,12,13,14,15,16,17,18,19,20,21,22,23,24,25,26,27,28,29,30,31]},\"id\":\"217278\",\"type\":\"DaysTicker\"},{\"attributes\":{\"months\":[0,6]},\"id\":\"217285\",\"type\":\"MonthsTicker\"},{\"attributes\":{},\"id\":\"217286\",\"type\":\"YearsTicker\"},{\"attributes\":{\"bottom_units\":\"screen\",\"fill_alpha\":{\"value\":0.5},\"fill_color\":{\"value\":\"lightgrey\"},\"left_units\":\"screen\",\"level\":\"overlay\",\"line_alpha\":{\"value\":1.0},\"line_color\":{\"value\":\"black\"},\"line_dash\":[4,4],\"line_width\":{\"value\":2},\"render_mode\":\"css\",\"right_units\":\"screen\",\"top_units\":\"screen\"},\"id\":\"217287\",\"type\":\"BoxAnnotation\"},{\"attributes\":{\"num_minor_ticks\":5,\"tickers\":[{\"id\":\"217275\",\"type\":\"AdaptiveTicker\"},{\"id\":\"217276\",\"type\":\"AdaptiveTicker\"},{\"id\":\"217277\",\"type\":\"AdaptiveTicker\"},{\"id\":\"217278\",\"type\":\"DaysTicker\"},{\"id\":\"217279\",\"type\":\"DaysTicker\"},{\"id\":\"217280\",\"type\":\"DaysTicker\"},{\"id\":\"217281\",\"type\":\"DaysTicker\"},{\"id\":\"217282\",\"type\":\"MonthsTicker\"},{\"id\":\"217283\",\"type\":\"MonthsTicker\"},{\"id\":\"217284\",\"type\":\"MonthsTicker\"},{\"id\":\"217285\",\"type\":\"MonthsTicker\"},{\"id\":\"217286\",\"type\":\"YearsTicker\"}]},\"id\":\"217242\",\"type\":\"DatetimeTicker\"},{\"attributes\":{\"items\":[{\"id\":\"217289\",\"type\":\"LegendItem\"}]},\"id\":\"217288\",\"type\":\"Legend\"},{\"attributes\":{\"label\":{\"value\":\"576 pts\"},\"renderers\":[{\"id\":\"217267\",\"type\":\"GlyphRenderer\"}]},\"id\":\"217289\",\"type\":\"LegendItem\"},{\"attributes\":{\"dimension\":1,\"ticker\":{\"id\":\"217247\",\"type\":\"BasicTicker\"}},\"id\":\"217250\",\"type\":\"Grid\"},{\"attributes\":{\"ticker\":{\"id\":\"217242\",\"type\":\"DatetimeTicker\"}},\"id\":\"217245\",\"type\":\"Grid\"},{\"attributes\":{\"formatter\":{\"id\":\"217271\",\"type\":\"DatetimeTickFormatter\"},\"ticker\":{\"id\":\"217242\",\"type\":\"DatetimeTicker\"}},\"id\":\"217241\",\"type\":\"DatetimeAxis\"},{\"attributes\":{\"callback\":null,\"data\":{\"x\":{\"__ndarray__\":\"AADATUkucUIAAICzmy5xQgAAQBnuLnFCAAAAf0AvcUIAAMDkki9xQgAAgErlL3FCAABAsDcwcUIAAAAWijBxQgAAwHvcMHFCAACA4S4xcUIAAEBHgTFxQgAAAK3TMXFCAADAEiYycUIAAIB4eDJxQgAAQN7KMnFCAAAARB0zcUIAAMCpbzNxQgAAgA/CM3FCAABAdRQ0cUIAAADbZjRxQgAAwEC5NHFCAACApgs1cUIAAEAMXjVxQgAAAHKwNXFCAADA1wI2cUIAAIA9VTZxQgAAQKOnNnFCAAAACfo2cUIAAMBuTDdxQgAAgNSeN3FCAABAOvE3cUIAAACgQzhxQgAAwAWWOHFCAACAa+g4cUIAAEDROjlxQgAAADeNOXFCAADAnN85cUIAAIACMjpxQgAAQGiEOnFCAAAAztY6cUIAAMAzKTtxQgAAgJl7O3FCAABA/807cUIAAABlIDxxQgAAwMpyPHFCAACAMMU8cUIAAECWFz1xQgAAAPxpPXFCAADAYbw9cUIAAIDHDj5xQgAAQC1hPnFCAAAAk7M+cUIAAMD4BT9xQgAAgF5YP3FCAABAxKo/cUIAAAAq/T9xQgAAwI9PQHFCAACA9aFAcUIAAEBb9EBxQgAAAMFGQXFCAADAJplBcUIAAICM60FxQgAAQPI9QnFCAAAAWJBCcUIAAMC94kJxQgAAgCM1Q3FCAABAiYdDcUIAAADv2UNxQgAAwFQsRHFCAACAun5EcUIAAEAg0URxQgAAAIYjRXFCAADA63VFcUIAAIBRyEVxQgAAQLcaRnFCAAAAHW1GcUIAAMCCv0ZxQgAAgOgRR3FCAABATmRHcUIAAAC0tkdxQgAAwBkJSHFCAACAf1tIcUIAAEDlrUhxQgAAAEsASXFCAADAsFJJcUIAAIAWpUlxQgAAQHz3SXFCAAAA4klKcUIAAMBHnEpxQgAAgK3uSnFCAABAE0FLcUIAAAB5k0txQgAAwN7lS3FCAACARDhMcUIAAECqikxxQgAAABDdTHFCAADAdS9NcUIAAIDbgU1xQgAAQEHUTXFCAAAApyZOcUIAAMAMeU5xQgAAgHLLTnFCAABA2B1PcUIAAAA+cE9xQgAAwKPCT3FCAACACRVQcUIAAEBvZ1BxQgAAANW5UHFCAADAOgxRcUIAAICgXlFxQgAAQAaxUXFCAAAAbANScUIAAMDRVVJxQgAAgDeoUnFCAABAnfpScUIAAAADTVNxQgAAwGifU3FCAACAzvFTcUIAAEA0RFRxQgAAAJqWVHFCAADA/+hUcUIAAIBlO1VxQgAAQMuNVXFCAAAAMeBVcUIAAMCWMlZxQgAAgPyEVnFCAABAYtdWcUIAAADIKVdxQgAAwC18V3FCAACAk85XcUIAAED5IFhxQgAAAF9zWHFCAADAxMVYcUIAAIAqGFlxQgAAQJBqWXFCAAAA9rxZcUIAAMBbD1pxQgAAgMFhWnFCAABAJ7RacUIAAACNBltxQgAAwPJYW3FCAACAWKtbcUIAAEC+/VtxQgAAACRQXHFCAADAiaJccUIAAIDv9FxxQgAAQFVHXXFCAAAAu5ldcUIAAMAg7F1xQgAAgIY+XnFCAABA7JBecUIAAABS415xQgAAwLc1X3FCAABANXqGcUIAAACbzIZxQgAAwAAfh3FCAACAZnGHcUIAAEDMw4dxQgAAADIWiHFCAADAl2iIcUIAAID9uohxQgAAQGMNiXFCAAAAyV+JcUIAAMAusolxQgAAgJQEinFCAABA+laKcUIAAABgqYpxQgAAwMX7inFCAACAK06LcUIAAECRoItxQgAAAPfyi3FCAADAXEWMcUIAAIDCl4xxQgAAQCjqjHFCAAAAjjyNcUIAAMDzjo1xQgAAgFnhjXFCAABAvzOOcUIAAAAlho5xQgAAwIrYjnFCAACA8CqPcUIAAEBWfY9xQgAAALzPj3FCAADAISKQcUIAAICHdJBxQgAAQO3GkHFCAAAAUxmRcUIAAMC4a5FxQgAAgB6+kXFCAABAhBCScUIAAADqYpJxQgAAwE+1knFCAACAtQeTcUIAAEAbWpNxQgAAAIGsk3FCAADA5v6TcUIAAIBMUZRxQgAAQLKjlHFCAAAAGPaUcUIAAMB9SJVxQgAAgOOalXFCAABASe2VcUIAAACvP5ZxQgAAwBSSlnFCAACAeuSWcUIAAEDgNpdxQgAAAEaJl3FCAADAq9uXcUIAAIARLphxQgAAQHeAmHFCAAAA3dKYcUIAAMBCJZlxQgAAgKh3mXFCAABADsqZcUIAAAB0HJpxQgAAwNlumnFCAACAP8GacUIAAEClE5txQgAAAAtmm3FCAADAcLibcUIAAIDWCpxxQgAAQDxdnHFCAAAAoq+ccUIAAMAHAp1xQgAAgG1UnXFCAABA06adcUIAAAA5+Z1xQgAAwJ5LnnFCAACABJ6ecUIAAEBq8J5xQgAAANBCn3FCAADANZWfcUIAAICb559xQgAAQAE6oHFCAAAAZ4ygcUIAAMDM3qBxQgAAgDIxoXFCAABAmIOhcUIAAAD+1aFxQgAAwGMoonFCAACAyXqicUIAAEAvzaJxQgAAAJUfo3FCAADA+nGjcUIAAIBgxKNxQgAAQMYWpHFCAAAALGmkcUIAAMCRu6RxQgAAgPcNpXFCAABAXWClcUIAAADDsqVxQgAAwCgFpnFCAACAjlemcUIAAED0qaZxQgAAAFr8pnFCAADAv06ncUIAAIAloadxQgAAQIvzp3FCAAAA8UWocUIAAMBWmKhxQgAAgLzqqHFCAABAIj2pcUIAAACIj6lxQgAAwO3hqXFCAACAUzSqcUIAAEC5hqpxQgAAAB/ZqnFCAADAhCurcUIAAIDqfatxQgAAQFDQq3FCAAAAtiKscUIAAMAbdaxxQgAAgIHHrHFCAABA5xmtcUIAAABNbK1xQgAAwLK+rXFCAACAGBGucUIAAEB+Y65xQgAAAOS1rnFCAADASQivcUIAAICvWq9xQgAAQBWtr3FCAAAAe/+vcUIAAMDgUbBxQgAAgEaksHFCAABArPawcUIAAAASSbFxQgAAwHebsXFCAACA3e2xcUIAAEBDQLJxQgAAAKmSsnFCAADADuWycUIAAIB0N7NxQgAAQNqJs3FCAAAAQNyzcUIAAMClLrRxQgAAgAuBtHFCAABAcdO0cUIAAADXJbVxQgAAwDx4tXFCAACAosq1cUIAAEAIHbZxQgAAAG5vtnFCAADA08G2cUIAAIA5FLdxQgAAQJ9mt3FCAAAABbm3cUIAAMBqC7hxQgAAgNBduHFCAABANrC4cUIAAACcArlxQgAAwAFVuXFCAACAZ6e5cUIAAEDN+blxQgAAADNMunFCAADAmJ66cUIAAID+8LpxQgAAQGRDu3FCAAAAypW7cUIAAMAv6LtxQgAAgJU6vHFCAABA+4y8cUIAAABh37xxQgAAwMYxvXFCAACALIS9cUIAAECS1r1xQgAAAPgovnFCAADAXXu+cUIAAIDDzb5xQgAAQCkgv3FCAAAAj3K/cUIAAMD0xL9xQgAAgFoXwHFCAABAwGnAcUIAAAAmvMBxQgAAwIsOwXFCAACA8WDBcUIAAEBXs8FxQgAAAL0FwnFCAADAIljCcUIAAICIqsJxQgAAQO78wnFCAAAAVE/DcUIAAMC5ocNxQgAAgB/0w3FCAABAhUbEcUIAAADrmMRxQgAAwFDrxHFCAACAtj3FcUIAAEAckMVxQgAAAILixXFCAADA5zTGcUIAAIBNh8ZxQgAAQLPZxnFCAAAAGSzHcUIAAMB+fsdxQgAAgOTQx3FCAABASiPIcUIAAACwdchxQgAAwBXIyHFCAACAexrJcUIAAEDhbMlxQgAAAEe/yXFCAADArBHKcUIAAIASZMpxQgAAQHi2ynFCAAAA3gjLcUIAAMBDW8txQgAAgKmty3FCAABADwDMcUIAAAB1UsxxQgAAwNqkzHFCAACAQPfMcUIAAECmSc1xQgAAAAyczXFCAADAce7NcUIAAIDXQM5xQgAAQD2TznFCAAAAo+XOcUIAAMAIOM9xQgAAgG6Kz3FCAABA1NzPcUIAAAA6L9BxQgAAwJ+B0HFCAACABdTQcUIAAEBrJtFxQgAAANF40XFCAADANsvRcUIAAICcHdJxQgAAQAJw0nFCAAAAaMLScUIAAMDNFNNxQgAAgDNn03FCAABAmbnTcUIAAAD/C9RxQgAAwGRe1HFCAACAyrDUcUIAAEAwA9VxQgAAAEj1+3FCAADArUf8cUIAAIATmvxxQgAAQHns/HFCAAAA3z79cUIAAMBEkf1xQgAAgKrj/XFCAABAEDb+cUIAAAB2iP5xQgAAwNva/nFCAACAQS3/cUIAAECnf/9xQgAAAA3S/3FCAADAciQAckIAAIDYdgByQgAAQD7JAHJCAAAApBsBckIAAMAJbgFyQgAAgG/AAXJCAABA1RICckIAAAA7ZQJyQgAAwKC3AnJCAACABgoDckIAAEBsXANyQgAAANKuA3JCAADANwEEckIAAICdUwRyQgAAQAOmBHJCAAAAafgEckIAAMDOSgVyQgAAgDSdBXJCAABAmu8FckIAAAAAQgZyQgAAwGWUBnJCAACAy+YGckIAAEAxOQdyQgAAAJeLB3JCAADA/N0HckIAAIBiMAhyQgAAQMiCCHJCAAAALtUIckIAAMCTJwlyQgAAgPl5CXJCAABAX8wJckIAAADFHgpyQgAAwCpxCnJCAACAkMMKckIAAED2FQtyQgAAAFxoC3JCAADAwboLckIAAIAnDQxyQgAAQI1fDHJCAAAA87EMckIAAMBYBA1yQgAAgL5WDXJCAABAJKkNckIAAACK+w1yQgAAwO9NDnJCAACAVaAOckIAAEC78g5yQgAAACFFD3JCAADAhpcPckIAAIDs6Q9yQgAAQFI8EHJCAAAAuI4QckIAAMAd4RByQgAAgIMzEXJCAABA6YURckIAAABP2BFyQgAAwLQqEnJCAACAGn0SckIAAECAzxJyQgAAAOYhE3JCAADAS3QTckIAAICxxhNyQgAAQBcZFHJCAAAAfWsUckIAAMDivRRyQgAAgEgQFXJCAABArmIVckIAAAAUtRVyQgAAwHkHFnJCAACA31kWckIAAEBFrBZyQgAAAKv+FnJCAADAEFEXckIAAIB2oxdyQgAAQNz1F3JCAAAAQkgYckIAAMCnmhhyQgAAgA3tGHJCAABAcz8ZckIAAADZkRlyQgAAwD7kGXJCAACApDYackIAAEAKiRpyQgAAAHDbGnJCAADA1S0bckIAAIA7gBtyQgAAQKHSG3JCAAAAByUcckIAAMBsdxxyQgAAgNLJHHJCAABAOBwdckIAAACebh1yQgAAwAPBHXJCAACAaRMeckIAAEDPZR5yQgAAADW4HnJCAADAmgofckIAAIAAXR9yQgAAQGavH3JCAAAAzAEgckIAAMAxVCByQgAAgJemIHJCAABA/fggckIAAABjSyFyQgAAwMidIXJCAACALvAhckIAAECUQiJyQgAAAPqUInJCAADAX+cickIAAIDFOSNyQgAAQCuMI3JCAAAAkd4jckIAAMD2MCRyQgAAgFyDJHJCAABAwtUkckIAAAAoKCVyQgAAwI16JXJCAACA88wlckIAAEBZHyZyQgAAAL9xJnJCAADAJMQmckIAAICKFidyQgAAQPBoJ3JCAAAAVrsnckIAAMC7DShyQgAAgCFgKHJCAABAh7IockIAAADtBClyQgAAwFJXKXJCAACAuKkpckIAAEAe/ClyQgAAAIROKnJCAADA6aAqckIAAIBP8ypyQgAAQLVFK3JCAAAAG5grckIAAMCA6ityQgAAgOY8LHJCAABATI8sckIAAACy4SxyQgAAwBc0LXJCAACAfYYtckIAAEDj2C1yQgAAAEkrLnJCAADArn0uckIAAIAU0C5yQgAAQHoiL3JCAAAA4HQvckIAAMBFxy9yQgAAgKsZMHJCAABAEWwwckIAAAB3vjByQgAAwNwQMXJCAACAQmMxckIAAECotTFyQgAAAA4IMnJCAADAc1oyckIAAIDZrDJyQgAAQD//MnJCAAAApVEzckIAAMAKpDNyQgAAgHD2M3JCAABA1kg0ckIAAAA8mzRyQgAAwKHtNHJCAACAB0A1ckIAAEBtkjVyQgAAANPkNXJCAADAODc2ckIAAICeiTZyQgAAQATcNnJCAAAAai43ckIAAMDPgDdyQgAAgDXTN3JCAABAmyU4ckIAAAABeDhyQgAAwGbKOHJCAACAzBw5ckIAAEAybzlyQgAAAJjBOXJCAADA/RM6ckIAAIBjZjpyQgAAQMm4OnJCAAAALws7ckIAAMCUXTtyQgAAgPqvO3JCAABAYAI8ckIAAADGVDxyQgAAwCunPHJCAACAkfk8ckIAAED3Sz1yQgAAAF2ePXJCAADAwvA9ckIAAIAoQz5yQgAAQI6VPnJCAAAA9Oc+ckIAAMBZOj9yQgAAgL+MP3JCAABAJd8/ckIAAACLMUByQgAAwPCDQHJCAACAVtZAckIAAEC8KEFyQgAAACJ7QXJCAADAh81BckIAAIDtH0JyQgAAQFNyQnJCAAAAucRCckIAAMAeF0NyQgAAgIRpQ3JCAABA6rtDckIAAABQDkRyQgAAwLVgRHJCAACAG7NEckIAAECBBUVyQgAAAOdXRXJCAADATKpFckIAAICy/EVyQgAAQBhPRnJCAAAAfqFGckIAAMDj80ZyQgAAgElGR3JCAABAr5hHckIAAAAV60dyQgAAwHo9SHJCAACA4I9IckIAAEBG4khyQgAAAKw0SXJCAADAEYdJckIAAIB32UlyQgAAQN0rSnJCAAAAQ35KckIAAMBacHFyQgAAgMDCcXJCAABAJhVyckIAAACMZ3JyQgAAwPG5cnJCAACAVwxzckIAAEC9XnNyQgAAACOxc3JCAADAiAN0ckIAAIDuVXRyQgAAQFSodHJCAAAAuvp0ckIAAMAfTXVyQgAAgIWfdXJCAABA6/F1ckIAAABRRHZyQgAAwLaWdnJCAACAHOl2ckIAAECCO3dyQgAAAOiNd3JCAADATeB3ckIAAICzMnhyQgAAQBmFeHJCAAAAf9d4ckIAAMDkKXlyQgAAgEp8eXJCAABAsM55ckIAAAAWIXpyQgAAwHtzenJCAACA4cV6ckIAAEBHGHtyQgAAAK1qe3JCAADAEr17ckIAAIB4D3xyQgAAQN5hfHJCAAAARLR8ckIAAMCpBn1yQgAAgA9ZfXJCAABAdat9ckIAAADb/X1yQgAAwEBQfnJCAACApqJ+ckIAAEAM9X5yQgAAAHJHf3JCAADA15l/ckIAAIA97H9yQgAAQKM+gHJCAAAACZGAckIAAMBu44ByQgAAgNQ1gXJCAABAOoiBckIAAACg2oFyQgAAwAUtgnJCAACAa3+CckIAAEDR0YJyQgAAADckg3JCAADAnHaDckIAAIACyYNyQgAAQGgbhHJCAAAAzm2EckIAAMAzwIRyQgAAgJkShXJCAABA/2SFckIAAABlt4VyQgAAwMoJhnJCAACAMFyGckIAAECWroZyQgAAAPwAh3JCAADAYVOHckIAAIDHpYdyQgAAQC34h3JCAAAAk0qIckIAAMD4nIhyQgAAgF7viHJCAABAxEGJckIAAAAqlIlyQgAAwI/miXJCAACA9TiKckIAAEBbi4pyQgAAAMHdinJCAADAJjCLckIAAICMgotyQgAAQPLUi3JCAAAAWCeMckIAAMC9eYxyQgAAgCPMjHJCAABAiR6NckIAAADvcI1yQgAAwFTDjXJCAACAuhWOckIAAEAgaI5yQgAAAIa6jnJCAADA6wyPckIAAIBRX49yQgAAQLexj3JCAAAAHQSQckIAAMCCVpByQgAAgOiokHJCAABATvuQckIAAAC0TZFyQgAAwBmgkXJCAACAf/KRckIAAEDlRJJyQgAAAEuXknJCAADAsOmSckIAAIAWPJNyQgAAQHyOk3JCAAAA4uCTckIAAMBHM5RyQgAAgK2FlHJCAABAE9iUckIAAAB5KpVyQgAAwN58lXJCAACARM+VckIAAECqIZZyQgAAABB0lnJCAADAdcaWckIAAIDbGJdyQgAAQEFrl3JCAAAAp72XckIAAMAMEJhyQgAAgHJimHJCAABA2LSYckIAAAA+B5lyQgAAwKNZmXJCAACACayZckIAAEBv/plyQgAAANVQmnJCAADAOqOackIAAICg9ZpyQgAAQAZIm3JCAAAAbJqbckIAAMDR7JtyQgAAgDc/nHJCAABAnZGcckIAAAAD5JxyQgAAwGg2nXJCAACAzoidckIAAEA0251yQgAAAJotnnJCAADA/3+eckIAAIBl0p5yQgAAQMskn3JCAAAAMXefckIAAMCWyZ9yQgAAgPwboHJCAABAYm6gckIAAADIwKByQgAAwC0ToXJCAACAk2WhckIAAED5t6FyQgAAAF8KonJCAADAxFyickIAAIAqr6JyQgAAQJABo3JCAAAA9lOjckIAAMBbpqNyQgAAgMH4o3JCAABAJ0ukckIAAACNnaRyQgAAwPLvpHJCAACAWEKlckIAAEC+lKVyQgAAACTnpXJCAADAiTmmckIAAIDvi6ZyQgAAQFXepnJCAAAAuzCnckIAAMAgg6dyQgAAgIbVp3JCAABA7CeockIAAABSeqhyQgAAwLfMqHJCAACAHR+pckIAAECDcalyQgAAAOnDqXJCAADAThaqckIAAIC0aKpyQgAAQBq7qnJCAAAAgA2rckIAAMDlX6tyQgAAgEuyq3JCAABAsQSsckIAAAAXV6xyQgAAwHyprHJCAACA4vusckIAAEBITq1yQgAAAK6grXJCAADAE/OtckIAAIB5Ra5yQgAAQN+XrnJCAAAARequckIAAMCqPK9yQgAAgBCPr3JCAABAduGvckIAAADcM7ByQgAAwEGGsHJCAACAp9iwckIAAEANK7FyQgAAAHN9sXJCAADA2M+xckIAAIA+IrJyQgAAQKR0snJCAAAACseyckIAAMBvGbNyQgAAgNVrs3JCAABAO76zckIAAAChELRyQgAAwAZjtHJCAACAbLW0ckIAAEDSB7VyQgAAADhatXJCAADAnay1ckIAAIAD/7VyQgAAQGlRtnJCAAAAz6O2ckIAAMA09rZyQgAAgJpIt3JCAABAAJu3ckIAAABm7bdyQgAAwMs/uHJCAACAMZK4ckIAAECX5LhyQgAAAP02uXJCAADAYom5ckIAAIDI27lyQgAAQC4uunJCAAAAlIC6ckIAAMD50rpyQgAAgF8lu3JCAABAxXe7ckIAAAAryrtyQgAAwJAcvHJCAACA9m68ckIAAEBcwbxyQgAAAMITvXJCAADAJ2a9ckIAAICNuL1yQgAAQPMKvnJCAAAAWV2+ckIAAMC+r75yQgAAgCQCv3JCAABAilS/ckIAAADwpr9yQgAAwFX5v3JCAACAbevmckIAAEDTPedyQgAAADmQ53JCAADAnuLnckIAAIAENehyQgAAQGqH6HJCAAAA0NnockIAAMA1LOlyQgAAgJt+6XJCAABAAdHpckIAAABnI+pyQgAAwMx16nJCAACAMsjqckIAAECYGutyQgAAAP5s63JCAADAY7/rckIAAIDJEexyQgAAQC9k7HJCAAAAlbbsckIAAMD6CO1yQgAAgGBb7XJCAABAxq3tckIAAAAsAO5yQgAAwJFS7nJCAACA96TuckIAAEBd9+5yQgAAAMNJ73JCAADAKJzvckIAAICO7u9yQgAAQPRA8HJCAAAAWpPwckIAAMC/5fByQgAAgCU48XJCAABAi4rxckIAAADx3PFyQgAAwFYv8nJCAACAvIHyckIAAEAi1PJyQgAAAIgm83JCAADA7XjzckIAAIBTy/NyQgAAQLkd9HJCAAAAH3D0ckIAAMCEwvRyQgAAgOoU9XJCAABAUGf1ckIAAAC2ufVyQgAAwBsM9nJCAACAgV72ckIAAEDnsPZyQgAAAE0D93JCAADAslX3ckIAAIAYqPdyQgAAQH7693JCAAAA5Ez4ckIAAMBJn/hyQgAAgK/x+HJCAABAFUT5ckIAAAB7lvlyQgAAwODo+XJCAACARjv6ckIAAECsjfpyQgAAABLg+nJCAADAdzL7ckIAAIDdhPtyQgAAQEPX+3JCAAAAqSn8ckIAAMAOfPxyQgAAgHTO/HJCAABA2iD9ckIAAABAc/1yQgAAwKXF/XJCAACACxj+ckIAAEBxav5yQgAAANe8/nJCAADAPA//ckIAAICiYf9yQgAAQAi0/3JCAAAAbgYAc0IAAMDTWABzQgAAgDmrAHNCAABAn/0Ac0IAAAAFUAFzQgAAwGqiAXNCAACA0PQBc0IAAEA2RwJzQgAAAJyZAnNCAADAAewCc0IAAIBnPgNzQgAAQM2QA3NCAAAAM+MDc0IAAMCYNQRzQgAAgP6HBHNCAABAZNoEc0IAAADKLAVzQgAAwC9/BXNCAACAldEFc0IAAED7IwZzQgAAAGF2BnNCAADAxsgGc0IAAIAsGwdzQgAAQJJtB3NCAAAA+L8Hc0IAAMBdEghzQgAAgMNkCHNCAABAKbcIc0IAAACPCQlzQgAAwPRbCXNCAACAWq4Jc0IAAEDAAApzQgAAACZTCnNCAADAi6UKc0IAAIDx9wpzQgAAQFdKC3NCAAAAvZwLc0IAAMAi7wtzQgAAgIhBDHNCAABA7pMMc0IAAABU5gxzQgAAwLk4DXNCAACAH4sNc0IAAECF3Q1zQgAAAOsvDnNCAADAUIIOc0IAAIC21A5zQgAAQBwnD3NCAAAAgnkPc0IAAMDnyw9zQgAAgE0eEHNCAABAs3AQc0IAAAAZwxBzQgAAwH4VEXNCAACA5GcRc0IAAEBKuhFzQgAAALAMEnNCAADAFV8Sc0IAAIB7sRJzQgAAQOEDE3NCAAAAR1YTc0IAAMCsqBNzQgAAgBL7E3NCAABAeE0Uc0IAAADenxRzQgAAwEPyFHNCAACAqUQVc0IAAEAPlxVzQgAAAHXpFXNCAADA2jsWc0IAAIBAjhZzQgAAQKbgFnNCAAAADDMXc0IAAMBxhRdzQgAAgNfXF3NCAABAPSoYc0IAAACjfBhzQgAAwAjPGHNCAACAbiEZc0IAAEDUcxlzQgAAADrGGXNCAADAnxgac0IAAIAFaxpzQgAAQGu9GnNCAAAA0Q8bc0IAAMA2YhtzQgAAgJy0G3NCAABAAgccc0IAAABoWRxzQgAAwM2rHHNCAACAM/4cc0IAAECZUB1zQgAAAP+iHXNCAADAZPUdc0IAAIDKRx5zQgAAQDCaHnNCAAAAluwec0IAAMD7Ph9zQgAAgGGRH3NCAABAx+Mfc0IAAAAtNiBzQgAAwJKIIHNCAACA+Nogc0IAAEBeLSFzQgAAAMR/IXNCAADAKdIhc0IAAICPJCJzQgAAQPV2InNCAAAAW8kic0IAAMDAGyNzQgAAgCZuI3NCAABAjMAjc0IAAADyEiRzQgAAwFdlJHNCAACAvbckc0IAAEAjCiVzQgAAAIlcJXNCAADA7q4lc0IAAIBUASZzQgAAQLpTJnNCAAAAIKYmc0IAAMCF+CZzQgAAgOtKJ3NCAABAUZ0nc0IAAAC37ydzQgAAwBxCKHNCAACAgpQoc0IAAEDo5ihzQgAAAE45KXNCAADAs4spc0IAAIAZ3ilzQgAAQH8wKnNCAAAA5YIqc0IAAMBK1SpzQgAAgLAnK3NCAABAFnorc0IAAAB8zCtzQgAAwOEeLHNCAACAR3Esc0IAAECtwyxzQgAAABMWLXNCAADAeGgtc0IAAIDeui1zQgAAQEQNLnNCAAAAql8uc0IAAMAPsi5zQgAAgHUEL3NCAABA21Yvc0IAAABBqS9zQgAAwKb7L3NCAACADE4wc0IAAEByoDBzQgAAANjyMHNCAADAPUUxc0IAAICjlzFzQgAAQAnqMXNCAAAAbzwyc0IAAMDUjjJzQgAAgDrhMnNCAABAoDMzc0IAAAAGhjNzQgAAwGvYM3NCAACA0So0c0IAAEA3fTRzQgAAAJ3PNHNCAADAAiI1c0IAAIBodDVzQgAAAOa4XHNCAADASwtdc0IAAICxXV1zQgAAQBewXXNCAAAAfQJec0IAAMDiVF5zQgAAgEinXnNCAABArvlec0IAAAAUTF9zQgAAwHmeX3NCAACA3/Bfc0IAAEBFQ2BzQgAAAKuVYHNCAADAEOhgc0IAAIB2OmFzQgAAQNyMYXNCAAAAQt9hc0IAAMCnMWJzQgAAgA2EYnNCAABAc9Zic0IAAADZKGNzQgAAwD57Y3NCAACApM1jc0IAAEAKIGRzQgAAAHByZHNCAADA1cRkc0IAAIA7F2VzQgAAQKFpZXNCAAAAB7xlc0IAAMBsDmZzQgAAgNJgZnNCAABAOLNmc0IAAACeBWdzQgAAwANYZ3NCAACAaapnc0IAAEDP/GdzQgAAADVPaHNCAADAmqFoc0IAAIAA9GhzQgAAQGZGaXNCAAAAzJhpc0IAAMAx62lzQgAAgJc9anNCAABA/Y9qc0IAAABj4mpzQgAAwMg0a3NCAACALodrc0IAAECU2WtzQgAAAPorbHNCAADAX35sc0IAAIDF0GxzQgAAQCsjbXNCAAAAkXVtc0IAAMD2x21zQgAAgFwabnNCAABAwmxuc0IAAAAov25zQgAAwI0Rb3NCAACA82Nvc0IAAEBZtm9zQgAAAL8IcHNCAADAJFtwc0IAAICKrXBzQgAAQPD/cHNCAAAAVlJxc0IAAMC7pHFzQgAAgCH3cXNCAABAh0lyc0IAAADtm3JzQgAAwFLucnNCAACAuEBzc0IAAEAek3NzQgAAAITlc3NCAADA6Td0c0IAAIBPinRzQgAAQLXcdHNCAAAAGy91c0IAAMCAgXVzQgAAgObTdXNCAABATCZ2c0IAAACyeHZzQgAAwBfLdnNCAACAfR13c0IAAEDjb3dzQgAAAEnCd3NCAADArhR4c0IAAIAUZ3hzQgAAQHq5eHNCAAAA4At5c0IAAMBFXnlzQgAAgKuweXNCAABAEQN6c0IAAAB3VXpzQgAAwNynenNCAACAQvp6c0IAAECoTHtzQgAAAA6fe3NCAADAc/F7c0IAAIDZQ3xzQgAAQD+WfHNCAAAApeh8c0IAAMAKO31zQgAAgHCNfXNCAABA1t99c0IAAAA8Mn5zQgAAwKGEfnNCAACAB9d+c0IAAEBtKX9zQgAAANN7f3NCAADAOM5/c0IAAICeIIBzQgAAQARzgHNCAAAAasWAc0IAAMDPF4FzQgAAgDVqgXNCAABAm7yBc0IAAAABD4JzQgAAwGZhgnNCAACAzLOCc0IAAEAyBoNzQgAAAJhYg3NCAADA/aqDc0IAAIBj/YNzQgAAQMlPhHNCAAAAL6KEc0IAAMCU9IRzQgAAgPpGhXNCAABAYJmFc0IAAADG64VzQgAAwCs+hnNCAACAkZCGc0IAAED34oZzQgAAAF01h3NCAADAwoeHc0IAAIAo2odzQgAAQI4siHNCAAAA9H6Ic0IAAMBZ0YhzQgAAgL8jiXNCAABAJXaJc0IAAACLyIlzQgAAwPAainNCAACAVm2Kc0IAAEC8v4pzQgAAACISi3NCAADAh2SLc0IAAIDttotzQgAAQFMJjHNCAAAAuVuMc0IAAMAeroxzQgAAgIQAjXNCAABA6lKNc0IAAABQpY1zQgAAwLX3jXNCAACAG0qOc0IAAECBnI5zQgAAAOfujnNCAADATEGPc0IAAICyk49zQgAAQBjmj3NCAAAAfjiQc0IAAMDjipBzQgAAgEndkHNCAABAry+Rc0IAAAAVgpFzQgAAwHrUkXNCAACA4CaSc0IAAEBGeZJzQgAAAKzLknNCAADAER6Tc0IAAIB3cJNzQgAAQN3Ck3NCAAAAQxWUc0IAAMCoZ5RzQgAAgA66lHNCAABAdAyVc0IAAADaXpVzQgAAwD+xlXNCAACApQOWc0IAAEALVpZzQgAAAHGolnNCAADA1vqWc0IAAIA8TZdzQgAAQKKfl3NCAAAACPKXc0IAAMBtRJhzQgAAgNOWmHNCAABAOemYc0IAAACfO5lzQgAAwASOmXNCAACAauCZc0IAAEDQMppzQgAAADaFmnNCAADAm9eac0IAAIABKptzQgAAQGd8m3NCAAAAzc6bc0IAAMAyIZxzQgAAgJhznHNCAABA/sWcc0IAAABkGJ1zQgAAwMlqnXNCAACAL72dc0IAAECVD55zQgAAAPthnnNCAADAYLSec0IAAIDGBp9zQgAAQCxZn3NCAAAAkqufc0IAAMD3/Z9zQgAAgF1QoHNCAABAw6Kgc0IAAAAp9aBzQgAAwI5HoXNCAACA9Jmhc0IAAEBa7KFzQgAAAMA+onNCAADAJZGic0IAAICL46JzQgAAQPE1o3NCAAAAV4ijc0IAAMC82qNzQgAAgCItpHNCAABAiH+kc0IAAADu0aRzQgAAwFMkpXNCAACAuXalc0IAAEAfyaVzQgAAAIUbpnNCAADA6m2mc0IAAIBQwKZzQgAAQLYSp3NCAAAAHGWnc0IAAMCBt6dzQgAAgOcJqHNCAABATVyoc0IAAACzrqhzQgAAwBgBqXNCAACAflOpc0IAAEDkpalzQgAAAEr4qXNCAADAr0qqc0IAAIAVnapzQgAAQHvvqnNCAAAA4UGrc0IAAMD4M9JzQgAAgF6G0nNCAABAxNjSc0IAAAAqK9NzQgAAwI9903NCAACA9c/Tc0IAAEBbItRzQgAAAMF01HNCAADAJsfUc0IAAICMGdVzQgAAQPJr1XNCAAAAWL7Vc0IAAMC9ENZzQgAAgCNj1nNCAABAibXWc0IAAADvB9dzQgAAwFRa13NCAACAuqzXc0IAAEAg/9dzQgAAAIZR2HNCAADA66PYc0IAAIBR9thzQgAAQLdI2XNCAAAAHZvZc0IAAMCC7dlzQgAAgOg/2nNCAABATpLac0IAAAC05NpzQgAAwBk323NCAACAf4nbc0IAAEDl29tzQgAAAEsu3HNCAADAsIDcc0IAAIAW09xzQgAAQHwl3XNCAAAA4nfdc0IAAMBHyt1zQgAAgK0c3nNCAABAE2/ec0IAAAB5wd5zQgAAwN4T33NCAACARGbfc0IAAECquN9zQgAAABAL4HNCAADAdV3gc0IAAIDbr+BzQgAAQEEC4XNCAAAAp1Thc0IAAMAMp+FzQgAAgHL54XNCAABA2Evic0IAAAA+nuJzQgAAwKPw4nNCAACACUPjc0IAAEBvleNzQgAAANXn43NCAADAOjrkc0IAAICgjORzQgAAQAbf5HNCAAAAbDHlc0IAAMDRg+VzQgAAgDfW5XNCAABAnSjmc0IAAAADe+ZzQgAAwGjN5nNCAACAzh/nc0IAAEA0cudzQgAAAJrE53NCAADA/xboc0IAAIBlaehzQgAAQMu76HNCAAAAMQ7pc0IAAMCWYOlzQgAAgPyy6XNCAABAYgXqc0IAAADIV+pzQgAAwC2q6nNCAACAk/zqc0IAAED5TutzQgAAAF+h63NCAADAxPPrc0IAAIAqRuxzQgAAQJCY7HNCAAAA9ursc0IAAMBbPe1zQgAAgMGP7XNCAABAJ+Ltc0IAAACNNO5zQgAAwPKG7nNCAACAWNnuc0IAAEC+K+9zQgAAACR+73NCAADAidDvc0IAAIDvIvBzQgAAQFV18HNCAAAAu8fwc0IAAMAgGvFzQgAAgIZs8XNCAABA7L7xc0IAAABSEfJzQgAAwLdj8nNCAACAHbbyc0IAAECDCPNzQgAAAOla83NCAADATq3zc0IAAIC0//NzQgAAQBpS9HNCAAAAgKT0c0IAAMDl9vRzQgAAgEtJ9XNCAABAsZv1c0IAAAAX7vVzQgAAwHxA9nNCAACA4pL2c0IAAEBI5fZzQgAAAK4393NCAADAE4r3c0IAAIB53PdzQgAAQN8u+HNCAAAARYH4c0IAAMCq0/hzQgAAgBAm+XNCAABAdnj5c0IAAADcyvlzQgAAwEEd+nNCAACAp2/6c0IAAEANwvpzQgAAAHMU+3NCAADA2Gb7c0IAAIA+uftzQgAAQKQL/HNCAAAACl78c0IAAMBvsPxzQgAAgNUC/XNCAABAO1X9c0IAAAChp/1zQgAAwAb6/XNCAACAbEz+c0IAAEDSnv5zQgAAADjx/nNCAADAnUP/c0IAAIADlv9zQgAAQGno/3NCAAAAzzoAdEIAAMA0jQB0QgAAgJrfAHRCAABAADIBdEIAAABmhAF0QgAAwMvWAXRCAACAMSkCdEIAAECXewJ0QgAAAP3NAnRCAADAYiADdEIAAIDIcgN0QgAAQC7FA3RCAAAAlBcEdEIAAMD5aQR0QgAAgF+8BHRCAABAxQ4FdEIAAAArYQV0QgAAwJCzBXRCAACA9gUGdEIAAEBcWAZ0QgAAAMKqBnRCAADAJ/0GdEIAAICNTwd0QgAAQPOhB3RCAAAAWfQHdEIAAMC+Rgh0QgAAgCSZCHRCAABAiusIdEIAAADwPQl0QgAAwFWQCXRCAACAu+IJdEIAAEAhNQp0QgAAAIeHCnRCAADA7NkKdEIAAIBSLAt0QgAAQLh+C3RCAAAAHtELdEIAAMCDIwx0QgAAgOl1DHRCAABAT8gMdEIAAAC1Gg10QgAAwBptDXRCAACAgL8NdEIAAEDmEQ50QgAAAExkDnRCAADAsbYOdEIAAIAXCQ90QgAAQH1bD3RCAAAA460PdEIAAMBIABB0QgAAgK5SEHRCAABAFKUQdEIAAAB69xB0QgAAwN9JEXRCAACARZwRdEIAAECr7hF0QgAAABFBEnRCAADAdpMSdEIAAIDc5RJ0QgAAQEI4E3RCAAAAqIoTdEIAAMAN3RN0QgAAgHMvFHRCAABA2YEUdEIAAAA/1BR0QgAAwKQmFXRCAACACnkVdEIAAEBwyxV0QgAAANYdFnRCAADAO3AWdEIAAIChwhZ0QgAAQAcVF3RCAAAAbWcXdEIAAMDSuRd0QgAAgDgMGHRCAABAnl4YdEIAAAAEsRh0QgAAwGkDGXRCAACAz1UZdEIAAEA1qBl0QgAAAJv6GXRCAADAAE0adEIAAIBmnxp0QgAAQMzxGnRCAAAAMkQbdEIAAMCXlht0QgAAgP3oG3RCAABAYzscdEIAAADJjRx0QgAAwC7gHHRCAACAlDIddEIAAED6hB10QgAAAGDXHXRCAADAxSkedEIAAIArfB50QgAAQJHOHnRCAAAA9yAfdEIAAMBccx90QgAAgMLFH3RCAABAKBggdEIAAACOaiB0QgAAwPO8IHRCAACAC69HdEIAAEBxAUh0QgAAANdTSHRCAADAPKZIdEIAAICi+Eh0QgAAQAhLSXRCAAAAbp1JdEIAAMDT70l0QgAAgDlCSnRCAABAn5RKdEIAAAAF50p0QgAAwGo5S3RCAACA0ItLdEIAAEA23kt0QgAAAJwwTHRCAADAAYNMdEIAAIBn1Ux0QgAAQM0nTXRCAAAAM3pNdEIAAMCYzE10QgAAgP4eTnRCAABAZHFOdEIAAADKw050QgAAwC8WT3RCAACAlWhPdEIAAED7uk90QgAAAGENUHRCAADAxl9QdEIAAIAsslB0QgAAQJIEUXRCAAAA+FZRdEIAAMBdqVF0QgAAgMP7UXRCAABAKU5SdEIAAACPoFJ0QgAAwPTyUnRCAACAWkVTdEIAAEDAl1N0QgAAACbqU3RCAADAizxUdEIAAIDxjlR0QgAAQFfhVHRCAAAAvTNVdEIAAMAihlV0QgAAgIjYVXRCAABA7ipWdEIAAABUfVZ0QgAAwLnPVnRCAACAHyJXdEIAAECFdFd0QgAAAOvGV3RCAADAUBlYdEIAAIC2a1h0QgAAQBy+WHRCAAAAghBZdEIAAMDnYll0QgAAgE21WXRCAABAswdadEIAAAAZWlp0QgAAwH6sWnRCAACA5P5adEIAAEBKUVt0QgAAALCjW3RCAADAFfZbdEIAAIB7SFx0QgAAQOGaXHRCAAAAR+1cdEIAAMCsP110QgAAgBKSXXRCAABAeORddEIAAADeNl50QgAAwEOJXnRCAACAqdtedEIAAEAPLl90QgAAAHWAX3RCAADA2tJfdEIAAIBAJWB0QgAAQKZ3YHRCAAAADMpgdEIAAMBxHGF0QgAAgNduYXRCAABAPcFhdEIAAACjE2J0QgAAwAhmYnRCAACAbrhidEIAAEDUCmN0QgAAADpdY3RCAADAn69jdEIAAIAFAmR0QgAAQGtUZHRCAAAA0aZkdEIAAMA2+WR0QgAAgJxLZXRCAABAAp5ldEIAAABo8GV0QgAAwM1CZnRCAACAM5VmdEIAAECZ52Z0QgAAAP85Z3RCAADAZIxndEIAAIDK3md0QgAAQDAxaHRCAAAAloNodEIAAMD71Wh0QgAAgGEoaXRCAABAx3ppdEIAAAAtzWl0QgAAwJIfanRCAACA+HFqdEIAAEBexGp0QgAAAMQWa3RCAADAKWlrdEIAAICPu2t0QgAAQPUNbHRCAAAAW2BsdEIAAMDAsmx0QgAAgCYFbXRCAABAjFdtdEIAAADyqW10QgAAwFf8bXRCAACAvU5udEIAAEAjoW50QgAAAInzbnRCAADA7kVvdEIAAIBUmG90QgAAQLrqb3RCAAAAID1wdEIAAMCFj3B0QgAAgOvhcHRCAABAUTRxdEIAAAC3hnF0QgAAwBzZcXRCAACAgitydEIAAEDofXJ0QgAAAE7QcnRCAADAsyJzdEIAAIAZdXN0QgAAQH/Hc3RCAAAA5Rl0dEIAAMBKbHR0QgAAgLC+dHRCAABAFhF1dEIAAAB8Y3V0QgAAwOG1dXRCAACARwh2dEIAAECtWnZ0QgAAABOtdnRCAADAeP92dEIAAIDeUXd0QgAAQESkd3RCAAAAqvZ3dEIAAMAPSXh0QgAAgHWbeHRCAABA2+14dEIAAABBQHl0QgAAwKaSeXRCAACADOV5dEIAAEByN3p0QgAAANiJenRCAADAPdx6dEIAAICjLnt0QgAAQAmBe3RCAAAAb9N7dEIAAMDUJXx0QgAAgDp4fHRCAABAoMp8dEIAAAAGHX10QgAAwGtvfXRCAACA0cF9dEIAAEA3FH50QgAAAJ1mfnRCAADAArl+dEIAAIBoC390QgAAQM5df3RCAAAANLB/dEIAAMCZAoB0QgAAgP9UgHRCAABAZaeAdEIAAADL+YB0QgAAwDBMgXRCAACAlp6BdEIAAED88IF0QgAAAGJDgnRCAADAx5WCdEIAAIAt6IJ0QgAAQJM6g3RCAAAA+YyDdEIAAMBe34N0QgAAgMQxhHRCAABAKoSEdEIAAACQ1oR0QgAAwPUohXRCAACAW3uFdEIAAEDBzYV0QgAAACcghnRCAADAjHKGdEIAAIDyxIZ0QgAAQFgXh3RCAAAAvmmHdEIAAMAjvId0QgAAgIkOiHRCAABA72CIdEIAAABVs4h0QgAAwLoFiXRCAACAIFiJdEIAAECGqol0QgAAAOz8iXRCAADAUU+KdEIAAIC3oYp0QgAAQB30inRCAAAAg0aLdEIAAMDomIt0QgAAgE7ri3RCAABAtD2MdEIAAAAakIx0QgAAwH/ijHRCAACA5TSNdEIAAEBLh410QgAAALHZjXRCAADAFiyOdEIAAIB8fo50QgAAQOLQjnRCAAAASCOPdEIAAMCtdY90QgAAgBPIj3RCAABAeRqQdEIAAADfbJB0QgAAwES/kHRCAACAqhGRdEIAAEAQZJF0QgAAAHa2kXRCAADA2wiSdEIAAIBBW5J0QgAAQKetknRCAAAADQCTdEIAAMByUpN0QgAAgNikk3RCAABAPveTdEIAAACkSZR0QgAAwAmclHRCAACAb+6UdEIAAEDVQJV0QgAAADuTlXRCAADAoOWVdEIAAIAGOJZ0QgAAQB4qvXRCAAAAhHy9dEIAAMDpzr10QgAAgE8hvnRCAABAtXO+dEIAAAAbxr50QgAAwIAYv3RCAACA5mq/dEIAAEBMvb90QgAAALIPwHRCAADAF2LAdEIAAIB9tMB0QgAAQOMGwXRCAAAASVnBdEIAAMCuq8F0QgAAgBT+wXRCAABAelDCdEIAAADgosJ0QgAAwEX1wnRCAACAq0fDdEIAAEARmsN0QgAAAHfsw3RCAADA3D7EdEIAAIBCkcR0QgAAQKjjxHRCAAAADjbFdEIAAMBziMV0QgAAgNnaxXRCAABAPy3GdEIAAAClf8Z0QgAAwArSxnRCAACAcCTHdEIAAEDWdsd0QgAAADzJx3RCAADAoRvIdEIAAIAHbsh0QgAAQG3AyHRCAAAA0xLJdEIAAMA4Zcl0QgAAgJ63yXRCAABABArKdEIAAABqXMp0QgAAwM+uynRCAACANQHLdEIAAECbU8t0QgAAAAGmy3RCAADAZvjLdEIAAIDMSsx0QgAAQDKdzHRCAAAAmO/MdEIAAMD9Qc10QgAAgGOUzXRCAABAyebNdEIAAAAvOc50QgAAwJSLznRCAACA+t3OdEIAAEBgMM90QgAAAMaCz3RCAADAK9XPdEIAAICRJ9B0QgAAQPd50HRCAAAAXczQdEIAAMDCHtF0QgAAgChx0XRCAABAjsPRdEIAAAD0FdJ0QgAAwFlo0nRCAACAv7rSdEIAAEAlDdN0QgAAAItf03RCAADA8LHTdEIAAIBWBNR0QgAAQLxW1HRCAAAAIqnUdEIAAMCH+9R0QgAAgO1N1XRCAABAU6DVdEIAAAC58tV0QgAAwB5F1nRCAACAhJfWdEIAAEDq6dZ0QgAAAFA813RCAADAtY7XdEIAAIAb4dd0QgAAQIEz2HRCAAAA54XYdEIAAMBM2Nh0QgAAgLIq2XRCAABAGH3ZdEIAAAB+z9l0QgAAwOMh2nRCAACASXTadEIAAECvxtp0QgAAABUZ23RCAADAemvbdEIAAIDgvdt0QgAAQEYQ3HRCAAAArGLcdEIAAMARtdx0QgAAgHcH3XRCAABA3VnddEIAAABDrN10QgAAwKj+3XRCAACADlHedEIAAEB0o950QgAAANr13nRCAADAP0jfdEIAAIClmt90QgAAQAvt33RCAAAAcT/gdEIAAMDWkeB0QgAAgDzk4HRCAABAojbhdEIAAAAIieF0QgAAwG3b4XRCAACA0y3idEIAAEA5gOJ0QgAAAJ/S4nRCAADABCXjdEIAAIBqd+N0QgAAQNDJ43RCAAAANhzkdEIAAMCbbuR0QgAAgAHB5HRCAABAZxPldEIAAADNZeV0QgAAwDK45XRCAACAmArmdEIAAED+XOZ0QgAAAGSv5nRCAADAyQHndEIAAIAvVOd0QgAAQJWm53RCAAAA+/jndEIAAMBgS+h0QgAAgMad6HRCAABALPDodEIAAACSQul0QgAAwPeU6XRCAACAXefpdEIAAEDDOep0QgAAACmM6nRCAADAjt7qdEIAAID0MOt0QgAAQFqD63RCAAAAwNXrdEIAAMAlKOx0QgAAgIt67HRCAABA8czsdEIAAABXH+10QgAAwLxx7XRCAACAIsTtdEIAAECIFu50QgAAAO5o7nRCAADAU7vudEIAAIC5De90QgAAQB9g73RCAAAAhbLvdEIAAMDqBPB0QgAAgFBX8HRCAABAtqnwdEIAAAAc/PB0QgAAwIFO8XRCAACA56DxdEIAAEBN8/F0QgAAALNF8nRCAADAGJjydEIAAIB+6vJ0QgAAQOQ883RCAAAASo/zdEIAAMCv4fN0QgAAgBU09HRCAABAe4b0dEIAAADh2PR0QgAAwEYr9XRCAACArH31dEIAAEAS0PV0QgAAAHgi9nRCAADA3XT2dEIAAIBDx/Z0QgAAQKkZ93RCAAAAD2z3dEIAAMB0vvd0QgAAgNoQ+HRCAABAQGP4dEIAAACmtfh0QgAAwAsI+XRCAACAcVr5dEIAAEDXrPl0QgAAAD3/+XRCAADAolH6dEIAAIAIpPp0QgAAQG72+nRCAAAA1Ej7dEIAAMA5m/t0QgAAgJ/t+3RCAABABUD8dEIAAABrkvx0QgAAwNDk/HRCAACANjf9dEIAAECcif10QgAAAALc/XRCAADAZy7+dEIAAIDNgP50QgAAQDPT/nRCAAAAmSX/dEIAAMD+d/90QgAAgGTK/3RCAABAyhwAdUIAAAAwbwB1QgAAwJXBAHVCAACA+xMBdUIAAEBhZgF1QgAAAMe4AXVCAADALAsCdUIAAICSXQJ1QgAAQPivAnVCAAAAXgIDdUIAAMDDVAN1QgAAgCmnA3VCAABAj/kDdUIAAAD1SwR1QgAAwFqeBHVCAACAwPAEdUIAAEAmQwV1QgAAAIyVBXVCAADA8ecFdUIAAIBXOgZ1QgAAQL2MBnVCAAAAI98GdUIAAMCIMQd1QgAAgO6DB3VCAABAVNYHdUIAAAC6KAh1QgAAwB97CHVCAACAhc0IdUIAAEDrHwl1QgAAAFFyCXVCAADAtsQJdUIAAIAcFwp1QgAAQIJpCnVCAAAA6LsKdUIAAMBNDgt1QgAAgLNgC3VCAABAGbMLdUIAAMCW9zJ1QgAAgPxJM3VCAABAYpwzdUIAAADI7jN1QgAAwC1BNHVCAACAk5M0dUIAAED55TR1QgAAAF84NXVCAADAxIo1dUIAAIAq3TV1QgAAQJAvNnVCAAAA9oE2dUIAAMBb1DZ1QgAAgMEmN3VCAABAJ3k3dUIAAACNyzd1QgAAwPIdOHVCAACAWHA4dUIAAEC+wjh1QgAAACQVOXVCAADAiWc5dUIAAIDvuTl1QgAAQFUMOnVCAAAAu146dUIAAMAgsTp1QgAAgIYDO3VCAABA7FU7dUIAAABSqDt1QgAAwLf6O3VCAACAHU08dUIAAECDnzx1QgAAAOnxPHVCAADATkQ9dUIAAIC0lj11QgAAQBrpPXVCAAAAgDs+dUIAAMDljT51QgAAgEvgPnVCAABAsTI/dUIAAAAXhT91QgAAwHzXP3VCAACA4ilAdUIAAEBIfEB1QgAAAK7OQHVCAADAEyFBdUIAAIB5c0F1QgAAQN/FQXVCAAAARRhCdUIAAMCqakJ1QgAAgBC9QnVCAABAdg9DdUIAAADcYUN1QgAAwEG0Q3VCAACApwZEdUIAAEANWUR1QgAAAHOrRHVCAADA2P1EdUIAAIA+UEV1QgAAQKSiRXVCAAAACvVFdUIAAMBvR0Z1QgAAgNWZRnVCAABAO+xGdUIAAAChPkd1QgAAwAaRR3VCAACAbONHdUIAAEDSNUh1QgAAADiISHVCAADAndpIdUIAAIADLUl1QgAAQGl/SXVCAAAAz9FJdUIAAMA0JEp1QgAAgJp2SnVCAABAAMlKdUIAAABmG0t1QgAAwMttS3VCAACAMcBLdUIAAECXEkx1QgAAAP1kTHVCAADAYrdMdUIAAIDICU11QgAAQC5cTXVCAAAAlK5NdUIAAMD5AE51QgAAgF9TTnVCAABAxaVOdUIAAAAr+E51QgAAwJBKT3VCAACA9pxPdUIAAEBc7091QgAAAMJBUHVCAADAJ5RQdUIAAICN5lB1QgAAQPM4UXVCAAAAWYtRdUIAAMC+3VF1QgAAgCQwUnVCAABAioJSdUIAAADw1FJ1QgAAwFUnU3VCAACAu3lTdUIAAEAhzFN1QgAAAIceVHVCAADA7HBUdUIAAIBSw1R1QgAAQLgVVXVCAAAAHmhVdUIAAMCDulV1QgAAgOkMVnVCAABAT19WdUIAAAC1sVZ1QgAAwBoEV3VCAACAgFZXdUIAAEDmqFd1QgAAAEz7V3VCAADAsU1YdUIAAIAXoFh1QgAAQH3yWHVCAAAA40RZdUIAAMBIl1l1QgAAgK7pWXVCAABAFDxadUIAAAB6jlp1QgAAwN/gWnVCAACARTNbdUIAAECrhVt1QgAAABHYW3VCAADAdipcdUIAAIDcfFx1QgAAQELPXHVCAAAAqCFddUIAAMANdF11QgAAgHPGXXVCAABA2RhedUIAAAA/a151QgAAwKS9XnVCAACAChBfdUIAAEBwYl91QgAAANa0X3VCAADAOwdgdUIAAIChWWB1QgAAQAesYHVCAAAAbf5gdUIAAMDSUGF1QgAAgDijYXVCAABAnvVhdUIAAAAESGJ1QgAAwGmaYnVCAACAz+xidUIAAEA1P2N1QgAAAJuRY3VCAADAAORjdUIAAIBmNmR1QgAAQMyIZHVCAAAAMttkdUIAAMCXLWV1QgAAgP1/ZXVCAABAY9JldUIAAADJJGZ1QgAAwC53ZnVCAACAlMlmdUIAAED6G2d1QgAAAGBuZ3VCAADAxcBndUIAAIArE2h1QgAAQJFlaHVCAAAA97dodUIAAMBcCml1QgAAgMJcaXVCAABAKK9pdUIAAACOAWp1QgAAwPNTanVCAACAWaZqdUIAAEC/+Gp1QgAAACVLa3VCAADAip1rdUIAAIDw72t1QgAAQFZCbHVCAAAAvJRsdUIAAMAh52x1QgAAgIc5bXVCAABA7YttdUIAAABT3m11QgAAwLgwbnVCAACAHoNudUIAAECE1W51QgAAAOonb3VCAADAT3pvdUIAAIC1zG91QgAAQBsfcHVCAAAAgXFwdUIAAMDmw3B1QgAAgEwWcXVCAABAsmhxdUIAAAAYu3F1QgAAwH0NcnVCAACA419ydUIAAEBJsnJ1QgAAAK8Ec3VCAADAFFdzdUIAAIB6qXN1QgAAQOD7c3VCAAAARk50dUIAAMCroHR1QgAAgBHzdHVCAABAd0V1dUIAAADdl3V1QgAAwELqdXVCAACAqDx2dUIAAEAOj3Z1QgAAAHThdnVCAADA2TN3dUIAAIA/hnd1QgAAQKXYd3VCAAAACyt4dUIAAMBwfXh1QgAAgNbPeHVCAABAPCJ5dUIAAACidHl1QgAAwAfHeXVCAACAbRl6dUIAAEDTa3p1QgAAADm+enVCAADAnhB7dUIAAIAEY3t1QgAAQGq1e3VCAAAA0Ad8dUIAAMA1Wnx1QgAAgJusfHVCAABAAf98dUIAAABnUX11QgAAwMyjfXVCAACAMvZ9dUIAAECYSH51QgAAAP6afnVCAADAY+1+dUIAAIDJP391QgAAQC+Sf3VCAAAAleR/dUIAAMD6NoB1QgAAgGCJgHVCAABAxtuAdUIAAAAsLoF1QgAAwJGAgXVCAACA99KBdUIAAEBdJYJ1QgAAAMN3gnVC\",\"dtype\":\"float64\",\"shape\":[2361]},\"y\":{\"__ndarray__\":\"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\",\"dtype\":\"float64\",\"shape\":[2361]}},\"selected\":{\"id\":\"223973\",\"type\":\"Selection\"},\"selection_policy\":{\"id\":\"223974\",\"type\":\"UnionRenderers\"}},\"id\":\"217290\",\"type\":\"ColumnDataSource\"},{\"attributes\":{\"callback\":null},\"id\":\"217233\",\"type\":\"DataRange1d\"},{\"attributes\":{\"active_drag\":\"auto\",\"active_inspect\":\"auto\",\"active_multi\":null,\"active_scroll\":\"auto\",\"active_tap\":\"auto\",\"tools\":[{\"id\":\"217251\",\"type\":\"PanTool\"},{\"id\":\"217252\",\"type\":\"WheelZoomTool\"},{\"id\":\"217253\",\"type\":\"BoxZoomTool\"},{\"id\":\"217254\",\"type\":\"SaveTool\"},{\"id\":\"217255\",\"type\":\"ResetTool\"},{\"id\":\"217256\",\"type\":\"HelpTool\"}]},\"id\":\"217257\",\"type\":\"Toolbar\"},{\"attributes\":{},\"id\":\"217239\",\"type\":\"LinearScale\"},{\"attributes\":{\"line_color\":\"blue\",\"x\":{\"field\":\"x\"},\"y\":{\"field\":\"y\"}},\"id\":\"217291\",\"type\":\"Line\"},{\"attributes\":{},\"id\":\"217273\",\"type\":\"BasicTickFormatter\"},{\"attributes\":{},\"id\":\"217271\",\"type\":\"DatetimeTickFormatter\"},{\"attributes\":{\"days\":[1,4,7,10,13,16,19,22,25,28]},\"id\":\"217279\",\"type\":\"DaysTicker\"},{\"attributes\":{\"months\":[0,1,2,3,4,5,6,7,8,9,10,11]},\"id\":\"217282\",\"type\":\"MonthsTicker\"},{\"attributes\":{\"line_alpha\":0.1,\"line_color\":\"#1f77b4\",\"x\":{\"field\":\"x\"},\"y\":{\"field\":\"y\"}},\"id\":\"217292\",\"type\":\"Line\"},{\"attributes\":{\"months\":[0,2,4,6,8,10]},\"id\":\"217283\",\"type\":\"MonthsTicker\"},{\"attributes\":{\"data_source\":{\"id\":\"217264\",\"type\":\"ColumnDataSource\"},\"glyph\":{\"id\":\"217265\",\"type\":\"Circle\"},\"hover_glyph\":null,\"muted_glyph\":null,\"nonselection_glyph\":{\"id\":\"217266\",\"type\":\"Circle\"},\"selection_glyph\":null,\"view\":{\"id\":\"217268\",\"type\":\"CDSView\"}},\"id\":\"217267\",\"type\":\"GlyphRenderer\"},{\"attributes\":{\"days\":[1,8,15,22]},\"id\":\"217280\",\"type\":\"DaysTicker\"},{\"attributes\":{\"data_source\":{\"id\":\"217290\",\"type\":\"ColumnDataSource\"},\"glyph\":{\"id\":\"217291\",\"type\":\"Line\"},\"hover_glyph\":null,\"muted_glyph\":null,\"nonselection_glyph\":{\"id\":\"217292\",\"type\":\"Line\"},\"selection_glyph\":null,\"view\":{\"id\":\"217294\",\"type\":\"CDSView\"}},\"id\":\"217293\",\"type\":\"GlyphRenderer\"},{\"attributes\":{},\"id\":\"217237\",\"type\":\"LinearScale\"},{\"attributes\":{\"base\":24,\"mantissas\":[1,2,4,6,8,12],\"max_interval\":43200000.0,\"min_interval\":3600000.0,\"num_minor_ticks\":0},\"id\":\"217277\",\"type\":\"AdaptiveTicker\"},{\"attributes\":{\"callback\":null},\"id\":\"217235\",\"type\":\"DataRange1d\"},{\"attributes\":{\"text\":\"\"},\"id\":\"217269\",\"type\":\"Title\"},{\"attributes\":{\"source\":{\"id\":\"217290\",\"type\":\"ColumnDataSource\"}},\"id\":\"217294\",\"type\":\"CDSView\"},{\"attributes\":{\"formatter\":{\"id\":\"217273\",\"type\":\"BasicTickFormatter\"},\"ticker\":{\"id\":\"217247\",\"type\":\"BasicTicker\"}},\"id\":\"217246\",\"type\":\"LinearAxis\"},{\"attributes\":{\"source\":{\"id\":\"217264\",\"type\":\"ColumnDataSource\"}},\"id\":\"217268\",\"type\":\"CDSView\"},{\"attributes\":{\"fill_alpha\":{\"value\":0.1},\"fill_color\":{\"value\":\"#1f77b4\"},\"line_alpha\":{\"value\":0.1},\"line_color\":{\"value\":\"#1f77b4\"},\"size\":{\"units\":\"screen\",\"value\":10},\"x\":{\"field\":\"x\"},\"y\":{\"field\":\"y\"}},\"id\":\"217266\",\"type\":\"Circle\"},{\"attributes\":{},\"id\":\"217252\",\"type\":\"WheelZoomTool\"},{\"attributes\":{},\"id\":\"217254\",\"type\":\"SaveTool\"},{\"attributes\":{\"base\":60,\"mantissas\":[1,2,5,10,15,20,30],\"max_interval\":1800000.0,\"min_interval\":1000.0,\"num_minor_ticks\":0},\"id\":\"217276\",\"type\":\"AdaptiveTicker\"},{\"attributes\":{},\"id\":\"217251\",\"type\":\"PanTool\"},{\"attributes\":{},\"id\":\"223971\",\"type\":\"Selection\"},{\"attributes\":{},\"id\":\"223972\",\"type\":\"UnionRenderers\"},{\"attributes\":{\"callback\":null,\"data\":{\"x\":{\"__ndarray__\":\"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\",\"dtype\":\"float64\",\"shape\":[576]},\"y\":{\"__ndarray__\":\"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\",\"dtype\":\"float64\",\"shape\":[576]}},\"selected\":{\"id\":\"223971\",\"type\":\"Selection\"},\"selection_policy\":{\"id\":\"223972\",\"type\":\"UnionRenderers\"}},\"id\":\"217264\",\"type\":\"ColumnDataSource\"},{\"attributes\":{},\"id\":\"223973\",\"type\":\"Selection\"},{\"attributes\":{},\"id\":\"217247\",\"type\":\"BasicTicker\"},{\"attributes\":{},\"id\":\"223974\",\"type\":\"UnionRenderers\"},{\"attributes\":{\"days\":[1,15]},\"id\":\"217281\",\"type\":\"DaysTicker\"},{\"attributes\":{\"fill_alpha\":{\"value\":0.5},\"fill_color\":{\"value\":\"red\"},\"line_alpha\":{\"value\":0.5},\"line_color\":{\"value\":\"red\"},\"size\":{\"units\":\"screen\",\"value\":10},\"x\":{\"field\":\"x\"},\"y\":{\"field\":\"y\"}},\"id\":\"217265\",\"type\":\"Circle\"},{\"attributes\":{},\"id\":\"217255\",\"type\":\"ResetTool\"}],\"root_ids\":[\"217232\"]},\"title\":\"Bokeh Application\",\"version\":\"1.4.0\"}};\n",
       "  var render_items = [{\"docid\":\"8de97c16-c969-41cc-8fc3-c2cb546436bb\",\"roots\":{\"217232\":\"2c1d1d9f-250d-4d77-a6b0-40731ae4eafe\"}}];\n",
       "  root.Bokeh.embed.embed_items_notebook(docs_json, render_items);\n",
       "\n",
       "  }\n",
       "  if (root.Bokeh !== undefined) {\n",
       "    embed_document(root);\n",
       "  } else {\n",
       "    var attempts = 0;\n",
       "    var timer = setInterval(function(root) {\n",
       "      if (root.Bokeh !== undefined) {\n",
       "        clearInterval(timer);\n",
       "        embed_document(root);\n",
       "      } else {\n",
       "        attempts++;\n",
       "        if (attempts > 100) {\n",
       "          clearInterval(timer);\n",
       "          console.log(\"Bokeh: ERROR: Unable to run BokehJS code because BokehJS library is missing\");\n",
       "        }\n",
       "      }\n",
       "    }, 10, root)\n",
       "  }\n",
       "})(window);"
      ],
      "application/vnd.bokehjs_exec.v0+json": ""
     },
     "metadata": {
      "application/vnd.bokehjs_exec.v0+json": {
       "id": "217232"
      }
     },
     "output_type": "display_data"
    }
   ],
   "source": [
    "from bokeh.plotting import figure, output_file, show, output_notebook\n",
    "\n",
    "input_sig = df[['DAILY_FLOW']].copy()\n",
    "signal = np.array(sigs)\n",
    "input_sig['sig'] = signal.copy().astype(int)\n",
    "input_sig['f_sig'] = f_dat\n",
    "\n",
    "foo = input_sig[input_sig['sig'] == 1].copy()\n",
    "p = figure(plot_width=800, plot_height=400, x_axis_type='datetime')\n",
    "# add a circle renderer with a size, color, and alpha\n",
    "p.circle(foo.index, foo['DAILY_FLOW'], size=10, color=\"red\", \n",
    "         alpha=0.5, legend_label='{} pts'.format(len(foo)))\n",
    "# p.line(input_sig.index, input_sig['f_sig'], color='blue')\n",
    "p.line(input_sig.index, input_sig['DAILY_FLOW'], color='blue')\n",
    "# p.line()\n",
    "# show the results\n",
    "show(p)"
   ]
  },
  {
   "cell_type": "markdown",
   "metadata": {},
   "source": [
    "Find the summer baseflow\n",
    "\n",
    "Break up the May to November records by periods where it comes back to within X% of baseflow.  \n",
    "\n",
    "check durations of these periods, see how many there are."
   ]
  },
  {
   "cell_type": "code",
   "execution_count": 476,
   "metadata": {},
   "outputs": [],
   "source": [
    "# Based on code from Anomaly detection ML methods article:\n",
    "# https://towardsdatascience.com/machine-learning-for-anomaly-detection-and-condition-monitoring-d4614e7de770\n",
    "\n",
    "# Common imports\n",
    "import os\n",
    "import pandas as pd\n",
    "import numpy as np\n",
    "from sklearn import preprocessing\n",
    "import seaborn as sns\n",
    "sns.set(color_codes=True)\n",
    "import matplotlib.pyplot as plt\n",
    "%matplotlib inline\n",
    "\n",
    "from numpy.random import seed\n",
    "import tensorflow\n",
    "\n",
    "from keras.layers import Input, Dropout\n",
    "from keras.layers.core import Dense \n",
    "from keras.models import Model, Sequential, load_model\n",
    "from keras import regularizers\n",
    "from keras.models import model_from_json"
   ]
  },
  {
   "cell_type": "code",
   "execution_count": 477,
   "metadata": {},
   "outputs": [],
   "source": [
    "lag_df = input_sig[['DAILY_FLOW']].copy()\n",
    "lag_df.rename(columns={'DAILY_FLOW': 'Q'}, inplace=True)\n",
    "\n",
    "num_lags = int(np.ceil(stn_da / 100 + 7))\n",
    "\n",
    "\n",
    "for i in range(1,num_lags):\n",
    "    lag_df['Q{}'.format(i)] = lag_df['Q'].shift(i)\n",
    "\n",
    "lag_df.dropna(inplace=True)\n"
   ]
  },
  {
   "cell_type": "code",
   "execution_count": 478,
   "metadata": {},
   "outputs": [],
   "source": [
    "# # add check for baseflow, and extend/trim the target record start and end to isolate the low flow \n",
    "# summer period\n",
    "# def extract_summer_data(data):\n",
    "#     summer_months = [8, 9, 10]\n",
    "#     return data[data.index.month.isin(summer_months)]\n",
    "\n",
    "def split_train_and_test_data(data, summer_months, training_year):\n",
    "    all_years = list(set(data.index.year))\n",
    "    all_years_data = data[['Q']].groupby(data.index.year).mean()\n",
    "    all_year_means = list(all_years_data.to_numpy().flatten())\n",
    "    if len(all_years) % 2 == 0:\n",
    "        all_year_means.append(0)\n",
    "\n",
    "    median_year_flow = np.median(all_year_means)\n",
    "    median_year = all_years_data[all_years_data['Q'] == median_year_flow].index.values[0]\n",
    "    train_data = data[data.index.year == training_year]#median_year]\n",
    "\n",
    "    train_data = train_data[train_data.index.month.isin(summer_months)]\n",
    "    test_data = data\n",
    "    return train_data, test_data"
   ]
  },
  {
   "cell_type": "code",
   "execution_count": 479,
   "metadata": {},
   "outputs": [],
   "source": [
    "def MahalanobisDist(inv_cov_matrix, mean_distr, data, verbose=False):\n",
    "    inv_covariance_matrix = inv_cov_matrix\n",
    "    vars_mean = mean_distr\n",
    "    diff = data - vars_mean\n",
    "    md = []\n",
    "    for i in range(len(diff)):\n",
    "        md.append(np.sqrt(diff[i].dot(inv_covariance_matrix).dot(diff[i])))\n",
    "    return md\n",
    "\n",
    "def MD_detectOutliers(dist, extreme=False, verbose=False):\n",
    "    k = 3. if extreme else 2.\n",
    "    threshold = np.mean(dist) * k\n",
    "    outliers = []\n",
    "    for i in range(len(dist)):\n",
    "        if dist[i] >= threshold:\n",
    "            outliers.append(i)  # index of the outlier\n",
    "    return np.array(outliers)\n",
    "\n",
    "def MD_threshold(dist, extreme=False, verbose=False):\n",
    "    k = 3. if extreme else 2.\n",
    "    threshold = np.mean(dist) * k\n",
    "    return threshold\n",
    "\n",
    "def is_pos_def(A):\n",
    "    if np.allclose(A, A.T):\n",
    "        try:\n",
    "            np.linalg.cholesky(A)\n",
    "            return True\n",
    "        except np.linalg.LinAlgError:\n",
    "            return False\n",
    "    else:\n",
    "        return False"
   ]
  },
  {
   "cell_type": "code",
   "execution_count": 480,
   "metadata": {},
   "outputs": [],
   "source": [
    "from sklearn.decomposition import PCA\n",
    "\n",
    "def do_PCA(X_train, X_test):\n",
    "    \n",
    "    for n_components in range(2, 6):\n",
    "\n",
    "        pca = PCA(n_components=n_components, svd_solver= 'full')\n",
    "        X_train_PCA = pca.fit_transform(X_train)\n",
    "        X_train_PCA = pd.DataFrame(X_train_PCA)\n",
    "        X_train_PCA.index = X_train.index\n",
    "\n",
    "        X_test_PCA = pca.transform(X_test)\n",
    "        X_test_PCA = pd.DataFrame(X_test_PCA)\n",
    "        X_test_PCA.index = X_test.index\n",
    "\n",
    "        var_expl = 100*np.sum(pca.explained_variance_ratio_)\n",
    "        if var_expl >= 90:\n",
    "            return X_train_PCA, X_test_PCA, var_expl, n_components\n",
    "    return X_train_PCA, X_test_PCA, var_expl, n_components\n",
    "\n",
    "\n",
    "def train_model(lag_df, summer_months, training_year):\n",
    "\n",
    "    dataset_train, dataset_test = split_train_and_test_data(lag_df, summer_months, training_year)\n",
    "    \n",
    "    if len(dataset_train) < 2:\n",
    "        return pd.DataFrame([]), 'No training data for selected parameters.'\n",
    "\n",
    "    scaler = preprocessing.MinMaxScaler()\n",
    "\n",
    "    X_train = pd.DataFrame(scaler.fit_transform(dataset_train), \n",
    "                                  columns=dataset_train.columns, \n",
    "                                  index=dataset_train.index)\n",
    "    # Random shuffle training data\n",
    "    X_train.sample(frac=1)\n",
    "\n",
    "    X_test = pd.DataFrame(scaler.transform(dataset_test), \n",
    "                                 columns=dataset_test.columns, \n",
    "                                 index=dataset_test.index)\n",
    "    \n",
    "    X_train_PCA, X_test_PCA, var_expl, n_components = do_PCA(X_train, X_test)\n",
    "    \n",
    "    data_train = np.array(X_train_PCA.values)\n",
    "    data_test = np.array(X_test_PCA.values)\n",
    "    \n",
    "    def cov_matrix(data, verbose=False):\n",
    "        covariance_matrix = np.cov(data, rowvar=False)\n",
    "        if is_pos_def(covariance_matrix):\n",
    "            inv_covariance_matrix = np.linalg.inv(covariance_matrix)\n",
    "            if is_pos_def(inv_covariance_matrix):\n",
    "                return covariance_matrix, inv_covariance_matrix\n",
    "            else:\n",
    "                print(\"Error: Inverse of Covariance Matrix is not positive definite!\")\n",
    "        else:\n",
    "            print(\"Error: Covariance Matrix is not positive definite!\")\n",
    "\n",
    "    cov_matrix, inv_cov_matrix = cov_matrix(data_train)\n",
    "\n",
    "    mean_distr = data_train.mean(axis=0)\n",
    "\n",
    "    dist_test = MahalanobisDist(inv_cov_matrix, mean_distr, data_test, verbose=False)\n",
    "    dist_train = MahalanobisDist(inv_cov_matrix, mean_distr, data_train, verbose=False)\n",
    "    threshold = MD_threshold(dist_train, extreme = True)\n",
    "    \n",
    "    anomaly_train = pd.DataFrame()\n",
    "    anomaly_train['Mob dist']= dist_train\n",
    "    anomaly_train['Thresh'] = threshold\n",
    "    # If Mob dist above threshold: Flag as anomaly\n",
    "    anomaly_train['Anomaly'] = anomaly_train['Mob dist'] > anomaly_train['Thresh']\n",
    "    anomaly_train.index = X_train_PCA.index\n",
    "    anomaly = pd.DataFrame()\n",
    "    anomaly['Mob dist']= dist_test\n",
    "    anomaly['Thresh'] = threshold\n",
    "    # If Mob dist above threshold: Flag as anomaly\n",
    "    anomaly['Anomaly'] = anomaly['Mob dist'] > anomaly['Thresh']\n",
    "    anomaly.index = X_test_PCA.index\n",
    "    anomaly.head()\n",
    "    \n",
    "    anomaly_alldata = pd.concat([anomaly_train, anomaly])\n",
    "    \n",
    "    event_times = np.where(anomaly_alldata['Anomaly'].values[:-1] != anomaly_alldata['Anomaly'].values[1:])[0]\n",
    "    events = pd.merge(input_sig, anomaly_alldata.iloc[event_times,:], how='inner', \n",
    "                      left_index=True, right_index=True)\n",
    "\n",
    "    events = events.loc[~events.index.duplicated(keep='first')]\n",
    "\n",
    "    # print(events.head(50))\n",
    "    \n",
    "    if len(events) == 0:\n",
    "        return pd.DataFrame([]), 'No events found.'\n",
    "    elif events.iloc[0]['Anomaly'] == True:\n",
    "        events = events.iloc[1:]\n",
    "        \n",
    "    # create a column of time difference between events in days\n",
    "    events['dt_days'] = events.index.to_series().diff(1)\n",
    "    \n",
    "\n",
    "    a = time.time()\n",
    "\n",
    "    last_event_end = False\n",
    "\n",
    "    new_events = pd.DataFrame()\n",
    "\n",
    "    # iterate through the detected event pairs \n",
    "    for i in np.arange(0, len(events) - 1, 2):\n",
    "        # parse a single event pair\n",
    "        this_event = events.iloc[i:i+2]\n",
    "\n",
    "        check_sign_switch = this_event['Anomaly'].values[0] != this_event['Anomaly'].values[1]\n",
    "        concurrent_wsc = lag_df[(lag_df.index >= this_event.index.values[0]) & (lag_df.index <= this_event.index.values[1])][['Q']]\n",
    "        peak_in_middle = check_peak_in_middle(this_event, concurrent_wsc)\n",
    "\n",
    "        if (check_sign_switch) & (peak_in_middle):\n",
    "\n",
    "            # get the start date\n",
    "            this_event_start = pd.to_datetime(this_event[this_event['Anomaly'] == False].index.values[0])\n",
    "            # get the end date\n",
    "            this_event_end = pd.to_datetime(this_event[this_event['Anomaly'] == True].index.values[0])\n",
    "\n",
    "            new_event_start = lag_df[lag_df.index == this_event_start][['Q']]\n",
    "            new_event_end = lag_df[lag_df.index == this_event_end][['Q']]\n",
    "\n",
    "            adjusted_start_date = pd.to_datetime(adjust_edge_date(this_event_start, lag_df[['Q']], 'start'))\n",
    "\n",
    "            new_event_start = lag_df[lag_df.index == adjusted_start_date][['Q']]\n",
    "\n",
    "            if last_event_end is not False:\n",
    "\n",
    "                # find if the start date is on the rising limb - adjust if so\n",
    "                if adjusted_start_date < last_event_end:\n",
    "                    new_event_start = lag_df[lag_df.index == this_event_start][['Q']]\n",
    "\n",
    "\n",
    "\n",
    "            new_event_start['timing'] = 'start'\n",
    "            new_event_end['timing'] = 'end'\n",
    "\n",
    "            min_time_check = (new_event_end.index - new_event_start.index).days > 1\n",
    "            max_time_check = (new_event_end.index - new_event_start.index).days <= 14\n",
    "            start_month = new_event_start.index.month\n",
    "            end_month = new_event_end.index.month\n",
    "            season_check = (start_month > 5) & (start_month <= 11) & (end_month <= 11)\n",
    "\n",
    "            if (min_time_check) & (max_time_check) & (season_check):\n",
    "                # filter out events that are longer than 5 days\n",
    "                new_events = new_events.append(new_event_start)\n",
    "                new_events = new_events.append(new_event_end)\n",
    "\n",
    "            last_event_end = pd.to_datetime(this_event_end)\n",
    "\n",
    "\n",
    "    b = time.time()\n",
    "\n",
    "    new_events.sort_index(inplace=True)\n",
    "\n",
    "    new_events['dt_days'] = new_events.index.to_series().diff(1)\n",
    "    # new_events['Datetime'] = pd.to_datetime(new_events.index.values)\n",
    "    msg = '{} components explain {:.1f}% of the variance and find {} events in {:.2f}'.format(n_components, var_expl,  \n",
    "                                                                                             len(new_events), b-a, )\n",
    "    \n",
    "    return new_events, msg\n"
   ]
  },
  {
   "cell_type": "code",
   "execution_count": 481,
   "metadata": {},
   "outputs": [],
   "source": [
    "def adjust_edge_date(initial_date, data, direction):\n",
    "    \"\"\"\n",
    "    If the start flow is on a rising limb, adjust the start to the start of the runoff event.\n",
    "    \"\"\"\n",
    "    initial_val = data[data.index == initial_date]['Q']\n",
    "\n",
    "    if direction == 'end':\n",
    "        search_criteria = (data.index <= initial_date + pd.Timedelta('7 days')) & (data.index >= initial_date)\n",
    "        search_direction = -1\n",
    "    elif direction == 'start':\n",
    "        search_criteria = (data.index >= initial_date - pd.Timedelta('7 days')) & (data.index <= initial_date)\n",
    "        search_direction = 1\n",
    "        \n",
    "        \n",
    "    extended_week_vals = data[search_criteria][['Q']]\n",
    "    extended_week_vals['diff'] = extended_week_vals.diff(periods=search_direction)\n",
    "    extended_week_vals['pct_change'] = 100 * extended_week_vals['diff'] / extended_week_vals['Q']\n",
    "\n",
    "    if direction == 'start':\n",
    "        try:\n",
    "            extended_week_vals.at[extended_week_vals.index.min(),'diff'] = -1\n",
    "            change_point_row = extended_week_vals[['pct_change']].idxmax()\n",
    "            if len(change_point_row) > 1:\n",
    "                change_point_date = extended_week_vals.loc[change_point_row - pd.DateOffset(1)].index.values[0]\n",
    "                adjusted_date = change_point_date\n",
    "            else:\n",
    "                adjusted_date = initial_date\n",
    "            \n",
    "        except ValueError as err:\n",
    "#                 print(err)\n",
    "#                 print('no change')\n",
    "            adjusted_date = initial_date\n",
    "\n",
    "    elif direction == 'end':\n",
    "#             adjusted_dates.append(s)\n",
    "        try:\n",
    "            change_point = extended_week_vals[extended_week_vals['diff'] < 0][['Q']].idxmin().values[0]\n",
    "            adjusted_dates = change_point\n",
    "#                 print(s, change_point)\n",
    "\n",
    "        except ValueError as err:\n",
    "#                 print(extended_week_vals['Q'].min())\n",
    "            change_point = extended_week_vals[extended_week_vals['Q'] == extended_week_vals['Q'].min()].index.values[0]\n",
    "#                 print(err)\n",
    "#                 print('no change')\n",
    "            adjusted_date = change_point\n",
    "\n",
    "            \n",
    "    return pd.to_datetime(adjusted_date)\n",
    "\n",
    "def check_peak_in_middle(event, data):\n",
    "    \"\"\"\n",
    "    Ensure there is a peak between the start and end points\n",
    "    so we aren't targeting a non-runoff event.\n",
    "    \"\"\"\n",
    "    start_time = event.index.values[0] \n",
    "    end_time = event.index.values[-1]\n",
    "    max_time = data[data['Q'] == data['Q'].max()].index.values[0]\n",
    "    if (max_time == start_time) | (max_time == end_time):\n",
    "        return False\n",
    "    else:\n",
    "        return True"
   ]
  },
  {
   "cell_type": "code",
   "execution_count": 482,
   "metadata": {},
   "outputs": [],
   "source": [
    "import itertools\n",
    "def get_combinations(months, n):\n",
    "    combinations = []\n",
    "    for comb in itertools.combinations(months, n):\n",
    "        combinations.append(comb)\n",
    "    return combinations"
   ]
  },
  {
   "cell_type": "code",
   "execution_count": null,
   "metadata": {},
   "outputs": [
    {
     "name": "stdout",
     "output_type": "stream",
     "text": [
      "5 components explain 67.0% of the variance and find 26 events in 0.37\n",
      "3 components explain 90.9% of the variance and find 38 events in 0.50\n",
      "3 components explain 90.6% of the variance and find 40 events in 0.58\n",
      "3 components explain 92.3% of the variance and find 72 events in 0.84\n"
     ]
    }
   ],
   "source": [
    "training_months = [6, 7, 8, 9, 10, 11, 12]\n",
    "training_year = list(set([e.year for e in lag_df.index]))\n",
    "\n",
    "all_combinations = np.array([get_combinations(training_months, n) for n in range(1,len(training_months))]).flatten()\n",
    "\n",
    "flat_list = [item for sublist in all_combinations for item in sublist]\n",
    "\n",
    "best_radar_stn = test_stn_info['Closest_radar'].values[0]\n",
    "\n",
    "max_events = 0\n",
    "best_events = None\n",
    "trial_data = []\n",
    "for y in training_year:\n",
    "    for c in flat_list:\n",
    "        new_events, msg = train_model(lag_df, c, y)\n",
    "        if len(new_events) == 0:\n",
    "            trial_data.append([y, c, 0])\n",
    "        else:\n",
    "            trial_data.append([y, c, len(new_events)])\n",
    "        if len(new_events) > 0:\n",
    "            if len(new_events) > max_events:\n",
    "                max_events = len(new_events)\n",
    "                best_events = new_events\n",
    "                print(msg)\n",
    "            "
   ]
  },
  {
   "cell_type": "code",
   "execution_count": null,
   "metadata": {},
   "outputs": [],
   "source": [
    "# save the best_events dataframe as a csv\n",
    "events_save_path = os.path.join(PROJECT_DIR, 'data/precip_events_data/{}_events.csv'.format(test_stn))\n",
    "best_events['radar_stn'] = best_radar_stn\n",
    "best_events.to_csv(events_save_path)\n",
    "\n",
    "# save the trial information to investigate the solution space and optimization exercise\n",
    "trials_save_path = os.path.join(PROJECT_DIR, 'data/precip_events_data/{}_trials.csv'.format(test_stn))\n",
    "trial_df = pd.DataFrame(trial_data, columns=['train_year', 'train_months', 'num_results'])\n",
    "trial_df.to_csv(trials_save_path)"
   ]
  },
  {
   "cell_type": "code",
   "execution_count": null,
   "metadata": {},
   "outputs": [],
   "source": [
    "p = figure(plot_width=800, plot_height=400, x_axis_type='datetime')\n",
    "\n",
    "e1 = best_events[best_events['timing'] == 'start']\n",
    "e2 = best_events[best_events['timing'] == 'end']\n",
    "\n",
    "p.circle(e1.index, e1['Q'], color='red', alpha=0.5, size=10, legend_label='start')\n",
    "p.circle(e2.index, e2['Q'], color='blue', alpha=0.5, size=10, legend_label='end')\n",
    "\n",
    "# p.line(input_sig.index, input_sig['f_sig'], color='blue')\n",
    "p.line(input_sig.index, input_sig['DAILY_FLOW'], color='blue')\n",
    "# p.line()\n",
    "# show the results\n",
    "show(p)"
   ]
  },
  {
   "cell_type": "code",
   "execution_count": 459,
   "metadata": {},
   "outputs": [
    {
     "name": "stdout",
     "output_type": "stream",
     "text": [
      "there are 14 plots\n"
     ]
    }
   ],
   "source": [
    "# create grid plot of individual events\n",
    "\n",
    "plots = []\n",
    "\n",
    "for i in np.arange(0, len(best_events) - 1, 2):\n",
    "    \n",
    "    # parse a single event pair\n",
    "    this_event = best_events.iloc[i:i+2]\n",
    "    \n",
    "    s1 = figure(background_fill_color=\"#fafafa\", x_axis_type='datetime')\n",
    "    \n",
    "    s1.circle(this_event.index, this_event['Q'], \n",
    "              size=12, alpha=0.8, color=\"red\")#, legend_label='{estimated endpoints}')\n",
    "    s1.xaxis.major_label_orientation = math.pi/2\n",
    "    this_start = pd.to_datetime(this_event.index.values[0])\n",
    "    this_end = pd.to_datetime(this_event.index.values[1])\n",
    "    this_dat = lag_df[(lag_df.index >= this_start) & (lag_df.index <= this_end)][['Q']]\n",
    "    \n",
    "    if (this_end.month < 12) & (this_start.month > 5):\n",
    "        year = this_event.index.year.values[0]\n",
    "        month = this_event.index.month.values[0]\n",
    "        day = this_event.index.day.values[0]\n",
    "        date = '{}-{}-{}'.format(year, month, day)\n",
    "        s1.line(this_dat.index, this_dat['Q'], color='blue')\n",
    "        plots.append(s1)\n",
    "\n",
    "print('there are {} plots'.format(len(plots)))"
   ]
  },
  {
   "cell_type": "code",
   "execution_count": 460,
   "metadata": {},
   "outputs": [],
   "source": [
    "# if len(plots) < 6:\n",
    "#     grid = gridplot(plots, plot_width=150, plot_height=150)\n",
    "# else:\n",
    "n_cols = 5\n",
    "n_rows = int(np.ceil(len(plots) / n_cols))\n",
    "\n",
    "\n",
    "g = []\n",
    "for i in range(0, len(plots), n_cols):\n",
    "    g += [plots[i:i+n_cols]]\n",
    "grid = gridplot(g, plot_width=150, plot_height=150)"
   ]
  },
  {
   "cell_type": "code",
   "execution_count": 461,
   "metadata": {},
   "outputs": [
    {
     "data": {
      "text/html": [
       "\n",
       "\n",
       "\n",
       "\n",
       "\n",
       "\n",
       "  <div class=\"bk-root\" id=\"e0184b8c-7a10-4270-a03a-ae2c1422a70b\" data-root-id=\"208641\"></div>\n"
      ]
     },
     "metadata": {},
     "output_type": "display_data"
    },
    {
     "data": {
      "application/javascript": [
       "(function(root) {\n",
       "  function embed_document(root) {\n",
       "    \n",
       "  var docs_json = {\"8910d8e2-e15b-4e5e-8ca8-702fc1f9efaf\":{\"roots\":{\"references\":[{\"attributes\":{\"children\":[{\"id\":\"208640\",\"type\":\"ToolbarBox\"},{\"id\":\"208638\",\"type\":\"GridBox\"}]},\"id\":\"208641\",\"type\":\"Column\"},{\"attributes\":{},\"id\":\"208633\",\"type\":\"UnionRenderers\"},{\"attributes\":{\"active_drag\":\"auto\",\"active_inspect\":\"auto\",\"active_multi\":null,\"active_scroll\":\"auto\",\"active_tap\":\"auto\",\"tools\":[{\"id\":\"208111\",\"type\":\"PanTool\"},{\"id\":\"208112\",\"type\":\"WheelZoomTool\"},{\"id\":\"208113\",\"type\":\"BoxZoomTool\"},{\"id\":\"208114\",\"type\":\"SaveTool\"},{\"id\":\"208115\",\"type\":\"ResetTool\"},{\"id\":\"208116\",\"type\":\"HelpTool\"}]},\"id\":\"208117\",\"type\":\"Toolbar\"},{\"attributes\":{\"callback\":null,\"data\":{\"x\":{\"__ndarray__\":\"AAAAsHXIcUIAAMAVyMhxQgAAgHsayXFCAABA4WzJcUIAAABHv8lxQgAAwKwRynFCAACAEmTKcUIAAEB4tspxQgAAAN4Iy3FC\",\"dtype\":\"float64\",\"shape\":[9]},\"y\":{\"__ndarray__\":\"AAAAAClcAUABAACA61EEQAAAAMAehQVAAAAAANejBEAAAADAHoUDQAAAAKBH4QJAAAAAAAAAAkAAAAAgrkcBQAAAACBcjwBA\",\"dtype\":\"float64\",\"shape\":[9]}},\"selected\":{\"id\":\"208418\",\"type\":\"Selection\"},\"selection_policy\":{\"id\":\"208419\",\"type\":\"UnionRenderers\"}},\"id\":\"207919\",\"type\":\"ColumnDataSource\"},{\"attributes\":{\"callback\":null,\"data\":{\"x\":{\"__ndarray__\":\"AADAolH6dEIAAIAIpPp0QgAAQG72+nRCAAAA1Ej7dEIAAMA5m/t0QgAAgJ/t+3RCAABABUD8dEIAAABrkvx0QgAAwNDk/HRCAACANjf9dEIAAECcif10Qg==\",\"dtype\":\"float64\",\"shape\":[11]},\"y\":{\"__ndarray__\":\"AAAAQArXAUAAAAAAKVwDQAEAAEAzMwFAAAAA4HoU/j8AAAAgXI/6PwAAAIAUrvc/AAAAIIXr9T8AAADgo3D5PwAAAIA9CgFA////X4/CA0AAAACAPQoDQA==\",\"dtype\":\"float64\",\"shape\":[11]}},\"selected\":{\"id\":\"208586\",\"type\":\"Selection\"},\"selection_policy\":{\"id\":\"208587\",\"type\":\"UnionRenderers\"}},\"id\":\"208213\",\"type\":\"ColumnDataSource\"},{\"attributes\":{\"data_source\":{\"id\":\"208124\",\"type\":\"ColumnDataSource\"},\"glyph\":{\"id\":\"208125\",\"type\":\"Circle\"},\"hover_glyph\":null,\"muted_glyph\":null,\"nonselection_glyph\":{\"id\":\"208126\",\"type\":\"Circle\"},\"selection_glyph\":null,\"view\":{\"id\":\"208128\",\"type\":\"CDSView\"}},\"id\":\"208127\",\"type\":\"GlyphRenderer\"},{\"attributes\":{\"line_color\":\"blue\",\"x\":{\"field\":\"x\"},\"y\":{\"field\":\"y\"}},\"id\":\"207878\",\"type\":\"Line\"},{\"attributes\":{\"line_color\":\"blue\",\"x\":{\"field\":\"x\"},\"y\":{\"field\":\"y\"}},\"id\":\"208172\",\"type\":\"Line\"},{\"attributes\":{\"months\":[0,2,4,6,8,10]},\"id\":\"208340\",\"type\":\"MonthsTicker\"},{\"attributes\":{\"callback\":null},\"id\":\"207715\",\"type\":\"DataRange1d\"},{\"attributes\":{\"months\":[0,4,8]},\"id\":\"208341\",\"type\":\"MonthsTicker\"},{\"attributes\":{},\"id\":\"208634\",\"type\":\"Selection\"},{\"attributes\":{\"line_alpha\":0.1,\"line_color\":\"#1f77b4\",\"x\":{\"field\":\"x\"},\"y\":{\"field\":\"y\"}},\"id\":\"207879\",\"type\":\"Line\"},{\"attributes\":{\"line_alpha\":0.1,\"line_color\":\"#1f77b4\",\"x\":{\"field\":\"x\"},\"y\":{\"field\":\"y\"}},\"id\":\"208173\",\"type\":\"Line\"},{\"attributes\":{},\"id\":\"208635\",\"type\":\"UnionRenderers\"},{\"attributes\":{\"source\":{\"id\":\"208124\",\"type\":\"ColumnDataSource\"}},\"id\":\"208128\",\"type\":\"CDSView\"},{\"attributes\":{\"months\":[0,1,2,3,4,5,6,7,8,9,10,11]},\"id\":\"208339\",\"type\":\"MonthsTicker\"},{\"attributes\":{\"data_source\":{\"id\":\"207877\",\"type\":\"ColumnDataSource\"},\"glyph\":{\"id\":\"207878\",\"type\":\"Line\"},\"hover_glyph\":null,\"muted_glyph\":null,\"nonselection_glyph\":{\"id\":\"207879\",\"type\":\"Line\"},\"selection_glyph\":null,\"view\":{\"id\":\"207881\",\"type\":\"CDSView\"}},\"id\":\"207880\",\"type\":\"GlyphRenderer\"},{\"attributes\":{\"data_source\":{\"id\":\"208171\",\"type\":\"ColumnDataSource\"},\"glyph\":{\"id\":\"208172\",\"type\":\"Line\"},\"hover_glyph\":null,\"muted_glyph\":null,\"nonselection_glyph\":{\"id\":\"208173\",\"type\":\"Line\"},\"selection_glyph\":null,\"view\":{\"id\":\"208175\",\"type\":\"CDSView\"}},\"id\":\"208174\",\"type\":\"GlyphRenderer\"},{\"attributes\":{\"bottom_units\":\"screen\",\"fill_alpha\":{\"value\":0.5},\"fill_color\":{\"value\":\"lightgrey\"},\"left_units\":\"screen\",\"level\":\"overlay\",\"line_alpha\":{\"value\":1.0},\"line_color\":{\"value\":\"black\"},\"line_dash\":[4,4],\"line_width\":{\"value\":2},\"render_mode\":\"css\",\"right_units\":\"screen\",\"top_units\":\"screen\"},\"id\":\"208636\",\"type\":\"BoxAnnotation\"},{\"attributes\":{\"line_color\":\"blue\",\"x\":{\"field\":\"x\"},\"y\":{\"field\":\"y\"}},\"id\":\"208130\",\"type\":\"Line\"},{\"attributes\":{\"months\":[0,6]},\"id\":\"208342\",\"type\":\"MonthsTicker\"},{\"attributes\":{\"source\":{\"id\":\"207877\",\"type\":\"ColumnDataSource\"}},\"id\":\"207881\",\"type\":\"CDSView\"},{\"attributes\":{\"source\":{\"id\":\"208171\",\"type\":\"ColumnDataSource\"}},\"id\":\"208175\",\"type\":\"CDSView\"},{\"attributes\":{},\"id\":\"208346\",\"type\":\"Selection\"},{\"attributes\":{\"toolbar\":{\"id\":\"208639\",\"type\":\"ProxyToolbar\"},\"toolbar_location\":\"above\"},\"id\":\"208640\",\"type\":\"ToolbarBox\"},{\"attributes\":{},\"id\":\"208344\",\"type\":\"Selection\"},{\"attributes\":{\"background_fill_color\":{\"value\":\"#fafafa\"},\"below\":[{\"id\":\"207933\",\"type\":\"DatetimeAxis\"}],\"center\":[{\"id\":\"207937\",\"type\":\"Grid\"},{\"id\":\"207942\",\"type\":\"Grid\"}],\"left\":[{\"id\":\"207938\",\"type\":\"LinearAxis\"}],\"plot_height\":150,\"plot_width\":150,\"renderers\":[{\"id\":\"207959\",\"type\":\"GlyphRenderer\"},{\"id\":\"207964\",\"type\":\"GlyphRenderer\"}],\"title\":{\"id\":\"208422\",\"type\":\"Title\"},\"toolbar\":{\"id\":\"207949\",\"type\":\"Toolbar\"},\"toolbar_location\":null,\"x_range\":{\"id\":\"207925\",\"type\":\"DataRange1d\"},\"x_scale\":{\"id\":\"207929\",\"type\":\"LinearScale\"},\"y_range\":{\"id\":\"207927\",\"type\":\"DataRange1d\"},\"y_scale\":{\"id\":\"207931\",\"type\":\"LinearScale\"}},\"id\":\"207924\",\"subtype\":\"Figure\",\"type\":\"Plot\"},{\"attributes\":{\"background_fill_color\":{\"value\":\"#fafafa\"},\"below\":[{\"id\":\"208227\",\"type\":\"DatetimeAxis\"}],\"center\":[{\"id\":\"208231\",\"type\":\"Grid\"},{\"id\":\"208236\",\"type\":\"Grid\"}],\"left\":[{\"id\":\"208232\",\"type\":\"LinearAxis\"}],\"plot_height\":150,\"plot_width\":150,\"renderers\":[{\"id\":\"208253\",\"type\":\"GlyphRenderer\"},{\"id\":\"208258\",\"type\":\"GlyphRenderer\"}],\"title\":{\"id\":\"208590\",\"type\":\"Title\"},\"toolbar\":{\"id\":\"208243\",\"type\":\"Toolbar\"},\"toolbar_location\":null,\"x_range\":{\"id\":\"208219\",\"type\":\"DataRange1d\"},\"x_scale\":{\"id\":\"208223\",\"type\":\"LinearScale\"},\"y_range\":{\"id\":\"208221\",\"type\":\"DataRange1d\"},\"y_scale\":{\"id\":\"208225\",\"type\":\"LinearScale\"}},\"id\":\"208218\",\"subtype\":\"Figure\",\"type\":\"Plot\"},{\"attributes\":{\"callback\":null,\"data\":{\"x\":{\"__ndarray__\":\"AAAA4dj0dEIAAMBGK/V0QgAAgKx99XRCAABAEtD1dEIAAAB4IvZ0Qg==\",\"dtype\":\"float64\",\"shape\":[5]},\"y\":{\"__ndarray__\":\"AAAAQOF69D8AAAAgXI8AQAAAACCF6wFAAAAAoJmZ/T8AAADAzMz4Pw==\",\"dtype\":\"float64\",\"shape\":[5]}},\"selected\":{\"id\":\"208562\",\"type\":\"Selection\"},\"selection_policy\":{\"id\":\"208563\",\"type\":\"UnionRenderers\"}},\"id\":\"208171\",\"type\":\"ColumnDataSource\"},{\"attributes\":{},\"id\":\"208345\",\"type\":\"UnionRenderers\"},{\"attributes\":{\"line_alpha\":0.1,\"line_color\":\"#1f77b4\",\"x\":{\"field\":\"x\"},\"y\":{\"field\":\"y\"}},\"id\":\"208131\",\"type\":\"Line\"},{\"attributes\":{},\"id\":\"208343\",\"type\":\"YearsTicker\"},{\"attributes\":{\"callback\":null},\"id\":\"207883\",\"type\":\"DataRange1d\"},{\"attributes\":{\"callback\":null},\"id\":\"208177\",\"type\":\"DataRange1d\"},{\"attributes\":{\"data_source\":{\"id\":\"208129\",\"type\":\"ColumnDataSource\"},\"glyph\":{\"id\":\"208130\",\"type\":\"Line\"},\"hover_glyph\":null,\"muted_glyph\":null,\"nonselection_glyph\":{\"id\":\"208131\",\"type\":\"Line\"},\"selection_glyph\":null,\"view\":{\"id\":\"208133\",\"type\":\"CDSView\"}},\"id\":\"208132\",\"type\":\"GlyphRenderer\"},{\"attributes\":{\"callback\":null},\"id\":\"207885\",\"type\":\"DataRange1d\"},{\"attributes\":{\"callback\":null},\"id\":\"208179\",\"type\":\"DataRange1d\"},{\"attributes\":{},\"id\":\"208352\",\"type\":\"DatetimeTickFormatter\"},{\"attributes\":{\"source\":{\"id\":\"208129\",\"type\":\"ColumnDataSource\"}},\"id\":\"208133\",\"type\":\"CDSView\"},{\"attributes\":{},\"id\":\"208347\",\"type\":\"UnionRenderers\"},{\"attributes\":{\"text\":\"\"},\"id\":\"208350\",\"type\":\"Title\"},{\"attributes\":{},\"id\":\"207887\",\"type\":\"LinearScale\"},{\"attributes\":{},\"id\":\"208181\",\"type\":\"LinearScale\"},{\"attributes\":{\"background_fill_color\":{\"value\":\"#fafafa\"},\"below\":[{\"id\":\"208185\",\"type\":\"DatetimeAxis\"}],\"center\":[{\"id\":\"208189\",\"type\":\"Grid\"},{\"id\":\"208194\",\"type\":\"Grid\"}],\"left\":[{\"id\":\"208190\",\"type\":\"LinearAxis\"}],\"plot_height\":150,\"plot_width\":150,\"renderers\":[{\"id\":\"208211\",\"type\":\"GlyphRenderer\"},{\"id\":\"208216\",\"type\":\"GlyphRenderer\"}],\"title\":{\"id\":\"208566\",\"type\":\"Title\"},\"toolbar\":{\"id\":\"208201\",\"type\":\"Toolbar\"},\"toolbar_location\":null,\"x_range\":{\"id\":\"208177\",\"type\":\"DataRange1d\"},\"x_scale\":{\"id\":\"208181\",\"type\":\"LinearScale\"},\"y_range\":{\"id\":\"208179\",\"type\":\"DataRange1d\"},\"y_scale\":{\"id\":\"208183\",\"type\":\"LinearScale\"}},\"id\":\"208176\",\"subtype\":\"Figure\",\"type\":\"Plot\"},{\"attributes\":{},\"id\":\"207889\",\"type\":\"LinearScale\"},{\"attributes\":{},\"id\":\"208183\",\"type\":\"LinearScale\"},{\"attributes\":{\"bottom_units\":\"screen\",\"fill_alpha\":{\"value\":0.5},\"fill_color\":{\"value\":\"lightgrey\"},\"left_units\":\"screen\",\"level\":\"overlay\",\"line_alpha\":{\"value\":1.0},\"line_color\":{\"value\":\"black\"},\"line_dash\":[4,4],\"line_width\":{\"value\":2},\"render_mode\":\"css\",\"right_units\":\"screen\",\"top_units\":\"screen\"},\"id\":\"208348\",\"type\":\"BoxAnnotation\"},{\"attributes\":{\"formatter\":{\"id\":\"208400\",\"type\":\"DatetimeTickFormatter\"},\"major_label_orientation\":1.5707963267948966,\"ticker\":{\"id\":\"207892\",\"type\":\"DatetimeTicker\"}},\"id\":\"207891\",\"type\":\"DatetimeAxis\"},{\"attributes\":{\"formatter\":{\"id\":\"208568\",\"type\":\"DatetimeTickFormatter\"},\"major_label_orientation\":1.5707963267948966,\"ticker\":{\"id\":\"208186\",\"type\":\"DatetimeTicker\"}},\"id\":\"208185\",\"type\":\"DatetimeAxis\"},{\"attributes\":{\"callback\":null},\"id\":\"208135\",\"type\":\"DataRange1d\"},{\"attributes\":{},\"id\":\"208354\",\"type\":\"BasicTickFormatter\"},{\"attributes\":{\"num_minor_ticks\":5,\"tickers\":[{\"id\":\"208404\",\"type\":\"AdaptiveTicker\"},{\"id\":\"208405\",\"type\":\"AdaptiveTicker\"},{\"id\":\"208406\",\"type\":\"AdaptiveTicker\"},{\"id\":\"208407\",\"type\":\"DaysTicker\"},{\"id\":\"208408\",\"type\":\"DaysTicker\"},{\"id\":\"208409\",\"type\":\"DaysTicker\"},{\"id\":\"208410\",\"type\":\"DaysTicker\"},{\"id\":\"208411\",\"type\":\"MonthsTicker\"},{\"id\":\"208412\",\"type\":\"MonthsTicker\"},{\"id\":\"208413\",\"type\":\"MonthsTicker\"},{\"id\":\"208414\",\"type\":\"MonthsTicker\"},{\"id\":\"208415\",\"type\":\"YearsTicker\"}]},\"id\":\"207892\",\"type\":\"DatetimeTicker\"},{\"attributes\":{\"num_minor_ticks\":5,\"tickers\":[{\"id\":\"208572\",\"type\":\"AdaptiveTicker\"},{\"id\":\"208573\",\"type\":\"AdaptiveTicker\"},{\"id\":\"208574\",\"type\":\"AdaptiveTicker\"},{\"id\":\"208575\",\"type\":\"DaysTicker\"},{\"id\":\"208576\",\"type\":\"DaysTicker\"},{\"id\":\"208577\",\"type\":\"DaysTicker\"},{\"id\":\"208578\",\"type\":\"DaysTicker\"},{\"id\":\"208579\",\"type\":\"MonthsTicker\"},{\"id\":\"208580\",\"type\":\"MonthsTicker\"},{\"id\":\"208581\",\"type\":\"MonthsTicker\"},{\"id\":\"208582\",\"type\":\"MonthsTicker\"},{\"id\":\"208583\",\"type\":\"YearsTicker\"}]},\"id\":\"208186\",\"type\":\"DatetimeTicker\"},{\"attributes\":{\"days\":[1,2,3,4,5,6,7,8,9,10,11,12,13,14,15,16,17,18,19,20,21,22,23,24,25,26,27,28,29,30,31]},\"id\":\"208359\",\"type\":\"DaysTicker\"},{\"attributes\":{\"ticker\":{\"id\":\"207892\",\"type\":\"DatetimeTicker\"}},\"id\":\"207895\",\"type\":\"Grid\"},{\"attributes\":{\"callback\":null},\"id\":\"208137\",\"type\":\"DataRange1d\"},{\"attributes\":{\"ticker\":{\"id\":\"208186\",\"type\":\"DatetimeTicker\"}},\"id\":\"208189\",\"type\":\"Grid\"},{\"attributes\":{\"formatter\":{\"id\":\"208402\",\"type\":\"BasicTickFormatter\"},\"ticker\":{\"id\":\"207897\",\"type\":\"BasicTicker\"}},\"id\":\"207896\",\"type\":\"LinearAxis\"},{\"attributes\":{},\"id\":\"208139\",\"type\":\"LinearScale\"},{\"attributes\":{\"formatter\":{\"id\":\"208570\",\"type\":\"BasicTickFormatter\"},\"ticker\":{\"id\":\"208191\",\"type\":\"BasicTicker\"}},\"id\":\"208190\",\"type\":\"LinearAxis\"},{\"attributes\":{\"base\":60,\"mantissas\":[1,2,5,10,15,20,30],\"max_interval\":1800000.0,\"min_interval\":1000.0,\"num_minor_ticks\":0},\"id\":\"208357\",\"type\":\"AdaptiveTicker\"},{\"attributes\":{},\"id\":\"208141\",\"type\":\"LinearScale\"},{\"attributes\":{},\"id\":\"207897\",\"type\":\"BasicTicker\"},{\"attributes\":{},\"id\":\"208191\",\"type\":\"BasicTicker\"},{\"attributes\":{\"dimension\":1,\"ticker\":{\"id\":\"207897\",\"type\":\"BasicTicker\"}},\"id\":\"207900\",\"type\":\"Grid\"},{\"attributes\":{\"formatter\":{\"id\":\"208544\",\"type\":\"DatetimeTickFormatter\"},\"major_label_orientation\":1.5707963267948966,\"ticker\":{\"id\":\"208144\",\"type\":\"DatetimeTicker\"}},\"id\":\"208143\",\"type\":\"DatetimeAxis\"},{\"attributes\":{\"dimension\":1,\"ticker\":{\"id\":\"208191\",\"type\":\"BasicTicker\"}},\"id\":\"208194\",\"type\":\"Grid\"},{\"attributes\":{\"base\":24,\"mantissas\":[1,2,4,6,8,12],\"max_interval\":43200000.0,\"min_interval\":3600000.0,\"num_minor_ticks\":0},\"id\":\"208358\",\"type\":\"AdaptiveTicker\"},{\"attributes\":{\"fill_alpha\":{\"value\":0.8},\"fill_color\":{\"value\":\"red\"},\"line_alpha\":{\"value\":0.8},\"line_color\":{\"value\":\"red\"},\"size\":{\"units\":\"screen\",\"value\":12},\"x\":{\"field\":\"x\"},\"y\":{\"field\":\"y\"}},\"id\":\"207915\",\"type\":\"Circle\"},{\"attributes\":{\"num_minor_ticks\":5,\"tickers\":[{\"id\":\"208548\",\"type\":\"AdaptiveTicker\"},{\"id\":\"208549\",\"type\":\"AdaptiveTicker\"},{\"id\":\"208550\",\"type\":\"AdaptiveTicker\"},{\"id\":\"208551\",\"type\":\"DaysTicker\"},{\"id\":\"208552\",\"type\":\"DaysTicker\"},{\"id\":\"208553\",\"type\":\"DaysTicker\"},{\"id\":\"208554\",\"type\":\"DaysTicker\"},{\"id\":\"208555\",\"type\":\"MonthsTicker\"},{\"id\":\"208556\",\"type\":\"MonthsTicker\"},{\"id\":\"208557\",\"type\":\"MonthsTicker\"},{\"id\":\"208558\",\"type\":\"MonthsTicker\"},{\"id\":\"208559\",\"type\":\"YearsTicker\"}]},\"id\":\"208144\",\"type\":\"DatetimeTicker\"},{\"attributes\":{\"fill_alpha\":{\"value\":0.8},\"fill_color\":{\"value\":\"red\"},\"line_alpha\":{\"value\":0.8},\"line_color\":{\"value\":\"red\"},\"size\":{\"units\":\"screen\",\"value\":12},\"x\":{\"field\":\"x\"},\"y\":{\"field\":\"y\"}},\"id\":\"208209\",\"type\":\"Circle\"},{\"attributes\":{\"mantissas\":[1,2,5],\"max_interval\":500.0,\"num_minor_ticks\":0},\"id\":\"208356\",\"type\":\"AdaptiveTicker\"},{\"attributes\":{\"days\":[1,4,7,10,13,16,19,22,25,28]},\"id\":\"208360\",\"type\":\"DaysTicker\"},{\"attributes\":{\"ticker\":{\"id\":\"208144\",\"type\":\"DatetimeTicker\"}},\"id\":\"208147\",\"type\":\"Grid\"},{\"attributes\":{\"callback\":null,\"data\":{\"x\":{\"__ndarray__\":\"AAAAsHXIcUIAAADeCMtxQg==\",\"dtype\":\"float64\",\"shape\":[2]},\"y\":{\"__ndarray__\":\"AAAAAClcAUAAAAAgXI8AQA==\",\"dtype\":\"float64\",\"shape\":[2]}},\"selected\":{\"id\":\"208416\",\"type\":\"Selection\"},\"selection_policy\":{\"id\":\"208417\",\"type\":\"UnionRenderers\"}},\"id\":\"207914\",\"type\":\"ColumnDataSource\"},{\"attributes\":{\"callback\":null,\"data\":{\"x\":{\"__ndarray__\":\"AADAolH6dEIAAECcif10Qg==\",\"dtype\":\"float64\",\"shape\":[2]},\"y\":{\"__ndarray__\":\"AAAAQArXAUAAAACAPQoDQA==\",\"dtype\":\"float64\",\"shape\":[2]}},\"selected\":{\"id\":\"208584\",\"type\":\"Selection\"},\"selection_policy\":{\"id\":\"208585\",\"type\":\"UnionRenderers\"}},\"id\":\"208208\",\"type\":\"ColumnDataSource\"},{\"attributes\":{\"active_drag\":\"auto\",\"active_inspect\":\"auto\",\"active_multi\":null,\"active_scroll\":\"auto\",\"active_tap\":\"auto\",\"tools\":[{\"id\":\"207901\",\"type\":\"PanTool\"},{\"id\":\"207902\",\"type\":\"WheelZoomTool\"},{\"id\":\"207903\",\"type\":\"BoxZoomTool\"},{\"id\":\"207904\",\"type\":\"SaveTool\"},{\"id\":\"207905\",\"type\":\"ResetTool\"},{\"id\":\"207906\",\"type\":\"HelpTool\"}]},\"id\":\"207907\",\"type\":\"Toolbar\"},{\"attributes\":{\"formatter\":{\"id\":\"208546\",\"type\":\"BasicTickFormatter\"},\"ticker\":{\"id\":\"208149\",\"type\":\"BasicTicker\"}},\"id\":\"208148\",\"type\":\"LinearAxis\"},{\"attributes\":{\"active_drag\":\"auto\",\"active_inspect\":\"auto\",\"active_multi\":null,\"active_scroll\":\"auto\",\"active_tap\":\"auto\",\"tools\":[{\"id\":\"208195\",\"type\":\"PanTool\"},{\"id\":\"208196\",\"type\":\"WheelZoomTool\"},{\"id\":\"208197\",\"type\":\"BoxZoomTool\"},{\"id\":\"208198\",\"type\":\"SaveTool\"},{\"id\":\"208199\",\"type\":\"ResetTool\"},{\"id\":\"208200\",\"type\":\"HelpTool\"}]},\"id\":\"208201\",\"type\":\"Toolbar\"},{\"attributes\":{},\"id\":\"207901\",\"type\":\"PanTool\"},{\"attributes\":{},\"id\":\"208195\",\"type\":\"PanTool\"},{\"attributes\":{\"days\":[1,8,15,22]},\"id\":\"208361\",\"type\":\"DaysTicker\"},{\"attributes\":{\"days\":[1,15]},\"id\":\"208362\",\"type\":\"DaysTicker\"},{\"attributes\":{},\"id\":\"208149\",\"type\":\"BasicTicker\"},{\"attributes\":{},\"id\":\"207902\",\"type\":\"WheelZoomTool\"},{\"attributes\":{},\"id\":\"208196\",\"type\":\"WheelZoomTool\"},{\"attributes\":{\"months\":[0,1,2,3,4,5,6,7,8,9,10,11]},\"id\":\"208363\",\"type\":\"MonthsTicker\"},{\"attributes\":{\"dimension\":1,\"ticker\":{\"id\":\"208149\",\"type\":\"BasicTicker\"}},\"id\":\"208152\",\"type\":\"Grid\"},{\"attributes\":{\"overlay\":{\"id\":\"208420\",\"type\":\"BoxAnnotation\"}},\"id\":\"207903\",\"type\":\"BoxZoomTool\"},{\"attributes\":{\"overlay\":{\"id\":\"208588\",\"type\":\"BoxAnnotation\"}},\"id\":\"208197\",\"type\":\"BoxZoomTool\"},{\"attributes\":{},\"id\":\"207721\",\"type\":\"LinearScale\"},{\"attributes\":{\"fill_alpha\":{\"value\":0.8},\"fill_color\":{\"value\":\"red\"},\"line_alpha\":{\"value\":0.8},\"line_color\":{\"value\":\"red\"},\"size\":{\"units\":\"screen\",\"value\":12},\"x\":{\"field\":\"x\"},\"y\":{\"field\":\"y\"}},\"id\":\"208167\",\"type\":\"Circle\"},{\"attributes\":{},\"id\":\"207904\",\"type\":\"SaveTool\"},{\"attributes\":{},\"id\":\"208198\",\"type\":\"SaveTool\"},{\"attributes\":{\"months\":[0,6]},\"id\":\"208366\",\"type\":\"MonthsTicker\"},{\"attributes\":{\"callback\":null,\"data\":{\"x\":{\"__ndarray__\":\"AAAA4dj0dEIAAAB4IvZ0Qg==\",\"dtype\":\"float64\",\"shape\":[2]},\"y\":{\"__ndarray__\":\"AAAAQOF69D8AAADAzMz4Pw==\",\"dtype\":\"float64\",\"shape\":[2]}},\"selected\":{\"id\":\"208560\",\"type\":\"Selection\"},\"selection_policy\":{\"id\":\"208561\",\"type\":\"UnionRenderers\"}},\"id\":\"208166\",\"type\":\"ColumnDataSource\"},{\"attributes\":{\"months\":[0,2,4,6,8,10]},\"id\":\"208364\",\"type\":\"MonthsTicker\"},{\"attributes\":{},\"id\":\"207905\",\"type\":\"ResetTool\"},{\"attributes\":{},\"id\":\"208199\",\"type\":\"ResetTool\"},{\"attributes\":{\"months\":[0,4,8]},\"id\":\"208365\",\"type\":\"MonthsTicker\"},{\"attributes\":{\"active_drag\":\"auto\",\"active_inspect\":\"auto\",\"active_multi\":null,\"active_scroll\":\"auto\",\"active_tap\":\"auto\",\"tools\":[{\"id\":\"208153\",\"type\":\"PanTool\"},{\"id\":\"208154\",\"type\":\"WheelZoomTool\"},{\"id\":\"208155\",\"type\":\"BoxZoomTool\"},{\"id\":\"208156\",\"type\":\"SaveTool\"},{\"id\":\"208157\",\"type\":\"ResetTool\"},{\"id\":\"208158\",\"type\":\"HelpTool\"}]},\"id\":\"208159\",\"type\":\"Toolbar\"},{\"attributes\":{},\"id\":\"207906\",\"type\":\"HelpTool\"},{\"attributes\":{},\"id\":\"208153\",\"type\":\"PanTool\"},{\"attributes\":{},\"id\":\"208200\",\"type\":\"HelpTool\"},{\"attributes\":{},\"id\":\"208367\",\"type\":\"YearsTicker\"},{\"attributes\":{},\"id\":\"208154\",\"type\":\"WheelZoomTool\"},{\"attributes\":{\"days\":[1,15]},\"id\":\"208338\",\"type\":\"DaysTicker\"},{\"attributes\":{\"fill_alpha\":{\"value\":0.1},\"fill_color\":{\"value\":\"#1f77b4\"},\"line_alpha\":{\"value\":0.1},\"line_color\":{\"value\":\"#1f77b4\"},\"size\":{\"units\":\"screen\",\"value\":12},\"x\":{\"field\":\"x\"},\"y\":{\"field\":\"y\"}},\"id\":\"207916\",\"type\":\"Circle\"},{\"attributes\":{\"fill_alpha\":{\"value\":0.1},\"fill_color\":{\"value\":\"#1f77b4\"},\"line_alpha\":{\"value\":0.1},\"line_color\":{\"value\":\"#1f77b4\"},\"size\":{\"units\":\"screen\",\"value\":12},\"x\":{\"field\":\"x\"},\"y\":{\"field\":\"y\"}},\"id\":\"208210\",\"type\":\"Circle\"},{\"attributes\":{\"background_fill_color\":{\"value\":\"#fafafa\"},\"below\":[{\"id\":\"207765\",\"type\":\"DatetimeAxis\"}],\"center\":[{\"id\":\"207769\",\"type\":\"Grid\"},{\"id\":\"207774\",\"type\":\"Grid\"}],\"left\":[{\"id\":\"207770\",\"type\":\"LinearAxis\"}],\"plot_height\":150,\"plot_width\":150,\"renderers\":[{\"id\":\"207791\",\"type\":\"GlyphRenderer\"},{\"id\":\"207796\",\"type\":\"GlyphRenderer\"}],\"title\":{\"id\":\"208326\",\"type\":\"Title\"},\"toolbar\":{\"id\":\"207781\",\"type\":\"Toolbar\"},\"toolbar_location\":null,\"x_range\":{\"id\":\"207757\",\"type\":\"DataRange1d\"},\"x_scale\":{\"id\":\"207761\",\"type\":\"LinearScale\"},\"y_range\":{\"id\":\"207759\",\"type\":\"DataRange1d\"},\"y_scale\":{\"id\":\"207763\",\"type\":\"LinearScale\"}},\"id\":\"207756\",\"subtype\":\"Figure\",\"type\":\"Plot\"},{\"attributes\":{\"overlay\":{\"id\":\"208564\",\"type\":\"BoxAnnotation\"}},\"id\":\"208155\",\"type\":\"BoxZoomTool\"},{\"attributes\":{\"data_source\":{\"id\":\"207914\",\"type\":\"ColumnDataSource\"},\"glyph\":{\"id\":\"207915\",\"type\":\"Circle\"},\"hover_glyph\":null,\"muted_glyph\":null,\"nonselection_glyph\":{\"id\":\"207916\",\"type\":\"Circle\"},\"selection_glyph\":null,\"view\":{\"id\":\"207918\",\"type\":\"CDSView\"}},\"id\":\"207917\",\"type\":\"GlyphRenderer\"},{\"attributes\":{\"data_source\":{\"id\":\"208208\",\"type\":\"ColumnDataSource\"},\"glyph\":{\"id\":\"208209\",\"type\":\"Circle\"},\"hover_glyph\":null,\"muted_glyph\":null,\"nonselection_glyph\":{\"id\":\"208210\",\"type\":\"Circle\"},\"selection_glyph\":null,\"view\":{\"id\":\"208212\",\"type\":\"CDSView\"}},\"id\":\"208211\",\"type\":\"GlyphRenderer\"},{\"attributes\":{},\"id\":\"208156\",\"type\":\"SaveTool\"},{\"attributes\":{\"callback\":null},\"id\":\"207717\",\"type\":\"DataRange1d\"},{\"attributes\":{\"source\":{\"id\":\"207914\",\"type\":\"ColumnDataSource\"}},\"id\":\"207918\",\"type\":\"CDSView\"},{\"attributes\":{\"source\":{\"id\":\"208208\",\"type\":\"ColumnDataSource\"}},\"id\":\"208212\",\"type\":\"CDSView\"},{\"attributes\":{},\"id\":\"208157\",\"type\":\"ResetTool\"},{\"attributes\":{},\"id\":\"207719\",\"type\":\"LinearScale\"},{\"attributes\":{\"line_color\":\"blue\",\"x\":{\"field\":\"x\"},\"y\":{\"field\":\"y\"}},\"id\":\"207920\",\"type\":\"Line\"},{\"attributes\":{\"line_color\":\"blue\",\"x\":{\"field\":\"x\"},\"y\":{\"field\":\"y\"}},\"id\":\"208214\",\"type\":\"Line\"},{\"attributes\":{},\"id\":\"208158\",\"type\":\"HelpTool\"},{\"attributes\":{\"formatter\":{\"id\":\"208304\",\"type\":\"DatetimeTickFormatter\"},\"major_label_orientation\":1.5707963267948966,\"ticker\":{\"id\":\"207724\",\"type\":\"DatetimeTicker\"}},\"id\":\"207723\",\"type\":\"DatetimeAxis\"},{\"attributes\":{\"fill_alpha\":{\"value\":0.1},\"fill_color\":{\"value\":\"#1f77b4\"},\"line_alpha\":{\"value\":0.1},\"line_color\":{\"value\":\"#1f77b4\"},\"size\":{\"units\":\"screen\",\"value\":12},\"x\":{\"field\":\"x\"},\"y\":{\"field\":\"y\"}},\"id\":\"208168\",\"type\":\"Circle\"},{\"attributes\":{\"data_source\":{\"id\":\"208166\",\"type\":\"ColumnDataSource\"},\"glyph\":{\"id\":\"208167\",\"type\":\"Circle\"},\"hover_glyph\":null,\"muted_glyph\":null,\"nonselection_glyph\":{\"id\":\"208168\",\"type\":\"Circle\"},\"selection_glyph\":null,\"view\":{\"id\":\"208170\",\"type\":\"CDSView\"}},\"id\":\"208169\",\"type\":\"GlyphRenderer\"},{\"attributes\":{\"num_minor_ticks\":5,\"tickers\":[{\"id\":\"208308\",\"type\":\"AdaptiveTicker\"},{\"id\":\"208309\",\"type\":\"AdaptiveTicker\"},{\"id\":\"208310\",\"type\":\"AdaptiveTicker\"},{\"id\":\"208311\",\"type\":\"DaysTicker\"},{\"id\":\"208312\",\"type\":\"DaysTicker\"},{\"id\":\"208313\",\"type\":\"DaysTicker\"},{\"id\":\"208314\",\"type\":\"DaysTicker\"},{\"id\":\"208315\",\"type\":\"MonthsTicker\"},{\"id\":\"208316\",\"type\":\"MonthsTicker\"},{\"id\":\"208317\",\"type\":\"MonthsTicker\"},{\"id\":\"208318\",\"type\":\"MonthsTicker\"},{\"id\":\"208319\",\"type\":\"YearsTicker\"}]},\"id\":\"207724\",\"type\":\"DatetimeTicker\"},{\"attributes\":{},\"id\":\"208306\",\"type\":\"BasicTickFormatter\"},{\"attributes\":{\"callback\":null,\"data\":{\"x\":{\"__ndarray__\":\"AABAnZGcckIAAAAD5JxyQgAAwGg2nXJCAACAzoidckIAAEA0251yQgAAAJotnnJCAADA/3+eckIAAIBl0p5yQgAAQMskn3JCAAAAMXefckIAAMCWyZ9yQgAAgPwboHJCAABAYm6gckIAAADIwKByQgAAwC0ToXJC\",\"dtype\":\"float64\",\"shape\":[15]},\"y\":{\"__ndarray__\":\"AAAAANejBED///9fj8IHQAAAAEAK1wdAAAAA4FG4BEAAAADA9SgEQAAAAOBRuAJAAAAAIFyPAkAAAADA9SgEQAEAAEAzMwVAAAAAgD0KBUAAAAAAAAAGQAAAAKBH4QRAAAAAgML1AkAAAACgmZkBQAAAAMDMzABA\",\"dtype\":\"float64\",\"shape\":[15]}},\"selected\":{\"id\":\"208442\",\"type\":\"Selection\"},\"selection_policy\":{\"id\":\"208443\",\"type\":\"UnionRenderers\"}},\"id\":\"207961\",\"type\":\"ColumnDataSource\"},{\"attributes\":{},\"id\":\"208304\",\"type\":\"DatetimeTickFormatter\"},{\"attributes\":{\"callback\":null,\"data\":{\"x\":{\"__ndarray__\":\"AABAM9P+dEIAAACZJf90QgAAwP53/3RC\",\"dtype\":\"float64\",\"shape\":[3]},\"y\":{\"__ndarray__\":\"AQAAYLge/T8AAABACtf/PwEAAEAzM/8/\",\"dtype\":\"float64\",\"shape\":[3]}},\"selected\":{\"id\":\"208610\",\"type\":\"Selection\"},\"selection_policy\":{\"id\":\"208611\",\"type\":\"UnionRenderers\"}},\"id\":\"208255\",\"type\":\"ColumnDataSource\"},{\"attributes\":{\"ticker\":{\"id\":\"207724\",\"type\":\"DatetimeTicker\"}},\"id\":\"207727\",\"type\":\"Grid\"},{\"attributes\":{\"line_alpha\":0.1,\"line_color\":\"#1f77b4\",\"x\":{\"field\":\"x\"},\"y\":{\"field\":\"y\"}},\"id\":\"207921\",\"type\":\"Line\"},{\"attributes\":{\"line_alpha\":0.1,\"line_color\":\"#1f77b4\",\"x\":{\"field\":\"x\"},\"y\":{\"field\":\"y\"}},\"id\":\"208215\",\"type\":\"Line\"},{\"attributes\":{\"source\":{\"id\":\"208166\",\"type\":\"ColumnDataSource\"}},\"id\":\"208170\",\"type\":\"CDSView\"},{\"attributes\":{\"formatter\":{\"id\":\"208306\",\"type\":\"BasicTickFormatter\"},\"ticker\":{\"id\":\"207729\",\"type\":\"BasicTicker\"}},\"id\":\"207728\",\"type\":\"LinearAxis\"},{\"attributes\":{\"data_source\":{\"id\":\"207919\",\"type\":\"ColumnDataSource\"},\"glyph\":{\"id\":\"207920\",\"type\":\"Line\"},\"hover_glyph\":null,\"muted_glyph\":null,\"nonselection_glyph\":{\"id\":\"207921\",\"type\":\"Line\"},\"selection_glyph\":null,\"view\":{\"id\":\"207923\",\"type\":\"CDSView\"}},\"id\":\"207922\",\"type\":\"GlyphRenderer\"},{\"attributes\":{\"data_source\":{\"id\":\"208213\",\"type\":\"ColumnDataSource\"},\"glyph\":{\"id\":\"208214\",\"type\":\"Line\"},\"hover_glyph\":null,\"muted_glyph\":null,\"nonselection_glyph\":{\"id\":\"208215\",\"type\":\"Line\"},\"selection_glyph\":null,\"view\":{\"id\":\"208217\",\"type\":\"CDSView\"}},\"id\":\"208216\",\"type\":\"GlyphRenderer\"},{\"attributes\":{},\"id\":\"207729\",\"type\":\"BasicTicker\"},{\"attributes\":{\"source\":{\"id\":\"207919\",\"type\":\"ColumnDataSource\"}},\"id\":\"207923\",\"type\":\"CDSView\"},{\"attributes\":{\"source\":{\"id\":\"208213\",\"type\":\"ColumnDataSource\"}},\"id\":\"208217\",\"type\":\"CDSView\"},{\"attributes\":{},\"id\":\"208070\",\"type\":\"WheelZoomTool\"},{\"attributes\":{\"overlay\":{\"id\":\"208516\",\"type\":\"BoxAnnotation\"}},\"id\":\"208071\",\"type\":\"BoxZoomTool\"},{\"attributes\":{},\"id\":\"208072\",\"type\":\"SaveTool\"},{\"attributes\":{},\"id\":\"208073\",\"type\":\"ResetTool\"},{\"attributes\":{},\"id\":\"208074\",\"type\":\"HelpTool\"},{\"attributes\":{\"active_drag\":\"auto\",\"active_inspect\":\"auto\",\"active_multi\":null,\"active_scroll\":\"auto\",\"active_tap\":\"auto\",\"tools\":[{\"id\":\"208069\",\"type\":\"PanTool\"},{\"id\":\"208070\",\"type\":\"WheelZoomTool\"},{\"id\":\"208071\",\"type\":\"BoxZoomTool\"},{\"id\":\"208072\",\"type\":\"SaveTool\"},{\"id\":\"208073\",\"type\":\"ResetTool\"},{\"id\":\"208074\",\"type\":\"HelpTool\"}]},\"id\":\"208075\",\"type\":\"Toolbar\"},{\"attributes\":{\"data_source\":{\"id\":\"208082\",\"type\":\"ColumnDataSource\"},\"glyph\":{\"id\":\"208083\",\"type\":\"Circle\"},\"hover_glyph\":null,\"muted_glyph\":null,\"nonselection_glyph\":{\"id\":\"208084\",\"type\":\"Circle\"},\"selection_glyph\":null,\"view\":{\"id\":\"208086\",\"type\":\"CDSView\"}},\"id\":\"208085\",\"type\":\"GlyphRenderer\"},{\"attributes\":{\"source\":{\"id\":\"208082\",\"type\":\"ColumnDataSource\"}},\"id\":\"208086\",\"type\":\"CDSView\"},{\"attributes\":{\"line_color\":\"blue\",\"x\":{\"field\":\"x\"},\"y\":{\"field\":\"y\"}},\"id\":\"208088\",\"type\":\"Line\"},{\"attributes\":{\"background_fill_color\":{\"value\":\"#fafafa\"},\"below\":[{\"id\":\"207723\",\"type\":\"DatetimeAxis\"}],\"center\":[{\"id\":\"207727\",\"type\":\"Grid\"},{\"id\":\"207732\",\"type\":\"Grid\"}],\"left\":[{\"id\":\"207728\",\"type\":\"LinearAxis\"}],\"plot_height\":150,\"plot_width\":150,\"renderers\":[{\"id\":\"207749\",\"type\":\"GlyphRenderer\"},{\"id\":\"207754\",\"type\":\"GlyphRenderer\"}],\"title\":{\"id\":\"208302\",\"type\":\"Title\"},\"toolbar\":{\"id\":\"207739\",\"type\":\"Toolbar\"},\"toolbar_location\":null,\"x_range\":{\"id\":\"207715\",\"type\":\"DataRange1d\"},\"x_scale\":{\"id\":\"207719\",\"type\":\"LinearScale\"},\"y_range\":{\"id\":\"207717\",\"type\":\"DataRange1d\"},\"y_scale\":{\"id\":\"207721\",\"type\":\"LinearScale\"}},\"id\":\"207714\",\"subtype\":\"Figure\",\"type\":\"Plot\"},{\"attributes\":{\"callback\":null,\"data\":{\"x\":{\"__ndarray__\":\"AAAAcT/gdEIAAMDWkeB0QgAAgDzk4HRCAABAojbhdEIAAAAIieF0QgAAwG3b4XRCAACA0y3idEI=\",\"dtype\":\"float64\",\"shape\":[7]},\"y\":{\"__ndarray__\":\"AAAAgD0K/z8AAADA9SgEQAAAAOB6FARAAAAAwPUoAkAAAACgR+EAQAAAAEAK1/8/////H65H/T8=\",\"dtype\":\"float64\",\"shape\":[7]}},\"selected\":{\"id\":\"208538\",\"type\":\"Selection\"},\"selection_policy\":{\"id\":\"208539\",\"type\":\"UnionRenderers\"}},\"id\":\"208129\",\"type\":\"ColumnDataSource\"},{\"attributes\":{\"line_alpha\":0.1,\"line_color\":\"#1f77b4\",\"x\":{\"field\":\"x\"},\"y\":{\"field\":\"y\"}},\"id\":\"208089\",\"type\":\"Line\"},{\"attributes\":{\"data_source\":{\"id\":\"208087\",\"type\":\"ColumnDataSource\"},\"glyph\":{\"id\":\"208088\",\"type\":\"Line\"},\"hover_glyph\":null,\"muted_glyph\":null,\"nonselection_glyph\":{\"id\":\"208089\",\"type\":\"Line\"},\"selection_glyph\":null,\"view\":{\"id\":\"208091\",\"type\":\"CDSView\"}},\"id\":\"208090\",\"type\":\"GlyphRenderer\"},{\"attributes\":{\"source\":{\"id\":\"208087\",\"type\":\"ColumnDataSource\"}},\"id\":\"208091\",\"type\":\"CDSView\"},{\"attributes\":{\"background_fill_color\":{\"value\":\"#fafafa\"},\"below\":[{\"id\":\"208143\",\"type\":\"DatetimeAxis\"}],\"center\":[{\"id\":\"208147\",\"type\":\"Grid\"},{\"id\":\"208152\",\"type\":\"Grid\"}],\"left\":[{\"id\":\"208148\",\"type\":\"LinearAxis\"}],\"plot_height\":150,\"plot_width\":150,\"renderers\":[{\"id\":\"208169\",\"type\":\"GlyphRenderer\"},{\"id\":\"208174\",\"type\":\"GlyphRenderer\"}],\"title\":{\"id\":\"208542\",\"type\":\"Title\"},\"toolbar\":{\"id\":\"208159\",\"type\":\"Toolbar\"},\"toolbar_location\":null,\"x_range\":{\"id\":\"208135\",\"type\":\"DataRange1d\"},\"x_scale\":{\"id\":\"208139\",\"type\":\"LinearScale\"},\"y_range\":{\"id\":\"208137\",\"type\":\"DataRange1d\"},\"y_scale\":{\"id\":\"208141\",\"type\":\"LinearScale\"}},\"id\":\"208134\",\"subtype\":\"Figure\",\"type\":\"Plot\"},{\"attributes\":{\"callback\":null},\"id\":\"208093\",\"type\":\"DataRange1d\"},{\"attributes\":{\"callback\":null},\"id\":\"208095\",\"type\":\"DataRange1d\"},{\"attributes\":{},\"id\":\"208097\",\"type\":\"LinearScale\"},{\"attributes\":{},\"id\":\"208099\",\"type\":\"LinearScale\"},{\"attributes\":{\"formatter\":{\"id\":\"208520\",\"type\":\"DatetimeTickFormatter\"},\"major_label_orientation\":1.5707963267948966,\"ticker\":{\"id\":\"208102\",\"type\":\"DatetimeTicker\"}},\"id\":\"208101\",\"type\":\"DatetimeAxis\"},{\"attributes\":{\"num_minor_ticks\":5,\"tickers\":[{\"id\":\"208524\",\"type\":\"AdaptiveTicker\"},{\"id\":\"208525\",\"type\":\"AdaptiveTicker\"},{\"id\":\"208526\",\"type\":\"AdaptiveTicker\"},{\"id\":\"208527\",\"type\":\"DaysTicker\"},{\"id\":\"208528\",\"type\":\"DaysTicker\"},{\"id\":\"208529\",\"type\":\"DaysTicker\"},{\"id\":\"208530\",\"type\":\"DaysTicker\"},{\"id\":\"208531\",\"type\":\"MonthsTicker\"},{\"id\":\"208532\",\"type\":\"MonthsTicker\"},{\"id\":\"208533\",\"type\":\"MonthsTicker\"},{\"id\":\"208534\",\"type\":\"MonthsTicker\"},{\"id\":\"208535\",\"type\":\"YearsTicker\"}]},\"id\":\"208102\",\"type\":\"DatetimeTicker\"},{\"attributes\":{\"ticker\":{\"id\":\"208102\",\"type\":\"DatetimeTicker\"}},\"id\":\"208105\",\"type\":\"Grid\"},{\"attributes\":{\"formatter\":{\"id\":\"208522\",\"type\":\"BasicTickFormatter\"},\"ticker\":{\"id\":\"208107\",\"type\":\"BasicTicker\"}},\"id\":\"208106\",\"type\":\"LinearAxis\"},{\"attributes\":{},\"id\":\"208107\",\"type\":\"BasicTicker\"},{\"attributes\":{\"dimension\":1,\"ticker\":{\"id\":\"208107\",\"type\":\"BasicTicker\"}},\"id\":\"208110\",\"type\":\"Grid\"},{\"attributes\":{\"fill_alpha\":{\"value\":0.8},\"fill_color\":{\"value\":\"red\"},\"line_alpha\":{\"value\":0.8},\"line_color\":{\"value\":\"red\"},\"size\":{\"units\":\"screen\",\"value\":12},\"x\":{\"field\":\"x\"},\"y\":{\"field\":\"y\"}},\"id\":\"208125\",\"type\":\"Circle\"},{\"attributes\":{\"callback\":null,\"data\":{\"x\":{\"__ndarray__\":\"AAAAcT/gdEIAAIDTLeJ0Qg==\",\"dtype\":\"float64\",\"shape\":[2]},\"y\":{\"__ndarray__\":\"AAAAgD0K/z////8frkf9Pw==\",\"dtype\":\"float64\",\"shape\":[2]}},\"selected\":{\"id\":\"208536\",\"type\":\"Selection\"},\"selection_policy\":{\"id\":\"208537\",\"type\":\"UnionRenderers\"}},\"id\":\"208124\",\"type\":\"ColumnDataSource\"},{\"attributes\":{\"fill_alpha\":{\"value\":0.1},\"fill_color\":{\"value\":\"#1f77b4\"},\"line_alpha\":{\"value\":0.1},\"line_color\":{\"value\":\"#1f77b4\"},\"size\":{\"units\":\"screen\",\"value\":12},\"x\":{\"field\":\"x\"},\"y\":{\"field\":\"y\"}},\"id\":\"208126\",\"type\":\"Circle\"},{\"attributes\":{},\"id\":\"208111\",\"type\":\"PanTool\"},{\"attributes\":{},\"id\":\"208112\",\"type\":\"WheelZoomTool\"},{\"attributes\":{\"overlay\":{\"id\":\"208540\",\"type\":\"BoxAnnotation\"}},\"id\":\"208113\",\"type\":\"BoxZoomTool\"},{\"attributes\":{},\"id\":\"208114\",\"type\":\"SaveTool\"},{\"attributes\":{},\"id\":\"208115\",\"type\":\"ResetTool\"},{\"attributes\":{},\"id\":\"208116\",\"type\":\"HelpTool\"},{\"attributes\":{},\"id\":\"208265\",\"type\":\"LinearScale\"},{\"attributes\":{\"days\":[1,2,3,4,5,6,7,8,9,10,11,12,13,14,15,16,17,18,19,20,21,22,23,24,25,26,27,28,29,30,31]},\"id\":\"208335\",\"type\":\"DaysTicker\"},{\"attributes\":{\"callback\":null},\"id\":\"208263\",\"type\":\"DataRange1d\"},{\"attributes\":{\"callback\":null},\"id\":\"208261\",\"type\":\"DataRange1d\"},{\"attributes\":{\"source\":{\"id\":\"208255\",\"type\":\"ColumnDataSource\"}},\"id\":\"208259\",\"type\":\"CDSView\"},{\"attributes\":{\"data_source\":{\"id\":\"208255\",\"type\":\"ColumnDataSource\"},\"glyph\":{\"id\":\"208256\",\"type\":\"Line\"},\"hover_glyph\":null,\"muted_glyph\":null,\"nonselection_glyph\":{\"id\":\"208257\",\"type\":\"Line\"},\"selection_glyph\":null,\"view\":{\"id\":\"208259\",\"type\":\"CDSView\"}},\"id\":\"208258\",\"type\":\"GlyphRenderer\"},{\"attributes\":{\"line_alpha\":0.1,\"line_color\":\"#1f77b4\",\"x\":{\"field\":\"x\"},\"y\":{\"field\":\"y\"}},\"id\":\"208257\",\"type\":\"Line\"},{\"attributes\":{\"days\":[1,8,15,22]},\"id\":\"208337\",\"type\":\"DaysTicker\"},{\"attributes\":{\"callback\":null,\"data\":{\"x\":{\"__ndarray__\":\"AADAw+tMdkIAAIApPk12QgAAQI+QTXZCAAAA9eJNdkIAAMBaNU52Qg==\",\"dtype\":\"float64\",\"shape\":[5]},\"y\":{\"__ndarray__\":\"AAAAwB6FBUAAAACAFK4FQAAAAAApXAVAAAAA4HoUBEAAAABA4XoAQA==\",\"dtype\":\"float64\",\"shape\":[5]}},\"selected\":{\"id\":\"208634\",\"type\":\"Selection\"},\"selection_policy\":{\"id\":\"208635\",\"type\":\"UnionRenderers\"}},\"id\":\"208297\",\"type\":\"ColumnDataSource\"},{\"attributes\":{\"line_color\":\"blue\",\"x\":{\"field\":\"x\"},\"y\":{\"field\":\"y\"}},\"id\":\"208256\",\"type\":\"Line\"},{\"attributes\":{\"source\":{\"id\":\"208250\",\"type\":\"ColumnDataSource\"}},\"id\":\"208254\",\"type\":\"CDSView\"},{\"attributes\":{\"data_source\":{\"id\":\"208250\",\"type\":\"ColumnDataSource\"},\"glyph\":{\"id\":\"208251\",\"type\":\"Circle\"},\"hover_glyph\":null,\"muted_glyph\":null,\"nonselection_glyph\":{\"id\":\"208252\",\"type\":\"Circle\"},\"selection_glyph\":null,\"view\":{\"id\":\"208254\",\"type\":\"CDSView\"}},\"id\":\"208253\",\"type\":\"GlyphRenderer\"},{\"attributes\":{\"fill_alpha\":{\"value\":0.1},\"fill_color\":{\"value\":\"#1f77b4\"},\"line_alpha\":{\"value\":0.1},\"line_color\":{\"value\":\"#1f77b4\"},\"size\":{\"units\":\"screen\",\"value\":12},\"x\":{\"field\":\"x\"},\"y\":{\"field\":\"y\"}},\"id\":\"208252\",\"type\":\"Circle\"},{\"attributes\":{\"days\":[1,4,7,10,13,16,19,22,25,28]},\"id\":\"208336\",\"type\":\"DaysTicker\"},{\"attributes\":{\"base\":60,\"mantissas\":[1,2,5,10,15,20,30],\"max_interval\":1800000.0,\"min_interval\":1000.0,\"num_minor_ticks\":0},\"id\":\"208333\",\"type\":\"AdaptiveTicker\"},{\"attributes\":{},\"id\":\"208242\",\"type\":\"HelpTool\"},{\"attributes\":{},\"id\":\"208241\",\"type\":\"ResetTool\"},{\"attributes\":{},\"id\":\"208240\",\"type\":\"SaveTool\"},{\"attributes\":{\"overlay\":{\"id\":\"208612\",\"type\":\"BoxAnnotation\"}},\"id\":\"208239\",\"type\":\"BoxZoomTool\"},{\"attributes\":{},\"id\":\"208238\",\"type\":\"WheelZoomTool\"},{\"attributes\":{},\"id\":\"208237\",\"type\":\"PanTool\"},{\"attributes\":{\"active_drag\":\"auto\",\"active_inspect\":\"auto\",\"active_multi\":null,\"active_scroll\":\"auto\",\"active_tap\":\"auto\",\"tools\":[{\"id\":\"208237\",\"type\":\"PanTool\"},{\"id\":\"208238\",\"type\":\"WheelZoomTool\"},{\"id\":\"208239\",\"type\":\"BoxZoomTool\"},{\"id\":\"208240\",\"type\":\"SaveTool\"},{\"id\":\"208241\",\"type\":\"ResetTool\"},{\"id\":\"208242\",\"type\":\"HelpTool\"}]},\"id\":\"208243\",\"type\":\"Toolbar\"},{\"attributes\":{\"callback\":null,\"data\":{\"x\":{\"__ndarray__\":\"AABAM9P+dEIAAMD+d/90Qg==\",\"dtype\":\"float64\",\"shape\":[2]},\"y\":{\"__ndarray__\":\"AQAAYLge/T8BAABAMzP/Pw==\",\"dtype\":\"float64\",\"shape\":[2]}},\"selected\":{\"id\":\"208608\",\"type\":\"Selection\"},\"selection_policy\":{\"id\":\"208609\",\"type\":\"UnionRenderers\"}},\"id\":\"208250\",\"type\":\"ColumnDataSource\"},{\"attributes\":{\"fill_alpha\":{\"value\":0.8},\"fill_color\":{\"value\":\"red\"},\"line_alpha\":{\"value\":0.8},\"line_color\":{\"value\":\"red\"},\"size\":{\"units\":\"screen\",\"value\":12},\"x\":{\"field\":\"x\"},\"y\":{\"field\":\"y\"}},\"id\":\"208251\",\"type\":\"Circle\"},{\"attributes\":{\"dimension\":1,\"ticker\":{\"id\":\"208233\",\"type\":\"BasicTicker\"}},\"id\":\"208236\",\"type\":\"Grid\"},{\"attributes\":{},\"id\":\"208233\",\"type\":\"BasicTicker\"},{\"attributes\":{\"formatter\":{\"id\":\"208594\",\"type\":\"BasicTickFormatter\"},\"ticker\":{\"id\":\"208233\",\"type\":\"BasicTicker\"}},\"id\":\"208232\",\"type\":\"LinearAxis\"},{\"attributes\":{\"ticker\":{\"id\":\"208228\",\"type\":\"DatetimeTicker\"}},\"id\":\"208231\",\"type\":\"Grid\"},{\"attributes\":{\"num_minor_ticks\":5,\"tickers\":[{\"id\":\"208596\",\"type\":\"AdaptiveTicker\"},{\"id\":\"208597\",\"type\":\"AdaptiveTicker\"},{\"id\":\"208598\",\"type\":\"AdaptiveTicker\"},{\"id\":\"208599\",\"type\":\"DaysTicker\"},{\"id\":\"208600\",\"type\":\"DaysTicker\"},{\"id\":\"208601\",\"type\":\"DaysTicker\"},{\"id\":\"208602\",\"type\":\"DaysTicker\"},{\"id\":\"208603\",\"type\":\"MonthsTicker\"},{\"id\":\"208604\",\"type\":\"MonthsTicker\"},{\"id\":\"208605\",\"type\":\"MonthsTicker\"},{\"id\":\"208606\",\"type\":\"MonthsTicker\"},{\"id\":\"208607\",\"type\":\"YearsTicker\"}]},\"id\":\"208228\",\"type\":\"DatetimeTicker\"},{\"attributes\":{\"base\":24,\"mantissas\":[1,2,4,6,8,12],\"max_interval\":43200000.0,\"min_interval\":3600000.0,\"num_minor_ticks\":0},\"id\":\"208334\",\"type\":\"AdaptiveTicker\"},{\"attributes\":{\"formatter\":{\"id\":\"208592\",\"type\":\"DatetimeTickFormatter\"},\"major_label_orientation\":1.5707963267948966,\"ticker\":{\"id\":\"208228\",\"type\":\"DatetimeTicker\"}},\"id\":\"208227\",\"type\":\"DatetimeAxis\"},{\"attributes\":{},\"id\":\"208225\",\"type\":\"LinearScale\"},{\"attributes\":{},\"id\":\"208223\",\"type\":\"LinearScale\"},{\"attributes\":{\"callback\":null},\"id\":\"208221\",\"type\":\"DataRange1d\"},{\"attributes\":{\"callback\":null},\"id\":\"208219\",\"type\":\"DataRange1d\"},{\"attributes\":{\"background_fill_color\":{\"value\":\"#fafafa\"},\"below\":[{\"id\":\"208269\",\"type\":\"DatetimeAxis\"}],\"center\":[{\"id\":\"208273\",\"type\":\"Grid\"},{\"id\":\"208278\",\"type\":\"Grid\"}],\"left\":[{\"id\":\"208274\",\"type\":\"LinearAxis\"}],\"plot_height\":150,\"plot_width\":150,\"renderers\":[{\"id\":\"208295\",\"type\":\"GlyphRenderer\"},{\"id\":\"208300\",\"type\":\"GlyphRenderer\"}],\"title\":{\"id\":\"208614\",\"type\":\"Title\"},\"toolbar\":{\"id\":\"208285\",\"type\":\"Toolbar\"},\"toolbar_location\":null,\"x_range\":{\"id\":\"208261\",\"type\":\"DataRange1d\"},\"x_scale\":{\"id\":\"208265\",\"type\":\"LinearScale\"},\"y_range\":{\"id\":\"208263\",\"type\":\"DataRange1d\"},\"y_scale\":{\"id\":\"208267\",\"type\":\"LinearScale\"}},\"id\":\"208260\",\"subtype\":\"Figure\",\"type\":\"Plot\"},{\"attributes\":{\"dimension\":1,\"ticker\":{\"id\":\"207729\",\"type\":\"BasicTicker\"}},\"id\":\"207732\",\"type\":\"Grid\"},{\"attributes\":{},\"id\":\"208464\",\"type\":\"Selection\"},{\"attributes\":{\"background_fill_color\":{\"value\":\"#fafafa\"},\"below\":[{\"id\":\"207975\",\"type\":\"DatetimeAxis\"}],\"center\":[{\"id\":\"207979\",\"type\":\"Grid\"},{\"id\":\"207984\",\"type\":\"Grid\"}],\"left\":[{\"id\":\"207980\",\"type\":\"LinearAxis\"}],\"plot_height\":150,\"plot_width\":150,\"renderers\":[{\"id\":\"208001\",\"type\":\"GlyphRenderer\"},{\"id\":\"208006\",\"type\":\"GlyphRenderer\"}],\"title\":{\"id\":\"208446\",\"type\":\"Title\"},\"toolbar\":{\"id\":\"207991\",\"type\":\"Toolbar\"},\"toolbar_location\":null,\"x_range\":{\"id\":\"207967\",\"type\":\"DataRange1d\"},\"x_scale\":{\"id\":\"207971\",\"type\":\"LinearScale\"},\"y_range\":{\"id\":\"207969\",\"type\":\"DataRange1d\"},\"y_scale\":{\"id\":\"207973\",\"type\":\"LinearScale\"}},\"id\":\"207966\",\"subtype\":\"Figure\",\"type\":\"Plot\"},{\"attributes\":{},\"id\":\"208267\",\"type\":\"LinearScale\"},{\"attributes\":{},\"id\":\"208463\",\"type\":\"YearsTicker\"},{\"attributes\":{\"formatter\":{\"id\":\"208616\",\"type\":\"DatetimeTickFormatter\"},\"major_label_orientation\":1.5707963267948966,\"ticker\":{\"id\":\"208270\",\"type\":\"DatetimeTicker\"}},\"id\":\"208269\",\"type\":\"DatetimeAxis\"},{\"attributes\":{\"fill_alpha\":{\"value\":0.8},\"fill_color\":{\"value\":\"red\"},\"line_alpha\":{\"value\":0.8},\"line_color\":{\"value\":\"red\"},\"size\":{\"units\":\"screen\",\"value\":12},\"x\":{\"field\":\"x\"},\"y\":{\"field\":\"y\"}},\"id\":\"207747\",\"type\":\"Circle\"},{\"attributes\":{\"months\":[0,6]},\"id\":\"208462\",\"type\":\"MonthsTicker\"},{\"attributes\":{\"callback\":null},\"id\":\"207925\",\"type\":\"DataRange1d\"},{\"attributes\":{\"callback\":null,\"data\":{\"x\":{\"__ndarray__\":\"AACAun5EcUIAAIDoEUdxQg==\",\"dtype\":\"float64\",\"shape\":[2]},\"y\":{\"__ndarray__\":\"AAAAQOF6AED///8frkf9Pw==\",\"dtype\":\"float64\",\"shape\":[2]}},\"selected\":{\"id\":\"208320\",\"type\":\"Selection\"},\"selection_policy\":{\"id\":\"208321\",\"type\":\"UnionRenderers\"}},\"id\":\"207746\",\"type\":\"ColumnDataSource\"},{\"attributes\":{\"num_minor_ticks\":5,\"tickers\":[{\"id\":\"208620\",\"type\":\"AdaptiveTicker\"},{\"id\":\"208621\",\"type\":\"AdaptiveTicker\"},{\"id\":\"208622\",\"type\":\"AdaptiveTicker\"},{\"id\":\"208623\",\"type\":\"DaysTicker\"},{\"id\":\"208624\",\"type\":\"DaysTicker\"},{\"id\":\"208625\",\"type\":\"DaysTicker\"},{\"id\":\"208626\",\"type\":\"DaysTicker\"},{\"id\":\"208627\",\"type\":\"MonthsTicker\"},{\"id\":\"208628\",\"type\":\"MonthsTicker\"},{\"id\":\"208629\",\"type\":\"MonthsTicker\"},{\"id\":\"208630\",\"type\":\"MonthsTicker\"},{\"id\":\"208631\",\"type\":\"YearsTicker\"}]},\"id\":\"208270\",\"type\":\"DatetimeTicker\"},{\"attributes\":{\"active_drag\":\"auto\",\"active_inspect\":\"auto\",\"active_multi\":null,\"active_scroll\":\"auto\",\"active_tap\":\"auto\",\"tools\":[{\"id\":\"207733\",\"type\":\"PanTool\"},{\"id\":\"207734\",\"type\":\"WheelZoomTool\"},{\"id\":\"207735\",\"type\":\"BoxZoomTool\"},{\"id\":\"207736\",\"type\":\"SaveTool\"},{\"id\":\"207737\",\"type\":\"ResetTool\"},{\"id\":\"207738\",\"type\":\"HelpTool\"}]},\"id\":\"207739\",\"type\":\"Toolbar\"},{\"attributes\":{\"months\":[0,4,8]},\"id\":\"208461\",\"type\":\"MonthsTicker\"},{\"attributes\":{},\"id\":\"207733\",\"type\":\"PanTool\"},{\"attributes\":{\"callback\":null},\"id\":\"207927\",\"type\":\"DataRange1d\"},{\"attributes\":{\"ticker\":{\"id\":\"208270\",\"type\":\"DatetimeTicker\"}},\"id\":\"208273\",\"type\":\"Grid\"},{\"attributes\":{\"months\":[0,2,4,6,8,10]},\"id\":\"208460\",\"type\":\"MonthsTicker\"},{\"attributes\":{},\"id\":\"207734\",\"type\":\"WheelZoomTool\"},{\"attributes\":{},\"id\":\"207929\",\"type\":\"LinearScale\"},{\"attributes\":{\"formatter\":{\"id\":\"208618\",\"type\":\"BasicTickFormatter\"},\"ticker\":{\"id\":\"208275\",\"type\":\"BasicTicker\"}},\"id\":\"208274\",\"type\":\"LinearAxis\"},{\"attributes\":{\"months\":[0,1,2,3,4,5,6,7,8,9,10,11]},\"id\":\"208459\",\"type\":\"MonthsTicker\"},{\"attributes\":{\"overlay\":{\"id\":\"208324\",\"type\":\"BoxAnnotation\"}},\"id\":\"207735\",\"type\":\"BoxZoomTool\"},{\"attributes\":{},\"id\":\"207931\",\"type\":\"LinearScale\"},{\"attributes\":{},\"id\":\"208275\",\"type\":\"BasicTicker\"},{\"attributes\":{\"days\":[1,15]},\"id\":\"208458\",\"type\":\"DaysTicker\"},{\"attributes\":{},\"id\":\"207736\",\"type\":\"SaveTool\"},{\"attributes\":{\"formatter\":{\"id\":\"208424\",\"type\":\"DatetimeTickFormatter\"},\"major_label_orientation\":1.5707963267948966,\"ticker\":{\"id\":\"207934\",\"type\":\"DatetimeTicker\"}},\"id\":\"207933\",\"type\":\"DatetimeAxis\"},{\"attributes\":{\"dimension\":1,\"ticker\":{\"id\":\"208275\",\"type\":\"BasicTicker\"}},\"id\":\"208278\",\"type\":\"Grid\"},{\"attributes\":{\"days\":[1,8,15,22]},\"id\":\"208457\",\"type\":\"DaysTicker\"},{\"attributes\":{},\"id\":\"207737\",\"type\":\"ResetTool\"},{\"attributes\":{\"num_minor_ticks\":5,\"tickers\":[{\"id\":\"208428\",\"type\":\"AdaptiveTicker\"},{\"id\":\"208429\",\"type\":\"AdaptiveTicker\"},{\"id\":\"208430\",\"type\":\"AdaptiveTicker\"},{\"id\":\"208431\",\"type\":\"DaysTicker\"},{\"id\":\"208432\",\"type\":\"DaysTicker\"},{\"id\":\"208433\",\"type\":\"DaysTicker\"},{\"id\":\"208434\",\"type\":\"DaysTicker\"},{\"id\":\"208435\",\"type\":\"MonthsTicker\"},{\"id\":\"208436\",\"type\":\"MonthsTicker\"},{\"id\":\"208437\",\"type\":\"MonthsTicker\"},{\"id\":\"208438\",\"type\":\"MonthsTicker\"},{\"id\":\"208439\",\"type\":\"YearsTicker\"}]},\"id\":\"207934\",\"type\":\"DatetimeTicker\"},{\"attributes\":{\"fill_alpha\":{\"value\":0.8},\"fill_color\":{\"value\":\"red\"},\"line_alpha\":{\"value\":0.8},\"line_color\":{\"value\":\"red\"},\"size\":{\"units\":\"screen\",\"value\":12},\"x\":{\"field\":\"x\"},\"y\":{\"field\":\"y\"}},\"id\":\"208293\",\"type\":\"Circle\"},{\"attributes\":{\"days\":[1,4,7,10,13,16,19,22,25,28]},\"id\":\"208456\",\"type\":\"DaysTicker\"},{\"attributes\":{},\"id\":\"207738\",\"type\":\"HelpTool\"},{\"attributes\":{\"ticker\":{\"id\":\"207934\",\"type\":\"DatetimeTicker\"}},\"id\":\"207937\",\"type\":\"Grid\"},{\"attributes\":{\"callback\":null,\"data\":{\"x\":{\"__ndarray__\":\"AADAw+tMdkIAAMBaNU52Qg==\",\"dtype\":\"float64\",\"shape\":[2]},\"y\":{\"__ndarray__\":\"AAAAwB6FBUAAAABA4XoAQA==\",\"dtype\":\"float64\",\"shape\":[2]}},\"selected\":{\"id\":\"208632\",\"type\":\"Selection\"},\"selection_policy\":{\"id\":\"208633\",\"type\":\"UnionRenderers\"}},\"id\":\"208292\",\"type\":\"ColumnDataSource\"},{\"attributes\":{\"days\":[1,2,3,4,5,6,7,8,9,10,11,12,13,14,15,16,17,18,19,20,21,22,23,24,25,26,27,28,29,30,31]},\"id\":\"208455\",\"type\":\"DaysTicker\"},{\"attributes\":{\"formatter\":{\"id\":\"208426\",\"type\":\"BasicTickFormatter\"},\"ticker\":{\"id\":\"207939\",\"type\":\"BasicTicker\"}},\"id\":\"207938\",\"type\":\"LinearAxis\"},{\"attributes\":{\"active_drag\":\"auto\",\"active_inspect\":\"auto\",\"active_multi\":null,\"active_scroll\":\"auto\",\"active_tap\":\"auto\",\"tools\":[{\"id\":\"208279\",\"type\":\"PanTool\"},{\"id\":\"208280\",\"type\":\"WheelZoomTool\"},{\"id\":\"208281\",\"type\":\"BoxZoomTool\"},{\"id\":\"208282\",\"type\":\"SaveTool\"},{\"id\":\"208283\",\"type\":\"ResetTool\"},{\"id\":\"208284\",\"type\":\"HelpTool\"}]},\"id\":\"208285\",\"type\":\"Toolbar\"},{\"attributes\":{},\"id\":\"208279\",\"type\":\"PanTool\"},{\"attributes\":{\"fill_alpha\":{\"value\":0.1},\"fill_color\":{\"value\":\"#1f77b4\"},\"line_alpha\":{\"value\":0.1},\"line_color\":{\"value\":\"#1f77b4\"},\"size\":{\"units\":\"screen\",\"value\":12},\"x\":{\"field\":\"x\"},\"y\":{\"field\":\"y\"}},\"id\":\"207748\",\"type\":\"Circle\"},{\"attributes\":{\"base\":24,\"mantissas\":[1,2,4,6,8,12],\"max_interval\":43200000.0,\"min_interval\":3600000.0,\"num_minor_ticks\":0},\"id\":\"208454\",\"type\":\"AdaptiveTicker\"},{\"attributes\":{\"data_source\":{\"id\":\"207746\",\"type\":\"ColumnDataSource\"},\"glyph\":{\"id\":\"207747\",\"type\":\"Circle\"},\"hover_glyph\":null,\"muted_glyph\":null,\"nonselection_glyph\":{\"id\":\"207748\",\"type\":\"Circle\"},\"selection_glyph\":null,\"view\":{\"id\":\"207750\",\"type\":\"CDSView\"}},\"id\":\"207749\",\"type\":\"GlyphRenderer\"},{\"attributes\":{},\"id\":\"207939\",\"type\":\"BasicTicker\"},{\"attributes\":{},\"id\":\"208280\",\"type\":\"WheelZoomTool\"},{\"attributes\":{\"dimension\":1,\"ticker\":{\"id\":\"207939\",\"type\":\"BasicTicker\"}},\"id\":\"207942\",\"type\":\"Grid\"},{\"attributes\":{\"overlay\":{\"id\":\"208636\",\"type\":\"BoxAnnotation\"}},\"id\":\"208281\",\"type\":\"BoxZoomTool\"},{\"attributes\":{\"source\":{\"id\":\"207746\",\"type\":\"ColumnDataSource\"}},\"id\":\"207750\",\"type\":\"CDSView\"},{\"attributes\":{},\"id\":\"208424\",\"type\":\"DatetimeTickFormatter\"},{\"attributes\":{\"fill_alpha\":{\"value\":0.8},\"fill_color\":{\"value\":\"red\"},\"line_alpha\":{\"value\":0.8},\"line_color\":{\"value\":\"red\"},\"size\":{\"units\":\"screen\",\"value\":12},\"x\":{\"field\":\"x\"},\"y\":{\"field\":\"y\"}},\"id\":\"207957\",\"type\":\"Circle\"},{\"attributes\":{\"base\":60,\"mantissas\":[1,2,5,10,15,20,30],\"max_interval\":1800000.0,\"min_interval\":1000.0,\"num_minor_ticks\":0},\"id\":\"208453\",\"type\":\"AdaptiveTicker\"},{\"attributes\":{},\"id\":\"208282\",\"type\":\"SaveTool\"},{\"attributes\":{\"callback\":null,\"data\":{\"x\":{\"__ndarray__\":\"AABAnZGcckIAAMAtE6FyQg==\",\"dtype\":\"float64\",\"shape\":[2]},\"y\":{\"__ndarray__\":\"AAAAANejBEAAAADAzMwAQA==\",\"dtype\":\"float64\",\"shape\":[2]}},\"selected\":{\"id\":\"208440\",\"type\":\"Selection\"},\"selection_policy\":{\"id\":\"208441\",\"type\":\"UnionRenderers\"}},\"id\":\"207956\",\"type\":\"ColumnDataSource\"},{\"attributes\":{},\"id\":\"208283\",\"type\":\"ResetTool\"},{\"attributes\":{\"line_color\":\"blue\",\"x\":{\"field\":\"x\"},\"y\":{\"field\":\"y\"}},\"id\":\"207752\",\"type\":\"Line\"},{\"attributes\":{\"mantissas\":[1,2,5],\"max_interval\":500.0,\"num_minor_ticks\":0},\"id\":\"208452\",\"type\":\"AdaptiveTicker\"},{\"attributes\":{\"active_drag\":\"auto\",\"active_inspect\":\"auto\",\"active_multi\":null,\"active_scroll\":\"auto\",\"active_tap\":\"auto\",\"tools\":[{\"id\":\"207943\",\"type\":\"PanTool\"},{\"id\":\"207944\",\"type\":\"WheelZoomTool\"},{\"id\":\"207945\",\"type\":\"BoxZoomTool\"},{\"id\":\"207946\",\"type\":\"SaveTool\"},{\"id\":\"207947\",\"type\":\"ResetTool\"},{\"id\":\"207948\",\"type\":\"HelpTool\"}]},\"id\":\"207949\",\"type\":\"Toolbar\"},{\"attributes\":{},\"id\":\"207943\",\"type\":\"PanTool\"},{\"attributes\":{},\"id\":\"208284\",\"type\":\"HelpTool\"},{\"attributes\":{},\"id\":\"208450\",\"type\":\"BasicTickFormatter\"},{\"attributes\":{},\"id\":\"207944\",\"type\":\"WheelZoomTool\"},{\"attributes\":{\"callback\":null,\"data\":{\"x\":{\"__ndarray__\":\"AADAXXu+cUIAAIDDzb5xQgAAQCkgv3FCAAAAj3K/cUIAAMD0xL9xQgAAgFoXwHFCAABAwGnAcUIAAAAmvMBxQg==\",\"dtype\":\"float64\",\"shape\":[8]},\"y\":{\"__ndarray__\":\"AAAAgBSuA0D///9fj8IDQAAAACCF6wFAAAAA4FG4AEAAAADgUbgAQAAAAIA9CgFAAAAAoEfhAED///+/HoX/Pw==\",\"dtype\":\"float64\",\"shape\":[8]}},\"selected\":{\"id\":\"208346\",\"type\":\"Selection\"},\"selection_policy\":{\"id\":\"208347\",\"type\":\"UnionRenderers\"}},\"id\":\"207793\",\"type\":\"ColumnDataSource\"},{\"attributes\":{},\"id\":\"208448\",\"type\":\"DatetimeTickFormatter\"},{\"attributes\":{\"line_alpha\":0.1,\"line_color\":\"#1f77b4\",\"x\":{\"field\":\"x\"},\"y\":{\"field\":\"y\"}},\"id\":\"207753\",\"type\":\"Line\"},{\"attributes\":{\"fill_alpha\":{\"value\":0.1},\"fill_color\":{\"value\":\"#1f77b4\"},\"line_alpha\":{\"value\":0.1},\"line_color\":{\"value\":\"#1f77b4\"},\"size\":{\"units\":\"screen\",\"value\":12},\"x\":{\"field\":\"x\"},\"y\":{\"field\":\"y\"}},\"id\":\"208294\",\"type\":\"Circle\"},{\"attributes\":{\"overlay\":{\"id\":\"208444\",\"type\":\"BoxAnnotation\"}},\"id\":\"207945\",\"type\":\"BoxZoomTool\"},{\"attributes\":{\"text\":\"\"},\"id\":\"208446\",\"type\":\"Title\"},{\"attributes\":{\"data_source\":{\"id\":\"208292\",\"type\":\"ColumnDataSource\"},\"glyph\":{\"id\":\"208293\",\"type\":\"Circle\"},\"hover_glyph\":null,\"muted_glyph\":null,\"nonselection_glyph\":{\"id\":\"208294\",\"type\":\"Circle\"},\"selection_glyph\":null,\"view\":{\"id\":\"208296\",\"type\":\"CDSView\"}},\"id\":\"208295\",\"type\":\"GlyphRenderer\"},{\"attributes\":{\"data_source\":{\"id\":\"207751\",\"type\":\"ColumnDataSource\"},\"glyph\":{\"id\":\"207752\",\"type\":\"Line\"},\"hover_glyph\":null,\"muted_glyph\":null,\"nonselection_glyph\":{\"id\":\"207753\",\"type\":\"Line\"},\"selection_glyph\":null,\"view\":{\"id\":\"207755\",\"type\":\"CDSView\"}},\"id\":\"207754\",\"type\":\"GlyphRenderer\"},{\"attributes\":{},\"id\":\"207946\",\"type\":\"SaveTool\"},{\"attributes\":{\"bottom_units\":\"screen\",\"fill_alpha\":{\"value\":0.5},\"fill_color\":{\"value\":\"lightgrey\"},\"left_units\":\"screen\",\"level\":\"overlay\",\"line_alpha\":{\"value\":1.0},\"line_color\":{\"value\":\"black\"},\"line_dash\":[4,4],\"line_width\":{\"value\":2},\"render_mode\":\"css\",\"right_units\":\"screen\",\"top_units\":\"screen\"},\"id\":\"208444\",\"type\":\"BoxAnnotation\"},{\"attributes\":{\"source\":{\"id\":\"207751\",\"type\":\"ColumnDataSource\"}},\"id\":\"207755\",\"type\":\"CDSView\"},{\"attributes\":{\"source\":{\"id\":\"208292\",\"type\":\"ColumnDataSource\"}},\"id\":\"208296\",\"type\":\"CDSView\"},{\"attributes\":{},\"id\":\"207947\",\"type\":\"ResetTool\"},{\"attributes\":{},\"id\":\"208443\",\"type\":\"UnionRenderers\"},{\"attributes\":{\"line_color\":\"blue\",\"x\":{\"field\":\"x\"},\"y\":{\"field\":\"y\"}},\"id\":\"208298\",\"type\":\"Line\"},{\"attributes\":{\"background_fill_color\":{\"value\":\"#fafafa\"},\"below\":[{\"id\":\"207807\",\"type\":\"DatetimeAxis\"}],\"center\":[{\"id\":\"207811\",\"type\":\"Grid\"},{\"id\":\"207816\",\"type\":\"Grid\"}],\"left\":[{\"id\":\"207812\",\"type\":\"LinearAxis\"}],\"plot_height\":150,\"plot_width\":150,\"renderers\":[{\"id\":\"207833\",\"type\":\"GlyphRenderer\"},{\"id\":\"207838\",\"type\":\"GlyphRenderer\"}],\"title\":{\"id\":\"208350\",\"type\":\"Title\"},\"toolbar\":{\"id\":\"207823\",\"type\":\"Toolbar\"},\"toolbar_location\":null,\"x_range\":{\"id\":\"207799\",\"type\":\"DataRange1d\"},\"x_scale\":{\"id\":\"207803\",\"type\":\"LinearScale\"},\"y_range\":{\"id\":\"207801\",\"type\":\"DataRange1d\"},\"y_scale\":{\"id\":\"207805\",\"type\":\"LinearScale\"}},\"id\":\"207798\",\"subtype\":\"Figure\",\"type\":\"Plot\"},{\"attributes\":{},\"id\":\"207948\",\"type\":\"HelpTool\"},{\"attributes\":{},\"id\":\"208442\",\"type\":\"Selection\"},{\"attributes\":{},\"id\":\"208441\",\"type\":\"UnionRenderers\"},{\"attributes\":{\"fill_alpha\":{\"value\":0.1},\"fill_color\":{\"value\":\"#1f77b4\"},\"line_alpha\":{\"value\":0.1},\"line_color\":{\"value\":\"#1f77b4\"},\"size\":{\"units\":\"screen\",\"value\":12},\"x\":{\"field\":\"x\"},\"y\":{\"field\":\"y\"}},\"id\":\"207958\",\"type\":\"Circle\"},{\"attributes\":{\"callback\":null},\"id\":\"207757\",\"type\":\"DataRange1d\"},{\"attributes\":{\"data_source\":{\"id\":\"207956\",\"type\":\"ColumnDataSource\"},\"glyph\":{\"id\":\"207957\",\"type\":\"Circle\"},\"hover_glyph\":null,\"muted_glyph\":null,\"nonselection_glyph\":{\"id\":\"207958\",\"type\":\"Circle\"},\"selection_glyph\":null,\"view\":{\"id\":\"207960\",\"type\":\"CDSView\"}},\"id\":\"207959\",\"type\":\"GlyphRenderer\"},{\"attributes\":{},\"id\":\"208440\",\"type\":\"Selection\"},{\"attributes\":{\"line_alpha\":0.1,\"line_color\":\"#1f77b4\",\"x\":{\"field\":\"x\"},\"y\":{\"field\":\"y\"}},\"id\":\"208299\",\"type\":\"Line\"},{\"attributes\":{},\"id\":\"207761\",\"type\":\"LinearScale\"},{\"attributes\":{},\"id\":\"208439\",\"type\":\"YearsTicker\"},{\"attributes\":{\"data_source\":{\"id\":\"208297\",\"type\":\"ColumnDataSource\"},\"glyph\":{\"id\":\"208298\",\"type\":\"Line\"},\"hover_glyph\":null,\"muted_glyph\":null,\"nonselection_glyph\":{\"id\":\"208299\",\"type\":\"Line\"},\"selection_glyph\":null,\"view\":{\"id\":\"208301\",\"type\":\"CDSView\"}},\"id\":\"208300\",\"type\":\"GlyphRenderer\"},{\"attributes\":{\"source\":{\"id\":\"207956\",\"type\":\"ColumnDataSource\"}},\"id\":\"207960\",\"type\":\"CDSView\"},{\"attributes\":{},\"id\":\"207763\",\"type\":\"LinearScale\"},{\"attributes\":{\"months\":[0,6]},\"id\":\"208438\",\"type\":\"MonthsTicker\"},{\"attributes\":{\"line_color\":\"blue\",\"x\":{\"field\":\"x\"},\"y\":{\"field\":\"y\"}},\"id\":\"207962\",\"type\":\"Line\"},{\"attributes\":{\"source\":{\"id\":\"208297\",\"type\":\"ColumnDataSource\"}},\"id\":\"208301\",\"type\":\"CDSView\"},{\"attributes\":{\"formatter\":{\"id\":\"208328\",\"type\":\"DatetimeTickFormatter\"},\"major_label_orientation\":1.5707963267948966,\"ticker\":{\"id\":\"207766\",\"type\":\"DatetimeTicker\"}},\"id\":\"207765\",\"type\":\"DatetimeAxis\"},{\"attributes\":{\"months\":[0,4,8]},\"id\":\"208437\",\"type\":\"MonthsTicker\"},{\"attributes\":{\"num_minor_ticks\":5,\"tickers\":[{\"id\":\"208332\",\"type\":\"AdaptiveTicker\"},{\"id\":\"208333\",\"type\":\"AdaptiveTicker\"},{\"id\":\"208334\",\"type\":\"AdaptiveTicker\"},{\"id\":\"208335\",\"type\":\"DaysTicker\"},{\"id\":\"208336\",\"type\":\"DaysTicker\"},{\"id\":\"208337\",\"type\":\"DaysTicker\"},{\"id\":\"208338\",\"type\":\"DaysTicker\"},{\"id\":\"208339\",\"type\":\"MonthsTicker\"},{\"id\":\"208340\",\"type\":\"MonthsTicker\"},{\"id\":\"208341\",\"type\":\"MonthsTicker\"},{\"id\":\"208342\",\"type\":\"MonthsTicker\"},{\"id\":\"208343\",\"type\":\"YearsTicker\"}]},\"id\":\"207766\",\"type\":\"DatetimeTicker\"},{\"attributes\":{},\"id\":\"208368\",\"type\":\"Selection\"},{\"attributes\":{\"months\":[0,2,4,6,8,10]},\"id\":\"208436\",\"type\":\"MonthsTicker\"},{\"attributes\":{},\"id\":\"208369\",\"type\":\"UnionRenderers\"},{\"attributes\":{\"ticker\":{\"id\":\"207766\",\"type\":\"DatetimeTicker\"}},\"id\":\"207769\",\"type\":\"Grid\"},{\"attributes\":{\"callback\":null,\"data\":{\"x\":{\"__ndarray__\":\"AABA+behckIAAABfCqJyQgAAwMRconJCAACAKq+ickIAAECQAaNyQgAAAPZTo3JCAADAW6ajckIAAIDB+KNyQgAAQCdLpHJCAAAAjZ2kckIAAMDy76RyQg==\",\"dtype\":\"float64\",\"shape\":[11]},\"y\":{\"__ndarray__\":\"AAAAgD0KAUAAAABACtcDQAAAAKBH4QRAAAAAgML1AkAAAAAA16MGQAEAAEAzMwdAAAAAIFyPBkAAAADA9SgEQAAAAMDMzAJAAAAAgBSuAUAAAACgR+EAQA==\",\"dtype\":\"float64\",\"shape\":[11]}},\"selected\":{\"id\":\"208466\",\"type\":\"Selection\"},\"selection_policy\":{\"id\":\"208467\",\"type\":\"UnionRenderers\"}},\"id\":\"208003\",\"type\":\"ColumnDataSource\"},{\"attributes\":{\"months\":[0,1,2,3,4,5,6,7,8,9,10,11]},\"id\":\"208435\",\"type\":\"MonthsTicker\"},{\"attributes\":{},\"id\":\"208370\",\"type\":\"Selection\"},{\"attributes\":{\"formatter\":{\"id\":\"208330\",\"type\":\"BasicTickFormatter\"},\"ticker\":{\"id\":\"207771\",\"type\":\"BasicTicker\"}},\"id\":\"207770\",\"type\":\"LinearAxis\"},{\"attributes\":{\"line_alpha\":0.1,\"line_color\":\"#1f77b4\",\"x\":{\"field\":\"x\"},\"y\":{\"field\":\"y\"}},\"id\":\"207963\",\"type\":\"Line\"},{\"attributes\":{\"days\":[1,15]},\"id\":\"208434\",\"type\":\"DaysTicker\"},{\"attributes\":{},\"id\":\"208371\",\"type\":\"UnionRenderers\"},{\"attributes\":{\"data_source\":{\"id\":\"207961\",\"type\":\"ColumnDataSource\"},\"glyph\":{\"id\":\"207962\",\"type\":\"Line\"},\"hover_glyph\":null,\"muted_glyph\":null,\"nonselection_glyph\":{\"id\":\"207963\",\"type\":\"Line\"},\"selection_glyph\":null,\"view\":{\"id\":\"207965\",\"type\":\"CDSView\"}},\"id\":\"207964\",\"type\":\"GlyphRenderer\"},{\"attributes\":{},\"id\":\"207771\",\"type\":\"BasicTicker\"},{\"attributes\":{\"days\":[1,8,15,22]},\"id\":\"208433\",\"type\":\"DaysTicker\"},{\"attributes\":{\"bottom_units\":\"screen\",\"fill_alpha\":{\"value\":0.5},\"fill_color\":{\"value\":\"lightgrey\"},\"left_units\":\"screen\",\"level\":\"overlay\",\"line_alpha\":{\"value\":1.0},\"line_color\":{\"value\":\"black\"},\"line_dash\":[4,4],\"line_width\":{\"value\":2},\"render_mode\":\"css\",\"right_units\":\"screen\",\"top_units\":\"screen\"},\"id\":\"208372\",\"type\":\"BoxAnnotation\"},{\"attributes\":{\"dimension\":1,\"ticker\":{\"id\":\"207771\",\"type\":\"BasicTicker\"}},\"id\":\"207774\",\"type\":\"Grid\"},{\"attributes\":{\"source\":{\"id\":\"207961\",\"type\":\"ColumnDataSource\"}},\"id\":\"207965\",\"type\":\"CDSView\"},{\"attributes\":{\"days\":[1,4,7,10,13,16,19,22,25,28]},\"id\":\"208432\",\"type\":\"DaysTicker\"},{\"attributes\":{\"text\":\"\"},\"id\":\"208374\",\"type\":\"Title\"},{\"attributes\":{\"fill_alpha\":{\"value\":0.8},\"fill_color\":{\"value\":\"red\"},\"line_alpha\":{\"value\":0.8},\"line_color\":{\"value\":\"red\"},\"size\":{\"units\":\"screen\",\"value\":12},\"x\":{\"field\":\"x\"},\"y\":{\"field\":\"y\"}},\"id\":\"207789\",\"type\":\"Circle\"},{\"attributes\":{\"days\":[1,2,3,4,5,6,7,8,9,10,11,12,13,14,15,16,17,18,19,20,21,22,23,24,25,26,27,28,29,30,31]},\"id\":\"208431\",\"type\":\"DaysTicker\"},{\"attributes\":{\"background_fill_color\":{\"value\":\"#fafafa\"},\"below\":[{\"id\":\"208017\",\"type\":\"DatetimeAxis\"}],\"center\":[{\"id\":\"208021\",\"type\":\"Grid\"},{\"id\":\"208026\",\"type\":\"Grid\"}],\"left\":[{\"id\":\"208022\",\"type\":\"LinearAxis\"}],\"plot_height\":150,\"plot_width\":150,\"renderers\":[{\"id\":\"208043\",\"type\":\"GlyphRenderer\"},{\"id\":\"208048\",\"type\":\"GlyphRenderer\"}],\"title\":{\"id\":\"208470\",\"type\":\"Title\"},\"toolbar\":{\"id\":\"208033\",\"type\":\"Toolbar\"},\"toolbar_location\":null,\"x_range\":{\"id\":\"208009\",\"type\":\"DataRange1d\"},\"x_scale\":{\"id\":\"208013\",\"type\":\"LinearScale\"},\"y_range\":{\"id\":\"208011\",\"type\":\"DataRange1d\"},\"y_scale\":{\"id\":\"208015\",\"type\":\"LinearScale\"}},\"id\":\"208008\",\"subtype\":\"Figure\",\"type\":\"Plot\"},{\"attributes\":{},\"id\":\"208376\",\"type\":\"DatetimeTickFormatter\"},{\"attributes\":{\"callback\":null,\"data\":{\"x\":{\"__ndarray__\":\"AADAXXu+cUIAAAAmvMBxQg==\",\"dtype\":\"float64\",\"shape\":[2]},\"y\":{\"__ndarray__\":\"AAAAgBSuA0D///+/HoX/Pw==\",\"dtype\":\"float64\",\"shape\":[2]}},\"selected\":{\"id\":\"208344\",\"type\":\"Selection\"},\"selection_policy\":{\"id\":\"208345\",\"type\":\"UnionRenderers\"}},\"id\":\"207788\",\"type\":\"ColumnDataSource\"},{\"attributes\":{\"base\":24,\"mantissas\":[1,2,4,6,8,12],\"max_interval\":43200000.0,\"min_interval\":3600000.0,\"num_minor_ticks\":0},\"id\":\"208430\",\"type\":\"AdaptiveTicker\"},{\"attributes\":{},\"id\":\"208378\",\"type\":\"BasicTickFormatter\"},{\"attributes\":{\"fill_alpha\":{\"value\":0.1},\"fill_color\":{\"value\":\"#1f77b4\"},\"line_alpha\":{\"value\":0.1},\"line_color\":{\"value\":\"#1f77b4\"},\"size\":{\"units\":\"screen\",\"value\":12},\"x\":{\"field\":\"x\"},\"y\":{\"field\":\"y\"}},\"id\":\"207790\",\"type\":\"Circle\"},{\"attributes\":{\"base\":60,\"mantissas\":[1,2,5,10,15,20,30],\"max_interval\":1800000.0,\"min_interval\":1000.0,\"num_minor_ticks\":0},\"id\":\"208429\",\"type\":\"AdaptiveTicker\"},{\"attributes\":{},\"id\":\"207775\",\"type\":\"PanTool\"},{\"attributes\":{\"callback\":null},\"id\":\"207967\",\"type\":\"DataRange1d\"},{\"attributes\":{\"mantissas\":[1,2,5],\"max_interval\":500.0,\"num_minor_ticks\":0},\"id\":\"208380\",\"type\":\"AdaptiveTicker\"},{\"attributes\":{},\"id\":\"207776\",\"type\":\"WheelZoomTool\"},{\"attributes\":{\"callback\":null},\"id\":\"207969\",\"type\":\"DataRange1d\"},{\"attributes\":{\"mantissas\":[1,2,5],\"max_interval\":500.0,\"num_minor_ticks\":0},\"id\":\"208428\",\"type\":\"AdaptiveTicker\"},{\"attributes\":{\"base\":60,\"mantissas\":[1,2,5,10,15,20,30],\"max_interval\":1800000.0,\"min_interval\":1000.0,\"num_minor_ticks\":0},\"id\":\"208381\",\"type\":\"AdaptiveTicker\"},{\"attributes\":{},\"id\":\"207971\",\"type\":\"LinearScale\"},{\"attributes\":{\"overlay\":{\"id\":\"208348\",\"type\":\"BoxAnnotation\"}},\"id\":\"207777\",\"type\":\"BoxZoomTool\"},{\"attributes\":{},\"id\":\"208426\",\"type\":\"BasicTickFormatter\"},{\"attributes\":{\"base\":24,\"mantissas\":[1,2,4,6,8,12],\"max_interval\":43200000.0,\"min_interval\":3600000.0,\"num_minor_ticks\":0},\"id\":\"208382\",\"type\":\"AdaptiveTicker\"},{\"attributes\":{\"months\":[0,1,2,3,4,5,6,7,8,9,10,11]},\"id\":\"208507\",\"type\":\"MonthsTicker\"},{\"attributes\":{\"base\":24,\"mantissas\":[1,2,4,6,8,12],\"max_interval\":43200000.0,\"min_interval\":3600000.0,\"num_minor_ticks\":0},\"id\":\"208550\",\"type\":\"AdaptiveTicker\"},{\"attributes\":{\"days\":[1,2,3,4,5,6,7,8,9,10,11,12,13,14,15,16,17,18,19,20,21,22,23,24,25,26,27,28,29,30,31]},\"id\":\"208383\",\"type\":\"DaysTicker\"},{\"attributes\":{\"days\":[1,15]},\"id\":\"208506\",\"type\":\"DaysTicker\"},{\"attributes\":{\"base\":60,\"mantissas\":[1,2,5,10,15,20,30],\"max_interval\":1800000.0,\"min_interval\":1000.0,\"num_minor_ticks\":0},\"id\":\"208549\",\"type\":\"AdaptiveTicker\"},{\"attributes\":{\"days\":[1,4,7,10,13,16,19,22,25,28]},\"id\":\"208384\",\"type\":\"DaysTicker\"},{\"attributes\":{\"days\":[1,8,15,22]},\"id\":\"208505\",\"type\":\"DaysTicker\"},{\"attributes\":{\"mantissas\":[1,2,5],\"max_interval\":500.0,\"num_minor_ticks\":0},\"id\":\"208548\",\"type\":\"AdaptiveTicker\"},{\"attributes\":{\"days\":[1,8,15,22]},\"id\":\"208385\",\"type\":\"DaysTicker\"},{\"attributes\":{\"days\":[1,4,7,10,13,16,19,22,25,28]},\"id\":\"208504\",\"type\":\"DaysTicker\"},{\"attributes\":{\"callback\":null,\"data\":{\"x\":{\"__ndarray__\":\"AACAun5EcUIAAEAg0URxQgAAAIYjRXFCAADA63VFcUIAAIBRyEVxQgAAQLcaRnFCAAAAHW1GcUIAAMCCv0ZxQgAAgOgRR3FC\",\"dtype\":\"float64\",\"shape\":[9]},\"y\":{\"__ndarray__\":\"AAAAQOF6AEAAAABA4XoGQAEAAIDrUQpAAAAA4KNwBUAAAABA4XoCQAAAAIA9CgFAAAAA4HoUAEAAAAAgXI/+P////x+uR/0/\",\"dtype\":\"float64\",\"shape\":[9]}},\"selected\":{\"id\":\"208322\",\"type\":\"Selection\"},\"selection_policy\":{\"id\":\"208323\",\"type\":\"UnionRenderers\"}},\"id\":\"207751\",\"type\":\"ColumnDataSource\"},{\"attributes\":{},\"id\":\"208546\",\"type\":\"BasicTickFormatter\"},{\"attributes\":{},\"id\":\"208632\",\"type\":\"Selection\"},{\"attributes\":{\"days\":[1,15]},\"id\":\"208386\",\"type\":\"DaysTicker\"},{\"attributes\":{\"days\":[1,2,3,4,5,6,7,8,9,10,11,12,13,14,15,16,17,18,19,20,21,22,23,24,25,26,27,28,29,30,31]},\"id\":\"208503\",\"type\":\"DaysTicker\"},{\"attributes\":{},\"id\":\"208544\",\"type\":\"DatetimeTickFormatter\"},{\"attributes\":{\"months\":[0,1,2,3,4,5,6,7,8,9,10,11]},\"id\":\"208387\",\"type\":\"MonthsTicker\"},{\"attributes\":{\"base\":24,\"mantissas\":[1,2,4,6,8,12],\"max_interval\":43200000.0,\"min_interval\":3600000.0,\"num_minor_ticks\":0},\"id\":\"208502\",\"type\":\"AdaptiveTicker\"},{\"attributes\":{\"text\":\"\"},\"id\":\"208542\",\"type\":\"Title\"},{\"attributes\":{\"months\":[0,2,4,6,8,10]},\"id\":\"208388\",\"type\":\"MonthsTicker\"},{\"attributes\":{\"base\":60,\"mantissas\":[1,2,5,10,15,20,30],\"max_interval\":1800000.0,\"min_interval\":1000.0,\"num_minor_ticks\":0},\"id\":\"208501\",\"type\":\"AdaptiveTicker\"},{\"attributes\":{\"bottom_units\":\"screen\",\"fill_alpha\":{\"value\":0.5},\"fill_color\":{\"value\":\"lightgrey\"},\"left_units\":\"screen\",\"level\":\"overlay\",\"line_alpha\":{\"value\":1.0},\"line_color\":{\"value\":\"black\"},\"line_dash\":[4,4],\"line_width\":{\"value\":2},\"render_mode\":\"css\",\"right_units\":\"screen\",\"top_units\":\"screen\"},\"id\":\"208540\",\"type\":\"BoxAnnotation\"},{\"attributes\":{\"months\":[0,4,8]},\"id\":\"208389\",\"type\":\"MonthsTicker\"},{\"attributes\":{\"mantissas\":[1,2,5],\"max_interval\":500.0,\"num_minor_ticks\":0},\"id\":\"208500\",\"type\":\"AdaptiveTicker\"},{\"attributes\":{},\"id\":\"208539\",\"type\":\"UnionRenderers\"},{\"attributes\":{\"months\":[0,6]},\"id\":\"208390\",\"type\":\"MonthsTicker\"},{\"attributes\":{},\"id\":\"208498\",\"type\":\"BasicTickFormatter\"},{\"attributes\":{},\"id\":\"208538\",\"type\":\"Selection\"},{\"attributes\":{},\"id\":\"208391\",\"type\":\"YearsTicker\"},{\"attributes\":{},\"id\":\"208496\",\"type\":\"DatetimeTickFormatter\"},{\"attributes\":{},\"id\":\"208537\",\"type\":\"UnionRenderers\"},{\"attributes\":{},\"id\":\"208392\",\"type\":\"Selection\"},{\"attributes\":{\"text\":\"\"},\"id\":\"208494\",\"type\":\"Title\"},{\"attributes\":{},\"id\":\"208536\",\"type\":\"Selection\"},{\"attributes\":{},\"id\":\"208393\",\"type\":\"UnionRenderers\"},{\"attributes\":{\"bottom_units\":\"screen\",\"fill_alpha\":{\"value\":0.5},\"fill_color\":{\"value\":\"lightgrey\"},\"left_units\":\"screen\",\"level\":\"overlay\",\"line_alpha\":{\"value\":1.0},\"line_color\":{\"value\":\"black\"},\"line_dash\":[4,4],\"line_width\":{\"value\":2},\"render_mode\":\"css\",\"right_units\":\"screen\",\"top_units\":\"screen\"},\"id\":\"208492\",\"type\":\"BoxAnnotation\"},{\"attributes\":{},\"id\":\"208535\",\"type\":\"YearsTicker\"},{\"attributes\":{},\"id\":\"208394\",\"type\":\"Selection\"},{\"attributes\":{},\"id\":\"208491\",\"type\":\"UnionRenderers\"},{\"attributes\":{\"months\":[0,6]},\"id\":\"208534\",\"type\":\"MonthsTicker\"},{\"attributes\":{},\"id\":\"208395\",\"type\":\"UnionRenderers\"},{\"attributes\":{},\"id\":\"208490\",\"type\":\"Selection\"},{\"attributes\":{\"months\":[0,4,8]},\"id\":\"208533\",\"type\":\"MonthsTicker\"},{\"attributes\":{\"bottom_units\":\"screen\",\"fill_alpha\":{\"value\":0.5},\"fill_color\":{\"value\":\"lightgrey\"},\"left_units\":\"screen\",\"level\":\"overlay\",\"line_alpha\":{\"value\":1.0},\"line_color\":{\"value\":\"black\"},\"line_dash\":[4,4],\"line_width\":{\"value\":2},\"render_mode\":\"css\",\"right_units\":\"screen\",\"top_units\":\"screen\"},\"id\":\"208396\",\"type\":\"BoxAnnotation\"},{\"attributes\":{},\"id\":\"208489\",\"type\":\"UnionRenderers\"},{\"attributes\":{\"months\":[0,2,4,6,8,10]},\"id\":\"208532\",\"type\":\"MonthsTicker\"},{\"attributes\":{\"text\":\"\"},\"id\":\"208398\",\"type\":\"Title\"},{\"attributes\":{},\"id\":\"208488\",\"type\":\"Selection\"},{\"attributes\":{\"months\":[0,1,2,3,4,5,6,7,8,9,10,11]},\"id\":\"208531\",\"type\":\"MonthsTicker\"},{\"attributes\":{},\"id\":\"208400\",\"type\":\"DatetimeTickFormatter\"},{\"attributes\":{},\"id\":\"208487\",\"type\":\"YearsTicker\"},{\"attributes\":{\"days\":[1,15]},\"id\":\"208530\",\"type\":\"DaysTicker\"},{\"attributes\":{},\"id\":\"208402\",\"type\":\"BasicTickFormatter\"},{\"attributes\":{\"months\":[0,6]},\"id\":\"208486\",\"type\":\"MonthsTicker\"},{\"attributes\":{\"days\":[1,8,15,22]},\"id\":\"208529\",\"type\":\"DaysTicker\"},{\"attributes\":{\"mantissas\":[1,2,5],\"max_interval\":500.0,\"num_minor_ticks\":0},\"id\":\"208404\",\"type\":\"AdaptiveTicker\"},{\"attributes\":{\"months\":[0,4,8]},\"id\":\"208485\",\"type\":\"MonthsTicker\"},{\"attributes\":{\"days\":[1,4,7,10,13,16,19,22,25,28]},\"id\":\"208528\",\"type\":\"DaysTicker\"},{\"attributes\":{\"base\":60,\"mantissas\":[1,2,5,10,15,20,30],\"max_interval\":1800000.0,\"min_interval\":1000.0,\"num_minor_ticks\":0},\"id\":\"208405\",\"type\":\"AdaptiveTicker\"},{\"attributes\":{\"months\":[0,2,4,6,8,10]},\"id\":\"208484\",\"type\":\"MonthsTicker\"},{\"attributes\":{\"days\":[1,2,3,4,5,6,7,8,9,10,11,12,13,14,15,16,17,18,19,20,21,22,23,24,25,26,27,28,29,30,31]},\"id\":\"208527\",\"type\":\"DaysTicker\"},{\"attributes\":{\"base\":24,\"mantissas\":[1,2,4,6,8,12],\"max_interval\":43200000.0,\"min_interval\":3600000.0,\"num_minor_ticks\":0},\"id\":\"208406\",\"type\":\"AdaptiveTicker\"},{\"attributes\":{\"months\":[0,1,2,3,4,5,6,7,8,9,10,11]},\"id\":\"208483\",\"type\":\"MonthsTicker\"},{\"attributes\":{\"base\":24,\"mantissas\":[1,2,4,6,8,12],\"max_interval\":43200000.0,\"min_interval\":3600000.0,\"num_minor_ticks\":0},\"id\":\"208526\",\"type\":\"AdaptiveTicker\"},{\"attributes\":{\"days\":[1,2,3,4,5,6,7,8,9,10,11,12,13,14,15,16,17,18,19,20,21,22,23,24,25,26,27,28,29,30,31]},\"id\":\"208407\",\"type\":\"DaysTicker\"},{\"attributes\":{\"days\":[1,15]},\"id\":\"208482\",\"type\":\"DaysTicker\"},{\"attributes\":{\"base\":60,\"mantissas\":[1,2,5,10,15,20,30],\"max_interval\":1800000.0,\"min_interval\":1000.0,\"num_minor_ticks\":0},\"id\":\"208525\",\"type\":\"AdaptiveTicker\"},{\"attributes\":{\"days\":[1,4,7,10,13,16,19,22,25,28]},\"id\":\"208408\",\"type\":\"DaysTicker\"},{\"attributes\":{\"days\":[1,8,15,22]},\"id\":\"208481\",\"type\":\"DaysTicker\"},{\"attributes\":{\"mantissas\":[1,2,5],\"max_interval\":500.0,\"num_minor_ticks\":0},\"id\":\"208524\",\"type\":\"AdaptiveTicker\"},{\"attributes\":{\"days\":[1,8,15,22]},\"id\":\"208409\",\"type\":\"DaysTicker\"},{\"attributes\":{\"days\":[1,4,7,10,13,16,19,22,25,28]},\"id\":\"208480\",\"type\":\"DaysTicker\"},{\"attributes\":{},\"id\":\"208522\",\"type\":\"BasicTickFormatter\"},{\"attributes\":{\"days\":[1,15]},\"id\":\"208410\",\"type\":\"DaysTicker\"},{\"attributes\":{\"days\":[1,2,3,4,5,6,7,8,9,10,11,12,13,14,15,16,17,18,19,20,21,22,23,24,25,26,27,28,29,30,31]},\"id\":\"208479\",\"type\":\"DaysTicker\"},{\"attributes\":{},\"id\":\"208520\",\"type\":\"DatetimeTickFormatter\"},{\"attributes\":{\"months\":[0,1,2,3,4,5,6,7,8,9,10,11]},\"id\":\"208411\",\"type\":\"MonthsTicker\"},{\"attributes\":{\"base\":24,\"mantissas\":[1,2,4,6,8,12],\"max_interval\":43200000.0,\"min_interval\":3600000.0,\"num_minor_ticks\":0},\"id\":\"208478\",\"type\":\"AdaptiveTicker\"},{\"attributes\":{\"text\":\"\"},\"id\":\"208518\",\"type\":\"Title\"},{\"attributes\":{\"months\":[0,2,4,6,8,10]},\"id\":\"208412\",\"type\":\"MonthsTicker\"},{\"attributes\":{\"base\":60,\"mantissas\":[1,2,5,10,15,20,30],\"max_interval\":1800000.0,\"min_interval\":1000.0,\"num_minor_ticks\":0},\"id\":\"208477\",\"type\":\"AdaptiveTicker\"},{\"attributes\":{\"bottom_units\":\"screen\",\"fill_alpha\":{\"value\":0.5},\"fill_color\":{\"value\":\"lightgrey\"},\"left_units\":\"screen\",\"level\":\"overlay\",\"line_alpha\":{\"value\":1.0},\"line_color\":{\"value\":\"black\"},\"line_dash\":[4,4],\"line_width\":{\"value\":2},\"render_mode\":\"css\",\"right_units\":\"screen\",\"top_units\":\"screen\"},\"id\":\"208516\",\"type\":\"BoxAnnotation\"},{\"attributes\":{\"months\":[0,4,8]},\"id\":\"208413\",\"type\":\"MonthsTicker\"},{\"attributes\":{\"mantissas\":[1,2,5],\"max_interval\":500.0,\"num_minor_ticks\":0},\"id\":\"208476\",\"type\":\"AdaptiveTicker\"},{\"attributes\":{},\"id\":\"208515\",\"type\":\"UnionRenderers\"},{\"attributes\":{\"months\":[0,6]},\"id\":\"208414\",\"type\":\"MonthsTicker\"},{\"attributes\":{},\"id\":\"208474\",\"type\":\"BasicTickFormatter\"},{\"attributes\":{},\"id\":\"208514\",\"type\":\"Selection\"},{\"attributes\":{},\"id\":\"208415\",\"type\":\"YearsTicker\"},{\"attributes\":{},\"id\":\"208472\",\"type\":\"DatetimeTickFormatter\"},{\"attributes\":{},\"id\":\"208513\",\"type\":\"UnionRenderers\"},{\"attributes\":{},\"id\":\"208416\",\"type\":\"Selection\"},{\"attributes\":{\"text\":\"\"},\"id\":\"208470\",\"type\":\"Title\"},{\"attributes\":{},\"id\":\"208512\",\"type\":\"Selection\"},{\"attributes\":{},\"id\":\"208417\",\"type\":\"UnionRenderers\"},{\"attributes\":{\"bottom_units\":\"screen\",\"fill_alpha\":{\"value\":0.5},\"fill_color\":{\"value\":\"lightgrey\"},\"left_units\":\"screen\",\"level\":\"overlay\",\"line_alpha\":{\"value\":1.0},\"line_color\":{\"value\":\"black\"},\"line_dash\":[4,4],\"line_width\":{\"value\":2},\"render_mode\":\"css\",\"right_units\":\"screen\",\"top_units\":\"screen\"},\"id\":\"208468\",\"type\":\"BoxAnnotation\"},{\"attributes\":{},\"id\":\"208511\",\"type\":\"YearsTicker\"},{\"attributes\":{},\"id\":\"208418\",\"type\":\"Selection\"},{\"attributes\":{},\"id\":\"208467\",\"type\":\"UnionRenderers\"},{\"attributes\":{\"months\":[0,6]},\"id\":\"208510\",\"type\":\"MonthsTicker\"},{\"attributes\":{},\"id\":\"208419\",\"type\":\"UnionRenderers\"},{\"attributes\":{},\"id\":\"208466\",\"type\":\"Selection\"},{\"attributes\":{\"months\":[0,4,8]},\"id\":\"208509\",\"type\":\"MonthsTicker\"},{\"attributes\":{\"bottom_units\":\"screen\",\"fill_alpha\":{\"value\":0.5},\"fill_color\":{\"value\":\"lightgrey\"},\"left_units\":\"screen\",\"level\":\"overlay\",\"line_alpha\":{\"value\":1.0},\"line_color\":{\"value\":\"black\"},\"line_dash\":[4,4],\"line_width\":{\"value\":2},\"render_mode\":\"css\",\"right_units\":\"screen\",\"top_units\":\"screen\"},\"id\":\"208420\",\"type\":\"BoxAnnotation\"},{\"attributes\":{},\"id\":\"208465\",\"type\":\"UnionRenderers\"},{\"attributes\":{\"months\":[0,2,4,6,8,10]},\"id\":\"208508\",\"type\":\"MonthsTicker\"},{\"attributes\":{\"text\":\"\"},\"id\":\"208422\",\"type\":\"Title\"},{\"attributes\":{},\"id\":\"207778\",\"type\":\"SaveTool\"},{\"attributes\":{},\"id\":\"207973\",\"type\":\"LinearScale\"},{\"attributes\":{\"text\":\"\"},\"id\":\"208590\",\"type\":\"Title\"},{\"attributes\":{},\"id\":\"207779\",\"type\":\"ResetTool\"},{\"attributes\":{\"formatter\":{\"id\":\"208448\",\"type\":\"DatetimeTickFormatter\"},\"major_label_orientation\":1.5707963267948966,\"ticker\":{\"id\":\"207976\",\"type\":\"DatetimeTicker\"}},\"id\":\"207975\",\"type\":\"DatetimeAxis\"},{\"attributes\":{\"bottom_units\":\"screen\",\"fill_alpha\":{\"value\":0.5},\"fill_color\":{\"value\":\"lightgrey\"},\"left_units\":\"screen\",\"level\":\"overlay\",\"line_alpha\":{\"value\":1.0},\"line_color\":{\"value\":\"black\"},\"line_dash\":[4,4],\"line_width\":{\"value\":2},\"render_mode\":\"css\",\"right_units\":\"screen\",\"top_units\":\"screen\"},\"id\":\"208588\",\"type\":\"BoxAnnotation\"},{\"attributes\":{},\"id\":\"207780\",\"type\":\"HelpTool\"},{\"attributes\":{\"num_minor_ticks\":5,\"tickers\":[{\"id\":\"208452\",\"type\":\"AdaptiveTicker\"},{\"id\":\"208453\",\"type\":\"AdaptiveTicker\"},{\"id\":\"208454\",\"type\":\"AdaptiveTicker\"},{\"id\":\"208455\",\"type\":\"DaysTicker\"},{\"id\":\"208456\",\"type\":\"DaysTicker\"},{\"id\":\"208457\",\"type\":\"DaysTicker\"},{\"id\":\"208458\",\"type\":\"DaysTicker\"},{\"id\":\"208459\",\"type\":\"MonthsTicker\"},{\"id\":\"208460\",\"type\":\"MonthsTicker\"},{\"id\":\"208461\",\"type\":\"MonthsTicker\"},{\"id\":\"208462\",\"type\":\"MonthsTicker\"},{\"id\":\"208463\",\"type\":\"YearsTicker\"}]},\"id\":\"207976\",\"type\":\"DatetimeTicker\"},{\"attributes\":{},\"id\":\"208587\",\"type\":\"UnionRenderers\"},{\"attributes\":{\"ticker\":{\"id\":\"207976\",\"type\":\"DatetimeTicker\"}},\"id\":\"207979\",\"type\":\"Grid\"},{\"attributes\":{},\"id\":\"208586\",\"type\":\"Selection\"},{\"attributes\":{\"active_drag\":\"auto\",\"active_inspect\":\"auto\",\"active_multi\":null,\"active_scroll\":\"auto\",\"active_tap\":\"auto\",\"tools\":[{\"id\":\"207775\",\"type\":\"PanTool\"},{\"id\":\"207776\",\"type\":\"WheelZoomTool\"},{\"id\":\"207777\",\"type\":\"BoxZoomTool\"},{\"id\":\"207778\",\"type\":\"SaveTool\"},{\"id\":\"207779\",\"type\":\"ResetTool\"},{\"id\":\"207780\",\"type\":\"HelpTool\"}]},\"id\":\"207781\",\"type\":\"Toolbar\"},{\"attributes\":{\"data_source\":{\"id\":\"207788\",\"type\":\"ColumnDataSource\"},\"glyph\":{\"id\":\"207789\",\"type\":\"Circle\"},\"hover_glyph\":null,\"muted_glyph\":null,\"nonselection_glyph\":{\"id\":\"207790\",\"type\":\"Circle\"},\"selection_glyph\":null,\"view\":{\"id\":\"207792\",\"type\":\"CDSView\"}},\"id\":\"207791\",\"type\":\"GlyphRenderer\"},{\"attributes\":{\"formatter\":{\"id\":\"208450\",\"type\":\"BasicTickFormatter\"},\"ticker\":{\"id\":\"207981\",\"type\":\"BasicTicker\"}},\"id\":\"207980\",\"type\":\"LinearAxis\"},{\"attributes\":{},\"id\":\"208585\",\"type\":\"UnionRenderers\"},{\"attributes\":{},\"id\":\"207981\",\"type\":\"BasicTicker\"},{\"attributes\":{},\"id\":\"208584\",\"type\":\"Selection\"},{\"attributes\":{\"source\":{\"id\":\"207788\",\"type\":\"ColumnDataSource\"}},\"id\":\"207792\",\"type\":\"CDSView\"},{\"attributes\":{\"dimension\":1,\"ticker\":{\"id\":\"207981\",\"type\":\"BasicTicker\"}},\"id\":\"207984\",\"type\":\"Grid\"},{\"attributes\":{},\"id\":\"208583\",\"type\":\"YearsTicker\"},{\"attributes\":{\"callback\":null,\"data\":{\"x\":{\"__ndarray__\":\"AADAzascc0IAAIAz/hxzQgAAQJlQHXNCAAAA/6Idc0IAAMBk9R1zQgAAgMpHHnNCAABAMJoec0I=\",\"dtype\":\"float64\",\"shape\":[7]},\"y\":{\"__ndarray__\":\"AAAAQOF6AkAAAAAghesFQAAAAAApXAVAAAAAAClcA0AAAACAwvUCQAAAAAAAAAJAAAAAoEfhAEA=\",\"dtype\":\"float64\",\"shape\":[7]}},\"selected\":{\"id\":\"208490\",\"type\":\"Selection\"},\"selection_policy\":{\"id\":\"208491\",\"type\":\"UnionRenderers\"}},\"id\":\"208045\",\"type\":\"ColumnDataSource\"},{\"attributes\":{\"months\":[0,6]},\"id\":\"208582\",\"type\":\"MonthsTicker\"},{\"attributes\":{\"fill_alpha\":{\"value\":0.8},\"fill_color\":{\"value\":\"red\"},\"line_alpha\":{\"value\":0.8},\"line_color\":{\"value\":\"red\"},\"size\":{\"units\":\"screen\",\"value\":12},\"x\":{\"field\":\"x\"},\"y\":{\"field\":\"y\"}},\"id\":\"207999\",\"type\":\"Circle\"},{\"attributes\":{\"months\":[0,4,8]},\"id\":\"208581\",\"type\":\"MonthsTicker\"},{\"attributes\":{\"callback\":null,\"data\":{\"x\":{\"__ndarray__\":\"AABA+behckIAAMDy76RyQg==\",\"dtype\":\"float64\",\"shape\":[2]},\"y\":{\"__ndarray__\":\"AAAAgD0KAUAAAACgR+EAQA==\",\"dtype\":\"float64\",\"shape\":[2]}},\"selected\":{\"id\":\"208464\",\"type\":\"Selection\"},\"selection_policy\":{\"id\":\"208465\",\"type\":\"UnionRenderers\"}},\"id\":\"207998\",\"type\":\"ColumnDataSource\"},{\"attributes\":{\"active_drag\":\"auto\",\"active_inspect\":\"auto\",\"active_multi\":null,\"active_scroll\":\"auto\",\"active_tap\":\"auto\",\"tools\":[{\"id\":\"207985\",\"type\":\"PanTool\"},{\"id\":\"207986\",\"type\":\"WheelZoomTool\"},{\"id\":\"207987\",\"type\":\"BoxZoomTool\"},{\"id\":\"207988\",\"type\":\"SaveTool\"},{\"id\":\"207989\",\"type\":\"ResetTool\"},{\"id\":\"207990\",\"type\":\"HelpTool\"}]},\"id\":\"207991\",\"type\":\"Toolbar\"},{\"attributes\":{\"months\":[0,2,4,6,8,10]},\"id\":\"208580\",\"type\":\"MonthsTicker\"},{\"attributes\":{},\"id\":\"207985\",\"type\":\"PanTool\"},{\"attributes\":{\"callback\":null,\"data\":{\"x\":{\"__ndarray__\":\"AACA8WDBcUIAAEBXs8FxQgAAAL0FwnFCAADAIljCcUIAAICIqsJxQgAAQO78wnFCAAAAVE/DcUIAAMC5ocNxQgAAgB/0w3FCAABAhUbEcUIAAADrmMRxQg==\",\"dtype\":\"float64\",\"shape\":[11]},\"y\":{\"__ndarray__\":\"AAAA4FG4AkAAAABACtcFQAAAAIDC9QRAAAAAIIXrA0AAAABguB4DQAAAAIDC9QJAAAAAQOF6AkAAAABA4XoCQAAAAGBmZgJAAAAAIIXrAUAAAADAHoUBQA==\",\"dtype\":\"float64\",\"shape\":[11]}},\"selected\":{\"id\":\"208370\",\"type\":\"Selection\"},\"selection_policy\":{\"id\":\"208371\",\"type\":\"UnionRenderers\"}},\"id\":\"207835\",\"type\":\"ColumnDataSource\"},{\"attributes\":{\"months\":[0,1,2,3,4,5,6,7,8,9,10,11]},\"id\":\"208579\",\"type\":\"MonthsTicker\"},{\"attributes\":{},\"id\":\"207986\",\"type\":\"WheelZoomTool\"},{\"attributes\":{\"line_color\":\"blue\",\"x\":{\"field\":\"x\"},\"y\":{\"field\":\"y\"}},\"id\":\"207794\",\"type\":\"Line\"},{\"attributes\":{\"days\":[1,15]},\"id\":\"208578\",\"type\":\"DaysTicker\"},{\"attributes\":{\"overlay\":{\"id\":\"208468\",\"type\":\"BoxAnnotation\"}},\"id\":\"207987\",\"type\":\"BoxZoomTool\"},{\"attributes\":{\"line_alpha\":0.1,\"line_color\":\"#1f77b4\",\"x\":{\"field\":\"x\"},\"y\":{\"field\":\"y\"}},\"id\":\"207795\",\"type\":\"Line\"},{\"attributes\":{\"days\":[1,8,15,22]},\"id\":\"208577\",\"type\":\"DaysTicker\"},{\"attributes\":{},\"id\":\"207988\",\"type\":\"SaveTool\"},{\"attributes\":{\"data_source\":{\"id\":\"207793\",\"type\":\"ColumnDataSource\"},\"glyph\":{\"id\":\"207794\",\"type\":\"Line\"},\"hover_glyph\":null,\"muted_glyph\":null,\"nonselection_glyph\":{\"id\":\"207795\",\"type\":\"Line\"},\"selection_glyph\":null,\"view\":{\"id\":\"207797\",\"type\":\"CDSView\"}},\"id\":\"207796\",\"type\":\"GlyphRenderer\"},{\"attributes\":{\"days\":[1,4,7,10,13,16,19,22,25,28]},\"id\":\"208576\",\"type\":\"DaysTicker\"},{\"attributes\":{},\"id\":\"207989\",\"type\":\"ResetTool\"},{\"attributes\":{\"source\":{\"id\":\"207793\",\"type\":\"ColumnDataSource\"}},\"id\":\"207797\",\"type\":\"CDSView\"},{\"attributes\":{\"days\":[1,2,3,4,5,6,7,8,9,10,11,12,13,14,15,16,17,18,19,20,21,22,23,24,25,26,27,28,29,30,31]},\"id\":\"208575\",\"type\":\"DaysTicker\"},{\"attributes\":{},\"id\":\"207990\",\"type\":\"HelpTool\"},{\"attributes\":{\"background_fill_color\":{\"value\":\"#fafafa\"},\"below\":[{\"id\":\"207849\",\"type\":\"DatetimeAxis\"}],\"center\":[{\"id\":\"207853\",\"type\":\"Grid\"},{\"id\":\"207858\",\"type\":\"Grid\"}],\"left\":[{\"id\":\"207854\",\"type\":\"LinearAxis\"}],\"plot_height\":150,\"plot_width\":150,\"renderers\":[{\"id\":\"207875\",\"type\":\"GlyphRenderer\"},{\"id\":\"207880\",\"type\":\"GlyphRenderer\"}],\"title\":{\"id\":\"208374\",\"type\":\"Title\"},\"toolbar\":{\"id\":\"207865\",\"type\":\"Toolbar\"},\"toolbar_location\":null,\"x_range\":{\"id\":\"207841\",\"type\":\"DataRange1d\"},\"x_scale\":{\"id\":\"207845\",\"type\":\"LinearScale\"},\"y_range\":{\"id\":\"207843\",\"type\":\"DataRange1d\"},\"y_scale\":{\"id\":\"207847\",\"type\":\"LinearScale\"}},\"id\":\"207840\",\"subtype\":\"Figure\",\"type\":\"Plot\"},{\"attributes\":{\"base\":24,\"mantissas\":[1,2,4,6,8,12],\"max_interval\":43200000.0,\"min_interval\":3600000.0,\"num_minor_ticks\":0},\"id\":\"208574\",\"type\":\"AdaptiveTicker\"},{\"attributes\":{\"fill_alpha\":{\"value\":0.1},\"fill_color\":{\"value\":\"#1f77b4\"},\"line_alpha\":{\"value\":0.1},\"line_color\":{\"value\":\"#1f77b4\"},\"size\":{\"units\":\"screen\",\"value\":12},\"x\":{\"field\":\"x\"},\"y\":{\"field\":\"y\"}},\"id\":\"208000\",\"type\":\"Circle\"},{\"attributes\":{\"base\":60,\"mantissas\":[1,2,5,10,15,20,30],\"max_interval\":1800000.0,\"min_interval\":1000.0,\"num_minor_ticks\":0},\"id\":\"208573\",\"type\":\"AdaptiveTicker\"},{\"attributes\":{\"data_source\":{\"id\":\"207998\",\"type\":\"ColumnDataSource\"},\"glyph\":{\"id\":\"207999\",\"type\":\"Circle\"},\"hover_glyph\":null,\"muted_glyph\":null,\"nonselection_glyph\":{\"id\":\"208000\",\"type\":\"Circle\"},\"selection_glyph\":null,\"view\":{\"id\":\"208002\",\"type\":\"CDSView\"}},\"id\":\"208001\",\"type\":\"GlyphRenderer\"},{\"attributes\":{\"callback\":null},\"id\":\"207799\",\"type\":\"DataRange1d\"},{\"attributes\":{\"mantissas\":[1,2,5],\"max_interval\":500.0,\"num_minor_ticks\":0},\"id\":\"208572\",\"type\":\"AdaptiveTicker\"},{\"attributes\":{\"callback\":null},\"id\":\"207801\",\"type\":\"DataRange1d\"},{\"attributes\":{\"source\":{\"id\":\"207998\",\"type\":\"ColumnDataSource\"}},\"id\":\"208002\",\"type\":\"CDSView\"},{\"attributes\":{},\"id\":\"208570\",\"type\":\"BasicTickFormatter\"},{\"attributes\":{},\"id\":\"207803\",\"type\":\"LinearScale\"},{\"attributes\":{\"line_color\":\"blue\",\"x\":{\"field\":\"x\"},\"y\":{\"field\":\"y\"}},\"id\":\"208004\",\"type\":\"Line\"},{\"attributes\":{\"callback\":null},\"id\":\"207759\",\"type\":\"DataRange1d\"},{\"attributes\":{},\"id\":\"208568\",\"type\":\"DatetimeTickFormatter\"},{\"attributes\":{},\"id\":\"207805\",\"type\":\"LinearScale\"},{\"attributes\":{\"text\":\"\"},\"id\":\"208566\",\"type\":\"Title\"},{\"attributes\":{\"formatter\":{\"id\":\"208352\",\"type\":\"DatetimeTickFormatter\"},\"major_label_orientation\":1.5707963267948966,\"ticker\":{\"id\":\"207808\",\"type\":\"DatetimeTicker\"}},\"id\":\"207807\",\"type\":\"DatetimeAxis\"},{\"attributes\":{\"bottom_units\":\"screen\",\"fill_alpha\":{\"value\":0.5},\"fill_color\":{\"value\":\"lightgrey\"},\"left_units\":\"screen\",\"level\":\"overlay\",\"line_alpha\":{\"value\":1.0},\"line_color\":{\"value\":\"black\"},\"line_dash\":[4,4],\"line_width\":{\"value\":2},\"render_mode\":\"css\",\"right_units\":\"screen\",\"top_units\":\"screen\"},\"id\":\"208564\",\"type\":\"BoxAnnotation\"},{\"attributes\":{\"line_color\":\"blue\",\"x\":{\"field\":\"x\"},\"y\":{\"field\":\"y\"}},\"id\":\"208046\",\"type\":\"Line\"},{\"attributes\":{\"num_minor_ticks\":5,\"tickers\":[{\"id\":\"208356\",\"type\":\"AdaptiveTicker\"},{\"id\":\"208357\",\"type\":\"AdaptiveTicker\"},{\"id\":\"208358\",\"type\":\"AdaptiveTicker\"},{\"id\":\"208359\",\"type\":\"DaysTicker\"},{\"id\":\"208360\",\"type\":\"DaysTicker\"},{\"id\":\"208361\",\"type\":\"DaysTicker\"},{\"id\":\"208362\",\"type\":\"DaysTicker\"},{\"id\":\"208363\",\"type\":\"MonthsTicker\"},{\"id\":\"208364\",\"type\":\"MonthsTicker\"},{\"id\":\"208365\",\"type\":\"MonthsTicker\"},{\"id\":\"208366\",\"type\":\"MonthsTicker\"},{\"id\":\"208367\",\"type\":\"YearsTicker\"}]},\"id\":\"207808\",\"type\":\"DatetimeTicker\"},{\"attributes\":{\"days\":[1,15]},\"id\":\"208314\",\"type\":\"DaysTicker\"},{\"attributes\":{\"line_alpha\":0.1,\"line_color\":\"#1f77b4\",\"x\":{\"field\":\"x\"},\"y\":{\"field\":\"y\"}},\"id\":\"208005\",\"type\":\"Line\"},{\"attributes\":{\"base\":24,\"mantissas\":[1,2,4,6,8,12],\"max_interval\":43200000.0,\"min_interval\":3600000.0,\"num_minor_ticks\":0},\"id\":\"208310\",\"type\":\"AdaptiveTicker\"},{\"attributes\":{},\"id\":\"208563\",\"type\":\"UnionRenderers\"},{\"attributes\":{\"ticker\":{\"id\":\"207808\",\"type\":\"DatetimeTicker\"}},\"id\":\"207811\",\"type\":\"Grid\"},{\"attributes\":{\"data_source\":{\"id\":\"208003\",\"type\":\"ColumnDataSource\"},\"glyph\":{\"id\":\"208004\",\"type\":\"Line\"},\"hover_glyph\":null,\"muted_glyph\":null,\"nonselection_glyph\":{\"id\":\"208005\",\"type\":\"Line\"},\"selection_glyph\":null,\"view\":{\"id\":\"208007\",\"type\":\"CDSView\"}},\"id\":\"208006\",\"type\":\"GlyphRenderer\"},{\"attributes\":{},\"id\":\"208562\",\"type\":\"Selection\"},{\"attributes\":{\"formatter\":{\"id\":\"208354\",\"type\":\"BasicTickFormatter\"},\"ticker\":{\"id\":\"207813\",\"type\":\"BasicTicker\"}},\"id\":\"207812\",\"type\":\"LinearAxis\"},{\"attributes\":{\"months\":[0,4,8]},\"id\":\"208317\",\"type\":\"MonthsTicker\"},{\"attributes\":{\"source\":{\"id\":\"208003\",\"type\":\"ColumnDataSource\"}},\"id\":\"208007\",\"type\":\"CDSView\"},{\"attributes\":{\"days\":[1,8,15,22]},\"id\":\"208313\",\"type\":\"DaysTicker\"},{\"attributes\":{},\"id\":\"208561\",\"type\":\"UnionRenderers\"},{\"attributes\":{},\"id\":\"207813\",\"type\":\"BasicTicker\"},{\"attributes\":{\"base\":60,\"mantissas\":[1,2,5,10,15,20,30],\"max_interval\":1800000.0,\"min_interval\":1000.0,\"num_minor_ticks\":0},\"id\":\"208309\",\"type\":\"AdaptiveTicker\"},{\"attributes\":{},\"id\":\"208560\",\"type\":\"Selection\"},{\"attributes\":{\"background_fill_color\":{\"value\":\"#fafafa\"},\"below\":[{\"id\":\"208059\",\"type\":\"DatetimeAxis\"}],\"center\":[{\"id\":\"208063\",\"type\":\"Grid\"},{\"id\":\"208068\",\"type\":\"Grid\"}],\"left\":[{\"id\":\"208064\",\"type\":\"LinearAxis\"}],\"plot_height\":150,\"plot_width\":150,\"renderers\":[{\"id\":\"208085\",\"type\":\"GlyphRenderer\"},{\"id\":\"208090\",\"type\":\"GlyphRenderer\"}],\"title\":{\"id\":\"208494\",\"type\":\"Title\"},\"toolbar\":{\"id\":\"208075\",\"type\":\"Toolbar\"},\"toolbar_location\":null,\"x_range\":{\"id\":\"208051\",\"type\":\"DataRange1d\"},\"x_scale\":{\"id\":\"208055\",\"type\":\"LinearScale\"},\"y_range\":{\"id\":\"208053\",\"type\":\"DataRange1d\"},\"y_scale\":{\"id\":\"208057\",\"type\":\"LinearScale\"}},\"id\":\"208050\",\"subtype\":\"Figure\",\"type\":\"Plot\"},{\"attributes\":{\"dimension\":1,\"ticker\":{\"id\":\"207813\",\"type\":\"BasicTicker\"}},\"id\":\"207816\",\"type\":\"Grid\"},{\"attributes\":{\"months\":[0,1,2,3,4,5,6,7,8,9,10,11]},\"id\":\"208315\",\"type\":\"MonthsTicker\"},{\"attributes\":{},\"id\":\"208559\",\"type\":\"YearsTicker\"},{\"attributes\":{\"fill_alpha\":{\"value\":0.8},\"fill_color\":{\"value\":\"red\"},\"line_alpha\":{\"value\":0.8},\"line_color\":{\"value\":\"red\"},\"size\":{\"units\":\"screen\",\"value\":12},\"x\":{\"field\":\"x\"},\"y\":{\"field\":\"y\"}},\"id\":\"207831\",\"type\":\"Circle\"},{\"attributes\":{\"months\":[0,6]},\"id\":\"208558\",\"type\":\"MonthsTicker\"},{\"attributes\":{\"callback\":null},\"id\":\"208009\",\"type\":\"DataRange1d\"},{\"attributes\":{\"callback\":null,\"data\":{\"x\":{\"__ndarray__\":\"AACA8WDBcUIAAADrmMRxQg==\",\"dtype\":\"float64\",\"shape\":[2]},\"y\":{\"__ndarray__\":\"AAAA4FG4AkAAAADAHoUBQA==\",\"dtype\":\"float64\",\"shape\":[2]}},\"selected\":{\"id\":\"208368\",\"type\":\"Selection\"},\"selection_policy\":{\"id\":\"208369\",\"type\":\"UnionRenderers\"}},\"id\":\"207830\",\"type\":\"ColumnDataSource\"},{\"attributes\":{\"months\":[0,2,4,6,8,10]},\"id\":\"208316\",\"type\":\"MonthsTicker\"},{\"attributes\":{\"months\":[0,4,8]},\"id\":\"208557\",\"type\":\"MonthsTicker\"},{\"attributes\":{\"callback\":null},\"id\":\"208011\",\"type\":\"DataRange1d\"},{\"attributes\":{\"fill_alpha\":{\"value\":0.1},\"fill_color\":{\"value\":\"#1f77b4\"},\"line_alpha\":{\"value\":0.1},\"line_color\":{\"value\":\"#1f77b4\"},\"size\":{\"units\":\"screen\",\"value\":12},\"x\":{\"field\":\"x\"},\"y\":{\"field\":\"y\"}},\"id\":\"207832\",\"type\":\"Circle\"},{\"attributes\":{},\"id\":\"208319\",\"type\":\"YearsTicker\"},{\"attributes\":{},\"id\":\"207817\",\"type\":\"PanTool\"},{\"attributes\":{},\"id\":\"208320\",\"type\":\"Selection\"},{\"attributes\":{\"months\":[0,2,4,6,8,10]},\"id\":\"208556\",\"type\":\"MonthsTicker\"},{\"attributes\":{},\"id\":\"208013\",\"type\":\"LinearScale\"},{\"attributes\":{},\"id\":\"208321\",\"type\":\"UnionRenderers\"},{\"attributes\":{},\"id\":\"207818\",\"type\":\"WheelZoomTool\"},{\"attributes\":{\"months\":[0,1,2,3,4,5,6,7,8,9,10,11]},\"id\":\"208555\",\"type\":\"MonthsTicker\"},{\"attributes\":{},\"id\":\"208015\",\"type\":\"LinearScale\"},{\"attributes\":{\"overlay\":{\"id\":\"208372\",\"type\":\"BoxAnnotation\"}},\"id\":\"207819\",\"type\":\"BoxZoomTool\"},{\"attributes\":{\"days\":[1,4,7,10,13,16,19,22,25,28]},\"id\":\"208312\",\"type\":\"DaysTicker\"},{\"attributes\":{\"days\":[1,15]},\"id\":\"208554\",\"type\":\"DaysTicker\"},{\"attributes\":{\"formatter\":{\"id\":\"208472\",\"type\":\"DatetimeTickFormatter\"},\"major_label_orientation\":1.5707963267948966,\"ticker\":{\"id\":\"208018\",\"type\":\"DatetimeTicker\"}},\"id\":\"208017\",\"type\":\"DatetimeAxis\"},{\"attributes\":{},\"id\":\"208322\",\"type\":\"Selection\"},{\"attributes\":{},\"id\":\"207820\",\"type\":\"SaveTool\"},{\"attributes\":{\"days\":[1,8,15,22]},\"id\":\"208553\",\"type\":\"DaysTicker\"},{\"attributes\":{\"num_minor_ticks\":5,\"tickers\":[{\"id\":\"208476\",\"type\":\"AdaptiveTicker\"},{\"id\":\"208477\",\"type\":\"AdaptiveTicker\"},{\"id\":\"208478\",\"type\":\"AdaptiveTicker\"},{\"id\":\"208479\",\"type\":\"DaysTicker\"},{\"id\":\"208480\",\"type\":\"DaysTicker\"},{\"id\":\"208481\",\"type\":\"DaysTicker\"},{\"id\":\"208482\",\"type\":\"DaysTicker\"},{\"id\":\"208483\",\"type\":\"MonthsTicker\"},{\"id\":\"208484\",\"type\":\"MonthsTicker\"},{\"id\":\"208485\",\"type\":\"MonthsTicker\"},{\"id\":\"208486\",\"type\":\"MonthsTicker\"},{\"id\":\"208487\",\"type\":\"YearsTicker\"}]},\"id\":\"208018\",\"type\":\"DatetimeTicker\"},{\"attributes\":{},\"id\":\"207821\",\"type\":\"ResetTool\"},{\"attributes\":{\"months\":[0,6]},\"id\":\"208318\",\"type\":\"MonthsTicker\"},{\"attributes\":{\"days\":[1,4,7,10,13,16,19,22,25,28]},\"id\":\"208552\",\"type\":\"DaysTicker\"},{\"attributes\":{\"ticker\":{\"id\":\"208018\",\"type\":\"DatetimeTicker\"}},\"id\":\"208021\",\"type\":\"Grid\"},{\"attributes\":{},\"id\":\"207822\",\"type\":\"HelpTool\"},{\"attributes\":{\"days\":[1,2,3,4,5,6,7,8,9,10,11,12,13,14,15,16,17,18,19,20,21,22,23,24,25,26,27,28,29,30,31]},\"id\":\"208311\",\"type\":\"DaysTicker\"},{\"attributes\":{\"days\":[1,2,3,4,5,6,7,8,9,10,11,12,13,14,15,16,17,18,19,20,21,22,23,24,25,26,27,28,29,30,31]},\"id\":\"208551\",\"type\":\"DaysTicker\"},{\"attributes\":{\"formatter\":{\"id\":\"208474\",\"type\":\"BasicTickFormatter\"},\"ticker\":{\"id\":\"208023\",\"type\":\"BasicTicker\"}},\"id\":\"208022\",\"type\":\"LinearAxis\"},{\"attributes\":{\"mantissas\":[1,2,5],\"max_interval\":500.0,\"num_minor_ticks\":0},\"id\":\"208308\",\"type\":\"AdaptiveTicker\"},{\"attributes\":{\"data_source\":{\"id\":\"207830\",\"type\":\"ColumnDataSource\"},\"glyph\":{\"id\":\"207831\",\"type\":\"Circle\"},\"hover_glyph\":null,\"muted_glyph\":null,\"nonselection_glyph\":{\"id\":\"207832\",\"type\":\"Circle\"},\"selection_glyph\":null,\"view\":{\"id\":\"207834\",\"type\":\"CDSView\"}},\"id\":\"207833\",\"type\":\"GlyphRenderer\"},{\"attributes\":{\"active_drag\":\"auto\",\"active_inspect\":\"auto\",\"active_multi\":null,\"active_scroll\":\"auto\",\"active_tap\":\"auto\",\"tools\":[{\"id\":\"207817\",\"type\":\"PanTool\"},{\"id\":\"207818\",\"type\":\"WheelZoomTool\"},{\"id\":\"207819\",\"type\":\"BoxZoomTool\"},{\"id\":\"207820\",\"type\":\"SaveTool\"},{\"id\":\"207821\",\"type\":\"ResetTool\"},{\"id\":\"207822\",\"type\":\"HelpTool\"}]},\"id\":\"207823\",\"type\":\"Toolbar\"},{\"attributes\":{\"source\":{\"id\":\"207830\",\"type\":\"ColumnDataSource\"}},\"id\":\"207834\",\"type\":\"CDSView\"},{\"attributes\":{\"line_color\":\"blue\",\"x\":{\"field\":\"x\"},\"y\":{\"field\":\"y\"}},\"id\":\"207836\",\"type\":\"Line\"},{\"attributes\":{\"callback\":null,\"data\":{\"x\":{\"__ndarray__\":\"AABAHJDFcUIAAACC4sVxQgAAwOc0xnFCAACATYfGcUIAAECz2cZxQgAAABksx3FCAADAfn7HcUIAAIDk0MdxQg==\",\"dtype\":\"float64\",\"shape\":[8]},\"y\":{\"__ndarray__\":\"AAAA4FG4AkABAABAMzMFQAAAAKBwPQRAAAAAYLgeA0AAAADA9SgCQAAAAKCZmQFAAAAAYLgeAUAAAADgUbgAQA==\",\"dtype\":\"float64\",\"shape\":[8]}},\"selected\":{\"id\":\"208394\",\"type\":\"Selection\"},\"selection_policy\":{\"id\":\"208395\",\"type\":\"UnionRenderers\"}},\"id\":\"207877\",\"type\":\"ColumnDataSource\"},{\"attributes\":{\"data_source\":{\"id\":\"207835\",\"type\":\"ColumnDataSource\"},\"glyph\":{\"id\":\"207836\",\"type\":\"Line\"},\"hover_glyph\":null,\"muted_glyph\":null,\"nonselection_glyph\":{\"id\":\"207837\",\"type\":\"Line\"},\"selection_glyph\":null,\"view\":{\"id\":\"207839\",\"type\":\"CDSView\"}},\"id\":\"207838\",\"type\":\"GlyphRenderer\"},{\"attributes\":{\"line_alpha\":0.1,\"line_color\":\"#1f77b4\",\"x\":{\"field\":\"x\"},\"y\":{\"field\":\"y\"}},\"id\":\"207837\",\"type\":\"Line\"},{\"attributes\":{\"background_fill_color\":{\"value\":\"#fafafa\"},\"below\":[{\"id\":\"207891\",\"type\":\"DatetimeAxis\"}],\"center\":[{\"id\":\"207895\",\"type\":\"Grid\"},{\"id\":\"207900\",\"type\":\"Grid\"}],\"left\":[{\"id\":\"207896\",\"type\":\"LinearAxis\"}],\"plot_height\":150,\"plot_width\":150,\"renderers\":[{\"id\":\"207917\",\"type\":\"GlyphRenderer\"},{\"id\":\"207922\",\"type\":\"GlyphRenderer\"}],\"title\":{\"id\":\"208398\",\"type\":\"Title\"},\"toolbar\":{\"id\":\"207907\",\"type\":\"Toolbar\"},\"toolbar_location\":null,\"x_range\":{\"id\":\"207883\",\"type\":\"DataRange1d\"},\"x_scale\":{\"id\":\"207887\",\"type\":\"LinearScale\"},\"y_range\":{\"id\":\"207885\",\"type\":\"DataRange1d\"},\"y_scale\":{\"id\":\"207889\",\"type\":\"LinearScale\"}},\"id\":\"207882\",\"subtype\":\"Figure\",\"type\":\"Plot\"},{\"attributes\":{\"source\":{\"id\":\"207835\",\"type\":\"ColumnDataSource\"}},\"id\":\"207839\",\"type\":\"CDSView\"},{\"attributes\":{\"text\":\"\"},\"id\":\"208302\",\"type\":\"Title\"},{\"attributes\":{\"callback\":null},\"id\":\"207841\",\"type\":\"DataRange1d\"},{\"attributes\":{},\"id\":\"207847\",\"type\":\"LinearScale\"},{\"attributes\":{\"callback\":null},\"id\":\"207843\",\"type\":\"DataRange1d\"},{\"attributes\":{},\"id\":\"207845\",\"type\":\"LinearScale\"},{\"attributes\":{\"formatter\":{\"id\":\"208376\",\"type\":\"DatetimeTickFormatter\"},\"major_label_orientation\":1.5707963267948966,\"ticker\":{\"id\":\"207850\",\"type\":\"DatetimeTicker\"}},\"id\":\"207849\",\"type\":\"DatetimeAxis\"},{\"attributes\":{},\"id\":\"207855\",\"type\":\"BasicTicker\"},{\"attributes\":{\"children\":[[{\"id\":\"207714\",\"subtype\":\"Figure\",\"type\":\"Plot\"},0,0],[{\"id\":\"207756\",\"subtype\":\"Figure\",\"type\":\"Plot\"},0,1],[{\"id\":\"207798\",\"subtype\":\"Figure\",\"type\":\"Plot\"},0,2],[{\"id\":\"207840\",\"subtype\":\"Figure\",\"type\":\"Plot\"},0,3],[{\"id\":\"207882\",\"subtype\":\"Figure\",\"type\":\"Plot\"},0,4],[{\"id\":\"207924\",\"subtype\":\"Figure\",\"type\":\"Plot\"},1,0],[{\"id\":\"207966\",\"subtype\":\"Figure\",\"type\":\"Plot\"},1,1],[{\"id\":\"208008\",\"subtype\":\"Figure\",\"type\":\"Plot\"},1,2],[{\"id\":\"208050\",\"subtype\":\"Figure\",\"type\":\"Plot\"},1,3],[{\"id\":\"208092\",\"subtype\":\"Figure\",\"type\":\"Plot\"},1,4],[{\"id\":\"208134\",\"subtype\":\"Figure\",\"type\":\"Plot\"},2,0],[{\"id\":\"208176\",\"subtype\":\"Figure\",\"type\":\"Plot\"},2,1],[{\"id\":\"208218\",\"subtype\":\"Figure\",\"type\":\"Plot\"},2,2],[{\"id\":\"208260\",\"subtype\":\"Figure\",\"type\":\"Plot\"},2,3]]},\"id\":\"208638\",\"type\":\"GridBox\"},{\"attributes\":{\"num_minor_ticks\":5,\"tickers\":[{\"id\":\"208380\",\"type\":\"AdaptiveTicker\"},{\"id\":\"208381\",\"type\":\"AdaptiveTicker\"},{\"id\":\"208382\",\"type\":\"AdaptiveTicker\"},{\"id\":\"208383\",\"type\":\"DaysTicker\"},{\"id\":\"208384\",\"type\":\"DaysTicker\"},{\"id\":\"208385\",\"type\":\"DaysTicker\"},{\"id\":\"208386\",\"type\":\"DaysTicker\"},{\"id\":\"208387\",\"type\":\"MonthsTicker\"},{\"id\":\"208388\",\"type\":\"MonthsTicker\"},{\"id\":\"208389\",\"type\":\"MonthsTicker\"},{\"id\":\"208390\",\"type\":\"MonthsTicker\"},{\"id\":\"208391\",\"type\":\"YearsTicker\"}]},\"id\":\"207850\",\"type\":\"DatetimeTicker\"},{\"attributes\":{\"ticker\":{\"id\":\"207850\",\"type\":\"DatetimeTicker\"}},\"id\":\"207853\",\"type\":\"Grid\"},{\"attributes\":{\"formatter\":{\"id\":\"208378\",\"type\":\"BasicTickFormatter\"},\"ticker\":{\"id\":\"207855\",\"type\":\"BasicTicker\"}},\"id\":\"207854\",\"type\":\"LinearAxis\"},{\"attributes\":{\"dimension\":1,\"ticker\":{\"id\":\"207855\",\"type\":\"BasicTicker\"}},\"id\":\"207858\",\"type\":\"Grid\"},{\"attributes\":{\"active_drag\":\"auto\",\"active_inspect\":\"auto\",\"active_multi\":null,\"active_scroll\":\"auto\",\"active_tap\":\"auto\",\"tools\":[{\"id\":\"207859\",\"type\":\"PanTool\"},{\"id\":\"207860\",\"type\":\"WheelZoomTool\"},{\"id\":\"207861\",\"type\":\"BoxZoomTool\"},{\"id\":\"207862\",\"type\":\"SaveTool\"},{\"id\":\"207863\",\"type\":\"ResetTool\"},{\"id\":\"207864\",\"type\":\"HelpTool\"}]},\"id\":\"207865\",\"type\":\"Toolbar\"},{\"attributes\":{\"fill_alpha\":{\"value\":0.8},\"fill_color\":{\"value\":\"red\"},\"line_alpha\":{\"value\":0.8},\"line_color\":{\"value\":\"red\"},\"size\":{\"units\":\"screen\",\"value\":12},\"x\":{\"field\":\"x\"},\"y\":{\"field\":\"y\"}},\"id\":\"207873\",\"type\":\"Circle\"},{\"attributes\":{},\"id\":\"208328\",\"type\":\"DatetimeTickFormatter\"},{\"attributes\":{\"callback\":null,\"data\":{\"x\":{\"__ndarray__\":\"AABAHJDFcUIAAIDk0MdxQg==\",\"dtype\":\"float64\",\"shape\":[2]},\"y\":{\"__ndarray__\":\"AAAA4FG4AkAAAADgUbgAQA==\",\"dtype\":\"float64\",\"shape\":[2]}},\"selected\":{\"id\":\"208392\",\"type\":\"Selection\"},\"selection_policy\":{\"id\":\"208393\",\"type\":\"UnionRenderers\"}},\"id\":\"207872\",\"type\":\"ColumnDataSource\"},{\"attributes\":{\"mantissas\":[1,2,5],\"max_interval\":500.0,\"num_minor_ticks\":0},\"id\":\"208332\",\"type\":\"AdaptiveTicker\"},{\"attributes\":{},\"id\":\"207859\",\"type\":\"PanTool\"},{\"attributes\":{},\"id\":\"207860\",\"type\":\"WheelZoomTool\"},{\"attributes\":{\"overlay\":{\"id\":\"208396\",\"type\":\"BoxAnnotation\"}},\"id\":\"207861\",\"type\":\"BoxZoomTool\"},{\"attributes\":{},\"id\":\"207862\",\"type\":\"SaveTool\"},{\"attributes\":{},\"id\":\"208330\",\"type\":\"BasicTickFormatter\"},{\"attributes\":{},\"id\":\"207863\",\"type\":\"ResetTool\"},{\"attributes\":{},\"id\":\"207864\",\"type\":\"HelpTool\"},{\"attributes\":{\"fill_alpha\":{\"value\":0.1},\"fill_color\":{\"value\":\"#1f77b4\"},\"line_alpha\":{\"value\":0.1},\"line_color\":{\"value\":\"#1f77b4\"},\"size\":{\"units\":\"screen\",\"value\":12},\"x\":{\"field\":\"x\"},\"y\":{\"field\":\"y\"}},\"id\":\"207874\",\"type\":\"Circle\"},{\"attributes\":{\"data_source\":{\"id\":\"207872\",\"type\":\"ColumnDataSource\"},\"glyph\":{\"id\":\"207873\",\"type\":\"Circle\"},\"hover_glyph\":null,\"muted_glyph\":null,\"nonselection_glyph\":{\"id\":\"207874\",\"type\":\"Circle\"},\"selection_glyph\":null,\"view\":{\"id\":\"207876\",\"type\":\"CDSView\"}},\"id\":\"207875\",\"type\":\"GlyphRenderer\"},{\"attributes\":{\"source\":{\"id\":\"207872\",\"type\":\"ColumnDataSource\"}},\"id\":\"207876\",\"type\":\"CDSView\"},{\"attributes\":{},\"id\":\"208592\",\"type\":\"DatetimeTickFormatter\"},{\"attributes\":{},\"id\":\"208323\",\"type\":\"UnionRenderers\"},{\"attributes\":{},\"id\":\"208023\",\"type\":\"BasicTicker\"},{\"attributes\":{},\"id\":\"208594\",\"type\":\"BasicTickFormatter\"},{\"attributes\":{\"dimension\":1,\"ticker\":{\"id\":\"208023\",\"type\":\"BasicTicker\"}},\"id\":\"208026\",\"type\":\"Grid\"},{\"attributes\":{\"mantissas\":[1,2,5],\"max_interval\":500.0,\"num_minor_ticks\":0},\"id\":\"208596\",\"type\":\"AdaptiveTicker\"},{\"attributes\":{\"fill_alpha\":{\"value\":0.8},\"fill_color\":{\"value\":\"red\"},\"line_alpha\":{\"value\":0.8},\"line_color\":{\"value\":\"red\"},\"size\":{\"units\":\"screen\",\"value\":12},\"x\":{\"field\":\"x\"},\"y\":{\"field\":\"y\"}},\"id\":\"208041\",\"type\":\"Circle\"},{\"attributes\":{\"base\":60,\"mantissas\":[1,2,5,10,15,20,30],\"max_interval\":1800000.0,\"min_interval\":1000.0,\"num_minor_ticks\":0},\"id\":\"208597\",\"type\":\"AdaptiveTicker\"},{\"attributes\":{\"callback\":null,\"data\":{\"x\":{\"__ndarray__\":\"AADAzascc0IAAEAwmh5zQg==\",\"dtype\":\"float64\",\"shape\":[2]},\"y\":{\"__ndarray__\":\"AAAAQOF6AkAAAACgR+EAQA==\",\"dtype\":\"float64\",\"shape\":[2]}},\"selected\":{\"id\":\"208488\",\"type\":\"Selection\"},\"selection_policy\":{\"id\":\"208489\",\"type\":\"UnionRenderers\"}},\"id\":\"208040\",\"type\":\"ColumnDataSource\"},{\"attributes\":{\"active_drag\":\"auto\",\"active_inspect\":\"auto\",\"active_multi\":null,\"active_scroll\":\"auto\",\"active_tap\":\"auto\",\"tools\":[{\"id\":\"208027\",\"type\":\"PanTool\"},{\"id\":\"208028\",\"type\":\"WheelZoomTool\"},{\"id\":\"208029\",\"type\":\"BoxZoomTool\"},{\"id\":\"208030\",\"type\":\"SaveTool\"},{\"id\":\"208031\",\"type\":\"ResetTool\"},{\"id\":\"208032\",\"type\":\"HelpTool\"}]},\"id\":\"208033\",\"type\":\"Toolbar\"},{\"attributes\":{\"base\":24,\"mantissas\":[1,2,4,6,8,12],\"max_interval\":43200000.0,\"min_interval\":3600000.0,\"num_minor_ticks\":0},\"id\":\"208598\",\"type\":\"AdaptiveTicker\"},{\"attributes\":{},\"id\":\"208027\",\"type\":\"PanTool\"},{\"attributes\":{\"days\":[1,2,3,4,5,6,7,8,9,10,11,12,13,14,15,16,17,18,19,20,21,22,23,24,25,26,27,28,29,30,31]},\"id\":\"208599\",\"type\":\"DaysTicker\"},{\"attributes\":{},\"id\":\"208028\",\"type\":\"WheelZoomTool\"},{\"attributes\":{\"days\":[1,4,7,10,13,16,19,22,25,28]},\"id\":\"208600\",\"type\":\"DaysTicker\"},{\"attributes\":{\"overlay\":{\"id\":\"208492\",\"type\":\"BoxAnnotation\"}},\"id\":\"208029\",\"type\":\"BoxZoomTool\"},{\"attributes\":{\"days\":[1,8,15,22]},\"id\":\"208601\",\"type\":\"DaysTicker\"},{\"attributes\":{},\"id\":\"208030\",\"type\":\"SaveTool\"},{\"attributes\":{\"days\":[1,15]},\"id\":\"208602\",\"type\":\"DaysTicker\"},{\"attributes\":{\"tools\":[{\"id\":\"207733\",\"type\":\"PanTool\"},{\"id\":\"207734\",\"type\":\"WheelZoomTool\"},{\"id\":\"207735\",\"type\":\"BoxZoomTool\"},{\"id\":\"207736\",\"type\":\"SaveTool\"},{\"id\":\"207737\",\"type\":\"ResetTool\"},{\"id\":\"207738\",\"type\":\"HelpTool\"},{\"id\":\"207775\",\"type\":\"PanTool\"},{\"id\":\"207776\",\"type\":\"WheelZoomTool\"},{\"id\":\"207777\",\"type\":\"BoxZoomTool\"},{\"id\":\"207778\",\"type\":\"SaveTool\"},{\"id\":\"207779\",\"type\":\"ResetTool\"},{\"id\":\"207780\",\"type\":\"HelpTool\"},{\"id\":\"207817\",\"type\":\"PanTool\"},{\"id\":\"207818\",\"type\":\"WheelZoomTool\"},{\"id\":\"207819\",\"type\":\"BoxZoomTool\"},{\"id\":\"207820\",\"type\":\"SaveTool\"},{\"id\":\"207821\",\"type\":\"ResetTool\"},{\"id\":\"207822\",\"type\":\"HelpTool\"},{\"id\":\"207859\",\"type\":\"PanTool\"},{\"id\":\"207860\",\"type\":\"WheelZoomTool\"},{\"id\":\"207861\",\"type\":\"BoxZoomTool\"},{\"id\":\"207862\",\"type\":\"SaveTool\"},{\"id\":\"207863\",\"type\":\"ResetTool\"},{\"id\":\"207864\",\"type\":\"HelpTool\"},{\"id\":\"207901\",\"type\":\"PanTool\"},{\"id\":\"207902\",\"type\":\"WheelZoomTool\"},{\"id\":\"207903\",\"type\":\"BoxZoomTool\"},{\"id\":\"207904\",\"type\":\"SaveTool\"},{\"id\":\"207905\",\"type\":\"ResetTool\"},{\"id\":\"207906\",\"type\":\"HelpTool\"},{\"id\":\"207943\",\"type\":\"PanTool\"},{\"id\":\"207944\",\"type\":\"WheelZoomTool\"},{\"id\":\"207945\",\"type\":\"BoxZoomTool\"},{\"id\":\"207946\",\"type\":\"SaveTool\"},{\"id\":\"207947\",\"type\":\"ResetTool\"},{\"id\":\"207948\",\"type\":\"HelpTool\"},{\"id\":\"207985\",\"type\":\"PanTool\"},{\"id\":\"207986\",\"type\":\"WheelZoomTool\"},{\"id\":\"207987\",\"type\":\"BoxZoomTool\"},{\"id\":\"207988\",\"type\":\"SaveTool\"},{\"id\":\"207989\",\"type\":\"ResetTool\"},{\"id\":\"207990\",\"type\":\"HelpTool\"},{\"id\":\"208027\",\"type\":\"PanTool\"},{\"id\":\"208028\",\"type\":\"WheelZoomTool\"},{\"id\":\"208029\",\"type\":\"BoxZoomTool\"},{\"id\":\"208030\",\"type\":\"SaveTool\"},{\"id\":\"208031\",\"type\":\"ResetTool\"},{\"id\":\"208032\",\"type\":\"HelpTool\"},{\"id\":\"208069\",\"type\":\"PanTool\"},{\"id\":\"208070\",\"type\":\"WheelZoomTool\"},{\"id\":\"208071\",\"type\":\"BoxZoomTool\"},{\"id\":\"208072\",\"type\":\"SaveTool\"},{\"id\":\"208073\",\"type\":\"ResetTool\"},{\"id\":\"208074\",\"type\":\"HelpTool\"},{\"id\":\"208111\",\"type\":\"PanTool\"},{\"id\":\"208112\",\"type\":\"WheelZoomTool\"},{\"id\":\"208113\",\"type\":\"BoxZoomTool\"},{\"id\":\"208114\",\"type\":\"SaveTool\"},{\"id\":\"208115\",\"type\":\"ResetTool\"},{\"id\":\"208116\",\"type\":\"HelpTool\"},{\"id\":\"208153\",\"type\":\"PanTool\"},{\"id\":\"208154\",\"type\":\"WheelZoomTool\"},{\"id\":\"208155\",\"type\":\"BoxZoomTool\"},{\"id\":\"208156\",\"type\":\"SaveTool\"},{\"id\":\"208157\",\"type\":\"ResetTool\"},{\"id\":\"208158\",\"type\":\"HelpTool\"},{\"id\":\"208195\",\"type\":\"PanTool\"},{\"id\":\"208196\",\"type\":\"WheelZoomTool\"},{\"id\":\"208197\",\"type\":\"BoxZoomTool\"},{\"id\":\"208198\",\"type\":\"SaveTool\"},{\"id\":\"208199\",\"type\":\"ResetTool\"},{\"id\":\"208200\",\"type\":\"HelpTool\"},{\"id\":\"208237\",\"type\":\"PanTool\"},{\"id\":\"208238\",\"type\":\"WheelZoomTool\"},{\"id\":\"208239\",\"type\":\"BoxZoomTool\"},{\"id\":\"208240\",\"type\":\"SaveTool\"},{\"id\":\"208241\",\"type\":\"ResetTool\"},{\"id\":\"208242\",\"type\":\"HelpTool\"},{\"id\":\"208279\",\"type\":\"PanTool\"},{\"id\":\"208280\",\"type\":\"WheelZoomTool\"},{\"id\":\"208281\",\"type\":\"BoxZoomTool\"},{\"id\":\"208282\",\"type\":\"SaveTool\"},{\"id\":\"208283\",\"type\":\"ResetTool\"},{\"id\":\"208284\",\"type\":\"HelpTool\"}]},\"id\":\"208639\",\"type\":\"ProxyToolbar\"},{\"attributes\":{},\"id\":\"208031\",\"type\":\"ResetTool\"},{\"attributes\":{\"months\":[0,1,2,3,4,5,6,7,8,9,10,11]},\"id\":\"208603\",\"type\":\"MonthsTicker\"},{\"attributes\":{},\"id\":\"208032\",\"type\":\"HelpTool\"},{\"attributes\":{\"months\":[0,2,4,6,8,10]},\"id\":\"208604\",\"type\":\"MonthsTicker\"},{\"attributes\":{\"fill_alpha\":{\"value\":0.1},\"fill_color\":{\"value\":\"#1f77b4\"},\"line_alpha\":{\"value\":0.1},\"line_color\":{\"value\":\"#1f77b4\"},\"size\":{\"units\":\"screen\",\"value\":12},\"x\":{\"field\":\"x\"},\"y\":{\"field\":\"y\"}},\"id\":\"208042\",\"type\":\"Circle\"},{\"attributes\":{\"months\":[0,4,8]},\"id\":\"208605\",\"type\":\"MonthsTicker\"},{\"attributes\":{\"data_source\":{\"id\":\"208040\",\"type\":\"ColumnDataSource\"},\"glyph\":{\"id\":\"208041\",\"type\":\"Circle\"},\"hover_glyph\":null,\"muted_glyph\":null,\"nonselection_glyph\":{\"id\":\"208042\",\"type\":\"Circle\"},\"selection_glyph\":null,\"view\":{\"id\":\"208044\",\"type\":\"CDSView\"}},\"id\":\"208043\",\"type\":\"GlyphRenderer\"},{\"attributes\":{\"text\":\"\"},\"id\":\"208326\",\"type\":\"Title\"},{\"attributes\":{\"months\":[0,6]},\"id\":\"208606\",\"type\":\"MonthsTicker\"},{\"attributes\":{\"source\":{\"id\":\"208040\",\"type\":\"ColumnDataSource\"}},\"id\":\"208044\",\"type\":\"CDSView\"},{\"attributes\":{},\"id\":\"208607\",\"type\":\"YearsTicker\"},{\"attributes\":{\"line_alpha\":0.1,\"line_color\":\"#1f77b4\",\"x\":{\"field\":\"x\"},\"y\":{\"field\":\"y\"}},\"id\":\"208047\",\"type\":\"Line\"},{\"attributes\":{},\"id\":\"208608\",\"type\":\"Selection\"},{\"attributes\":{\"bottom_units\":\"screen\",\"fill_alpha\":{\"value\":0.5},\"fill_color\":{\"value\":\"lightgrey\"},\"left_units\":\"screen\",\"level\":\"overlay\",\"line_alpha\":{\"value\":1.0},\"line_color\":{\"value\":\"black\"},\"line_dash\":[4,4],\"line_width\":{\"value\":2},\"render_mode\":\"css\",\"right_units\":\"screen\",\"top_units\":\"screen\"},\"id\":\"208324\",\"type\":\"BoxAnnotation\"},{\"attributes\":{},\"id\":\"208609\",\"type\":\"UnionRenderers\"},{\"attributes\":{},\"id\":\"208610\",\"type\":\"Selection\"},{\"attributes\":{\"callback\":null,\"data\":{\"x\":{\"__ndarray__\":\"AABAfVsPdEIAAADjrQ90QgAAwEgAEHRCAACArlIQdEIAAEAUpRB0QgAAAHr3EHRCAADA30kRdEIAAIBFnBF0QgAAQKvuEXRCAAAAEUESdEI=\",\"dtype\":\"float64\",\"shape\":[10]},\"y\":{\"__ndarray__\":\"AAAAQOF6BEAAAAAghesQQAAAAMAehQ1AAAAAIK5HCUAAAACgmZkFQAAAAAApXANA////X4/CAUAAAAAA16MAQAEAAAApXP8/AgAAIIXr/T8=\",\"dtype\":\"float64\",\"shape\":[10]}},\"selected\":{\"id\":\"208514\",\"type\":\"Selection\"},\"selection_policy\":{\"id\":\"208515\",\"type\":\"UnionRenderers\"}},\"id\":\"208087\",\"type\":\"ColumnDataSource\"},{\"attributes\":{},\"id\":\"208611\",\"type\":\"UnionRenderers\"},{\"attributes\":{\"data_source\":{\"id\":\"208045\",\"type\":\"ColumnDataSource\"},\"glyph\":{\"id\":\"208046\",\"type\":\"Line\"},\"hover_glyph\":null,\"muted_glyph\":null,\"nonselection_glyph\":{\"id\":\"208047\",\"type\":\"Line\"},\"selection_glyph\":null,\"view\":{\"id\":\"208049\",\"type\":\"CDSView\"}},\"id\":\"208048\",\"type\":\"GlyphRenderer\"},{\"attributes\":{\"bottom_units\":\"screen\",\"fill_alpha\":{\"value\":0.5},\"fill_color\":{\"value\":\"lightgrey\"},\"left_units\":\"screen\",\"level\":\"overlay\",\"line_alpha\":{\"value\":1.0},\"line_color\":{\"value\":\"black\"},\"line_dash\":[4,4],\"line_width\":{\"value\":2},\"render_mode\":\"css\",\"right_units\":\"screen\",\"top_units\":\"screen\"},\"id\":\"208612\",\"type\":\"BoxAnnotation\"},{\"attributes\":{\"source\":{\"id\":\"208045\",\"type\":\"ColumnDataSource\"}},\"id\":\"208049\",\"type\":\"CDSView\"},{\"attributes\":{\"text\":\"\"},\"id\":\"208614\",\"type\":\"Title\"},{\"attributes\":{\"background_fill_color\":{\"value\":\"#fafafa\"},\"below\":[{\"id\":\"208101\",\"type\":\"DatetimeAxis\"}],\"center\":[{\"id\":\"208105\",\"type\":\"Grid\"},{\"id\":\"208110\",\"type\":\"Grid\"}],\"left\":[{\"id\":\"208106\",\"type\":\"LinearAxis\"}],\"plot_height\":150,\"plot_width\":150,\"renderers\":[{\"id\":\"208127\",\"type\":\"GlyphRenderer\"},{\"id\":\"208132\",\"type\":\"GlyphRenderer\"}],\"title\":{\"id\":\"208518\",\"type\":\"Title\"},\"toolbar\":{\"id\":\"208117\",\"type\":\"Toolbar\"},\"toolbar_location\":null,\"x_range\":{\"id\":\"208093\",\"type\":\"DataRange1d\"},\"x_scale\":{\"id\":\"208097\",\"type\":\"LinearScale\"},\"y_range\":{\"id\":\"208095\",\"type\":\"DataRange1d\"},\"y_scale\":{\"id\":\"208099\",\"type\":\"LinearScale\"}},\"id\":\"208092\",\"subtype\":\"Figure\",\"type\":\"Plot\"},{\"attributes\":{},\"id\":\"208616\",\"type\":\"DatetimeTickFormatter\"},{\"attributes\":{},\"id\":\"208618\",\"type\":\"BasicTickFormatter\"},{\"attributes\":{\"callback\":null},\"id\":\"208051\",\"type\":\"DataRange1d\"},{\"attributes\":{\"mantissas\":[1,2,5],\"max_interval\":500.0,\"num_minor_ticks\":0},\"id\":\"208620\",\"type\":\"AdaptiveTicker\"},{\"attributes\":{\"callback\":null},\"id\":\"208053\",\"type\":\"DataRange1d\"},{\"attributes\":{\"base\":60,\"mantissas\":[1,2,5,10,15,20,30],\"max_interval\":1800000.0,\"min_interval\":1000.0,\"num_minor_ticks\":0},\"id\":\"208621\",\"type\":\"AdaptiveTicker\"},{\"attributes\":{},\"id\":\"208055\",\"type\":\"LinearScale\"},{\"attributes\":{\"base\":24,\"mantissas\":[1,2,4,6,8,12],\"max_interval\":43200000.0,\"min_interval\":3600000.0,\"num_minor_ticks\":0},\"id\":\"208622\",\"type\":\"AdaptiveTicker\"},{\"attributes\":{},\"id\":\"208057\",\"type\":\"LinearScale\"},{\"attributes\":{\"days\":[1,2,3,4,5,6,7,8,9,10,11,12,13,14,15,16,17,18,19,20,21,22,23,24,25,26,27,28,29,30,31]},\"id\":\"208623\",\"type\":\"DaysTicker\"},{\"attributes\":{\"formatter\":{\"id\":\"208496\",\"type\":\"DatetimeTickFormatter\"},\"major_label_orientation\":1.5707963267948966,\"ticker\":{\"id\":\"208060\",\"type\":\"DatetimeTicker\"}},\"id\":\"208059\",\"type\":\"DatetimeAxis\"},{\"attributes\":{\"days\":[1,4,7,10,13,16,19,22,25,28]},\"id\":\"208624\",\"type\":\"DaysTicker\"},{\"attributes\":{\"num_minor_ticks\":5,\"tickers\":[{\"id\":\"208500\",\"type\":\"AdaptiveTicker\"},{\"id\":\"208501\",\"type\":\"AdaptiveTicker\"},{\"id\":\"208502\",\"type\":\"AdaptiveTicker\"},{\"id\":\"208503\",\"type\":\"DaysTicker\"},{\"id\":\"208504\",\"type\":\"DaysTicker\"},{\"id\":\"208505\",\"type\":\"DaysTicker\"},{\"id\":\"208506\",\"type\":\"DaysTicker\"},{\"id\":\"208507\",\"type\":\"MonthsTicker\"},{\"id\":\"208508\",\"type\":\"MonthsTicker\"},{\"id\":\"208509\",\"type\":\"MonthsTicker\"},{\"id\":\"208510\",\"type\":\"MonthsTicker\"},{\"id\":\"208511\",\"type\":\"YearsTicker\"}]},\"id\":\"208060\",\"type\":\"DatetimeTicker\"},{\"attributes\":{\"days\":[1,8,15,22]},\"id\":\"208625\",\"type\":\"DaysTicker\"},{\"attributes\":{\"ticker\":{\"id\":\"208060\",\"type\":\"DatetimeTicker\"}},\"id\":\"208063\",\"type\":\"Grid\"},{\"attributes\":{\"days\":[1,15]},\"id\":\"208626\",\"type\":\"DaysTicker\"},{\"attributes\":{\"formatter\":{\"id\":\"208498\",\"type\":\"BasicTickFormatter\"},\"ticker\":{\"id\":\"208065\",\"type\":\"BasicTicker\"}},\"id\":\"208064\",\"type\":\"LinearAxis\"},{\"attributes\":{\"months\":[0,1,2,3,4,5,6,7,8,9,10,11]},\"id\":\"208627\",\"type\":\"MonthsTicker\"},{\"attributes\":{},\"id\":\"208065\",\"type\":\"BasicTicker\"},{\"attributes\":{\"months\":[0,2,4,6,8,10]},\"id\":\"208628\",\"type\":\"MonthsTicker\"},{\"attributes\":{\"dimension\":1,\"ticker\":{\"id\":\"208065\",\"type\":\"BasicTicker\"}},\"id\":\"208068\",\"type\":\"Grid\"},{\"attributes\":{\"months\":[0,4,8]},\"id\":\"208629\",\"type\":\"MonthsTicker\"},{\"attributes\":{\"fill_alpha\":{\"value\":0.8},\"fill_color\":{\"value\":\"red\"},\"line_alpha\":{\"value\":0.8},\"line_color\":{\"value\":\"red\"},\"size\":{\"units\":\"screen\",\"value\":12},\"x\":{\"field\":\"x\"},\"y\":{\"field\":\"y\"}},\"id\":\"208083\",\"type\":\"Circle\"},{\"attributes\":{\"months\":[0,6]},\"id\":\"208630\",\"type\":\"MonthsTicker\"},{\"attributes\":{\"callback\":null,\"data\":{\"x\":{\"__ndarray__\":\"AABAfVsPdEIAAAARQRJ0Qg==\",\"dtype\":\"float64\",\"shape\":[2]},\"y\":{\"__ndarray__\":\"AAAAQOF6BEACAAAghev9Pw==\",\"dtype\":\"float64\",\"shape\":[2]}},\"selected\":{\"id\":\"208512\",\"type\":\"Selection\"},\"selection_policy\":{\"id\":\"208513\",\"type\":\"UnionRenderers\"}},\"id\":\"208082\",\"type\":\"ColumnDataSource\"},{\"attributes\":{},\"id\":\"208631\",\"type\":\"YearsTicker\"},{\"attributes\":{\"fill_alpha\":{\"value\":0.1},\"fill_color\":{\"value\":\"#1f77b4\"},\"line_alpha\":{\"value\":0.1},\"line_color\":{\"value\":\"#1f77b4\"},\"size\":{\"units\":\"screen\",\"value\":12},\"x\":{\"field\":\"x\"},\"y\":{\"field\":\"y\"}},\"id\":\"208084\",\"type\":\"Circle\"},{\"attributes\":{},\"id\":\"208069\",\"type\":\"PanTool\"}],\"root_ids\":[\"208641\"]},\"title\":\"Bokeh Application\",\"version\":\"1.4.0\"}};\n",
       "  var render_items = [{\"docid\":\"8910d8e2-e15b-4e5e-8ca8-702fc1f9efaf\",\"roots\":{\"208641\":\"e0184b8c-7a10-4270-a03a-ae2c1422a70b\"}}];\n",
       "  root.Bokeh.embed.embed_items_notebook(docs_json, render_items);\n",
       "\n",
       "  }\n",
       "  if (root.Bokeh !== undefined) {\n",
       "    embed_document(root);\n",
       "  } else {\n",
       "    var attempts = 0;\n",
       "    var timer = setInterval(function(root) {\n",
       "      if (root.Bokeh !== undefined) {\n",
       "        clearInterval(timer);\n",
       "        embed_document(root);\n",
       "      } else {\n",
       "        attempts++;\n",
       "        if (attempts > 100) {\n",
       "          clearInterval(timer);\n",
       "          console.log(\"Bokeh: ERROR: Unable to run BokehJS code because BokehJS library is missing\");\n",
       "        }\n",
       "      }\n",
       "    }, 10, root)\n",
       "  }\n",
       "})(window);"
      ],
      "application/vnd.bokehjs_exec.v0+json": ""
     },
     "metadata": {
      "application/vnd.bokehjs_exec.v0+json": {
       "id": "208641"
      }
     },
     "output_type": "display_data"
    }
   ],
   "source": [
    "show(grid)"
   ]
  },
  {
   "cell_type": "code",
   "execution_count": 462,
   "metadata": {},
   "outputs": [],
   "source": [
    "event_pairs = []\n",
    "for i in np.arange(0, len(best_events) - 1, 2):\n",
    "    # parse a single event pair\n",
    "    this_event = best_events.iloc[i:i+2]\n",
    "    date_pair = [e.astype(str).replace('T', ' ').split('.')[0].split(' ')[0] for e in this_event.index.values]\n",
    "    this_start = pd.to_datetime(this_event.index.values[0])\n",
    "    this_month = this_start.month\n",
    "    if (this_month > 5) & (this_month <= 11) & (this_start > pd.to_datetime('2007-01-01')):\n",
    "        event_pairs.append(date_pair)"
   ]
  },
  {
   "cell_type": "code",
   "execution_count": 463,
   "metadata": {},
   "outputs": [
    {
     "name": "stdout",
     "output_type": "stream",
     "text": [
      "Stn 05CA012: FALLENTIMBER CREEK NEAR SUNDRE\n",
      "There are 14 events that meet the criteria.\n"
     ]
    }
   ],
   "source": [
    "print('Stn {}: {}'.format(test_stn, test_stn_info['Station Name'].values[0]))\n",
    "print('There are {} events that meet the criteria.'.format(len(event_pairs)))"
   ]
  },
  {
   "cell_type": "markdown",
   "metadata": {},
   "source": [
    "### Load Radar, Mask with Catchment, and Clip all Retrieved Images\n",
    "\n",
    "First, make sure basin geometry is available before requesting all images."
   ]
  },
  {
   "cell_type": "code",
   "execution_count": 464,
   "metadata": {},
   "outputs": [
    {
     "name": "stdout",
     "output_type": "stream",
     "text": [
      "         minx       miny       maxx       maxy\n",
      "0 -115.266969  51.413711 -114.58583  51.736867\n"
     ]
    }
   ],
   "source": [
    "def get_polygon(stn):\n",
    "    gdb_path = os.path.join(DB_DIR, 'WSC_Basins.gdb.zip')\n",
    "    data = gpd.read_file(gdb_path, driver='FileGDB', layer='EC_{}_1'.format(stn))\n",
    "    return data.geometry\n",
    "\n",
    "def find_closest_radar_stn(wsc_stn):\n",
    "    \"\"\"\n",
    "    To retrieve radar images, we need to find the closest radar location\n",
    "    to the station of interest.  \n",
    "    Input the station number,\n",
    "    returns the location code of the nearest radar station.\n",
    "    \"\"\"\n",
    "    stn_data = stn_df[stn_df['Station Number'] == wsc_stn]\n",
    "    s1 = [stn_data['Latitude'].values[0], stn_data['Longitude'].values[0]]\n",
    "    min_dist = 1E6\n",
    "    closest_stn = None\n",
    "    for site in radar_sites.keys():\n",
    "        s2 = [*radar_sites[site]['lat_lon']]\n",
    "        this_dist = np.sqrt((s2[0] - s1[0])**2 + (s2[1] - s1[1])**2)\n",
    "\n",
    "        if this_dist < min_dist:\n",
    "            min_dist = this_dist\n",
    "            closest_stn = site\n",
    "        \n",
    "    return closest_stn\n",
    "\n",
    "basin_geom = get_polygon(test_stn)\n",
    "basin_geom = basin_geom.to_crs('EPSG:4326')\n",
    "basin_bbox = basin_geom.bounds\n",
    "print(basin_bbox)"
   ]
  },
  {
   "cell_type": "code",
   "execution_count": 465,
   "metadata": {},
   "outputs": [
    {
     "name": "stdout",
     "output_type": "stream",
     "text": [
      "There are 0 image files to query.\n"
     ]
    }
   ],
   "source": [
    "all_img_urls = get_radar_img_urls(event_pairs, best_radar_stn)\n",
    "print('There are {} image files to query.'.format(len(all_img_urls)))"
   ]
  },
  {
   "cell_type": "markdown",
   "metadata": {},
   "source": [
    "# TODO:\n",
    "\n",
    "\n",
    "\n",
    "## Further Work\n",
    "\n",
    "Find all the stations that have radar overlap.  \n",
    "\n",
    "Find a bunch of concurrent runoff events, and estimate the error based on the overlapping radar info."
   ]
  },
  {
   "cell_type": "code",
   "execution_count": 466,
   "metadata": {},
   "outputs": [
    {
     "name": "stdout",
     "output_type": "stream",
     "text": [
      "For 05CA012 there are 0 images to be requested from the CASSM radar station.\n"
     ]
    }
   ],
   "source": [
    "time0 = time.time()\n",
    "request_img_files(all_img_urls, test_stn, best_radar_stn)\n",
    "time1 = time.time()"
   ]
  },
  {
   "cell_type": "code",
   "execution_count": 467,
   "metadata": {},
   "outputs": [
    {
     "ename": "ZeroDivisionError",
     "evalue": "float division by zero",
     "output_type": "error",
     "traceback": [
      "\u001b[0;31m---------------------------------------------------------------------------\u001b[0m",
      "\u001b[0;31mZeroDivisionError\u001b[0m                         Traceback (most recent call last)",
      "\u001b[0;32m<ipython-input-467-c65120adf7ab>\u001b[0m in \u001b[0;36m<module>\u001b[0;34m\u001b[0m\n\u001b[1;32m      1\u001b[0m print('Time to check {} image links = {:.0f}s ({:.2f}s/image)'.format(len(all_img_urls), \n\u001b[1;32m      2\u001b[0m                                                                       \u001b[0;34m(\u001b[0m\u001b[0mtime1\u001b[0m \u001b[0;34m-\u001b[0m \u001b[0mtime0\u001b[0m\u001b[0;34m)\u001b[0m\u001b[0;34m,\u001b[0m\u001b[0;34m\u001b[0m\u001b[0;34m\u001b[0m\u001b[0m\n\u001b[0;32m----> 3\u001b[0;31m                                                                       (time1 - time0)/len(all_img_urls)))\n\u001b[0m",
      "\u001b[0;31mZeroDivisionError\u001b[0m: float division by zero"
     ]
    }
   ],
   "source": [
    "print('Time to check {} image links = {:.0f}s ({:.2f}s/image)'.format(len(all_img_urls), \n",
    "                                                                      (time1 - time0), \n",
    "                                                                      (time1 - time0)/len(all_img_urls)))"
   ]
  },
  {
   "cell_type": "code",
   "execution_count": null,
   "metadata": {},
   "outputs": [],
   "source": [
    "from shapely.geometry import Polygon\n",
    "\n",
    "def get_ubc_polygon():\n",
    "    points = [-123.1876189229259,49.27349631820059, -123.2168376964195,49.27886813665509,\n",
    "              -123.250951627253,49.28123248845857, -123.2686880871375,49.26628206996413, \n",
    "              -123.2577985144227,49.25107796072373, -123.2296736741512,49.23345938143058, \n",
    "              -123.2086850019333,49.22474925352834, -123.1911799345363,49.22020024319045, \n",
    "              -123.1852881427934,49.2196036807795, -123.1876189229259,49.27349631820059, ]\n",
    "    lat_list = []\n",
    "    lon_list = []\n",
    "    for i in range(0, len(points), 2):\n",
    "        lat_list.append(points[i])\n",
    "        lon_list.append(points[i + 1])\n",
    "#     gdb_path = os.path.join(PROJECT_DIR, path)\n",
    "#     data = gpd.read_file(gdb_path, driver='kmz')\n",
    "#     return data.geometry\n",
    "    minx = min(lat_list)\n",
    "    maxx = max(lat_list)\n",
    "    miny = min(lon_list)\n",
    "    maxy = max(lon_list)\n",
    "    bbox = pd.DataFrame({'minx': [minx], 'miny': [miny],\n",
    "                        'maxx': [maxx], 'maxy': [maxy]})\n",
    "    return Polygon(zip(lat_list, lon_list)), bbox"
   ]
  },
  {
   "cell_type": "code",
   "execution_count": null,
   "metadata": {},
   "outputs": [],
   "source": [
    "def get_pixel_coordinates(closest_stn):\n",
    "    img_coord_path = 'data/radar_img_pixel_coords'\n",
    "    img_coord_file = [f for f in os.listdir(img_coord_path) if closest_stn in f][0]\n",
    "    return pd.read_json(os.path.join(img_coord_path, img_coord_file))\n",
    "\n",
    "\n",
    "def get_img_mask(closest_stn, basin_geom):\n",
    "    c_df = get_pixel_coordinates(closest_stn).to_numpy().flatten()\n",
    "    all_points = [tuple(e) for e in c_df]\n",
    "    list_pts_df = pd.DataFrame()\n",
    "    list_pts_df['Lat'] = [e[1] for e in all_points]\n",
    "    list_pts_df['Lon'] = [e[0] for e in all_points]\n",
    "#     print(list_pts_df)\n",
    "    gdf = gpd.GeoDataFrame(list_pts_df, geometry=gpd.points_from_xy(list_pts_df.Lat, list_pts_df.Lon))\n",
    "    \n",
    "    points = gdf['geometry'].values\n",
    "    mask = np.zeros(len(points))\n",
    "    for i, pt in enumerate(points):\n",
    "        point = shape(pt)\n",
    "        if point.within(shape(basin_geom[0])):\n",
    "            mask[i] = 1\n",
    "    return mask.reshape(480,480)\n",
    "\n",
    "\n",
    "def bbox2(img):\n",
    "    rows = np.any(img, axis=1)\n",
    "    cols = np.any(img, axis=0)\n",
    "    ymin, ymax = np.where(rows)[0][[0, -1]]\n",
    "    xmin, xmax = np.where(cols)[0][[0, -1]]\n",
    "    return img[ymin:ymax+1, xmin:xmax+1]\n",
    "\n",
    "\n",
    "@jit\n",
    "def mask_image(img_array, mask):\n",
    "    mask_idx = np.where(mask==0)\n",
    "    rows = mask_idx[0]\n",
    "    cols = mask_idx[1]\n",
    "    filtered_img = np.zeros((480, 480, 3))\n",
    "    for n in range(480):\n",
    "        for m in range(480):\n",
    "            if mask[n, m] == 0:\n",
    "                filtered_img[n, m] = 0\n",
    "            else:\n",
    "                filtered_img[n, m] = img_array[n, m]\n",
    "    return filtered_img"
   ]
  },
  {
   "cell_type": "code",
   "execution_count": null,
   "metadata": {},
   "outputs": [],
   "source": [
    "def mask_images_and_save(gif_images, mask, test_stn, best_radar_stn):\n",
    "    origin_path = os.path.join(RADAR_IMG_DIR, best_radar_stn)\n",
    "    save_path = os.path.join(PROJECT_DIR, 'data/masked_img/{}'.format(test_stn))\n",
    "    for t_img in gif_images:\n",
    "        new_filename = t_img.split('.')[0] + '_crp.gif'\n",
    "        time0 = time.time()      \n",
    "        origin_full_path = os.path.join(origin_path, t_img)\n",
    "        new_file_path = os.path.join(save_path, new_filename)\n",
    "#         if os.path.exists(origin_full_path):\n",
    "#             print('hiiii')\n",
    "        if os.path.getsize(origin_full_path) > 100:\n",
    "            gif_img = Image.open(origin_full_path).convert('RGB')\n",
    "            img_array = np.asarray(gif_img)[:,:480].astype(np.uint8)        \n",
    "            filtered_img = mask_image(img_array, mask)\n",
    "            time1 = time.time()\n",
    "            cropped_array = bbox2(filtered_img)\n",
    "            cropped_img = Image.fromarray(cropped_array.astype(np.uint8))\n",
    "            cropped_img.save(os.path.join(save_path, new_filename))\n",
    "\n",
    "\n",
    "def get_event_times(df):\n",
    "    event_pairs = []\n",
    "    for i in np.arange(0, len(df) - 1, 2):    \n",
    "        # parse a single event pair\n",
    "        this_event = df.iloc[i:i+2]\n",
    "        date_pair = [e.astype(str).replace('T', ' ').split('.')[0].split(' ')[0] for e in this_event.index.values]\n",
    "        this_start = pd.to_datetime(this_event.index.values[0])\n",
    "        this_month = this_start.month\n",
    "        if (this_month > 5) & (this_month <= 11) & (this_start > pd.to_datetime('2007-01-01')):\n",
    "            event_pairs.append(date_pair)\n",
    "    return event_pairs\n",
    "    \n",
    "def get_events_df_from_file(stn):\n",
    "    event_csv_path = os.path.join(PROJECT_DIR, 'data/precip_events_data/{}.csv'.format(stn))\n",
    "    event_df = pd.read_csv(event_csv_path, parse_dates=True, index_col='DATE')\n",
    "    return event_df\n",
    "\n",
    "def get_possible_filenames_from_event_time(event_pair):\n",
    "    filenames = []\n",
    "    for p in event_pair:\n",
    "        start, end = p[0], p[1]\n",
    "        datetime_range = [str(pd.to_datetime(e).strftime('%Y%m%d%H%M')) + '.gif' for e in pd.date_range(pd.to_datetime(start), \n",
    "                                       pd.to_datetime(end),\n",
    "                                      freq='1H').values]\n",
    "        filenames += datetime_range\n",
    "    return set(filenames)\n",
    "\n",
    "def get_radar_images_for_events(wsc_stn, radar_stn):\n",
    "    event_df = get_events_df_from_file(wsc_stn)\n",
    "    event_pairs = get_event_times(event_df)\n",
    "    \n",
    "    files_to_search = get_possible_filenames_from_event_time(event_pairs)\n",
    "    \n",
    "    existing_files = os.listdir(os.path.join(RADAR_IMG_DIR, radar_stn))\n",
    "    \n",
    "#     new_files = np.setdiff1d(files_to_search, existing_files)\n",
    "    new_files = files_to_search.intersection(existing_files)\n",
    "    return new_files\n",
    "\n",
    "def get_gif_images(test_stn, closest_radar_stn):\n",
    "    gif_path = 'data/sorted_radar_images/{}'.format(closest_radar_stn)\n",
    "    save_path = 'data/masked_img/{}'.format(test_stn)\n",
    "    \n",
    "    if not os.path.exists(save_path):\n",
    "        os.makedirs(save_path)\n",
    "    \n",
    "    return list(get_radar_images_for_events(test_stn, closest_radar_stn))"
   ]
  },
  {
   "cell_type": "code",
   "execution_count": null,
   "metadata": {},
   "outputs": [],
   "source": [
    "# ubc_polygon = get_ubc_polygon()"
   ]
  },
  {
   "cell_type": "code",
   "execution_count": null,
   "metadata": {},
   "outputs": [],
   "source": [
    "mask = get_img_mask(best_radar_stn, basin_geom)\n",
    "# mask = get_img_mask('CASAG', ubc_polygon)"
   ]
  },
  {
   "cell_type": "code",
   "execution_count": null,
   "metadata": {},
   "outputs": [],
   "source": [
    "gif_images = get_gif_images(test_stn, best_radar_stn)\n",
    "# gif_images = os.listdir(os.path.join(RADAR_IMG_DIR, 'CASAG'))"
   ]
  },
  {
   "cell_type": "code",
   "execution_count": null,
   "metadata": {},
   "outputs": [],
   "source": [
    "time0 = time.time()\n",
    "mask_images_and_save(gif_images, mask, test_stn, best_radar_stn)\n",
    "# mask_images_and_save(gif_images, mask, 'UBC', 'CASAG')\n",
    "time1 = time.time()\n",
    "\n",
    "print('Time to process {} images: {:.1f}s, ({:.2f}s/image)'.format(len(gif_images), \n",
    "                                                                   time1-time0, \n",
    "                                                                   (time1-time0)/len(gif_images)))"
   ]
  },
  {
   "cell_type": "code",
   "execution_count": 437,
   "metadata": {},
   "outputs": [],
   "source": [
    "# open the image file\n",
    "\n",
    "# gif_img = Image.open('data/radar_img/08HF006/200708261000.gif') # 640x480x3 array\n",
    "# label = gif_img.convert('RGB')\n",
    "# img_array = np.asarray(label)\n",
    "# radar_img_array = np.asarray(img_array)[:,:480]\n",
    "# color_bar_array = img_array[144:340, 515:535]\n",
    "# color_bar_img = Image.fromarray(color_bar_array, mode='RGB')\n",
    "# colors = color_bar_img.getcolors()"
   ]
  },
  {
   "cell_type": "code",
   "execution_count": 346,
   "metadata": {},
   "outputs": [
    {
     "ename": "NameError",
     "evalue": "name 'gdf' is not defined",
     "output_type": "error",
     "traceback": [
      "\u001b[0;31m---------------------------------------------------------------------------\u001b[0m",
      "\u001b[0;31mNameError\u001b[0m                                 Traceback (most recent call last)",
      "\u001b[0;32m<ipython-input-346-0500b828ecba>\u001b[0m in \u001b[0;36m<module>\u001b[0;34m\u001b[0m\n\u001b[1;32m      1\u001b[0m \u001b[0mfig\u001b[0m\u001b[0;34m,\u001b[0m \u001b[0max\u001b[0m \u001b[0;34m=\u001b[0m \u001b[0mplt\u001b[0m\u001b[0;34m.\u001b[0m\u001b[0msubplots\u001b[0m\u001b[0;34m(\u001b[0m\u001b[0mfigsize\u001b[0m\u001b[0;34m=\u001b[0m\u001b[0;34m(\u001b[0m\u001b[0;36m8\u001b[0m\u001b[0;34m,\u001b[0m\u001b[0;36m8\u001b[0m\u001b[0;34m)\u001b[0m\u001b[0;34m)\u001b[0m\u001b[0;34m\u001b[0m\u001b[0;34m\u001b[0m\u001b[0m\n\u001b[0;32m----> 2\u001b[0;31m \u001b[0mgdf\u001b[0m\u001b[0;34m.\u001b[0m\u001b[0mplot\u001b[0m\u001b[0;34m(\u001b[0m\u001b[0;34m'geometry'\u001b[0m\u001b[0;34m,\u001b[0m \u001b[0max\u001b[0m\u001b[0;34m=\u001b[0m\u001b[0max\u001b[0m\u001b[0;34m,\u001b[0m \u001b[0mcolor\u001b[0m\u001b[0;34m=\u001b[0m\u001b[0;34m'lightgray'\u001b[0m\u001b[0;34m,\u001b[0m \u001b[0malpha\u001b[0m\u001b[0;34m=\u001b[0m\u001b[0;36m0.1\u001b[0m\u001b[0;34m)\u001b[0m\u001b[0;34m\u001b[0m\u001b[0;34m\u001b[0m\u001b[0m\n\u001b[0m\u001b[1;32m      3\u001b[0m \u001b[0mbasin_geom\u001b[0m\u001b[0;34m.\u001b[0m\u001b[0mplot\u001b[0m\u001b[0;34m(\u001b[0m\u001b[0max\u001b[0m\u001b[0;34m=\u001b[0m\u001b[0max\u001b[0m\u001b[0;34m,\u001b[0m \u001b[0malpha\u001b[0m\u001b[0;34m=\u001b[0m\u001b[0;36m0.35\u001b[0m\u001b[0;34m,\u001b[0m \u001b[0medgecolor\u001b[0m\u001b[0;34m=\u001b[0m\u001b[0;34m'k'\u001b[0m\u001b[0;34m,\u001b[0m \u001b[0mlinewidth\u001b[0m\u001b[0;34m=\u001b[0m\u001b[0;36m2\u001b[0m\u001b[0;34m)\u001b[0m\u001b[0;34m\u001b[0m\u001b[0;34m\u001b[0m\u001b[0m\n\u001b[1;32m      4\u001b[0m \u001b[0max\u001b[0m\u001b[0;34m.\u001b[0m\u001b[0mplot\u001b[0m\u001b[0;34m(\u001b[0m\u001b[0mstn_lon\u001b[0m\u001b[0;34m,\u001b[0m \u001b[0mstn_lat\u001b[0m\u001b[0;34m,\u001b[0m \u001b[0;34m'ro'\u001b[0m\u001b[0;34m)\u001b[0m\u001b[0;34m\u001b[0m\u001b[0;34m\u001b[0m\u001b[0m\n\u001b[1;32m      5\u001b[0m \u001b[0max\u001b[0m\u001b[0;34m.\u001b[0m\u001b[0mgrid\u001b[0m\u001b[0;34m(\u001b[0m\u001b[0;32mFalse\u001b[0m\u001b[0;34m)\u001b[0m\u001b[0;34m\u001b[0m\u001b[0;34m\u001b[0m\u001b[0m\n",
      "\u001b[0;31mNameError\u001b[0m: name 'gdf' is not defined"
     ]
    },
    {
     "data": {
      "image/png": "[encoded data removed]",
      "text/plain": [
       "<Figure size 576x576 with 1 Axes>"
      ]
     },
     "metadata": {
      "needs_background": "light"
     },
     "output_type": "display_data"
    }
   ],
   "source": [
    "fig, ax = plt.subplots(figsize=(8,8))\n",
    "gdf.plot('geometry', ax=ax, color='lightgray', alpha=0.1)\n",
    "basin_geom.plot(ax=ax, alpha=0.35, edgecolor='k', linewidth=2)\n",
    "ax.plot(stn_lon, stn_lat, 'ro')\n",
    "ax.grid(False)"
   ]
  },
  {
   "cell_type": "code",
   "execution_count": null,
   "metadata": {},
   "outputs": [],
   "source": [
    "stn_lat = test_stn_info['Latitude'].values[0]\n",
    "stn_lon = test_stn_info['Longitude'].values[0]\n",
    "\n",
    "stn_coords = (stn_lon, stn_lat)"
   ]
  },
  {
   "cell_type": "code",
   "execution_count": null,
   "metadata": {},
   "outputs": [],
   "source": [
    "plt.figure(figsize = (8,8))\n",
    "plt.imshow(cropped_img)\n",
    "plt.grid(None)"
   ]
  },
  {
   "cell_type": "code",
   "execution_count": null,
   "metadata": {},
   "outputs": [],
   "source": [
    "fig, ax = plt.subplots(figsize=(8,8))\n",
    "# gdf.plot('geometry', ax=ax, color='lightgray', alpha=0.1)\n",
    "basin_geom.plot(ax=ax, alpha=0.35, edgecolor='k', linewidth=2)"
   ]
  },
  {
   "cell_type": "markdown",
   "metadata": {},
   "source": [
    "| Item | Default Unit | Other Possible Conversions |\n",
    "|---|---|---|\n",
    "| Station Loc. | Lat/Lon | UTM (with zone) | None |\n",
    "| Catchment Boundary | ESRI:102001 | Anything Geopandas can do |\n",
    "| Satellite Radar Img. | None | Radar centre can have UTM, pixels are 1kmx1km | "
   ]
  },
  {
   "cell_type": "code",
   "execution_count": null,
   "metadata": {},
   "outputs": [],
   "source": [
    "import matplotlib.pyplot as plt\n",
    "\n",
    "# this is the right projection\n",
    "z\n",
    "fig, ax = plt.subplots(figsize=(10,10))\n",
    "\n",
    "ax.scatter(stn_coords[0], stn_coords[1])\n",
    "# gm.plot(ax=ax)\n",
    "utm_coords.plot(ax=ax, alpha=0.1, edgecolor='k', linewidth=2)\n",
    "ax.grid(False)\n",
    "plt.show()"
   ]
  },
  {
   "cell_type": "code",
   "execution_count": null,
   "metadata": {},
   "outputs": [],
   "source": [
    "# foo = utm_coords.to_crs(\"EPSG:32633\")\n",
    "t_wgs84 = utm_coords.to_crs('EPSG:3395') \n",
    "fig, ax = plt.subplots(figsize=(12,8))\n",
    "t_wgs84.plot(ax=ax, alpha=0.5)\n",
    "print(gm.crs)\n"
   ]
  },
  {
   "cell_type": "markdown",
   "metadata": {},
   "source": [
    "## drop winter events and group for individual plotting"
   ]
  },
  {
   "cell_type": "code",
   "execution_count": null,
   "metadata": {},
   "outputs": [],
   "source": [
    "def using_astype(start, end):\n",
    "    s = start.strftime('%Y-%m-%d')\n",
    "    print(s)\n",
    "    print('%%%%%%')\n",
    "    drg = pd.date_range('2000-07-31', '2015-08-05', freq='B')\n",
    "    A = drg.values.astype('<M8[D]')\n",
    "    B = end.asm8.astype('<M8[D]')\n",
    "    return np.day_count(A, B)"
   ]
  },
  {
   "cell_type": "code",
   "execution_count": null,
   "metadata": {},
   "outputs": [],
   "source": [
    "extracted_events = pd.concat([adj_starts, adj_ends], axis=0).sort_index()\n",
    "\n",
    "filtered_events = []\n",
    "for year in list(set(extracted_events.index.year)):\n",
    "    target_months = [6, 7, 8, 9, 10]\n",
    "    this_year_df = extracted_events[(extracted_events.index.year == year) & (extracted_events.index.month.isin(target_months))].copy()\n",
    "\n",
    "    min_event = this_year_df[this_year_df.index == this_year_df.index.min()]['type'].values[0]\n",
    "\n",
    "    # drop the first element if it's the end of an event\n",
    "    if min_event == 'end':\n",
    "#         print('dropped end at start of season')\n",
    "        this_year_df.drop(index=this_year_df.index.min(), inplace=True)\n",
    "        \n",
    "    max_event = this_year_df[this_year_df.index == this_year_df.index.max()]['type'].values[0]\n",
    "\n",
    "    # drop the first element if it's the end of an event\n",
    "    if max_event == 'start':\n",
    "#         print('dropped start at end of season')\n",
    "        this_year_df.drop(index=this_year_df.index.max(), inplace=True)\n",
    "        \n",
    "    filtered_events.append(this_year_df)\n",
    "#     print('')\n",
    "#     print('')\n",
    "#     print('There are {} events in {}'.format(len(this_year_df) / 2, year))\n",
    "#     print(this_year_df)\n",
    "    \n",
    "    event_pairs = []\n",
    "    start_dates = pd.to_datetime(this_year_df[this_year_df['type'] == 'start'].index.values)\n",
    "    end_dates = pd.to_datetime(this_year_df[this_year_df['type'] == 'end'].index.values)\n",
    "    \n",
    "    for sd in start_dates:\n",
    "        min_duration = 20\n",
    "        min_end = None\n",
    "        for ed in end_dates:\n",
    "            if ((ed - sd).days < min_duration) & ((ed - sd).days > 0):\n",
    "                min_duration = (ed - sd).days\n",
    "                min_end = ed\n",
    "                \n",
    "        \n",
    "                \n",
    "        if (min_end is not None) & (min_duration < 20):\n",
    "            event_pairs.append((sd, min_end))\n",
    "                \n",
    "                \n",
    "\n",
    "    for pr in event_pairs:\n",
    "        print(pr)\n",
    "#         print(using_astype(d, end_dates))\n",
    "    print('___')\n",
    "\n"
   ]
  },
  {
   "cell_type": "code",
   "execution_count": null,
   "metadata": {},
   "outputs": [],
   "source": [
    "p = figure(plot_width=800, plot_height=400, x_axis_type='datetime')\n",
    "\n",
    "# p.circle(adj_starts.index, adj_starts['Q'], size=10, color=\"red\", \n",
    "#          alpha=0.5, legend_label='start'.format(len(foo)))\n",
    "# p.circle(adj_ends.index, adj_ends['Q'], size=10, color=\"blue\", \n",
    "#          alpha=0.5, legend_label='end'.format(len(foo)))\n",
    "\n",
    "p.circle(starts.index, starts['DAILY_FLOW'], size=10, color=\"red\", \n",
    "         alpha=0.5, legend_label='start'.format(len(foo)))\n",
    "p.circle(ends.index, ends['DAILY_FLOW'], size=10, color=\"blue\", \n",
    "         alpha=0.5, legend_label='end'.format(len(foo)))\n",
    "# p.line(input_sig.index, input_sig['f_sig'], color='blue')\n",
    "p.line(input_sig.index, input_sig['DAILY_FLOW'], color='blue')\n",
    "# p.line()\n",
    "# show the results\n",
    "show(p)"
   ]
  },
  {
   "cell_type": "markdown",
   "metadata": {},
   "source": [
    "###  Autoencoder Neural Network"
   ]
  },
  {
   "cell_type": "code",
   "execution_count": null,
   "metadata": {},
   "outputs": [],
   "source": [
    "seed(10)\n",
    "tensorflow.random.set_seed(10)\n",
    "act_func = 'elu'\n",
    "\n",
    "# Input layer:\n",
    "model=Sequential()\n",
    "# First hidden layer, connected to input vector X. \n",
    "model.add(Dense(10,activation=act_func,\n",
    "                kernel_initializer='glorot_uniform',\n",
    "                kernel_regularizer=regularizers.l2(0.0),\n",
    "                input_shape=(X_train.shape[1],)\n",
    "               )\n",
    "         )\n",
    "\n",
    "model.add(Dense(2,activation=act_func,\n",
    "                kernel_initializer='glorot_uniform'))\n",
    "\n",
    "model.add(Dense(10,activation=act_func,\n",
    "                kernel_initializer='glorot_uniform'))\n",
    "\n",
    "model.add(Dense(X_train.shape[1],\n",
    "                kernel_initializer='glorot_uniform'))\n",
    "\n",
    "model.compile(loss='mse',optimizer='adam')\n",
    "\n",
    "# Train model for 100 epochs, batch size of 10: \n",
    "NUM_EPOCHS=100\n",
    "BATCH_SIZE=10"
   ]
  },
  {
   "cell_type": "code",
   "execution_count": null,
   "metadata": {},
   "outputs": [],
   "source": [
    "history=model.fit(np.array(X_train),np.array(X_train),\n",
    "                  batch_size=BATCH_SIZE, \n",
    "                  epochs=NUM_EPOCHS,\n",
    "                  validation_split=0.05,\n",
    "                  verbose = 0)"
   ]
  },
  {
   "cell_type": "code",
   "execution_count": null,
   "metadata": {},
   "outputs": [],
   "source": [
    "plt.plot(history.history['loss'],\n",
    "         'b',\n",
    "         label='Training loss')\n",
    "plt.plot(history.history['val_loss'],\n",
    "         'r',\n",
    "         label='Validation loss')\n",
    "plt.legend(loc='upper right')\n",
    "plt.xlabel('Epochs')\n",
    "plt.ylabel('Loss, [mse]')\n",
    "plt.ylim([0,.1])\n",
    "plt.show()"
   ]
  },
  {
   "cell_type": "code",
   "execution_count": null,
   "metadata": {},
   "outputs": [],
   "source": [
    "X_pred = model.predict(np.array(X_train))\n",
    "X_pred = pd.DataFrame(X_pred, \n",
    "                      columns=X_train.columns)\n",
    "X_pred.index = X_train.index\n",
    "\n",
    "scored = pd.DataFrame(index=X_train.index)\n",
    "scored['Loss_mae'] = np.mean(np.abs(X_pred-X_train), axis = 1)\n",
    "plt.figure()\n",
    "sns.distplot(scored['Loss_mae'],\n",
    "             bins = 10, \n",
    "             kde= True,\n",
    "            color = 'blue');\n",
    "plt.xlim([0.0,.5])"
   ]
  },
  {
   "cell_type": "code",
   "execution_count": null,
   "metadata": {},
   "outputs": [],
   "source": [
    "X_pred = model.predict(np.array(X_test))\n",
    "X_pred = pd.DataFrame(X_pred, \n",
    "                      columns=X_test.columns)\n",
    "X_pred.index = X_test.index\n",
    "\n",
    "scored = pd.DataFrame(index=X_test.index)\n",
    "scored['Loss_mae'] = np.mean(np.abs(X_pred-X_test), axis = 1)\n",
    "scored['Threshold'] = 0.3\n",
    "scored['Anomaly'] = scored['Loss_mae'] > scored['Threshold']\n",
    "scored.head()"
   ]
  },
  {
   "cell_type": "code",
   "execution_count": null,
   "metadata": {},
   "outputs": [],
   "source": [
    "X_pred_train = model.predict(np.array(X_train))\n",
    "X_pred_train = pd.DataFrame(X_pred_train, \n",
    "                      columns=X_train.columns)\n",
    "X_pred_train.index = X_train.index\n",
    "\n",
    "scored_train = pd.DataFrame(index=X_train.index)\n",
    "scored_train['Loss_mae'] = np.mean(np.abs(X_pred_train-X_train), axis = 1)\n",
    "scored_train['Threshold'] = 0.3\n",
    "scored_train['Anomaly'] = scored_train['Loss_mae'] > scored_train['Threshold']\n",
    "scored = pd.concat([scored_train, scored])"
   ]
  },
  {
   "cell_type": "code",
   "execution_count": null,
   "metadata": {},
   "outputs": [],
   "source": [
    "scored[scored.index > pd.to_datetime('2016-06-01')].plot(logy=True,  figsize = (10,6), ylim = [1e-2,1e2], color = ['blue','red'])"
   ]
  },
  {
   "cell_type": "code",
   "execution_count": null,
   "metadata": {},
   "outputs": [],
   "source": [
    "\n",
    "event_times = np.where(scored['Anomaly'].values[:-1] != scored['Anomaly'].values[1:])[0]\n",
    "events = pd.merge(input_sig, scored.iloc[event_times,:], how='inner', \n",
    "                  left_index=True, right_index=True)\n",
    "\n",
    "starts = events[events['Anomaly'] == False]\n",
    "ends = events[events['Anomaly'] == True]\n"
   ]
  },
  {
   "cell_type": "code",
   "execution_count": null,
   "metadata": {},
   "outputs": [],
   "source": [
    "p = figure(plot_width=800, plot_height=400, x_axis_type='datetime')\n",
    "\n",
    "# p.circle(adj_starts.index, adj_starts['Q'], size=10, color=\"red\", \n",
    "#          alpha=0.5, legend_label='start'.format(len(foo)))\n",
    "# p.circle(adj_ends.index, adj_ends['Q'], size=10, color=\"blue\", \n",
    "#          alpha=0.5, legend_label='end'.format(len(foo)))\n",
    "\n",
    "p.circle(starts.index, starts['DAILY_FLOW'], size=10, color=\"red\", \n",
    "         alpha=0.5, legend_label='start'.format(len(foo)))\n",
    "p.circle(ends.index, ends['DAILY_FLOW'], size=10, color=\"blue\", \n",
    "         alpha=0.5, legend_label='end'.format(len(foo)))\n",
    "# p.line(input_sig.index, input_sig['f_sig'], color='blue')\n",
    "p.line(input_sig.index, input_sig['DAILY_FLOW'], color='blue')\n",
    "# p.line()\n",
    "# show the results\n",
    "show(p)"
   ]
  },
  {
   "cell_type": "code",
   "execution_count": null,
   "metadata": {},
   "outputs": [],
   "source": [
    "# dates_covered = []\n",
    "# fldr = os.path.join(IMG_DIR, test_stn)\n",
    "# for f in os.listdir(fldr):\n",
    "#     date = f[:4] + '-' + f[4:6] + '-' + f[6:8]\n",
    "#     dates_covered.append(date)\n",
    "\n",
    "# dates_covered = list(set(dates_covered))\n",
    "# unchecked = []\n",
    "# for ep in event_pairs:\n",
    "#     if (ep[0] not in dates_covered) & (ep[1] not in dates_covered):\n",
    "#         unchecked.append(ep)\n",
    "        \n",
    "# print(unchecked)"
   ]
  },
  {
   "cell_type": "code",
   "execution_count": null,
   "metadata": {},
   "outputs": [],
   "source": []
  },
  {
   "cell_type": "code",
   "execution_count": null,
   "metadata": {},
   "outputs": [],
   "source": []
  },
  {
   "cell_type": "code",
   "execution_count": null,
   "metadata": {},
   "outputs": [],
   "source": []
  }
 ],
 "metadata": {
  "kernelspec": {
   "display_name": "Python 3",
   "language": "python",
   "name": "python3"
  },
  "language_info": {
   "codemirror_mode": {
    "name": "ipython",
    "version": 3
   },
   "file_extension": ".py",
   "mimetype": "text/x-python",
   "name": "python",
   "nbconvert_exporter": "python",
   "pygments_lexer": "ipython3",
   "version": "3.6.9"
  }
 },
 "nbformat": 4,
 "nbformat_minor": 4
}
