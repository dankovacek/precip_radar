{
 "cells": [
  {
   "cell_type": "code",
   "execution_count": 1,
   "metadata": {},
   "outputs": [],
   "source": [
    "import os\n",
    "import sys\n",
    "import json\n",
    "import numpy as np\n",
    "import pandas as pd\n",
    "import geopandas as gpd\n",
    "import utm\n",
    "from PIL import Image, ImagePalette\n",
    "\n",
    "import time\n",
    "import pickle\n",
    "from pyproj import Proj\n",
    "from shapely.geometry import Point\n",
    "import matplotlib.pyplot as plt\n",
    "\n",
    "import rasterio\n",
    "from rasterio import Affine as A\n",
    "from rasterio.mask import mask\n",
    "from rasterio import transform\n",
    "from rasterio.warp import reproject, Resampling"
   ]
  },
  {
   "cell_type": "code",
   "execution_count": 11,
   "metadata": {},
   "outputs": [],
   "source": [
    "\n",
    "BASE_DIR = os.path.dirname(os.path.dirname(os.path.dirname(os.path.abspath(''))))\n",
    "DB_DIR = os.path.join(BASE_DIR, 'code/hydat_db')\n",
    "PROJECT_DIR = os.path.abspath('')\n",
    "IMG_DIR = os.path.join(PROJECT_DIR, 'data/radar_img')\n",
    "\n",
    "stn_df = pd.read_csv(DB_DIR + '/WSC_Stations_Master.csv')\n",
    "\n",
    "radar_sites = {'CASAG': {'lat_lon': [49.0580516, -122.470667], # radar location code, lat/lon\n",
    "                       'scale': 1,\n",
    "                      'alt_name': 'Aldergrove',},                       \n",
    "               'CASPG': {'lat_lon': [53.916943, -122.749443], # radar location code, lat/lon\n",
    "                       'scale': 1,\n",
    "                      'alt_name': 'Prince George',}, \n",
    "               'CASSS': {'lat_lon': [50.271790, -119.276505], # radar location code, lat/lon\n",
    "                       'scale': 1,\n",
    "                      'alt_name': 'Silver Star',}, \n",
    "               'CASSI': {'lat_lon': [48.407326, -123.329773], # radar location code, lat/lon\n",
    "                       'scale': 1,\n",
    "                      'alt_name': 'Victoria',}, \n",
    "              }\n",
    "\n",
    "wsc_stn = '08NJ168'\n",
    "\n",
    "tif_path = wsc_stn + '/tif/'\n",
    "\n",
    "tif_files = [f for f in os.listdir(os.path.join(IMG_DIR, tif_path))]\n",
    "\n",
    "TIF_PATH = os.path.join(IMG_DIR, tif_path)\n",
    "\n"
   ]
  },
  {
   "cell_type": "code",
   "execution_count": 16,
   "metadata": {},
   "outputs": [],
   "source": [
    "# import catchment boundary\n",
    "\n",
    "def get_polygon(stn):\n",
    "    gdb_path = DB_DIR + '/WSC_Basins.gdb.zip'\n",
    "    data = gpd.read_file(gdb_path, driver='FileGDB', layer='EC_{}_1'.format(stn))    \n",
    "    data = data.to_crs('epsg:4326')\n",
    "    return data.geometry\n",
    "\n",
    "\n",
    "def mask_radar(stn):\n",
    "    basin_geometry = get_polygon(stn)\n",
    "    basin_bbox = basin_geometry.bounds\n",
    "    for f in tif_files:\n",
    "        fpath = os.path.join(TIF_PATH, f)\n",
    "        with rasterio.open(fpath) as src:\n",
    "            out_image, out_transform = mask(src, basin_geometry, crop=True)\n",
    "            out_meta = src.meta\n",
    "            print(out_meta)\n",
    "#             rasterio.plot(out_image)\n",
    "            out_meta.update({\"driver\": \"GTiff\",\n",
    "                    \"height\": out_image.shape[1],\n",
    "                    \"width\": out_image.shape[2],\n",
    "                    \"transform\": out_transform})\n",
    "\n",
    "        with rasterio.open(\"masked.tif\", \"w\", **out_meta) as dest:\n",
    "            dest.write(out_image)\n",
    "        \n",
    "\n",
    "        print(break_here)\n",
    "\n"
   ]
  },
  {
   "cell_type": "code",
   "execution_count": 17,
   "metadata": {},
   "outputs": [
    {
     "ename": "NameError",
     "evalue": "name 'break_here' is not defined",
     "output_type": "error",
     "traceback": [
      "\u001b[0;31m---------------------------------------------------------------------------\u001b[0m",
      "\u001b[0;31mNameError\u001b[0m                                 Traceback (most recent call last)",
      "\u001b[0;32m<ipython-input-17-73b2346f6e7a>\u001b[0m in \u001b[0;36m<module>\u001b[0;34m\u001b[0m\n\u001b[0;32m----> 1\u001b[0;31m \u001b[0mmask_radar\u001b[0m\u001b[0;34m(\u001b[0m\u001b[0;34m'08NJ168'\u001b[0m\u001b[0;34m)\u001b[0m\u001b[0;34m\u001b[0m\u001b[0;34m\u001b[0m\u001b[0m\n\u001b[0m",
      "\u001b[0;32m<ipython-input-16-e0c69a562f96>\u001b[0m in \u001b[0;36mmask_radar\u001b[0;34m(stn)\u001b[0m\n\u001b[1;32m     26\u001b[0m \u001b[0;34m\u001b[0m\u001b[0m\n\u001b[1;32m     27\u001b[0m \u001b[0;34m\u001b[0m\u001b[0m\n\u001b[0;32m---> 28\u001b[0;31m         \u001b[0mprint\u001b[0m\u001b[0;34m(\u001b[0m\u001b[0mbreak_here\u001b[0m\u001b[0;34m)\u001b[0m\u001b[0;34m\u001b[0m\u001b[0;34m\u001b[0m\u001b[0m\n\u001b[0m\u001b[1;32m     29\u001b[0m \u001b[0;34m\u001b[0m\u001b[0m\n",
      "\u001b[0;31mNameError\u001b[0m: name 'break_here' is not defined"
     ]
    }
   ],
   "source": [
    "mask_radar('08NJ168')"
   ]
  },
  {
   "cell_type": "code",
   "execution_count": 7,
   "metadata": {},
   "outputs": [
    {
     "ename": "NameError",
     "evalue": "name 'dst_crs' is not defined",
     "output_type": "error",
     "traceback": [
      "\u001b[0;31m---------------------------------------------------------------------------\u001b[0m",
      "\u001b[0;31mNameError\u001b[0m                                 Traceback (most recent call last)",
      "\u001b[0;32m<ipython-input-7-49ea37ebc943>\u001b[0m in \u001b[0;36m<module>\u001b[0;34m\u001b[0m\n\u001b[1;32m     59\u001b[0m             \u001b[0mnodata\u001b[0m\u001b[0;34m=\u001b[0m\u001b[0;36m0\u001b[0m\u001b[0;34m,\u001b[0m\u001b[0;34m\u001b[0m\u001b[0;34m\u001b[0m\u001b[0m\n\u001b[1;32m     60\u001b[0m             \u001b[0mtransform\u001b[0m\u001b[0;34m=\u001b[0m\u001b[0msrc_transform\u001b[0m\u001b[0;34m,\u001b[0m\u001b[0;34m\u001b[0m\u001b[0;34m\u001b[0m\u001b[0m\n\u001b[0;32m---> 61\u001b[0;31m             crs=dst_crs) as dst:\n\u001b[0m\u001b[1;32m     62\u001b[0m         \u001b[0mdst\u001b[0m\u001b[0;34m.\u001b[0m\u001b[0mwrite\u001b[0m\u001b[0;34m(\u001b[0m\u001b[0msource\u001b[0m\u001b[0;34m,\u001b[0m \u001b[0mindexes\u001b[0m\u001b[0;34m=\u001b[0m\u001b[0;36m3\u001b[0m\u001b[0;34m)\u001b[0m\u001b[0;34m\u001b[0m\u001b[0;34m\u001b[0m\u001b[0m\n\u001b[1;32m     63\u001b[0m \u001b[0;34m\u001b[0m\u001b[0m\n",
      "\u001b[0;31mNameError\u001b[0m: name 'dst_crs' is not defined"
     ]
    }
   ],
   "source": [
    "\n",
    "\n",
    "import os\n",
    "import subprocess\n",
    "\n",
    "import numpy as np\n",
    "import rasterio\n",
    "from rasterio import transform\n",
    "from rasterio.warp import reproject, Resampling\n",
    "\n",
    "# tempdir = os.path.join(IMG_DIR, tif_path)\n",
    "MOD_PATH = os.path.join(IMG_DIR, wsc_stn + '/mod/')\n",
    "\n",
    "if not os.path.exists(MOD_PATH):\n",
    "    os.makedirs(MOD_PATH)\n",
    "\n",
    "tiffname = os.path.join(MOD_PATH, 'example.tif')\n",
    "\n",
    "with rasterio.Env():\n",
    "\n",
    "    # Consider a 512 x 512 raster centered on 0 degrees E and 0 degrees N\n",
    "    # with each pixel covering 15\".\n",
    "    rows, cols = src_shape = (512, 512)\n",
    "    coords = [48.407326, -123.329773]\n",
    "    dpp = 1.0/240  # decimal degrees per pixel\n",
    "    west, south, east, north = -cols*dpp/2, -rows*dpp/2, cols*dpp/2, rows*dpp/2\n",
    "    src_transform = transform.from_bounds(west, south, east, north, cols, rows)\n",
    "    src_transform = transform.from_origin(coords[1], coords[0], dpp, dpp)\n",
    "    src_crs = {'init': 'EPSG:4326'}\n",
    "    source = np.ones(src_shape, np.uint8)*255\n",
    "\n",
    "    # Prepare to reproject this rasters to a 1024 x 1024 dataset in\n",
    "    # Web Mercator (EPSG:3857) with origin at -237481.5, 237536.4.\n",
    "#     dst_shape = (1024, 1024)\n",
    "#     dst_transform = transform.from_origin(-237481.5, 237536.4, 425.0, 425.0)\n",
    "#     dst_crs = {'init': 'EPSG:3857'}\n",
    "#     destination = np.zeros(dst_shape, np.uint8)\n",
    "\n",
    "#     reproject(\n",
    "#         source,\n",
    "#         destination,\n",
    "#         src_transform=src_transform,\n",
    "#         src_crs=src_crs,\n",
    "#         dst_transform=dst_transform,\n",
    "#         dst_crs=dst_crs,\n",
    "#         resampling=Resampling.nearest)\n",
    "\n",
    "    # Assert that the destination is only partly filled.\n",
    "#     assert destination.any()\n",
    "#     assert not destination.all()\n",
    "\n",
    "    # Write it out to a file.\n",
    "    with rasterio.open(\n",
    "            tiffname,\n",
    "            'w',\n",
    "            driver='GTiff',\n",
    "            width=src_shape[1],\n",
    "            height=src_shape[0],\n",
    "            count=3,\n",
    "            dtype=np.uint8,\n",
    "            nodata=0,\n",
    "            transform=src_transform,\n",
    "            crs=dst_crs) as dst:\n",
    "        dst.write(source, indexes=3)\n",
    "\n",
    "info = subprocess.call(['open', tiffname])"
   ]
  },
  {
   "cell_type": "code",
   "execution_count": null,
   "metadata": {},
   "outputs": [],
   "source": [
    "mod_files = [e for e in os.listdir(MOD_PATH)]\n",
    "src = rasterio.open(os.path.join(MOD_PATH, mod_files[0]))\n",
    "\n",
    "\n",
    "fig, ax = plt.subplots(figsize=(10, 10))\n",
    "show((src, 1), ax=ax)"
   ]
  },
  {
   "cell_type": "code",
   "execution_count": null,
   "metadata": {},
   "outputs": [],
   "source": []
  }
 ],
 "metadata": {
  "kernelspec": {
   "display_name": "Python 3",
   "language": "python",
   "name": "python3"
  },
  "language_info": {
   "codemirror_mode": {
    "name": "ipython",
    "version": 3
   },
   "file_extension": ".py",
   "mimetype": "text/x-python",
   "name": "python",
   "nbconvert_exporter": "python",
   "pygments_lexer": "ipython3",
   "version": "3.6.9"
  }
 },
 "nbformat": 4,
 "nbformat_minor": 4
}
