{
 "cells": [
  {
   "cell_type": "code",
   "execution_count": 30,
   "metadata": {},
   "outputs": [],
   "source": [
    "import os\n",
    "import sys\n",
    "import shutil\n",
    "\n",
    "import pandas as pd\n",
    "import numpy as np\n",
    "\n",
    "from geopy import distance"
   ]
  },
  {
   "cell_type": "code",
   "execution_count": 31,
   "metadata": {},
   "outputs": [],
   "source": [
    "BASE_DIR = os.path.dirname(os.path.dirname(os.path.dirname(os.path.abspath(''))))\n",
    "DB_DIR = os.path.join(BASE_DIR, 'code/hydat_db')\n",
    "PROJECT_DIR = os.path.abspath('')\n",
    "IMG_DIR = os.path.join(PROJECT_DIR, 'data/radar_img')\n",
    "NEW_IMG_DIR = os.path.join(PROJECT_DIR, 'data/sorted_radar_images')"
   ]
  },
  {
   "cell_type": "code",
   "execution_count": 32,
   "metadata": {},
   "outputs": [],
   "source": [
    "stations = os.listdir(IMG_DIR)"
   ]
  },
  {
   "cell_type": "code",
   "execution_count": 33,
   "metadata": {},
   "outputs": [],
   "source": [
    "# define radar sites\n",
    "radar_sites = {'CASAG': {'lat_lon': [49.0580516, -122.470667], # radar location code, lat/lon\n",
    "                       'scale': 1,\n",
    "                      'alt_name': 'Aldergrove',\n",
    "                        }, # km/pixel                       \n",
    "               'CASPG': {'lat_lon': [53.916943, -122.749443], # radar location code, lat/lon\n",
    "                       'scale': 1,\n",
    "                      'alt_name': 'Prince George',}, # km/pixel}, # km/pixel\n",
    "               'CASSS': {'lat_lon': [50.271790, -119.276505], # radar location code, lat/lon\n",
    "                       'scale': 1,\n",
    "                      'alt_name': 'Silver Star',}, # km/pixel}, # km/pixel\n",
    "               'CASSI': {'lat_lon': [48.407326, -123.329773], # radar location code, lat/lon\n",
    "                       'scale': 1,\n",
    "                      'alt_name': 'Victoria',}, # km/pixel}, # km/pixel\n",
    "               'CASSM': {'lat_lon': [51.206092, -113.399426],\n",
    "                        'scale': 1,\n",
    "                        'alt_name': 'Strathmore'},\n",
    "              }\n",
    "\n",
    "def find_closest_radar_stn(row):\n",
    "    \"\"\"\n",
    "    To retrieve radar images, we need to find the closest radar location\n",
    "    to the station of interest.  \n",
    "    Input the station number,\n",
    "    returns the location code of the nearest radar station.\n",
    "    \"\"\"\n",
    "    stn_data = row['Station Number']\n",
    "    \n",
    "    s1 = (row['Latitude'], row['Longitude'])\n",
    "    min_dist = 1E6\n",
    "    closest_stn = None\n",
    "    for site in radar_sites.keys():\n",
    "\n",
    "        s2 = [*radar_sites[site]['lat_lon']]        \n",
    "\n",
    "        this_dist = distance.distance(s2, s1).km\n",
    "    \n",
    "        if this_dist < min_dist:\n",
    "            min_dist = this_dist\n",
    "            closest_stn = site\n",
    "        \n",
    "    return closest_stn\n",
    "\n",
    "def calc_distance(row):\n",
    "    wsc_stn_coords = (row['Latitude'], row['Longitude'])\n",
    "    radar = row['Closest_radar']\n",
    "    radar_coords = radar_sites[radar]['lat_lon']\n",
    "    return distance.distance(radar_coords, wsc_stn_coords).km"
   ]
  },
  {
   "cell_type": "code",
   "execution_count": 29,
   "metadata": {},
   "outputs": [],
   "source": [
    "stations_df = pd.read_csv(DB_DIR + '/WSC_Stations_Master.csv')\n",
    "stations_df['Closest_radar'] = stations_df.apply(lambda row: find_closest_radar_stn(row), axis=1)\n",
    "stations_df['Dist_to_radar'] = stations_df.apply(lambda row: calc_distance(row), axis=1)"
   ]
  },
  {
   "cell_type": "code",
   "execution_count": 40,
   "metadata": {},
   "outputs": [],
   "source": [
    "\n",
    "for stn in stations:\n",
    "    stn_info = stations_df[stations_df['Station Number'] == stn]\n",
    "    closest_radar = stn_info['Closest_radar'].values[0]\n",
    "    save_path = os.path.join(NEW_IMG_DIR, closest_radar)\n",
    "    \n",
    "    if not os.path.exists(save_path):\n",
    "        os.makedirs(save_path)\n",
    "\n",
    "    existing_files = os.listdir(save_path)\n",
    "    for r_img in os.listdir(os.path.join(IMG_DIR, stn)):\n",
    "        if r_img not in existing_files:\n",
    "            old_img_path = os.path.join(IMG_DIR, stn + '/' + r_img)\n",
    "            new_img_path = os.path.join(save_path, r_img)\n",
    "\n",
    "            shutil.copy(old_img_path, new_img_path)\n",
    "    "
   ]
  },
  {
   "cell_type": "code",
   "execution_count": null,
   "metadata": {},
   "outputs": [],
   "source": []
  }
 ],
 "metadata": {
  "kernelspec": {
   "display_name": "Python 3",
   "language": "python",
   "name": "python3"
  },
  "language_info": {
   "codemirror_mode": {
    "name": "ipython",
    "version": 3
   },
   "file_extension": ".py",
   "mimetype": "text/x-python",
   "name": "python",
   "nbconvert_exporter": "python",
   "pygments_lexer": "ipython3",
   "version": "3.6.9"
  }
 },
 "nbformat": 4,
 "nbformat_minor": 4
}
